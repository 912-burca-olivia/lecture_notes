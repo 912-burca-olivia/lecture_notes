{
 "cells": [
  {
   "cell_type": "markdown",
   "metadata": {
    "slideshow": {
     "slide_type": "slide"
    }
   },
   "source": [
    "![](https://www.saa-authors.eu/picture/739/ftw_768/saa-mtcwmza4nzq5mq.jpg)"
   ]
  },
  {
   "cell_type": "markdown",
   "metadata": {
    "slideshow": {
     "slide_type": "subslide"
    }
   },
   "source": [
    "## March 8th: International Women's Day\n",
    "\n",
    "![](https://upload.wikimedia.org/wikipedia/commons/thumb/a/ab/Concentraci%C3%B3n_del_Sindicato_de_Estudiantes_por_la_Huelga_Feminista_8M_2019.jpg/800px-Concentraci%C3%B3n_del_Sindicato_de_Estudiantes_por_la_Huelga_Feminista_8M_2019.jpg)\n",
    "\n",
    "\n",
    "This year's March 8th theme: [_\"Gender equality today for a sustainable tomorrow\"_](https://www.unwomen.org/en/news-stories/announcement/2021/12/international-womens-day-2022-gender-equality-today-for-a-sustainable-tomorrow)."
   ]
  },
  {
   "cell_type": "markdown",
   "metadata": {
    "slideshow": {
     "slide_type": "slide"
    }
   },
   "source": [
    "# Feedback\n"
   ]
  },
  {
   "cell_type": "markdown",
   "metadata": {
    "slideshow": {
     "slide_type": "subslide"
    }
   },
   "source": [
    "## How is it going with your projects?"
   ]
  },
  {
   "cell_type": "markdown",
   "metadata": {
    "slideshow": {
     "slide_type": "subslide"
    }
   },
   "source": [
    "## The state of your projects?\n",
    "\n",
    "http://164.92.246.227/status.html"
   ]
  },
  {
   "cell_type": "code",
   "execution_count": 1,
   "metadata": {
    "slideshow": {
     "slide_type": "subslide"
    }
   },
   "outputs": [
    {
     "data": {
      "text/html": [
       "\n",
       "        <iframe\n",
       "            width=\"900\"\n",
       "            height=\"500\"\n",
       "            src=\"http://164.92.246.227/chart.svg\"\n",
       "            frameborder=\"0\"\n",
       "            allowfullscreen\n",
       "        ></iframe>\n",
       "        "
      ],
      "text/plain": [
       "<IPython.lib.display.IFrame at 0x7fcae8059a30>"
      ]
     },
     "execution_count": 1,
     "metadata": {},
     "output_type": "execute_result"
    }
   ],
   "source": [
    "from IPython.display import IFrame\n",
    "IFrame('http://164.92.246.227/chart.svg', width=900, height=500)"
   ]
  },
  {
   "cell_type": "code",
   "execution_count": 2,
   "metadata": {
    "slideshow": {
     "slide_type": "subslide"
    }
   },
   "outputs": [
    {
     "data": {
      "text/html": [
       "\n",
       "        <iframe\n",
       "            width=\"900\"\n",
       "            height=\"500\"\n",
       "            src=\"http://164.92.246.227/error_chart.svg\"\n",
       "            frameborder=\"0\"\n",
       "            allowfullscreen\n",
       "        ></iframe>\n",
       "        "
      ],
      "text/plain": [
       "<IPython.lib.display.IFrame at 0x7fcae80643d0>"
      ]
     },
     "execution_count": 2,
     "metadata": {},
     "output_type": "execute_result"
    }
   ],
   "source": [
    "from IPython.display import IFrame\n",
    "IFrame('http://164.92.246.227/error_chart.svg', width=900, height=500)"
   ]
  },
  {
   "cell_type": "code",
   "execution_count": 5,
   "metadata": {
    "slideshow": {
     "slide_type": "subslide"
    }
   },
   "outputs": [
    {
     "data": {
      "text/html": [
       "\n",
       "        <iframe\n",
       "            width=\"900\"\n",
       "            height=\"500\"\n",
       "            src=\"http://159.89.26.109/commit_activity_weekly.svg\"\n",
       "            frameborder=\"0\"\n",
       "            allowfullscreen\n",
       "        ></iframe>\n",
       "        "
      ],
      "text/plain": [
       "<IPython.lib.display.IFrame at 0x7fcae806ad30>"
      ]
     },
     "execution_count": 5,
     "metadata": {},
     "output_type": "execute_result"
    }
   ],
   "source": [
    "from IPython.display import IFrame\n",
    "IFrame('http://159.89.26.109/commit_activity_weekly.svg', width=900, height=500)"
   ]
  },
  {
   "cell_type": "code",
   "execution_count": 4,
   "metadata": {
    "slideshow": {
     "slide_type": "subslide"
    }
   },
   "outputs": [
    {
     "data": {
      "text/html": [
       "\n",
       "        <iframe\n",
       "            width=\"900\"\n",
       "            height=\"500\"\n",
       "            src=\"http://159.89.26.109/release_activity_weekly.svg\"\n",
       "            frameborder=\"0\"\n",
       "            allowfullscreen\n",
       "        ></iframe>\n",
       "        "
      ],
      "text/plain": [
       "<IPython.lib.display.IFrame at 0x7fcae806ae80>"
      ]
     },
     "execution_count": 4,
     "metadata": {},
     "output_type": "execute_result"
    }
   ],
   "source": [
    "from IPython.display import IFrame\n",
    "IFrame('http://159.89.26.109/release_activity_weekly.svg', width=900, height=500)"
   ]
  },
  {
   "cell_type": "markdown",
   "metadata": {
    "slideshow": {
     "slide_type": "subslide"
    }
   },
   "source": [
    "## How do you feel it is going with your projects?"
   ]
  },
  {
   "cell_type": "markdown",
   "metadata": {
    "slideshow": {
     "slide_type": "slide"
    }
   },
   "source": [
    "In the preparation material, I was asking you:\n",
    "\n",
    "\n",
    "  > Can you figure out the following properties of your _ITU-MiniTwit_ with your group fellows?\n",
    "  > \n",
    "  >   * CPU load during the last hour/the last day.\n",
    "  >   * Average response time of your application's front page.\n",
    "  >   * Amount of users registered in your system.\n",
    "  >   * Average amount of followers a user has.\n",
    "  > \n",
    "  > Keep a log of what you are doing to figure out these values.\n",
    "  > \n",
    "  > For each of the above properties into, categorize them by potentially interested parties in an organization. For example, *business department* (hypothetical), *operator*, etc.\n",
    "  > \n",
    "  > Which of the above categories do you consider the most important? In which role are you then?"
   ]
  },
  {
   "cell_type": "markdown",
   "metadata": {
    "slideshow": {
     "slide_type": "slide"
    }
   },
   "source": [
    "# What is Monitoring?"
   ]
  },
  {
   "cell_type": "markdown",
   "metadata": {
    "slideshow": {
     "slide_type": "subslide"
    }
   },
   "source": [
    "  > From a technology perspective, monitoring is the tools and processes by which you measure and manage your IT systems. But monitoring is much more than that. Monitoring provides the translation between business value and the metrics generated by your systems and applications. Your monitoring system translates those metrics into a measurable user experience. That measurable user experience provides feedback to the business to help ensure it’s delivering what customers want. The user experience also provides feedback to IT to indicate what isn’t working and what’s delivering insufficient quality of service.\n",
    "  > \n",
    "  > Your monitoring system has two customers:\n",
    "  > \n",
    "  >   * The business\n",
    "  > \n",
    "  >   * Information Technology\n",
    "  >\n",
    "  > James Turnbull _\"The Art of Monitoring\"_\n",
    "\n"
   ]
  },
  {
   "cell_type": "markdown",
   "metadata": {
    "slideshow": {
     "slide_type": "subslide"
    }
   },
   "source": [
    "\n",
    "  > > Monitoring is for asking questions.\n",
    "  > >\n",
    "  > >  —Dave Josephsen, Monitorama 2016\n",
    "  >\n",
    "  > That is, monitoring doesn’t exist to generate alerts: alerts are just one possible outcome. With this in mind, remember that every metric you collect and graph does not need to have a corresponding alert.\n",
    "  >\n",
    "  > _\"Practical Monitoring\"_\n"
   ]
  },
  {
   "cell_type": "markdown",
   "metadata": {
    "slideshow": {
     "slide_type": "subslide"
    }
   },
   "source": [
    "Important for your projects and for your future careers:\n",
    "\n",
    "  > Without monitoring you are not doing your job.\n",
    "  >\n",
    "  > James Turnbull _\"The Art of Monitoring\"_"
   ]
  },
  {
   "cell_type": "markdown",
   "metadata": {
    "slideshow": {
     "slide_type": "subslide"
    }
   },
   "source": [
    "### \"Monitoring Maturity Model\"\n",
    "\n",
    "  * Manual, user-initiated, or no monitoring\n",
    "  * Reactive\n",
    "  * Proactive\n",
    "  \n",
    "  https://www.kartar.net/2015/01/a-monitoring-maturity-model/"
   ]
  },
  {
   "cell_type": "markdown",
   "metadata": {
    "slideshow": {
     "slide_type": "subslide"
    }
   },
   "source": [
    "#### Manual, user-initiated, or no monitoring\n",
    "\n",
    "  * Monitoring is largely manual, user initiated, or not done at all. \n",
    "  * If monitoring is performed, it’s commonly managed via checklists, simple scripts, and other non-automated processes.\n",
    "  * The focus here is entirely on minimizing downtime and managing assets. \n",
    "  * Monitoring in this way provides little or no value in measuring quality of service.\n",
    "  * Typical in small organizations with limited IT staffing, no dedicated IT staff.\n",
    "  \n",
    "See   https://www.kartar.net/2015/01/a-monitoring-maturity-model/"
   ]
  },
  {
   "cell_type": "markdown",
   "metadata": {
    "slideshow": {
     "slide_type": "subslide"
    }
   },
   "source": [
    "#### Reactive Monitoring\n",
    "\n",
    "  * Monitoring is mostly automatic with some remnants of manual or unmonitored components.\n",
    "  * Broad focus on measuring availability and managing IT assets. \n",
    "  * There may be some movement towards using monitoring data to measure customer experience.\n",
    "  * Monitoring provides some data that measures quality or service\n",
    "  * Most of this data needs to be manipulated or transformed before it can be used\n",
    "  * A small number of operationally-focussed dashboards exist\n",
    "  * Typical in small to medium enterprises and common in divisional IT organizations inside larger enterprises\n",
    "  \n",
    "See   https://www.kartar.net/2015/01/a-monitoring-maturity-model/"
   ]
  },
  {
   "cell_type": "markdown",
   "metadata": {
    "slideshow": {
     "slide_type": "subslide"
    }
   },
   "source": [
    "#### Proactive Monitoring\n",
    "\n",
    "\n",
    "  * Monitoring is considered core to managing infrastructure and the business. \n",
    "  * Monitoring is automatic and often driven by configuration management tooling.\n",
    "  * Metrics will focus on measuring application performance and business outcomes rather than stock concerns like disk and CPU. \n",
    "  * Performance data will be collected and frequently used for analysis and fault resolution.\n",
    "\n",
    "  * Focus on measuring quality of service and customer experience.\n",
    "  * Monitoring provides data that measures quality or service\n",
    "  * Much of this data is provided directly to business units, application teams and other interests parties via dashboards and reports.\n",
    "\n",
    "  * Typical in web-centric organizations and many mature startups. \n",
    "  * Products will not be considered feature complete or ready for deployment without monitoring and instrumentation.\n",
    "\n",
    "See https://www.kartar.net/2015/01/a-monitoring-maturity-model/"
   ]
  },
  {
   "cell_type": "markdown",
   "metadata": {
    "slideshow": {
     "slide_type": "subslide"
    }
   },
   "source": [
    "### Monitoring Framework\n",
    "![](images/monitoring_framework.png)\n",
    "\n",
    "  > James Turnbull _\"The Art of Monitoring\"_\n"
   ]
  },
  {
   "cell_type": "markdown",
   "metadata": {
    "slideshow": {
     "slide_type": "subslide"
    }
   },
   "source": [
    "### Pull versus Push Monitoring\n",
    "\n",
    "\n",
    "  * Most monitoring systems are pull/polling-based:\n",
    "    - E.g., Nagios usually queries monitored sub-systems\n",
    "    - I.e., the more hosts and services in production the more checks Nagios executes\n",
    "  * In a push-based architecture, hosts, services, and applications send data to a central collector. \n",
    "    - The collection is fully distributed on the hosts, services, and applications that emit data.\n",
    "    \n",
    "Note, Prometheus can be considered a push-based monitoring system or a hybrid as each monitored application pushes its metrics which are then pulled by the central Prometheus system."
   ]
  },
  {
   "cell_type": "markdown",
   "metadata": {
    "slideshow": {
     "slide_type": "subslide"
    }
   },
   "source": [
    "### Blackbox vs. Whitebox Monitoring\n",
    "\n",
    "#### Blackbox Monitoring\n",
    "\n",
    "  > Blackbox monitoring probes the outside of a service or application [...] You query the external characteristics of a service: does it respond to a poll on an open port, return the correct data or response code. An example of blackbox monitoring is performing an HTTP check and confirming you have received a 200 OK response code.\n",
    "  >\n",
    "  > James Turnbull _\"The Art of Monitoring\"_\n",
    "\n",
    "#### Whitebox Monitoring\n",
    "\n",
    "  > Whitebox monitoring instead focuses on what’s inside the service or application. The application is instrumented and returns its state, the state of internal components, or the performance of transactions or events. Most whitebox monitoring is done either via emitting events, logs and metrics to a monitoring tool, the approach we’ve detailed about in our push-based model, or exposes this information on a status page of some kind, which a pull-based system would query.\n",
    "  >\n",
    "  > James Turnbull _\"The Art of Monitoring\"_"
   ]
  },
  {
   "cell_type": "markdown",
   "metadata": {
    "slideshow": {
     "slide_type": "subslide"
    }
   },
   "source": [
    "### Passive vs. Active Monitoring\n",
    "\n",
    "\n",
    "#### Passive Monitoring\n",
    "\n",
    "  > Synthetic, script-based\n",
    "  >    * to determine if application is up or down\n",
    "  >    * to verify availability even without current end-users\n",
    "  >    * essential to establish a performance baseline before a new release\n",
    "\n",
    "#### Active Monitoring\n",
    "\n",
    "  > Passive \"sniffing\" to observe what real users observe\n",
    "  >   * based on real users interaction data\n",
    "  >   * measures users' experience under their conditions, such as location etc.\n",
    "\n",
    "Both adapted from: https://www.moviri.com/2014/01/active-passive-monitoring/"
   ]
  },
  {
   "cell_type": "markdown",
   "metadata": {
    "slideshow": {
     "slide_type": "subslide"
    }
   },
   "source": [
    "## Monitoring Design Pattern: Monitor from the User’s Perspective\n",
    "\n",
    "<img src=\"images/monitor_close_to_users.png\" width=\"50%\">\n",
    "\n",
    "Picture from Mike Julian _\"Practical Monitoring\"_"
   ]
  },
  {
   "cell_type": "markdown",
   "metadata": {
    "slideshow": {
     "slide_type": "slide"
    }
   },
   "source": [
    "## Categories of Monitoring (Monitoring Tactics)\n",
    "\n",
    "\n",
    "  * Monitoring the Business\n",
    "  * Frontend Monitoring\n",
    "  * Application Monitoring\n",
    "  * Server Monitoring (Infrastructure Monitoring)\n",
    "  * Network Monitoring\n",
    "  * Security Monitoring\n",
    "  \n",
    "\n",
    "From Mike Julian _\"Practical Monitoring\"_"
   ]
  },
  {
   "cell_type": "markdown",
   "metadata": {
    "slideshow": {
     "slide_type": "subslide"
    }
   },
   "source": [
    "### Monitoring the Business\n",
    "\n",
    "Business stakeholders ask other questions than software developers.\n",
    "\n",
    "Key Performance Indicators (KPI) should be able to tell how a business is doing.\n",
    "\n",
    "\n",
    "With regards to our _ITU-MiniTwit_ these might be questions like:\n",
    "\n",
    "  * Are users able to use _ITU-MiniTwit_ in their daily lives?\n",
    "  * Are the numbers of active users growing, declining, or stagnant?\n",
    "  * Are the users happy?\n",
    "  * Can we/are we making money?\n",
    "  * Are we profitable?\n",
    "  \n",
    "  \n",
    "Possible metrics:\n",
    "\n",
    "  * Net promoter score\n",
    "  * Revenue per customer\n",
    "  * Cost per customer\n",
    "  * Burn rate\n",
    "  *  ..."
   ]
  },
  {
   "cell_type": "markdown",
   "metadata": {
    "slideshow": {
     "slide_type": "subslide"
    }
   },
   "source": [
    "### Frontend Monitoring\n",
    "\n",
    "For Mike Julian in _\"Practical Monitoring\"_ the frontend are all artifacts _\"that are parsed and executed on the client side via a browser or native mobile app. When you load a web page, all of the HTML, CSS, JavaScript, and images constitute the frontend.\"_\n",
    "\n",
    "\n",
    "<img src=\"https://l82od4c3ddp2xkios1wuwoqf-wpengine.netdna-ssl.com/wp-content/uploads/2016/12/JimRapoza.png\" width=\"50%\">\n",
    "\n",
    "  > Around 5% of organizations say that users have left their website after a one second delay. [...] After a two second delay, the abandonment rate stays about the same for traditional, browser-based desktop web users, but the rate of abandonment for mobile websites nearly triples.\n",
    "  >\n",
    "  > https://www.aberdeen.com/cmo-essentials/aberdeens-surprising-insights-2016/\n",
    "  \n",
    "  \n",
    "  \n",
    "Amazon:\n",
    "\n",
    "  > Every 100ms delay costs 1% of sales\n",
    "  >\n",
    "  > https://077db662-a-62cb3a1a-s-sites.googlegroups.com/site/glinden/Home/StanfordDataMining.2006-11-28.ppt\n",
    "  \n",
    "  \n",
    "Two types:\n",
    "\n",
    "  - a) Real user monitoring (RUM)\n",
    "  - b) Synthetic Monitoring"
   ]
  },
  {
   "cell_type": "markdown",
   "metadata": {
    "slideshow": {
     "slide_type": "subslide"
    }
   },
   "source": [
    "### Application Monitoring\n",
    "\n",
    "Instrumenting applications with metrics. This is what we a going to do today, see below.\n",
    "\n",
    "\n",
    "Example questions:\n",
    "\n",
    "  * How long do our database queries take?\n",
    "  * How long does some external vendor API takes to respond?\n",
    "  * How many logins happen throughout the day?"
   ]
  },
  {
   "cell_type": "markdown",
   "metadata": {
    "slideshow": {
     "slide_type": "subslide"
    }
   },
   "source": [
    "## Infrastructure Monitoring \n",
    "\n",
    "### Monitoring via provider Dashboard\n",
    "\n",
    "https://www.digitalocean.com/docs/monitoring/how-to/install-agent/\n",
    "\n",
    "<img src=\"https://images.prismic.io/www-static/c4c27f45-2295-4ff8-b12e-647c4f765f97_9b263f102ee65537d8881fe374752b5150e93e87_dashboard_v2.jpeg?auto=compress,format\" width=\"60%\">"
   ]
  },
  {
   "cell_type": "code",
   "execution_count": null,
   "metadata": {
    "slideshow": {
     "slide_type": "skip"
    }
   },
   "outputs": [],
   "source": [
    "https://collectd.org/"
   ]
  },
  {
   "cell_type": "markdown",
   "metadata": {
    "slideshow": {
     "slide_type": "subslide"
    }
   },
   "source": [
    "### Monitoring via CLI\n",
    "\n",
    "\n",
    "#### Monitoring CPU usage\n",
    "\n",
    "```bash\n",
    "$ top\n",
    "top - 14:24:42 up 13 days, 23:42,  1 user,  load average: 0.00, 0.00, 0.00\n",
    "Tasks:  85 total,   1 running,  46 sleeping,   0 stopped,   0 zombie\n",
    "%Cpu(s):  0.3 us,  0.3 sy,  0.0 ni, 99.3 id,  0.0 wa,  0.0 hi,  0.0 si,  0.0 st\n",
    "KiB Mem :  1009172 total,   187524 free,    98916 used,   722732 buff/cache\n",
    "KiB Swap:        0 total,        0 free,        0 used.   728164 avail Mem\n",
    "\n",
    "  PID USER      PR  NI    VIRT    RES    SHR S %CPU %MEM     TIME+ COMMAND\n",
    "29200 root      20   0   44540   4112   3520 R  0.3  0.4   0:00.04 top\n",
    "    1 root      20   0  159928   9500   7056 S  0.0  0.9   0:10.70 systemd\n",
    "    2 root      20   0       0      0      0 S  0.0  0.0   0:00.01 kthreadd\n",
    "    4 root       0 -20       0      0      0 I  0.0  0.0   0:00.00 kworker/0:0H\n",
    "```\n",
    "\n",
    "\n",
    "\n",
    "\n"
   ]
  },
  {
   "cell_type": "markdown",
   "metadata": {
    "slideshow": {
     "slide_type": "subslide"
    }
   },
   "source": [
    "#### Load\n",
    "\n",
    "```bash\n",
    "$ uptime\n",
    " 15:50:34 up 14 days,  1:08,  1 user,  load average: 0.00, 0.00, 0.00\n",
    "```"
   ]
  },
  {
   "cell_type": "markdown",
   "metadata": {
    "slideshow": {
     "slide_type": "subslide"
    }
   },
   "source": [
    "#### Monitoring Memory\n",
    "\n",
    "```bash\n",
    "$ free -m\n",
    "              total        used        free      shared  buff/cache   available\n",
    "Mem:            985          96         183           0         705         711\n",
    "Swap:             0           0           0\n",
    "```\n",
    "\n",
    "Finding if a program was killed (by OOMKiller) due to excessive memory consumption:\n",
    "\n",
    "\n",
    "```bash\n",
    "$ grep -i -r 'killed process' /var/log/\n",
    "$ dmesg | grep -i 'killed process'\n",
    "```\n",
    "\n"
   ]
  },
  {
   "cell_type": "markdown",
   "metadata": {
    "slideshow": {
     "slide_type": "subslide"
    }
   },
   "source": [
    "#### Monitoring the Network\n",
    "\n",
    "\n",
    "```bash\n",
    "sudo apt-get install iftop\n",
    "sudo apt-get install nethogs\n",
    "```\n",
    "\n",
    "```\n",
    "$ iftop\n",
    "                12.5Kb          25.0Kb          37.5Kb          50.0Kb    62.5Kb\n",
    "└───────────────┴───────────────┴───────────────┴───────────────┴───────────────\n",
    "webserver                  => nat-10.itu.dk              4.34Kb  4.57Kb  4.55Kb\n",
    "                           <=                            2.23Kb  2.23Kb  2.21Kb\n",
    "webserver                  => 67.207.67.3                   0b      0b     48b\n",
    "                           <=                               0b      0b     81b\n",
    "webserver                  => static-28.108.248.49-tata     0b      0b     16b\n",
    "                           <=                               0b      0b     21b\n",
    "webserver                  => 185.156.73.54                 0b      0b      8b\n",
    "                           <=                               0b      0b     16b\n",
    "\n",
    "\n",
    "\n",
    "\n",
    "\n",
    "────────────────────────────────────────────────────────────────────────────────\n",
    "TX:             cum:   49.2KB   peak:   6.25Kb  rates:   4.34Kb  4.57Kb  4.62Kb\n",
    "RX:                    28.0KB           4.23Kb           2.23Kb  2.23Kb  2.33Kb\n",
    "TOTAL:                 77.2KB           9.73Kb           6.58Kb  6.80Kb  6.95Kb\n",
    "```"
   ]
  },
  {
   "cell_type": "markdown",
   "metadata": {
    "slideshow": {
     "slide_type": "subslide"
    }
   },
   "source": [
    "```\n",
    "$ nethogs\n",
    "NetHogs version 0.8.5-2\n",
    "\n",
    "    PID USER     PROGRAM                    DEV        SENT      RECEIVED\n",
    "  29948 root     sshd: root@pts/0           eth0        0.757       0.490 KB/sec\n",
    "      ? root     ...225.103.230:21-104.206              0.000       0.000 KB/sec\n",
    "      ? root     ...225.103.230:4071-45.13              0.000       0.000 KB/sec\n",
    "      ? root     ...225.103.230:23-75.165.              0.000       0.000 KB/sec\n",
    "  28239 do-age.. ..pt/digitalocean/bin/do-  eth0        0.000       0.000 KB/sec\n",
    "      ? root     unknown TCP                            0.000       0.000 KB/sec\n",
    "\n",
    "  TOTAL                                                 0.757       0.490 KB/sec\n",
    "```"
   ]
  },
  {
   "cell_type": "markdown",
   "metadata": {
    "slideshow": {
     "slide_type": "subslide"
    }
   },
   "source": [
    "#### Disk\n",
    "\n",
    "\n",
    "```bash\n",
    "$ df -h\n",
    "Filesystem      Size  Used Avail Use% Mounted on\n",
    "udev            481M     0  481M   0% /dev\n",
    "tmpfs            99M  620K   98M   1% /run\n",
    "/dev/vda1        29G  4.9G   25G  17% /\n",
    "tmpfs           493M     0  493M   0% /dev/shm\n",
    "tmpfs           5.0M     0  5.0M   0% /run/lock\n",
    "tmpfs           493M     0  493M   0% /sys/fs/cgroup\n",
    "/dev/vda15      105M  3.6M  101M   4% /boot/efi\n",
    "tmpfs            99M     0   99M   0% /run/user/0\n",
    "$ du -h\n",
    "```\n"
   ]
  },
  {
   "cell_type": "markdown",
   "metadata": {
    "slideshow": {
     "slide_type": "subslide"
    }
   },
   "source": [
    "###  Network & Security Monitoring\n",
    "\n",
    "See chapters 9 and 10 in Mike Julian _\"Practical Monitoring\"_. I skip them here as they are likely part of the security class and out of scope of this class."
   ]
  },
  {
   "cell_type": "markdown",
   "metadata": {
    "slideshow": {
     "slide_type": "subslide"
    }
   },
   "source": [
    "--------------"
   ]
  },
  {
   "cell_type": "markdown",
   "metadata": {
    "slideshow": {
     "slide_type": "subslide"
    }
   },
   "source": [
    "# Monitoring Solutions\n",
    "\n",
    "  * Nagios https://www.nagios.com/products/nagios-log-server/\n",
    "  * Munin http://munin-monitoring.org/\n",
    "  * Netdata https://my-netdata.io/\n",
    "  * Shinken http://www.shinken-monitoring.org/\n",
    "  * StatsD https://github.com/statsd/statsd\n",
    "  * Prometheus https://prometheus.io/"
   ]
  },
  {
   "cell_type": "markdown",
   "metadata": {
    "slideshow": {
     "slide_type": "slide"
    }
   },
   "source": [
    "# Monitoring with Prometheus"
   ]
  },
  {
   "cell_type": "markdown",
   "metadata": {
    "slideshow": {
     "slide_type": "subslide"
    }
   },
   "source": [
    "## Prometheus (https://prometheus.io/)\n",
    "\n",
    "  * Basically a time series key-value storage \n",
    "  * Supports both, pulling and pushing data\n",
    "    - We will only use data pull\n",
    "  * Targets (for pulling) via service discovery or config\n",
    "    - [client libraries](https://prometheus.io/docs/instrumenting/clientlibs/) for instrumenting application code"
   ]
  },
  {
   "cell_type": "markdown",
   "metadata": {
    "slideshow": {
     "slide_type": "subslide"
    }
   },
   "source": [
    "![](https://prometheus.io/assets/architecture.png)"
   ]
  },
  {
   "cell_type": "markdown",
   "metadata": {
    "slideshow": {
     "slide_type": "subslide"
    }
   },
   "source": [
    "Client Libraries:\n",
    "\n",
    "  * Go\n",
    "  * Java or Scala\n",
    "  * Python\n",
    "  * Ruby\n",
    "\n",
    "Unofficial third-party client libraries:\n",
    "\n",
    "  * Bash\n",
    "  * C++\n",
    "  * Common Lisp\n",
    "  * Elixir\n",
    "  * Erlang\n",
    "  * Haskell\n",
    "  * Lua\n",
    "  * .NET / C#\n",
    "  * Node.js\n",
    "  * Perl\n",
    "  * PHP\n",
    "  * Rust\n",
    "\n",
    "\n",
    "See, https://prometheus.io/docs/introduction/overview/"
   ]
  },
  {
   "cell_type": "markdown",
   "metadata": {
    "slideshow": {
     "slide_type": "subslide"
    }
   },
   "source": [
    "### Four Metric Types\n",
    "\n",
    "The client libraries offer four core metric types:\n",
    "\n",
    "\n",
    "  * Counter\n",
    "  * Gauge\n",
    "  * Histogram\n",
    "  * Summary\n",
    "\n",
    "\n",
    "They are only differentiated in the client libraries. \n",
    "The Prometheus server currently flattens all data into untyped time series.\n",
    "\n",
    "\n",
    "\n",
    "\n",
    "See: https://prometheus.io/docs/concepts/metric_types/\n",
    "\n"
   ]
  },
  {
   "cell_type": "markdown",
   "metadata": {
    "slideshow": {
     "slide_type": "subslide"
    }
   },
   "source": [
    "### Disecting an Example:\n",
    "\n",
    "\n",
    "![](images/minitwit_monitoring_arch.png)\n",
    "\n",
    "```\n",
    "$ cd itu-minitwit-monitoring\n",
    "$ docker-compose up --build\n",
    "```\n",
    "\n",
    "**OBS**: Remember that this example runs a single application without any load balancer or similar. In case you want to collect metrics of one \"logical\" application running as many instances you might want to read the following for an example of how to solve it:\n",
    "https://blog.codeship.com/monitoring-your-synchronous-python-web-applications-using-prometheus/"
   ]
  },
  {
   "cell_type": "markdown",
   "metadata": {
    "slideshow": {
     "slide_type": "subslide"
    }
   },
   "source": [
    "##### _ITU-MiniTwit_ at http://localhost:5000\n",
    "\n",
    "<img src=\"images/minitwit.png\" width=\"50%\">"
   ]
  },
  {
   "cell_type": "markdown",
   "metadata": {
    "slideshow": {
     "slide_type": "subslide"
    }
   },
   "source": [
    "##### _ITU-MiniTwit_ Metrics for This Node at http://localhost:5000/metrics\n",
    "\n",
    "<img src=\"images/minitwit_metrics.png\" width=\"50%\">"
   ]
  },
  {
   "cell_type": "markdown",
   "metadata": {},
   "source": [
    "##### The Prometheus Web-client at http://localhost:9090\n",
    "\n",
    "<img src=\"images/prometheus.png\" width=\"50%\">"
   ]
  },
  {
   "cell_type": "markdown",
   "metadata": {
    "slideshow": {
     "slide_type": "subslide"
    }
   },
   "source": [
    "##### Grafana at http://localhost:3000 \n",
    "\n",
    "Default login and password: `admin`\n",
    "\n",
    "<img src=\"images/grafana_1.png\" width=\"50%\">"
   ]
  },
  {
   "cell_type": "markdown",
   "metadata": {
    "slideshow": {
     "slide_type": "subslide"
    }
   },
   "source": [
    "#### The Instrumented Application\n",
    "\n",
    "\n",
    "The dependency to the Prometheus client library in `requirements.txt`:\n",
    "\n",
    "```\n",
    "prometheus_client==0.7.1\n",
    "```\n",
    "\n"
   ]
  },
  {
   "cell_type": "markdown",
   "metadata": {
    "slideshow": {
     "slide_type": "subslide"
    }
   },
   "source": [
    "#### The Instrumented Application\n",
    "\n",
    "\n",
    "```python\n",
    "from prometheus_client import Counter, Gauge, Histogram\n",
    "from prometheus_client import generate_latest\n",
    "\n",
    "\n",
    "CPU_GAUGE = Gauge(\n",
    "    \"minitwit_cpu_load_percent\", \"Current load of the CPU in percent.\"\n",
    ")\n",
    "REPONSE_COUNTER = Counter(\n",
    "    \"minitwit_http_responses_total\", \"The count of HTTP responses sent.\"\n",
    ")\n",
    "REQ_DURATION_SUMMARY = Histogram(\n",
    "    \"minitwit_request_duration_milliseconds\", \"Request duration distribution.\"\n",
    ")\n",
    "\n",
    "# Add /metrics route for Prometheus to scrape\n",
    "@app.route(\"/metrics/\")\n",
    "def metrics():\n",
    "    return Response(\n",
    "        generate_latest(), mimetype=\"text/plain; version=0.0.4; charset=utf-8\"\n",
    "    )\n",
    "    \n",
    "    \n",
    "@app.before_request\n",
    "def before_request():\n",
    "    \"\"\"Make sure we are connected to the database each request and look\n",
    "    up the current user so that we know he's there.\n",
    "    \"\"\"\n",
    "    request.start_time = datetime.now()\n",
    "    g.db = connect_db()\n",
    "    g.user = None\n",
    "    if \"user_id\" in session:\n",
    "        g.user = query_db(\n",
    "            \"select * from user where user_id = ?\",\n",
    "            [session[\"user_id\"]],\n",
    "            one=True,\n",
    "        )\n",
    "    CPU_GAUGE.set(psutil.cpu_percent())\n",
    "    \n",
    "@app.after_request\n",
    "def after_request(response):\n",
    "    \"\"\"Closes the database again at the end of the request.\"\"\"\n",
    "    g.db.close()\n",
    "    REPONSE_COUNTER.inc()\n",
    "    t_elapsed_ms = (datetime.now() - request.start_time).total_seconds() * 1000\n",
    "    REQ_DURATION_SUMMARY.observe(t_elapsed_ms)\n",
    "    return response\n",
    "```"
   ]
  },
  {
   "cell_type": "markdown",
   "metadata": {
    "slideshow": {
     "slide_type": "subslide"
    }
   },
   "source": [
    "#### The Prometheus Configuration File\n",
    "\n",
    "\n",
    "```yml\n",
    "global:\n",
    "  scrape_interval:     15s # By default, scrape targets every 15 seconds.\n",
    "  evaluation_interval: 15s # Evaluate rules every 15 seconds.\n",
    "\n",
    "  # Attach these extra labels to all timeseries collected by this Prometheus instance.\n",
    "  external_labels:\n",
    "    monitor: 'codelab-monitor'\n",
    "\n",
    "rule_files:\n",
    "  - 'prometheus.rules.yml'\n",
    "\n",
    "scrape_configs:\n",
    "  - job_name: 'prometheus'\n",
    "\n",
    "    # Override the global default and scrape targets from this job every 5 seconds.\n",
    "    scrape_interval: 5s\n",
    "\n",
    "    static_configs:\n",
    "      - targets: ['prometheus:9090']\n",
    "\n",
    "  - job_name:       'itu-minittwit-app'\n",
    "\n",
    "    # Override the global default and scrape targets from this job every 5 seconds.\n",
    "    scrape_interval: 5s\n",
    "\n",
    "    static_configs:\n",
    "      - targets: ['minitwit:5000']\n",
    "        labels:\n",
    "          group: 'production'\n",
    "```"
   ]
  },
  {
   "cell_type": "markdown",
   "metadata": {
    "slideshow": {
     "slide_type": "subslide"
    }
   },
   "source": [
    "## The Prometheus Dashboard\n",
    "\n",
    "\n",
    "Navigate your browser to http://localhost:9090/graph?g0.range_input=1h&g0.expr=minitwit_cpu_load_percent&g0.tab=0&g1.range_input=1h&g1.expr=minitwit_http_responses_total&g1.tab=0&g2.range_input=1h&g2.expr=minitwit_request_duration_milliseconds_bucket&g2.tab=0 to see some of your metrics through Prometheus inbuilt dashboard.\n"
   ]
  },
  {
   "cell_type": "markdown",
   "metadata": {
    "slideshow": {
     "slide_type": "subslide"
    }
   },
   "source": [
    "## Grafana Dashboards\n",
    "\n",
    "  * Just because you can include everything does not mean you should!\n",
    "    - Keep them organized\n",
    "    - Try to \"tell a story\", i.e., you will likely have different dashboards for you and the operators\n",
    "    - Include more than infrastructure monitoring, remember 'Monitor close to the User' from the beginning of the session.\n",
    "    - See more here: https://www.metricly.com/devops-dashboard-best-practices/\n",
    "  * See https://grafana.com/dashboards\n",
    "  * \n",
    "https://codeascraft.com/2011/02/15/measure-anything-measure-everything/"
   ]
  },
  {
   "cell_type": "markdown",
   "metadata": {
    "slideshow": {
     "slide_type": "subslide"
    }
   },
   "source": [
    "Grafana dashboards support alerts. For active monitoring, you might want to setup some alarms and get notified when something goes wrong.\n",
    "You can get alerts either on the dashboard or -likely more suitable- via other channels such as: Mail, PagerDuty, Slack, Telegram"
   ]
  },
  {
   "cell_type": "markdown",
   "metadata": {
    "slideshow": {
     "slide_type": "subslide"
    }
   },
   "source": [
    "### Configuring the Dashboard\n",
    "\n",
    "To configure the dashboard you have to use queries in PromQL, see more here: https://prometheus.io/docs/prometheus/latest/querying/basics/\n",
    "\n",
    "  * Grafana can connect to multiple backends\n",
    "  * When querying Prometheus you need to use the PromQL syntax\n",
    "    - `minitwit_cpu_load_percent`\n",
    "    - `minitwit_cpu_load_percent{group=\"production\",instance=\"minitwit:5000\",job=\"itu-minittwit-app\"}`\n",
    "    - `rate(minitwit_cpu_load_percent[5m])`\n",
    "    - `sum(rate(minitwit_cpu_load_percent[5m])) by (job)`\n"
   ]
  },
  {
   "cell_type": "markdown",
   "metadata": {
    "slideshow": {
     "slide_type": "subslide"
    }
   },
   "source": [
    "  <img src=\"images/grafana_3.png\" width=\"50%\">\n"
   ]
  },
  {
   "cell_type": "markdown",
   "metadata": {
    "slideshow": {
     "slide_type": "subslide"
    }
   },
   "source": [
    "# What to do now?\n",
    "\n",
    "  * To prepare for your project work, practice with the [exercises](./README_EXERCISE.md)\n",
    "  * Do the [project work](./README_TASKS.md) until the end of the week\n",
    "  * And [prepare for the next session](../session_07/README_PREP.md)"
   ]
  }
 ],
 "metadata": {
  "celltoolbar": "Slideshow",
  "kernelspec": {
   "display_name": "Python 3",
   "language": "python",
   "name": "python3"
  },
  "language_info": {
   "codemirror_mode": {
    "name": "ipython",
    "version": 3
   },
   "file_extension": ".py",
   "mimetype": "text/x-python",
   "name": "python",
   "nbconvert_exporter": "python",
   "pygments_lexer": "ipython3",
   "version": "3.8.8"
  }
 },
 "nbformat": 4,
 "nbformat_minor": 2
}
