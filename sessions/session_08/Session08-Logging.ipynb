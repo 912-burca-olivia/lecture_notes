{
 "cells": [
  {
   "cell_type": "markdown",
   "metadata": {
    "nbpresent": {
     "id": "33405e17-60a9-463c-8894-df5bd5e7659c"
    },
    "slideshow": {
     "slide_type": "slide"
    }
   },
   "source": [
    "![](https://www.saa-authors.eu/picture/739/ftw_768/saa-mtcwmza4nzq5mq.jpg)"
   ]
  },
  {
   "cell_type": "markdown",
   "metadata": {
    "nbpresent": {
     "id": "c3424e6f-ceeb-4f3f-bf20-e288b3131d62"
    },
    "slideshow": {
     "slide_type": "subslide"
    }
   },
   "source": [
    "# Logging & Service-Level Agreements (SLAs) \n",
    "\n",
    "### Plan for the day\n",
    "\n",
    "* Project Status\n",
    "* PREP Discussion\n",
    "* Research Prototype: Flask Monitoring Dashboard\n",
    "* Topic: Logging\n",
    "* Topic: Service Level Agreements\n",
    "   "
   ]
  },
  {
   "cell_type": "markdown",
   "metadata": {},
   "source": [
    "# Project Status\n",
    "\n",
    "- monitoring?\n",
    "- let's look at the charts"
   ]
  },
  {
   "cell_type": "code",
   "execution_count": 5,
   "metadata": {},
   "outputs": [
    {
     "data": {
      "text/html": [
       "\n",
       "        <iframe\n",
       "            width=\"900\"\n",
       "            height=\"500\"\n",
       "            src=\"http://164.92.246.227/chart.svg\"\n",
       "            frameborder=\"0\"\n",
       "            allowfullscreen\n",
       "            \n",
       "        ></iframe>\n",
       "        "
      ],
      "text/plain": [
       "<IPython.lib.display.IFrame at 0x10619d040>"
      ]
     },
     "execution_count": 5,
     "metadata": {},
     "output_type": "execute_result"
    }
   ],
   "source": [
    "from IPython.display import IFrame\n",
    "IFrame('http://164.92.246.227/chart.svg', width=900, height=500)"
   ]
  },
  {
   "cell_type": "code",
   "execution_count": 3,
   "metadata": {},
   "outputs": [
    {
     "data": {
      "text/html": [
       "\n",
       "        <iframe\n",
       "            width=\"900\"\n",
       "            height=\"500\"\n",
       "            src=\"http://159.89.26.109/commit_activity_weekly.svg\"\n",
       "            frameborder=\"0\"\n",
       "            allowfullscreen\n",
       "            \n",
       "        ></iframe>\n",
       "        "
      ],
      "text/plain": [
       "<IPython.lib.display.IFrame at 0x1060eef70>"
      ]
     },
     "execution_count": 3,
     "metadata": {},
     "output_type": "execute_result"
    }
   ],
   "source": [
    "from IPython.display import IFrame\n",
    "IFrame('http://159.89.26.109/commit_activity_weekly.svg', width=900, height=500)"
   ]
  },
  {
   "cell_type": "code",
   "execution_count": 4,
   "metadata": {},
   "outputs": [
    {
     "data": {
      "text/html": [
       "\n",
       "        <iframe\n",
       "            width=\"900\"\n",
       "            height=\"500\"\n",
       "            src=\"http://159.89.26.109/release_activity_weekly.svg\"\n",
       "            frameborder=\"0\"\n",
       "            allowfullscreen\n",
       "            \n",
       "        ></iframe>\n",
       "        "
      ],
      "text/plain": [
       "<IPython.lib.display.IFrame at 0x1061529a0>"
      ]
     },
     "execution_count": 4,
     "metadata": {},
     "output_type": "execute_result"
    }
   ],
   "source": [
    "from IPython.display import IFrame\n",
    "IFrame('http://159.89.26.109/release_activity_weekly.svg', width=900, height=500)"
   ]
  },
  {
   "cell_type": "markdown",
   "metadata": {
    "nbpresent": {
     "id": "db415d3c-61af-42db-84af-ae7c07ec34f4"
    },
    "slideshow": {
     "slide_type": "slide"
    }
   },
   "source": [
    "# Prep Questions\n",
    "\n",
    "### Question #1 for You: Which of your endpoints is the slowest? How slow is it?\n",
    "\n",
    "### Question #2 for You: Where is the time being spent in this endpoint? How did you find out? \n",
    "\n",
    "Groups\n",
    "- E\n",
    "- O\n",
    "- F\n",
    "- R\n",
    "\n",
    "\n"
   ]
  },
  {
   "cell_type": "markdown",
   "metadata": {
    "nbpresent": {
     "id": "9b59ee8b-4394-4975-a639-e11dd3ef632f"
    },
    "slideshow": {
     "slide_type": "slide"
    }
   },
   "source": [
    "## Flask Monitoring Dashboard\n",
    "\n",
    "Research Project; [Open Source](https://github.com/flask-dashboard/)\n",
    "\n",
    "Application Performance Monitor for Python + Flask\n",
    "\n",
    "Goals:\n",
    "* Simple to deploy & use\n",
    "* Leverage version-control information\n",
    "\n",
    "Observations:\n",
    "* Aimed at small projects (stand-alone API / App)\n",
    "* Can be easily installed because its laser-focused: Flask/Python\n",
    "\n",
    "* Profiling introduces significant overhead\n",
    "  - monitoring levels deployable with fine granularity\n",
    "  - measuring the overhead is tricky\n",
    "  - current ongoing project: automatically detecting performance regressions\n",
    "\n"
   ]
  },
  {
   "cell_type": "markdown",
   "metadata": {
    "nbpresent": {
     "id": "fa591adc-5f59-4363-b8d6-303810e3e11f"
    },
    "slideshow": {
     "slide_type": "subslide"
    }
   },
   "source": [
    "# Meta-Observations\n",
    "\n",
    "* Started as a bachelor thesis continued as master's thesis\n",
    "  - Stick to your project (it takes a years till something becomes successful)\n",
    "  - There are still several theses in extending this project\n",
    "\n",
    "\n",
    "\n",
    "Open source, MIT \n",
    "- Code at: https://github.com/flask-dashboard/\n",
    "- Demo: https://fmd-master.herokuapp.com/\n",
    "- Mini-Case Study: https://mircealungu.com/post/18-09-07--db-indexes/\n",
    "- Short paper: https://github.com/flask-dashboard/Vissoft-17-Paper/blob/master/FlaskDashboard-Preprint.pdf \n",
    "- Try it if you have a Flask API/App!\n",
    "\n"
   ]
  },
  {
   "cell_type": "markdown",
   "metadata": {
    "nbpresent": {
     "id": "43ad8244-7420-4502-acf5-819639d19107"
    },
    "slideshow": {
     "slide_type": "subslide"
    }
   },
   "source": [
    "# Limitations of Monitoring\n",
    "\n",
    "\n",
    "* Tracks high-level metrics the system (error rate of endpoint: 2%)\n",
    "* Does not explain WHY there was a problem \n",
    "\n",
    "For the WHY we need more detailed information: \n",
    "\n",
    "  - **profiling** (as we saw in FMD) = dynamic program analysis for errors & performance problems\n",
    "  - or **logging** as we will discuss today\n",
    "  - or **tracing** = observing requests as they propagate through distributed systems (\"not today\")\n",
    "         \n",
    "         \n",
    "Read More: [Why Grafana is Good at Metrics and Not Logs](https://grafana.com/blog/2016/01/05/logs-and-metrics-and-graphs-oh-my/)"
   ]
  },
  {
   "cell_type": "markdown",
   "metadata": {
    "nbpresent": {
     "id": "fb13f410-3b86-453f-9385-555990e75193"
    },
    "slideshow": {
     "slide_type": "subslide"
    }
   },
   "source": [
    "# Logging\n",
    "\n",
    "\n",
    "Logs are **the stream of aggregated, time-ordered events** collected from the output streams of all running processes and backing services\n",
    "\n",
    "\n",
    "Purpose\n",
    "\n",
    "* Understanding (how is your system being used?)\n",
    "\n",
    "\n",
    "* Diagnosis (of an actual problem)\n",
    "\n",
    "  - what happened yesterday? why was the service slow/down?\n",
    "\n",
    "\n",
    "* Audit trails \n",
    "  - Sometimes logs are legally required\n",
    "  - Ultimate example: bitcoin - a big log of all transactions\n",
    "\n",
    "\n",
    "> The value in aggregating all the data to a centralized database for alerting and analysis simply cannot be understated"
   ]
  },
  {
   "cell_type": "markdown",
   "metadata": {
    "nbpresent": {
     "id": "a85b34a0-17a9-4714-b28e-0cf97d9dda81"
    },
    "slideshow": {
     "slide_type": "subslide"
    }
   },
   "source": [
    "## Logfiles \n",
    "\n",
    "\n",
    "In server-based environments they are commonly written to a file on disk (a “logfile”)\n",
    "\n",
    "    e.g. cat /var/log/auth.log\n",
    "    \n",
    "<img src=\"images/auth_log.png\" alt=\"Drawing\" style=\"width: 800px;\"/>\n",
    "\n",
    "\n",
    "* A reminder of the importance of security...\n",
    "\n",
    "* ... but this is only one of the many possible output formats"
   ]
  },
  {
   "cell_type": "markdown",
   "metadata": {
    "nbpresent": {
     "id": "ebb20b41-4f1b-4038-afad-67c438637296"
    },
    "slideshow": {
     "slide_type": "subslide"
    }
   },
   "source": [
    "## Different programs have different log formats\n",
    "\n",
    "#### /var/log/auth.log\n",
    "\n",
    "    Mar 16 07:15:55 zeeguu-amsterdam sshd[29424]: Invalid user vultr from 144.217.243.216 port 56450\n",
    "\n",
    "\n",
    "#### /var/log/apache2/error.log\n",
    "\n",
    "    [Wed Mar 18 20:39:02.962354 2020] [wsgi:error] [pid 18:tid 140056344164096] [remote 212.187.36.136:57046] Session is retrived from cookies\n",
    "    \n",
    "#### nginx\n",
    "\n",
    "    66.249.65.62 - - [06/Nov/2014:19:12:14 +0600] \"GET /?q=%E0%A6%A6%E0%A7%8B%E0%A7%9F%E0%A6%BE HTTP/1.1\" 200 4356 \"-\" \"Mozilla/5.0 (compatible; Googlebot/2.1;)\"\n",
    "\n",
    "#### /var/log/system.log (on mac)\n",
    "\n",
    "    Mar 18 21:25:16 Harlequin logd[85]: #DECODE failed to resolve UUID: [pc:0x7fff75485ac7 ns:0x06 type:0x82 flags:0x8208 main:A52374C3-0F9D-3062-A636 pid:435]\n",
    "\n"
   ]
  },
  {
   "cell_type": "markdown",
   "metadata": {
    "nbpresent": {
     "id": "66d60306-6d53-4e5b-b0f6-b3f5837a93d1"
    },
    "slideshow": {
     "slide_type": "subslide"
    }
   },
   "source": [
    "# Syslog: What and How to Log\n",
    "\n",
    "Syslog is a protocol \n",
    "* developed in 1980 \n",
    "* aims at standardizing the way logs are formatted\n",
    "* not only for Linux, but for any system exchanging logs.\n",
    "\n",
    "\n",
    "Designed to enable the separation between:\n",
    "  - sender\n",
    "  - collector, and \n",
    "  - transport\n",
    "    \n",
    "\n",
    "\n",
    "More on syslog\n",
    "- https://tools.ietf.org/html/rfc3164 (2001, cool intro, more humane)\n",
    "- https://tools.ietf.org/html/rfc5424 (2009)\n"
   ]
  },
  {
   "cell_type": "markdown",
   "metadata": {
    "nbpresent": {
     "id": "4233e795-70c7-4565-b78d-98cedff45e7d"
    },
    "slideshow": {
     "slide_type": "subslide"
    }
   },
   "source": [
    "### Example Syslog Entry \n",
    "\n",
    "<img src=\"images/syslog_line.png\" alt=\"Drawing\" style=\"width: 400px;\"/>"
   ]
  },
  {
   "cell_type": "markdown",
   "metadata": {
    "nbpresent": {
     "id": "86d4e995-ecce-468a-8ba7-d275d2f41fe9"
    },
    "slideshow": {
     "slide_type": "subslide"
    }
   },
   "source": [
    "### Log Levels (Syslog)\n",
    "\n",
    "<img src=\"images/syslog_levels.png\" alt=\"Drawing\" style=\"width: 700px;\"/>\n",
    "\n",
    "\n",
    "\n"
   ]
  },
  {
   "cell_type": "markdown",
   "metadata": {
    "nbpresent": {
     "id": "0d2c96dc-8e17-4cb6-8f39-9cd8ec10a74d"
    },
    "slideshow": {
     "slide_type": "subslide"
    }
   },
   "source": [
    "# Application Level Logging Principles\n",
    "\n",
    "\n",
    "1. A Process Should Not Worry About Storage\n",
    "2. A Process Should Log Only What Is Necessary\n",
    "3. Use Log Levels to Allow Controlling the Amount of Output\n",
    "\n"
   ]
  },
  {
   "cell_type": "markdown",
   "metadata": {
    "nbpresent": {
     "id": "0e2713a4-e747-449f-a2bb-8f52b3fd02dd"
    },
    "slideshow": {
     "slide_type": "subslide"
    }
   },
   "source": [
    "### A Process Should Not Worry About Storage\n",
    "\n",
    "Don't bother to decide which logfile to write to...\n",
    "\n",
    "\n",
    "If each process **writes to its unbuffered stdout stream** ...\n",
    "\n",
    "\n",
    "* During development: dev looks at the terminal\n",
    "\n",
    "* During deployment output from process is routed where needed by the OPS\n",
    "\n",
    "* Different contexts result in different logfiles \n",
    "  - e.g. cronjob vs stand-alone\n",
    "\n",
    "Challenges: \n",
    "  - searching through a deluge of log messages in the terminal is also not that fun\n",
    "  - when you depend on a very verbose upstream; you might have to find out how to silence some logs\n",
    "  - when using Docker containers - make sure to not lose the files when recreating continaers"
   ]
  },
  {
   "cell_type": "markdown",
   "metadata": {
    "nbpresent": {
     "id": "8a36655c-fe62-4a2c-8ec9-518ae5db7e0a"
    },
    "slideshow": {
     "slide_type": "subslide"
    }
   },
   "source": [
    "### A Process Should Log Only What Is Necessary\n",
    "\n",
    "* Log files can become huge fast\n",
    "  - One solution is log rotation\n",
    "    - set a threshold of time / size after which the data in the file is truncated / stored elsewhere\n",
    "\n",
    "* Imagine 10 servers x 1000 req / sec * 1KB per Event (you'd need quite a network bandwidth...)\n",
    "\n",
    "\n",
    "* What is necessary? What is your business?\n",
    "  - if you're Apache - ...\n",
    "  - if you're a bank - ...\n",
    "  - if you're MiniTwit - ... \n",
    "\n",
    "\n",
    "Even in the context of simple research projects logfiles grows to multi-GB size in a few months\n",
    "- sufficient to fill the disk\n",
    "- to the point of not being able to run bash commands!!!\n",
    "  - Hint: ssh user@server rm ... \n"
   ]
  },
  {
   "cell_type": "markdown",
   "metadata": {
    "nbpresent": {
     "id": "0fc45d3d-c24d-47f9-8569-127266d13d56"
    },
    "slideshow": {
     "slide_type": "subslide"
    }
   },
   "source": [
    "### Use Log Levels to Allow Controlling the Amount of Output\n",
    "\n",
    "* Allows the user of the app / library to control the amount of logging\n",
    "\n",
    "\n",
    "* Better than print \n",
    "  - intention revealing\n",
    "  - can be turned off gradually\n",
    "  \n",
    "\n",
    "\n",
    "See following example...\n",
    "\n",
    "\n"
   ]
  },
  {
   "cell_type": "code",
   "execution_count": 2,
   "metadata": {
    "nbpresent": {
     "id": "b0109f16-6d96-4294-bd8c-2788ad1cbc77"
    },
    "scrolled": true,
    "slideshow": {
     "slide_type": "subslide"
    }
   },
   "outputs": [
    {
     "name": "stdout",
     "output_type": "stream",
     "text": [
      "2021-03-21 15:55:05.fZ ERROR [<ipython-input-2-eb853a24a201>] Logging is broken in Jupyter\n",
      "2021-03-21 15:55:05.fZ CRITICAL [<ipython-input-2-eb853a24a201>] System will shot down\n"
     ]
    }
   ],
   "source": [
    "import sys\n",
    "from importlib import reload \n",
    "import logging\n",
    "reload(logging) #hack because of jupyter\n",
    "\n",
    "logging.basicConfig(\n",
    "        format=\"%(asctime)-15sZ %(levelname)s [%(module)s] %(message)s\",\n",
    "        datefmt=\"%Y-%m-%d %H:%M:%S.%f\",\n",
    "        level=logging.ERROR,\n",
    "        stream=sys.stdout\n",
    ")\n",
    "\n",
    "logging.debug(\"Got here!\")\n",
    "logging.info(\"Demo started.\")\n",
    "logging.warning(\"Ooops. Something went wrong!\")\n",
    "logging.error(\"Logging is broken in Jupyter\")\n",
    "logging.critical(\"System will shot down\")\n"
   ]
  },
  {
   "cell_type": "markdown",
   "metadata": {
    "nbpresent": {
     "id": "848db0b0-35e4-4418-84f8-185567386d14"
    },
    "slideshow": {
     "slide_type": "subslide"
    }
   },
   "source": [
    "# The ELK Stack\n",
    "\n",
    "One of the most popular solutions at the moment\n",
    "\n",
    "<img src=\"images/elk.png\" alt=\"Drawing\" style=\"width: 600px;\"/>\n",
    "\n",
    "\n",
    "Stands for:\n",
    "* ElasticSearch\n",
    "* Logstash \n",
    "* Kibana\n"
   ]
  },
  {
   "cell_type": "markdown",
   "metadata": {
    "nbpresent": {
     "id": "77a25b99-42cc-4a41-bcac-1a0c1a74558d"
    },
    "slideshow": {
     "slide_type": "subslide"
    }
   },
   "source": [
    "## ElasticSearch - Scalable Full Text Search\n",
    "\n",
    "Solution based on JSON over HTTP\n",
    "\n",
    "* Based on Apache Lucene\n",
    "* Distributed & Replicated\n",
    "* Almost real time full text search\n",
    "* Stores logs in dedicated log indexes\n",
    "\n",
    "Personal Info: Student project comparing MySQL with ES: \n",
    "- Did you know that MySQL has [full text search](https://dev.mysql.com/doc/refman/8.0/en/fulltext-search.html)? \n",
    "- Guess who wins?\n",
    "\n"
   ]
  },
  {
   "cell_type": "markdown",
   "metadata": {
    "nbpresent": {
     "id": "ce7c0206-87b8-44ce-b8ae-5cb367f55936"
    },
    "slideshow": {
     "slide_type": "subslide"
    }
   },
   "source": [
    "## Logstash - Log Parser \n",
    "\n",
    "\n",
    "Converts from various log line formats to JSON\n",
    "\n",
    "Tails log files and emits events when a new log message is added\n",
    "\n",
    "Comes with a powerful pattern parsing plugin (Grok)\n",
    "\n",
    "<img src=\"images/logstash_example_.png\" alt=\"Drawing\" style=\"width: 600px;\"/>\n",
    "\n",
    "\n",
    "Challenges:\n",
    "- Not that easy to configure\n",
    "- Resource hungry\n",
    "- Difficult troubleshooting \n",
    "\n"
   ]
  },
  {
   "cell_type": "markdown",
   "metadata": {
    "nbpresent": {
     "id": "869f7018-8829-4ca3-9842-6f637abddd8d"
    },
    "slideshow": {
     "slide_type": "subslide"
    }
   },
   "source": [
    "## Logstash Configured to Read Syslog from Logfile\n",
    "\n",
    "\n",
    "    input {\n",
    "    \tfile {\n",
    "    \t\tpath => \"/Users/mircea/local/projects/zeeguu/CodeBase/Zeeguu-Mono-Web/zeeguu_mono_web.log\"\n",
    "    \t}\n",
    "    }    \n",
    "\n",
    "    filter {\n",
    "    \tgrok {\n",
    "    \t\tmatch => { \"message\" => \"%{TIMESTAMP_ISO8601:timestamp} %{DATA:level} %{DATA:process} %{GREEDYDATA:log}\" }\n",
    "    \t}\n",
    "        date {\n",
    "            match => [ \"timestamp\" , \"dd/MMM/yyyy:HH:mm:ss Z\" ]\n",
    "        }\n",
    "\n",
    "    }    \n",
    "\n",
    "    output {\n",
    "    \telasticsearch {\n",
    "    \t\thosts => \"elasticsearch:9200\"\n",
    "    \t\tuser => \"elastic\"\n",
    "    \t\tpassword => \"changeme\"\n",
    "    \t    index => \"zeeguu_web\"\n",
    "    \t}\n",
    "    }    \n",
    "\n",
    "\n",
    "\n",
    "\n",
    "\n"
   ]
  },
  {
   "cell_type": "markdown",
   "metadata": {
    "nbpresent": {
     "id": "9b19d323-65ed-4055-9c56-4f02765d2904"
    },
    "slideshow": {
     "slide_type": "subslide"
    }
   },
   "source": [
    "## Kibana\n",
    "\n",
    "\n",
    "Powerful visualization tool tailored for ElasticSearch\n",
    "\n",
    "Demo on http://35.214.243.123:5601/"
   ]
  },
  {
   "cell_type": "markdown",
   "metadata": {},
   "source": [
    "## Filebeat - Log Shipper\n",
    "\n",
    "\n",
    "- Lightweight agents on different machines - addresses resource consumption of logstash\n",
    "- Sends logs to logstash\n",
    "- Has special plugin for *docker* -- see your exercises for an example\n",
    "\n",
    "\n",
    "<img src=\"images/FELK.png\" alt=\"Drawing\" style=\"width: 400px;\" />\n",
    "\n",
    "\n",
    "- Can also send data straight to ElasticSearch (in your exercises example)\n",
    "  - if you don't need to parse further the `@message` field\n",
    "\n",
    "\n",
    "- More on the relationship between Filebeat and Logstash  https://logz.io/blog/filebeat-vs-logstash/"
   ]
  },
  {
   "cell_type": "markdown",
   "metadata": {},
   "source": [
    "## Alternative Architectures \n",
    "\n",
    "- Filebeat w/o Logstash = less parsing and transformation power; \n",
    "- With Redis message broker = prevention of data loss\n",
    "\n",
    "<img src=\"images/FRELK.png\" alt=\"Drawing\" style=\"width: 400px;\" />\n",
    "\n",
    "- With Replicated Redis & Logstash = increased stability\n",
    "\n",
    "- With alternative parsers and shippers:\n",
    "\n",
    "> My group ditched LogStash last year in part because it is slow, but also because .NET had a logging package that seamlessly integrated with ElasticSearch. So we basically just logged straight into ElasticSearch. (one of your older colleagues)"
   ]
  },
  {
   "cell_type": "markdown",
   "metadata": {
    "nbpresent": {
     "id": "9e5dc26d-8ec5-4a2b-b044-64ceefbd0cce"
    },
    "slideshow": {
     "slide_type": "subslide"
    }
   },
   "source": [
    "# Ethical & Security Aspects\n",
    "\n",
    "\n",
    "* With the raise in privacy awareness you might want to use your own logging infra for analytics instead of relying on Google Analytics; this means many more logs; and more privacy concerns\n",
    "\n",
    "\n",
    "* Ensure that you're not logging in plain user secrets (or server secrets by that matter!)\n",
    "\n",
    "\n",
    "* Be aware of who has access to the data and the data that is logged\n",
    "  - If you log user details, and they ask you to \"remove\" them because GDPR? \n",
    "\n",
    "\n"
   ]
  },
  {
   "cell_type": "markdown",
   "metadata": {},
   "source": [
    "## Further Discussion Points\n",
    "\n",
    "\n",
    "\n",
    "\n",
    "- Docker - all logs can be found in `/var/lib/docker/containers/<container_id>`\n",
    "\n",
    "\n",
    "- Logging vs. Crash Reporting (e.g. Sentry)\n",
    "  - similarity: often written to the same logfile (in the case of web apps)\n",
    "  - difference: some log entires are not crashes but simply informational\n",
    "  \n",
    "  \n",
    "- With sufficiently *high-resolution* logging you can have a practical backup of the state of the database... \n",
    "\n",
    "  - *Binary logging* in the MySql context: stream of events that modify the DB; you can ship them across machines -> related to event-based \n",
    "\n"
   ]
  },
  {
   "cell_type": "markdown",
   "metadata": {
    "nbpresent": {
     "id": "280be136-7df7-421f-9a70-917afae12ac6"
    },
    "slideshow": {
     "slide_type": "slide"
    }
   },
   "source": [
    "# Service Level Agreements (SLAs)\n",
    "\n",
    "Commitment between a service provider and a client. \n",
    "\n",
    "Particular aspects of the service are agreed upon\n",
    "\n",
    "* quality\n",
    "* availability\n",
    "* responsibilities \n",
    "\n",
    "\n"
   ]
  },
  {
   "cell_type": "markdown",
   "metadata": {
    "nbpresent": {
     "id": "9945ed97-b8b8-46c6-9396-2b60708a2bb2"
    },
    "slideshow": {
     "slide_type": "subslide"
    }
   },
   "source": [
    "# SLA Metrics\n",
    "\n",
    "Common metrics for web apps / services\n",
    "\n",
    "- Uptime/availability (usually percentage of all time)\n",
    "- Mean response time (average time before answer)\n",
    "- Mean time to recover (time to recover after outage)\n",
    "- Failure frequency (number of failures/timeouts over time)\n",
    "\n",
    "\n",
    "\n",
    "\n"
   ]
  },
  {
   "cell_type": "markdown",
   "metadata": {
    "nbpresent": {
     "id": "3f853b3c-4da6-4ac4-8163-20c780711b29"
    },
    "slideshow": {
     "slide_type": "subslide"
    }
   },
   "source": [
    "# SLA @ Google vs. Microsoft\n",
    "\n",
    "https://cloud.google.com/translate/sla\n",
    "\n",
    "https://azure.microsoft.com/en-us/support/legal/sla/machine-learning-service/v1_0/\n",
    "\n",
    "What do you see? \n",
    "\n",
    "Which one is more fair?\n"
   ]
  },
  {
   "cell_type": "markdown",
   "metadata": {
    "nbpresent": {
     "id": "19d637ea-f295-4f06-9d4b-24119b15ef3f"
    },
    "slideshow": {
     "slide_type": "subslide"
    }
   },
   "source": [
    "## Resources\n",
    "\n",
    "\n",
    "Installing ELK with Docker: https://logz.io/blog/elk-stack-on-docker/\n",
    "\n",
    "Good patterns for Grok: https://qbox.io/blog/logstash-grok-filter-tutorial-patterns\n",
    "\n",
    "This one uses Filebeat: https://www.elastic.co/guide/en/logstash/current/advanced-pipeline.html\n",
    "\n",
    "Grok Debugger: https://grokdebug.herokuapp.com/"
   ]
  }
 ],
 "metadata": {
  "anaconda-cloud": {},
  "celltoolbar": "Slideshow",
  "kernelspec": {
   "display_name": "Python 3 (ipykernel)",
   "language": "python",
   "name": "python3"
  },
  "language_info": {
   "codemirror_mode": {
    "name": "ipython",
    "version": 3
   },
   "file_extension": ".py",
   "mimetype": "text/x-python",
   "name": "python",
   "nbconvert_exporter": "python",
   "pygments_lexer": "ipython3",
   "version": "3.8.9"
  },
  "nbpresent": {
   "slides": {
    "0111ab67-c4a8-4adf-9cc2-0cdab0bfa161": {
     "id": "0111ab67-c4a8-4adf-9cc2-0cdab0bfa161",
     "prev": "73e6fbc0-bc51-47e0-a7b4-3933027e7b66",
     "regions": {
      "e564210e-0541-448a-b558-9946bcdcf23b": {
       "attrs": {
        "height": 0.8,
        "width": 0.8,
        "x": 0.1,
        "y": 0.1
       },
       "content": {
        "cell": "d81ef71b-375c-4c5f-be48-2f72979724cd",
        "part": "whole"
       },
       "id": "e564210e-0541-448a-b558-9946bcdcf23b"
      }
     }
    },
    "05738737-64ce-408a-b774-df52d58ef047": {
     "id": "05738737-64ce-408a-b774-df52d58ef047",
     "prev": "95046ce3-11c1-405f-960d-0a09223b6c96",
     "regions": {
      "d6e54876-7103-4727-b3dd-d0b649ca68e2": {
       "attrs": {
        "height": 0.8,
        "width": 0.8,
        "x": 0.1,
        "y": 0.1
       },
       "content": {
        "cell": "ed435474-64a2-4bdc-84fc-0114d4ba8ba1",
        "part": "whole"
       },
       "id": "d6e54876-7103-4727-b3dd-d0b649ca68e2"
      }
     }
    },
    "10ef49d2-76cc-4bc5-9a5a-708755f2206a": {
     "id": "10ef49d2-76cc-4bc5-9a5a-708755f2206a",
     "prev": "dc9a7716-af26-42fe-8a6c-943e1d3a7449",
     "regions": {
      "e261347d-80ea-4e35-ba90-6dce716d5b90": {
       "attrs": {
        "height": 0.8,
        "width": 0.8,
        "x": 0.1,
        "y": 0.1
       },
       "content": {
        "cell": "ce7c0206-87b8-44ce-b8ae-5cb367f55936",
        "part": "whole"
       },
       "id": "e261347d-80ea-4e35-ba90-6dce716d5b90"
      }
     }
    },
    "13e2a881-7dac-463b-9da8-439ae17977ab": {
     "id": "13e2a881-7dac-463b-9da8-439ae17977ab",
     "prev": null,
     "regions": {
      "c3ca653b-df9d-4a84-b26e-2d2597a879ef": {
       "attrs": {
        "height": 0.8,
        "width": 0.8,
        "x": 0.1,
        "y": 0.1
       },
       "content": {
        "cell": "33405e17-60a9-463c-8894-df5bd5e7659c",
        "part": "whole"
       },
       "id": "c3ca653b-df9d-4a84-b26e-2d2597a879ef"
      }
     }
    },
    "14ba5d89-dad4-49ba-8de2-08a8e454a938": {
     "id": "14ba5d89-dad4-49ba-8de2-08a8e454a938",
     "prev": "d84218e1-0c84-4ef6-9b1b-0940942291ba",
     "regions": {
      "427fe199-16ab-44a5-bbf5-c8648601ebf1": {
       "attrs": {
        "height": 0.8,
        "width": 0.8,
        "x": 0.1,
        "y": 0.1
       },
       "content": {
        "cell": "fa591adc-5f59-4363-b8d6-303810e3e11f",
        "part": "whole"
       },
       "id": "427fe199-16ab-44a5-bbf5-c8648601ebf1"
      }
     }
    },
    "1878a404-efe2-4143-afc9-3980e10ad7b5": {
     "id": "1878a404-efe2-4143-afc9-3980e10ad7b5",
     "prev": "13e2a881-7dac-463b-9da8-439ae17977ab",
     "regions": {
      "3340923e-428a-41f6-ad22-e321004f2c13": {
       "attrs": {
        "height": 0.8,
        "width": 0.8,
        "x": 0.1,
        "y": 0.1
       },
       "content": {
        "cell": "c3424e6f-ceeb-4f3f-bf20-e288b3131d62",
        "part": "whole"
       },
       "id": "3340923e-428a-41f6-ad22-e321004f2c13"
      }
     }
    },
    "18fc11da-d162-465f-a6d2-05b52caf9450": {
     "id": "18fc11da-d162-465f-a6d2-05b52caf9450",
     "prev": "1878a404-efe2-4143-afc9-3980e10ad7b5",
     "regions": {
      "8cf2694d-3cb5-47a3-9555-0d06b09ac56d": {
       "attrs": {
        "height": 0.8,
        "width": 0.8,
        "x": 0.1,
        "y": 0.1
       },
       "content": {
        "cell": "3ac31121-2dac-4379-8be9-ea6bd27f5fcc",
        "part": "whole"
       },
       "id": "8cf2694d-3cb5-47a3-9555-0d06b09ac56d"
      }
     }
    },
    "2793da61-cff7-4fa2-8e2f-1d19819f8a7c": {
     "id": "2793da61-cff7-4fa2-8e2f-1d19819f8a7c",
     "prev": "52b7804a-b8e5-48fd-bb82-bd4a1b584e4d",
     "regions": {
      "441c53f1-c1f4-4682-878d-62b149c817f3": {
       "attrs": {
        "height": 0.8,
        "width": 0.8,
        "x": 0.1,
        "y": 0.1
       },
       "content": {
        "cell": "3f853b3c-4da6-4ac4-8163-20c780711b29",
        "part": "whole"
       },
       "id": "441c53f1-c1f4-4682-878d-62b149c817f3"
      }
     }
    },
    "33abc09a-09e2-44f3-924f-f381b913a8c1": {
     "id": "33abc09a-09e2-44f3-924f-f381b913a8c1",
     "prev": "458dafb9-8c8c-49b1-8403-2315f70f00f8",
     "regions": {
      "7fcfd932-fefd-405d-a372-0ff34fc759c8": {
       "attrs": {
        "height": 0.8,
        "width": 0.8,
        "x": 0.1,
        "y": 0.1
       },
       "content": {
        "cell": "8a36655c-fe62-4a2c-8ec9-518ae5db7e0a",
        "part": "whole"
       },
       "id": "7fcfd932-fefd-405d-a372-0ff34fc759c8"
      }
     }
    },
    "34c3a0fa-705a-4be6-bfed-19cf9435736c": {
     "id": "34c3a0fa-705a-4be6-bfed-19cf9435736c",
     "prev": "d6a4f1a0-68e4-4d34-9177-c53d71bb4078",
     "regions": {
      "17a0cd39-b6b0-4192-aa36-6a8281b9deba": {
       "attrs": {
        "height": 0.8,
        "width": 0.8,
        "x": 0.1,
        "y": 0.1
       },
       "content": {
        "cell": "b0109f16-6d96-4294-bd8c-2788ad1cbc77",
        "part": "whole"
       },
       "id": "17a0cd39-b6b0-4192-aa36-6a8281b9deba"
      }
     }
    },
    "35b833c7-83fa-419e-820b-05e000907bf9": {
     "id": "35b833c7-83fa-419e-820b-05e000907bf9",
     "prev": "e1287d54-ce0b-49a9-b44b-4b1a3f1353ce",
     "regions": {
      "d686048a-1d01-47db-bc31-3d40846a4d4b": {
       "attrs": {
        "height": 0.8,
        "width": 0.8,
        "x": 0.1,
        "y": 0.1
       },
       "content": {
        "cell": "ebb20b41-4f1b-4038-afad-67c438637296",
        "part": "whole"
       },
       "id": "d686048a-1d01-47db-bc31-3d40846a4d4b"
      }
     }
    },
    "35d004b3-5011-4a46-8ca6-349d2af56e01": {
     "id": "35d004b3-5011-4a46-8ca6-349d2af56e01",
     "prev": "ee9275da-66c4-4284-bf5c-ec435f7590cf",
     "regions": {
      "1561856e-35e0-418a-86ed-f72857847826": {
       "attrs": {
        "height": 0.8,
        "width": 0.8,
        "x": 0.1,
        "y": 0.1
       },
       "content": {
        "cell": "d1edacfc-15e7-4f6d-a093-0cd1fec43072",
        "part": "whole"
       },
       "id": "1561856e-35e0-418a-86ed-f72857847826"
      }
     }
    },
    "3ec7b08b-3262-4beb-aba1-e82668ed293e": {
     "id": "3ec7b08b-3262-4beb-aba1-e82668ed293e",
     "prev": "0111ab67-c4a8-4adf-9cc2-0cdab0bfa161",
     "regions": {
      "4555d71c-60b7-4316-ad9e-394aec3171f2": {
       "attrs": {
        "height": 0.8,
        "width": 0.8,
        "x": 0.1,
        "y": 0.1
       },
       "content": {
        "cell": "96444b38-e0e8-438e-a994-2164ccc090a6",
        "part": "whole"
       },
       "id": "4555d71c-60b7-4316-ad9e-394aec3171f2"
      }
     }
    },
    "458dafb9-8c8c-49b1-8403-2315f70f00f8": {
     "id": "458dafb9-8c8c-49b1-8403-2315f70f00f8",
     "prev": "fce8c05b-dc6f-4df6-aa1a-6843b8cc6a0c",
     "regions": {
      "67abd4b8-3926-4169-ace7-874012f3516e": {
       "attrs": {
        "height": 0.8,
        "width": 0.8,
        "x": 0.1,
        "y": 0.1
       },
       "content": {
        "cell": "0e2713a4-e747-449f-a2bb-8f52b3fd02dd",
        "part": "whole"
       },
       "id": "67abd4b8-3926-4169-ace7-874012f3516e"
      }
     }
    },
    "4c5773be-956d-4266-a7fa-cff548eaa653": {
     "id": "4c5773be-956d-4266-a7fa-cff548eaa653",
     "prev": "6b1e155a-05a4-445e-a31c-58a979d7dae7",
     "regions": {
      "f2e6554e-b9ad-4964-953a-55a293b0d67f": {
       "attrs": {
        "height": 0.8,
        "width": 0.8,
        "x": 0.1,
        "y": 0.1
       },
       "content": {
        "cell": "280be136-7df7-421f-9a70-917afae12ac6",
        "part": "whole"
       },
       "id": "f2e6554e-b9ad-4964-953a-55a293b0d67f"
      }
     }
    },
    "52b7804a-b8e5-48fd-bb82-bd4a1b584e4d": {
     "id": "52b7804a-b8e5-48fd-bb82-bd4a1b584e4d",
     "prev": "4c5773be-956d-4266-a7fa-cff548eaa653",
     "regions": {
      "97efbdd9-044d-45a7-8a3e-abeeb0e4d70e": {
       "attrs": {
        "height": 0.8,
        "width": 0.8,
        "x": 0.1,
        "y": 0.1
       },
       "content": {
        "cell": "9945ed97-b8b8-46c6-9396-2b60708a2bb2",
        "part": "whole"
       },
       "id": "97efbdd9-044d-45a7-8a3e-abeeb0e4d70e"
      }
     }
    },
    "5ce048be-76ee-4f44-8a8c-3f609a52dd54": {
     "id": "5ce048be-76ee-4f44-8a8c-3f609a52dd54",
     "prev": "703cda36-95df-4363-8149-3a386abcf7fd",
     "regions": {
      "f4d30ec5-f748-4201-ba9b-ebc92dfeb3d0": {
       "attrs": {
        "height": 0.8,
        "width": 0.8,
        "x": 0.1,
        "y": 0.1
       },
       "content": {
        "cell": "19d637ea-f295-4f06-9d4b-24119b15ef3f",
        "part": "whole"
       },
       "id": "f4d30ec5-f748-4201-ba9b-ebc92dfeb3d0"
      }
     }
    },
    "69cbb160-a2b1-4c91-ada8-2ecc2f60b2c2": {
     "id": "69cbb160-a2b1-4c91-ada8-2ecc2f60b2c2",
     "prev": "14ba5d89-dad4-49ba-8de2-08a8e454a938",
     "regions": {
      "4d031152-4809-405f-a3fe-96840b32a12e": {
       "attrs": {
        "height": 0.8,
        "width": 0.8,
        "x": 0.1,
        "y": 0.1
       },
       "content": {
        "cell": "43ad8244-7420-4502-acf5-819639d19107",
        "part": "whole"
       },
       "id": "4d031152-4809-405f-a3fe-96840b32a12e"
      }
     }
    },
    "6b1e155a-05a4-445e-a31c-58a979d7dae7": {
     "id": "6b1e155a-05a4-445e-a31c-58a979d7dae7",
     "prev": "5ce048be-76ee-4f44-8a8c-3f609a52dd54",
     "regions": {
      "0b60d441-167d-4cef-84fa-33739619adcd": {
       "attrs": {
        "height": 0.8,
        "width": 0.8,
        "x": 0.1,
        "y": 0.1
       },
       "content": {
        "cell": "9e5dc26d-8ec5-4a2b-b044-64ceefbd0cce",
        "part": "whole"
       },
       "id": "0b60d441-167d-4cef-84fa-33739619adcd"
      }
     }
    },
    "703cda36-95df-4363-8149-3a386abcf7fd": {
     "id": "703cda36-95df-4363-8149-3a386abcf7fd",
     "prev": "35d004b3-5011-4a46-8ca6-349d2af56e01",
     "regions": {
      "5cf653af-d8a7-44a7-9fac-cb030ca190c5": {
       "attrs": {
        "height": 0.8,
        "width": 0.8,
        "x": 0.1,
        "y": 0.1
       },
       "content": {
        "cell": "869f7018-8829-4ca3-9842-6f637abddd8d",
        "part": "whole"
       },
       "id": "5cf653af-d8a7-44a7-9fac-cb030ca190c5"
      }
     }
    },
    "707519ee-3038-4cdf-bb06-90675793963e": {
     "id": "707519ee-3038-4cdf-bb06-90675793963e",
     "prev": "34c3a0fa-705a-4be6-bfed-19cf9435736c",
     "regions": {
      "7a13bdf6-4def-4aa5-a480-48ddff75e3ae": {
       "attrs": {
        "height": 0.8,
        "width": 0.8,
        "x": 0.1,
        "y": 0.1
       },
       "content": {
        "cell": "848db0b0-35e4-4418-84f8-185567386d14",
        "part": "whole"
       },
       "id": "7a13bdf6-4def-4aa5-a480-48ddff75e3ae"
      }
     }
    },
    "73e6fbc0-bc51-47e0-a7b4-3933027e7b66": {
     "id": "73e6fbc0-bc51-47e0-a7b4-3933027e7b66",
     "prev": "96210532-de58-4b47-b879-ca750f1af13f",
     "regions": {
      "94372604-dbd2-46d9-8a39-812869d418ff": {
       "attrs": {
        "height": 0.8,
        "width": 0.8,
        "x": 0.1,
        "y": 0.1
       },
       "content": {
        "cell": "db415d3c-61af-42db-84af-ae7c07ec34f4",
        "part": "whole"
       },
       "id": "94372604-dbd2-46d9-8a39-812869d418ff"
      }
     }
    },
    "95046ce3-11c1-405f-960d-0a09223b6c96": {
     "id": "95046ce3-11c1-405f-960d-0a09223b6c96",
     "prev": "2793da61-cff7-4fa2-8e2f-1d19819f8a7c",
     "regions": {
      "c48b03b2-adc5-4412-a15f-d0fd0d240a5e": {
       "attrs": {
        "height": 0.8,
        "width": 0.8,
        "x": 0.1,
        "y": 0.1
       },
       "content": {
        "cell": "62954c43-0e55-4367-b1b5-c25bb52f1059",
        "part": "whole"
       },
       "id": "c48b03b2-adc5-4412-a15f-d0fd0d240a5e"
      }
     }
    },
    "96210532-de58-4b47-b879-ca750f1af13f": {
     "id": "96210532-de58-4b47-b879-ca750f1af13f",
     "prev": "18fc11da-d162-465f-a6d2-05b52caf9450",
     "regions": {
      "64cc3b4a-055c-4e06-bee1-381a02791685": {
       "attrs": {
        "height": 0.8,
        "width": 0.8,
        "x": 0.1,
        "y": 0.1
       },
       "content": {
        "cell": "e60a8e77-a808-40e7-89d6-9624f71e84c2",
        "part": "whole"
       },
       "id": "64cc3b4a-055c-4e06-bee1-381a02791685"
      }
     }
    },
    "a3328dfb-ed4d-4af5-b489-c2268cd1c0c8": {
     "id": "a3328dfb-ed4d-4af5-b489-c2268cd1c0c8",
     "prev": "fd3f1080-c4ca-49f7-9898-2b15d5e14439",
     "regions": {
      "c5b1dbb7-ca32-4f56-ab34-ac6ae1514744": {
       "attrs": {
        "height": 0.8,
        "width": 0.8,
        "x": 0.1,
        "y": 0.1
       },
       "content": {
        "cell": "e179219c-8e0b-4f6d-86c4-33d977300238",
        "part": "whole"
       },
       "id": "c5b1dbb7-ca32-4f56-ab34-ac6ae1514744"
      }
     }
    },
    "ce5ada58-2723-4707-b139-72179f011707": {
     "id": "ce5ada58-2723-4707-b139-72179f011707",
     "prev": "69cbb160-a2b1-4c91-ada8-2ecc2f60b2c2",
     "regions": {
      "0f802a0d-1fbe-4c5c-a548-5fe4f0af4fb1": {
       "attrs": {
        "height": 0.8,
        "width": 0.8,
        "x": 0.1,
        "y": 0.1
       },
       "content": {
        "cell": "fb13f410-3b86-453f-9385-555990e75193",
        "part": "whole"
       },
       "id": "0f802a0d-1fbe-4c5c-a548-5fe4f0af4fb1"
      }
     }
    },
    "d6a4f1a0-68e4-4d34-9177-c53d71bb4078": {
     "id": "d6a4f1a0-68e4-4d34-9177-c53d71bb4078",
     "prev": "33abc09a-09e2-44f3-924f-f381b913a8c1",
     "regions": {
      "907af924-d9d7-45a1-b271-1046f260235a": {
       "attrs": {
        "height": 0.8,
        "width": 0.8,
        "x": 0.1,
        "y": 0.1
       },
       "content": {
        "cell": "0fc45d3d-c24d-47f9-8569-127266d13d56",
        "part": "whole"
       },
       "id": "907af924-d9d7-45a1-b271-1046f260235a"
      }
     }
    },
    "d84218e1-0c84-4ef6-9b1b-0940942291ba": {
     "id": "d84218e1-0c84-4ef6-9b1b-0940942291ba",
     "prev": "a3328dfb-ed4d-4af5-b489-c2268cd1c0c8",
     "regions": {
      "a3c5ff2c-5a11-4c79-bbb1-d5b39331657c": {
       "attrs": {
        "height": 0.8,
        "width": 0.8,
        "x": 0.1,
        "y": 0.1
       },
       "content": {
        "cell": "d994c5a5-39a0-4af6-bae1-3cdf207ef160",
        "part": "whole"
       },
       "id": "a3c5ff2c-5a11-4c79-bbb1-d5b39331657c"
      }
     }
    },
    "dc9a7716-af26-42fe-8a6c-943e1d3a7449": {
     "id": "dc9a7716-af26-42fe-8a6c-943e1d3a7449",
     "prev": "707519ee-3038-4cdf-bb06-90675793963e",
     "regions": {
      "6e2c0452-d68a-4a6d-956c-57ad76787f07": {
       "attrs": {
        "height": 0.8,
        "width": 0.8,
        "x": 0.1,
        "y": 0.1
       },
       "content": {
        "cell": "77a25b99-42cc-4a41-bcac-1a0c1a74558d",
        "part": "whole"
       },
       "id": "6e2c0452-d68a-4a6d-956c-57ad76787f07"
      }
     }
    },
    "e000c1f0-f01c-40aa-ae39-cbec74807847": {
     "id": "e000c1f0-f01c-40aa-ae39-cbec74807847",
     "prev": "febf9c2d-6c9b-4c89-8a62-289db3bbbbd5",
     "regions": {
      "5a1ad475-b28c-4a4c-9529-b2fa52278eb9": {
       "attrs": {
        "height": 0.8,
        "width": 0.8,
        "x": 0.1,
        "y": 0.1
       },
       "content": {
        "cell": "86d4e995-ecce-468a-8ba7-d275d2f41fe9",
        "part": "whole"
       },
       "id": "5a1ad475-b28c-4a4c-9529-b2fa52278eb9"
      }
     }
    },
    "e1287d54-ce0b-49a9-b44b-4b1a3f1353ce": {
     "id": "e1287d54-ce0b-49a9-b44b-4b1a3f1353ce",
     "prev": "ce5ada58-2723-4707-b139-72179f011707",
     "regions": {
      "29fa68cc-c9ff-4565-9741-3dd4e3c5d36f": {
       "attrs": {
        "height": 0.8,
        "width": 0.8,
        "x": 0.1,
        "y": 0.1
       },
       "content": {
        "cell": "a85b34a0-17a9-4714-b28e-0cf97d9dda81",
        "part": "whole"
       },
       "id": "29fa68cc-c9ff-4565-9741-3dd4e3c5d36f"
      }
     }
    },
    "ee9275da-66c4-4284-bf5c-ec435f7590cf": {
     "id": "ee9275da-66c4-4284-bf5c-ec435f7590cf",
     "prev": "10ef49d2-76cc-4bc5-9a5a-708755f2206a",
     "regions": {
      "98eaa8f5-b833-46ba-8bd5-e2692949d699": {
       "attrs": {
        "height": 0.8,
        "width": 0.8,
        "x": 0.1,
        "y": 0.1
       },
       "content": {
        "cell": "9b19d323-65ed-4055-9c56-4f02765d2904",
        "part": "whole"
       },
       "id": "98eaa8f5-b833-46ba-8bd5-e2692949d699"
      }
     }
    },
    "fa2c2347-576f-4e2a-8562-d8be11cd9b10": {
     "id": "fa2c2347-576f-4e2a-8562-d8be11cd9b10",
     "prev": "05738737-64ce-408a-b774-df52d58ef047",
     "regions": {
      "ecbfdd7b-8141-4221-a0cf-0bf11c5d076a": {
       "attrs": {
        "height": 0.8,
        "width": 0.8,
        "x": 0.1,
        "y": 0.1
       },
       "content": {
        "cell": "f25dd2ad-1420-4f70-b618-8399a8d86aa3",
        "part": "whole"
       },
       "id": "ecbfdd7b-8141-4221-a0cf-0bf11c5d076a"
      }
     }
    },
    "fce8c05b-dc6f-4df6-aa1a-6843b8cc6a0c": {
     "id": "fce8c05b-dc6f-4df6-aa1a-6843b8cc6a0c",
     "prev": "e000c1f0-f01c-40aa-ae39-cbec74807847",
     "regions": {
      "cdfd1768-7730-4d0e-970a-293d24fe980c": {
       "attrs": {
        "height": 0.8,
        "width": 0.8,
        "x": 0.1,
        "y": 0.1
       },
       "content": {
        "cell": "0d2c96dc-8e17-4cb6-8f39-9cd8ec10a74d",
        "part": "whole"
       },
       "id": "cdfd1768-7730-4d0e-970a-293d24fe980c"
      }
     }
    },
    "fd3f1080-c4ca-49f7-9898-2b15d5e14439": {
     "id": "fd3f1080-c4ca-49f7-9898-2b15d5e14439",
     "prev": "3ec7b08b-3262-4beb-aba1-e82668ed293e",
     "regions": {
      "88a3e125-a57f-44a8-b679-0028fdfafb14": {
       "attrs": {
        "height": 0.8,
        "width": 0.8,
        "x": 0.1,
        "y": 0.1
       },
       "content": {
        "cell": "9b59ee8b-4394-4975-a639-e11dd3ef632f",
        "part": "whole"
       },
       "id": "88a3e125-a57f-44a8-b679-0028fdfafb14"
      }
     }
    },
    "febf9c2d-6c9b-4c89-8a62-289db3bbbbd5": {
     "id": "febf9c2d-6c9b-4c89-8a62-289db3bbbbd5",
     "prev": "ff0a603a-9d50-4cc0-b137-799bda868a2c",
     "regions": {
      "551f58d0-5bec-483d-b746-464919a12b18": {
       "attrs": {
        "height": 0.8,
        "width": 0.8,
        "x": 0.1,
        "y": 0.1
       },
       "content": {
        "cell": "4233e795-70c7-4565-b78d-98cedff45e7d",
        "part": "whole"
       },
       "id": "551f58d0-5bec-483d-b746-464919a12b18"
      }
     }
    },
    "ff0a603a-9d50-4cc0-b137-799bda868a2c": {
     "id": "ff0a603a-9d50-4cc0-b137-799bda868a2c",
     "prev": "35b833c7-83fa-419e-820b-05e000907bf9",
     "regions": {
      "05aec62e-5e8f-4ea2-9dda-89f26f383e34": {
       "attrs": {
        "height": 0.8,
        "width": 0.8,
        "x": 0.1,
        "y": 0.1
       },
       "content": {
        "cell": "66d60306-6d53-4e5b-b0f6-b3f5837a93d1",
        "part": "whole"
       },
       "id": "05aec62e-5e8f-4ea2-9dda-89f26f383e34"
      }
     }
    }
   },
   "themes": {}
  }
 },
 "nbformat": 4,
 "nbformat_minor": 2
}
