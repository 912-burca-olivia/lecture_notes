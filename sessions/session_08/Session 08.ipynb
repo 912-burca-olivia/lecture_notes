{
 "cells": [
  {
   "cell_type": "markdown",
   "metadata": {
    "nbpresent": {
     "id": "33405e17-60a9-463c-8894-df5bd5e7659c"
    },
    "slideshow": {
     "slide_type": "slide"
    }
   },
   "source": [
    "![](https://www.saa-authors.eu/picture/739/ftw_768/saa-mtcwmza4nzq5mq.jpg)"
   ]
  },
  {
   "cell_type": "markdown",
   "metadata": {
    "nbpresent": {
     "id": "c3424e6f-ceeb-4f3f-bf20-e288b3131d62"
    },
    "slideshow": {
     "slide_type": "subslide"
    }
   },
   "source": [
    "## Plan for the day\n",
    "\n",
    "* Mircea: Self Intro\n",
    "* Research Prototype Demo: FMD\n",
    "* Topic: Logging\n",
    "* (Mini-)Topic: Service Level Agreements\n",
    "* Assignment\n",
    "* Group Presentation: ?\n",
    "   "
   ]
  },
  {
   "cell_type": "markdown",
   "metadata": {
    "nbpresent": {
     "id": "3ac31121-2dac-4379-8be9-ea6bd27f5fcc"
    },
    "slideshow": {
     "slide_type": "slide"
    }
   },
   "source": [
    "# Who Am I\n",
    "\n",
    "Currently: Associate Professor ITU\n",
    "\n",
    "Before: \n",
    "  - U. Groningen (NL)\n",
    "  - U. Bern (CH)\n",
    "  - IBM TJ Watson (US)\n",
    "  - U. Lugano (CH)\n",
    "\n",
    "Research Interests:\n",
    "  - Software **Evolution**\n",
    "  - Tools for Software **Maintenance**\n",
    "  - Mining Software Repositories\n"
   ]
  },
  {
   "cell_type": "markdown",
   "metadata": {
    "slideshow": {
     "slide_type": "slide"
    }
   },
   "source": [
    "# OPs Experience\n",
    "\n",
    "OPing a research prototype\n",
    "- for intermediate language learners\n",
    "- ~100 users per week\n",
    "\n",
    "\n",
    "\n",
    "<img src=\"images/zeeguu_context.jpg\" alt=\"Drawing\" style=\"width: 300px;\"/>\n",
    "\n",
    "\n",
    "- Demo: [zeeguu.org](https://zeeguu.org) \n",
    "- Invite Code: zeeguu-beta\n",
    "- Open Source: https://github.com/zeeguu-ecosystem/"
   ]
  },
  {
   "cell_type": "markdown",
   "metadata": {
    "nbpresent": {
     "id": "db415d3c-61af-42db-84af-ae7c07ec34f4"
    },
    "slideshow": {
     "slide_type": "slide"
    }
   },
   "source": [
    "# Monitoring - Brief Looking Back\n"
   ]
  },
  {
   "cell_type": "markdown",
   "metadata": {
    "nbpresent": {
     "id": "d81ef71b-375c-4c5f-be48-2f72979724cd"
    },
    "slideshow": {
     "slide_type": "subslide"
    }
   },
   "source": [
    "### Question #1 for You: Which of your endpoints is the slowest? How slow is it?\n",
    "\n",
    "Let's see who can get this information first!\n"
   ]
  },
  {
   "cell_type": "markdown",
   "metadata": {
    "nbpresent": {
     "id": "96444b38-e0e8-438e-a994-2164ccc090a6"
    },
    "slideshow": {
     "slide_type": "subslide"
    }
   },
   "source": [
    "### Question #2 for You: Where is the time being spent in this endpoint?\n",
    "\n",
    "Does your monitoring infra allow you to answer this question?"
   ]
  },
  {
   "cell_type": "markdown",
   "metadata": {
    "nbpresent": {
     "id": "9b59ee8b-4394-4975-a639-e11dd3ef632f"
    },
    "slideshow": {
     "slide_type": "slide"
    }
   },
   "source": [
    "## Flask Monitoring Dashboard\n",
    "\n",
    "Research Project \n",
    "\n",
    "Application Performance Monitor for Python + Flask\n",
    "\n",
    "Goals:\n",
    "* Very easy to deploy & use\n",
    "* Version-control-aware\n",
    "\n",
    "Open source, MIT at: https://github.com/flask-dashboard/"
   ]
  },
  {
   "cell_type": "markdown",
   "metadata": {
    "nbpresent": {
     "id": "e179219c-8e0b-4f6d-86c4-33d977300238"
    },
    "slideshow": {
     "slide_type": "subslide"
    }
   },
   "source": [
    "# FMD: Demo\n",
    "\n",
    "- Demo: https://fmd-master.herokuapp.com/\n",
    "- Documentation: https://github.com/flask-dashboard/Flask-MonitoringDashboard/"
   ]
  },
  {
   "cell_type": "markdown",
   "metadata": {
    "nbpresent": {
     "id": "d994c5a5-39a0-4af6-bae1-3cdf207ef160"
    },
    "slideshow": {
     "slide_type": "subslide"
    }
   },
   "source": [
    "# Observations\n",
    "\n",
    "* Aimed at small projects (stand-alone API / App)\n",
    "\n",
    "\n",
    "* Can be easily installed because its laser-focused: Flask/Python\n",
    "\n",
    "\n",
    "* Profiling introduces significant overhead\n",
    "  - monitoring levels deployable with fine granularity\n",
    "  - measuring the performance is tricky\n"
   ]
  },
  {
   "cell_type": "markdown",
   "metadata": {
    "nbpresent": {
     "id": "fa591adc-5f59-4363-b8d6-303810e3e11f"
    },
    "slideshow": {
     "slide_type": "subslide"
    }
   },
   "source": [
    "# Meta-Observations\n",
    "\n",
    "* Started as a bachelor thesis continued as master's thesis\n",
    "  - Stick to your project (it takes a years till something becomes successful)\n",
    "  - There are still several theses in there...\n",
    "\n",
    "\n",
    "* Try it if you have a Flask API/App"
   ]
  },
  {
   "cell_type": "markdown",
   "metadata": {
    "nbpresent": {
     "id": "43ad8244-7420-4502-acf5-819639d19107"
    },
    "slideshow": {
     "slide_type": "subslide"
    }
   },
   "source": [
    "## Limitations of Monitoring\n",
    "\n",
    "\n",
    "* Tracks high-level metrics the system (error rate of endpoint: 2%)\n",
    "* Does not explain WHY there was a problem \n",
    "\n",
    "For the WHY we need more detailed information: \n",
    "\n",
    "  - profiling (as we saw in FMD)\n",
    "  - or **logging** as we will discuss today\n",
    "  - or tracing, which we don't discuss today\n",
    "         \n",
    "         \n",
    "Read More: [Why Grafana is Good at Metrics and Not Logs](https://grafana.com/blog/2016/01/05/logs-and-metrics-and-graphs-oh-my/)"
   ]
  },
  {
   "cell_type": "markdown",
   "metadata": {
    "nbpresent": {
     "id": "fb13f410-3b86-453f-9385-555990e75193"
    },
    "slideshow": {
     "slide_type": "subslide"
    }
   },
   "source": [
    "# Logging\n",
    "\n",
    "\n",
    "Logs are **the stream of aggregated, time-ordered events** collected from the output streams of all running processes and backing services\n",
    "\n",
    "\n",
    "Purpose\n",
    "\n",
    "* Understanding (how is your system being used?)\n",
    "\n",
    "\n",
    "* Diagnosis (of an actual problem)\n",
    "\n",
    "\n",
    "* Audit trails (sometimes they're legally required)\n",
    "  - Anybody has experience with this?"
   ]
  },
  {
   "cell_type": "markdown",
   "metadata": {
    "nbpresent": {
     "id": "a85b34a0-17a9-4714-b28e-0cf97d9dda81"
    },
    "slideshow": {
     "slide_type": "subslide"
    }
   },
   "source": [
    "## Logfiles \n",
    "\n",
    "\n",
    "In server-based environments they are commonly written to a file on disk (a “logfile”)\n",
    "\n",
    "... but this is only an output format\n",
    "\n",
    "    e.g. /var/log/auth.log\n",
    "    \n",
    "<img src=\"images/auth_log.png\" alt=\"Drawing\" style=\"width: 800px;\"/>\n",
    "\n",
    "\n",
    "A reminder of the importance of security...\n"
   ]
  },
  {
   "cell_type": "markdown",
   "metadata": {
    "nbpresent": {
     "id": "ebb20b41-4f1b-4038-afad-67c438637296"
    },
    "slideshow": {
     "slide_type": "subslide"
    }
   },
   "source": [
    "## Different programs have different log formats\n",
    "\n",
    "#### /var/log/auth.log\n",
    "\n",
    "    Mar 16 07:15:55 zeeguu-amsterdam sshd[29424]: Invalid user vultr from 144.217.243.216 port 56450\n",
    "\n",
    "\n",
    "#### /var/log/apache2/error.log\n",
    "\n",
    "    [Wed Mar 18 20:39:02.962354 2020] [wsgi:error] [pid 18:tid 140056344164096] [remote 212.187.36.136:57046] Session is retrived from cookies\n",
    "    \n",
    "#### nginx\n",
    "\n",
    "    66.249.65.62 - - [06/Nov/2014:19:12:14 +0600] \"GET /?q=%E0%A6%A6%E0%A7%8B%E0%A7%9F%E0%A6%BE HTTP/1.1\" 200 4356 \"-\" \"Mozilla/5.0 (compatible; Googlebot/2.1;)\"\n",
    "\n",
    "#### /var/log/system.log (on mac)\n",
    "\n",
    "    Mar 18 21:25:16 Harlequin logd[85]: #DECODE failed to resolve UUID: [pc:0x7fff75485ac7 ns:0x06 type:0x82 flags:0x8208 main:A52374C3-0F9D-3062-A636 pid:435]\n",
    "\n"
   ]
  },
  {
   "cell_type": "markdown",
   "metadata": {
    "nbpresent": {
     "id": "66d60306-6d53-4e5b-b0f6-b3f5837a93d1"
    },
    "slideshow": {
     "slide_type": "subslide"
    }
   },
   "source": [
    "## Syslog: What and How to Log? \n",
    "\n",
    "Syslog is a protocol \n",
    "* developed in 1980 \n",
    "* aims at standardizing the way logs are formatted\n",
    "* not only for Linux, but for any system exchanging logs.\n",
    "\n",
    "\n",
    "Designed to enable the separation between:\n",
    "  - sender\n",
    "  - collector, and \n",
    "  - transport\n",
    "    \n",
    "\n",
    "\n",
    "More on syslog\n",
    "- https://tools.ietf.org/html/rfc3164 (2001, cool intro, more humane)\n",
    "- https://tools.ietf.org/html/rfc5424 (2009)\n"
   ]
  },
  {
   "cell_type": "markdown",
   "metadata": {
    "nbpresent": {
     "id": "4233e795-70c7-4565-b78d-98cedff45e7d"
    },
    "slideshow": {
     "slide_type": "subslide"
    }
   },
   "source": [
    "### Example Syslog Entry \n",
    "\n",
    "<img src=\"images/syslog_line.png\" alt=\"Drawing\" style=\"width: 400px;\"/>"
   ]
  },
  {
   "cell_type": "markdown",
   "metadata": {
    "nbpresent": {
     "id": "86d4e995-ecce-468a-8ba7-d275d2f41fe9"
    },
    "slideshow": {
     "slide_type": "subslide"
    }
   },
   "source": [
    "### Log Levels (Syslog)\n",
    "\n",
    "<img src=\"images/syslog_levels.png\" alt=\"Drawing\" style=\"width: 700px;\"/>\n",
    "\n",
    "\n",
    "\n"
   ]
  },
  {
   "cell_type": "markdown",
   "metadata": {
    "nbpresent": {
     "id": "0d2c96dc-8e17-4cb6-8f39-9cd8ec10a74d"
    },
    "slideshow": {
     "slide_type": "subslide"
    }
   },
   "source": [
    "# Application Level Logging\n",
    "\n",
    "A few principles:\n",
    "- Don't worry about storage\n",
    "- Log only what's necessary\n",
    "- Use log levels\n",
    "\n"
   ]
  },
  {
   "cell_type": "markdown",
   "metadata": {
    "nbpresent": {
     "id": "0e2713a4-e747-449f-a2bb-8f52b3fd02dd"
    },
    "slideshow": {
     "slide_type": "subslide"
    }
   },
   "source": [
    "### A Process Should Not Worry About Storage\n",
    "\n",
    "Don't bother to decide which logfile to write to...\n",
    "\n",
    "\n",
    "If each process **writes to its unbuffered stdout stream** ...\n",
    "\n",
    "\n",
    "* During development: dev looks at the terminal\n",
    "\n",
    "\n",
    "* During deployment output from process is routed where needed by the OPS\n",
    "\n",
    "\n",
    "* Different contexts result in different logfiles \n",
    "  - e.g. cronjob vs stand-alone\n",
    "\n"
   ]
  },
  {
   "cell_type": "markdown",
   "metadata": {
    "nbpresent": {
     "id": "8a36655c-fe62-4a2c-8ec9-518ae5db7e0a"
    },
    "slideshow": {
     "slide_type": "subslide"
    }
   },
   "source": [
    "### A process should log only what is necessary\n",
    "\n",
    "* Log files can become huge fast\n",
    "\n",
    "\n",
    "* Imagine 10 servers x 1000 req / sec * 1KB per Event (you'd need quite a network bandwidth...)\n",
    "\n",
    "\n",
    "Even in the context of zeeguu logfiles grew to > 2GB\n",
    "- sufficient to fill the disk\n",
    "- to the point of not being able to run bash commands!!!\n",
    "  - Hint: ssh user@server rm ... \n",
    "\n",
    "\n",
    "\n"
   ]
  },
  {
   "cell_type": "markdown",
   "metadata": {
    "nbpresent": {
     "id": "0fc45d3d-c24d-47f9-8569-127266d13d56"
    },
    "slideshow": {
     "slide_type": "subslide"
    }
   },
   "source": [
    "### Use log levels to allow controlling the amount of output\n",
    "\n",
    "* Allows the user of the app / library to control the amount of logging\n",
    "\n",
    "\n",
    "* Better than print \n",
    "  - intention revealing\n",
    "  - can be turned off gradually\n",
    "  \n",
    "\n",
    "\n",
    "See following example...\n",
    "\n",
    "\n"
   ]
  },
  {
   "cell_type": "code",
   "execution_count": 46,
   "metadata": {
    "collapsed": false,
    "nbpresent": {
     "id": "b0109f16-6d96-4294-bd8c-2788ad1cbc77"
    },
    "slideshow": {
     "slide_type": "subslide"
    }
   },
   "outputs": [
    {
     "name": "stdout",
     "output_type": "stream",
     "text": [
      "2020-03-19 00:40:56.f INFO [<ipython-input-46-86d67c93cc97>] Demo started.\n",
      "2020-03-19 00:40:56.f WARNING [<ipython-input-46-86d67c93cc97>] Ooops. Something went wrong!\n",
      "2020-03-19 00:40:56.f ERROR [<ipython-input-46-86d67c93cc97>] Logging is broken in Jupyter\n",
      "2020-03-19 00:40:56.f CRITICAL [<ipython-input-46-86d67c93cc97>] System will shot down\n"
     ]
    }
   ],
   "source": [
    "import sys\n",
    "from importlib import reload \n",
    "import logging\n",
    "reload(logging) #hack because of jupyter\n",
    "\n",
    "logging.basicConfig(\n",
    "        format=\"%(asctime)-15sZ %(levelname)s [%(module)s] %(message)s\",\n",
    "        datefmt=\"%Y-%m-%d %H:%M:%S.%f\",\n",
    "        level=logging.INFO,\n",
    "        stream=sys.stdout\n",
    ")\n",
    "\n",
    "logging.debug(\"Got here!\")\n",
    "logging.info(\"Demo started.\")\n",
    "logging.warning(\"Ooops. Something went wrong!\")\n",
    "logging.error(\"Logging is broken in Jupyter\")\n",
    "logging.critical(\"System will shot down\")\n"
   ]
  },
  {
   "cell_type": "markdown",
   "metadata": {
    "nbpresent": {
     "id": "848db0b0-35e4-4418-84f8-185567386d14"
    },
    "slideshow": {
     "slide_type": "subslide"
    }
   },
   "source": [
    "# ELK: Modern, Scalable, User-Friendly Logging\n",
    "\n",
    "One of the most popular solutions at the moment\n",
    "\n",
    "<img src=\"images/elk.png\" alt=\"Drawing\" style=\"width: 600px;\"/>\n",
    "\n",
    "\n",
    "Stands for:\n",
    "* ElasticSearch\n",
    "* Logstash \n",
    "* Kibana\n"
   ]
  },
  {
   "cell_type": "markdown",
   "metadata": {
    "nbpresent": {
     "id": "77a25b99-42cc-4a41-bcac-1a0c1a74558d"
    },
    "slideshow": {
     "slide_type": "subslide"
    }
   },
   "source": [
    "## ElasticSearch - Scalable Full Text Search\n",
    "\n",
    "Solution based on JSON over HTTP\n",
    "\n",
    "* Based on Apache Lucene\n",
    "* Distributed & Replicated\n",
    "* Almost real time full text search\n",
    "* Stores logs in dedicated log indexes\n",
    "\n",
    "Breaking News! Student project comparing MySQL with ES: \n",
    "- Did you know that MySQL has [full text search](https://dev.mysql.com/doc/refman/8.0/en/fulltext-search.html)? \n",
    "- Guess who wins?\n",
    "\n"
   ]
  },
  {
   "cell_type": "markdown",
   "metadata": {
    "nbpresent": {
     "id": "ce7c0206-87b8-44ce-b8ae-5cb367f55936"
    },
    "slideshow": {
     "slide_type": "subslide"
    }
   },
   "source": [
    "## Logstash - Log Parser \n",
    "\n",
    "\n",
    "Converts from various log line formats to JSON\n",
    "\n",
    "Tails log files and emits events when a new log message is added\n",
    "\n",
    "Comes with a powerful pattern parsing plugin (Grok)\n",
    "\n",
    "<img src=\"images/logstash_example_.png\" alt=\"Drawing\" style=\"width: 900px;\"/>\n",
    "\n",
    "\n",
    "Very very slow\n",
    "\n",
    "- (Probably the reason for which ti's now possible to circumvent it via FileBeats)\n"
   ]
  },
  {
   "cell_type": "markdown",
   "metadata": {
    "nbpresent": {
     "id": "9b19d323-65ed-4055-9c56-4f02765d2904"
    },
    "slideshow": {
     "slide_type": "subslide"
    }
   },
   "source": [
    "## Kibana\n",
    "\n",
    "\n",
    "Powerful visualization tool tailored for ElasticSearch\n",
    "\n",
    "Available on http://localhost:5601"
   ]
  },
  {
   "cell_type": "markdown",
   "metadata": {
    "slideshow": {
     "slide_type": "subslide"
    }
   },
   "source": [
    "## Logstash Configured to Listen to Port 5000\n",
    "\n",
    "\n",
    "    input {\n",
    "    \ttcp {\n",
    "    \t\tport => 5000\n",
    "    \t}\n",
    "    }    \n",
    "\n",
    "    filter {\n",
    "    \tgrok {\n",
    "    \t\tmatch => { \"message\" => \"%{TIMESTAMP_ISO8601:timestamp} %{DATA:level} %{DATA:process} %{GREEDYDATA:log}\" }\n",
    "    \t}    \n",
    "\n",
    "    }    \n",
    "\n",
    "    output {\n",
    "    \telasticsearch {\n",
    "    \t\thosts => \"elasticsearch:9200\"\n",
    "    \t\tuser => \"elastic\"\n",
    "    \t\tpassword => \"changeme\"\n",
    "    \t    index => \"port_5000\"\n",
    "    \t}\n",
    "    }    \n",
    "\n",
    "\n",
    "\n",
    "\n"
   ]
  },
  {
   "cell_type": "markdown",
   "metadata": {
    "slideshow": {
     "slide_type": "subslide"
    }
   },
   "source": [
    "## Logstash Configured to Read Syslog from Logfile\n",
    "\n",
    "\n",
    "    input {\n",
    "    \tfile {\n",
    "    \t\tpath => \"/Users/mircea/local/projects/zeeguu/CodeBase/Zeeguu-Mono-Web/zeeguu_mono_web.log\"\n",
    "    \t}\n",
    "    }    \n",
    "\n",
    "    filter {\n",
    "    \tgrok {\n",
    "    \t\tmatch => { \"message\" => \"%{TIMESTAMP_ISO8601:timestamp} %{DATA:level} %{DATA:process} %{GREEDYDATA:log}\" }\n",
    "    \t}\n",
    "        date {\n",
    "            match => [ \"timestamp\" , \"dd/MMM/yyyy:HH:mm:ss Z\" ]\n",
    "        }\n",
    "\n",
    "    }    \n",
    "\n",
    "    output {\n",
    "    \telasticsearch {\n",
    "    \t\thosts => \"elasticsearch:9200\"\n",
    "    \t\tuser => \"elastic\"\n",
    "    \t\tpassword => \"changeme\"\n",
    "    \t    index => \"zeeguu_web\"\n",
    "    \t}\n",
    "    }    \n",
    "\n",
    "\n",
    "\n",
    "\n",
    "\n"
   ]
  },
  {
   "cell_type": "markdown",
   "metadata": {
    "slideshow": {
     "slide_type": "subslide"
    }
   },
   "source": [
    "## Resources\n",
    "\n",
    "\n",
    "Installing ELK with Docker: https://logz.io/blog/elk-stack-on-docker/\n",
    "\n",
    "Good patterns for Grok: https://qbox.io/blog/logstash-grok-filter-tutorial-patterns\n",
    "\n",
    "This one uses Filebeat: https://www.elastic.co/guide/en/logstash/current/advanced-pipeline.html"
   ]
  },
  {
   "cell_type": "markdown",
   "metadata": {
    "nbpresent": {
     "id": "9e5dc26d-8ec5-4a2b-b044-64ceefbd0cce"
    },
    "slideshow": {
     "slide_type": "subslide"
    }
   },
   "source": [
    "# Ethical Aspects\n",
    "\n",
    "* Privacy and security concerns\n",
    "* Be aware of who has access to the data and the data that is logged\n",
    "  - If you log user details, and they ask you to \"remove\" them because GDPR? \n",
    "\n",
    "\n"
   ]
  },
  {
   "cell_type": "markdown",
   "metadata": {
    "nbpresent": {
     "id": "280be136-7df7-421f-9a70-917afae12ac6"
    },
    "slideshow": {
     "slide_type": "subslide"
    }
   },
   "source": [
    "# Service Level Agreements (SLAs)\n",
    "\n",
    "Commitment between a service provider and a client. \n",
    "\n",
    "Particular aspects of the service are agreed upon\n",
    "\n",
    "* quality\n",
    "* availability\n",
    "* responsibilities \n",
    "\n",
    "\n"
   ]
  },
  {
   "cell_type": "markdown",
   "metadata": {
    "slideshow": {
     "slide_type": "subslide"
    }
   },
   "source": [
    "# SLA Metrics\n",
    "\n",
    "Common metrics for web apps / services\n",
    "\n",
    "- Uptime/availability (usually percentage of all time)\n",
    "- Mean response time (average time before answer)\n",
    "- Mean time to recover (time to recover after outage)\n",
    "- Failure frequency (number of failures/timeouts over time)\n",
    "\n",
    "\n",
    "\n",
    "\n"
   ]
  },
  {
   "cell_type": "markdown",
   "metadata": {
    "slideshow": {
     "slide_type": "subslide"
    }
   },
   "source": [
    "# SLA @ Google vs. Microsoft\n",
    "\n",
    "https://cloud.google.com/translate/sla\n",
    "\n",
    "https://azure.microsoft.com/en-us/support/legal/sla/machine-learning-service/v1_0/\n",
    "\n",
    "What do you see? \n",
    "\n",
    "Which one is more fair?\n"
   ]
  },
  {
   "cell_type": "markdown",
   "metadata": {
    "nbpresent": {
     "id": "62954c43-0e55-4367-b1b5-c25bb52f1059"
    },
    "slideshow": {
     "slide_type": "slide"
    }
   },
   "source": [
    "-----------\n",
    "\n",
    "\n",
    "# For Next Week\n",
    "\n",
    "<img src=\"https://media.giphy.com/media/13GIgrGdslD9oQ/giphy.gif\" width=20%/>\n",
    "\n",
    "  1. Add logging to your system\n",
    "  2. Write an SLA for your API"
   ]
  },
  {
   "cell_type": "markdown",
   "metadata": {
    "nbpresent": {
     "id": "ed435474-64a2-4bdc-84fc-0114d4ba8ba1"
    },
    "slideshow": {
     "slide_type": "subslide"
    }
   },
   "source": [
    "## 1) Add logging to your system\n",
    "\n",
    "Deploy the ELK stack and start logging the important events in your system\n",
    "\n",
    "0. Add logging to your codebase (change existing `print` statements)\n",
    "1. Clone the https://github.com/deviantony/docker-elk.git repo\n",
    "2. Change the filter correspondingly (use http://grokdebug.herokuapp.com/ if you need to try out stuff)\n",
    "3. Point logstash to your logfile(s)\n",
    "\n",
    "Make sure that you track relevant events. \n",
    "We will try to generate special events to see if you catch them.\n",
    "\n",
    "\n",
    "\n"
   ]
  },
  {
   "cell_type": "markdown",
   "metadata": {
    "nbpresent": {
     "id": "f25dd2ad-1420-4f70-b618-8399a8d86aa3"
    },
    "slideshow": {
     "slide_type": "subslide"
    }
   },
   "source": [
    "## 2) Write an SLA \n",
    "\n",
    "Make sure that it's the best you can offer, but at the same time, try to aim for something that's realistic \n",
    "\n",
    "We will announce the ones that are the best"
   ]
  }
 ],
 "metadata": {
  "anaconda-cloud": {},
  "celltoolbar": "Slideshow",
  "kernelspec": {
   "display_name": "Python [default]",
   "language": "python",
   "name": "python3"
  },
  "language_info": {
   "codemirror_mode": {
    "name": "ipython",
    "version": 3
   },
   "file_extension": ".py",
   "mimetype": "text/x-python",
   "name": "python",
   "nbconvert_exporter": "python",
   "pygments_lexer": "ipython3",
   "version": "3.5.2"
  },
  "nbpresent": {
   "slides": {
    "03a5bf99-17b8-48b5-9f9c-5b985737928b": {
     "id": "03a5bf99-17b8-48b5-9f9c-5b985737928b",
     "prev": "52cf8bc9-d636-48bd-8fbc-efd018cbb429",
     "regions": {
      "bb41f562-cf9c-4ada-9f17-e035a963eda5": {
       "attrs": {
        "height": 0.8,
        "width": 0.8,
        "x": 0.1,
        "y": 0.1
       },
       "content": {
        "cell": "f25dd2ad-1420-4f70-b618-8399a8d86aa3",
        "part": "whole"
       },
       "id": "bb41f562-cf9c-4ada-9f17-e035a963eda5"
      }
     }
    },
    "06cbb13e-6de7-4bd1-af7c-98c5deb9fa4a": {
     "id": "06cbb13e-6de7-4bd1-af7c-98c5deb9fa4a",
     "prev": "7ad79d5c-5459-49c2-bf12-56f6c30770bb",
     "regions": {
      "2568e894-277c-44b2-ab5a-e4f5ff727546": {
       "attrs": {
        "height": 0.8,
        "width": 0.8,
        "x": 0.1,
        "y": 0.1
       },
       "content": {
        "cell": "3ac31121-2dac-4379-8be9-ea6bd27f5fcc",
        "part": "whole"
       },
       "id": "2568e894-277c-44b2-ab5a-e4f5ff727546"
      }
     }
    },
    "10c684e3-9946-43e8-bff5-266d1ffc183f": {
     "id": "10c684e3-9946-43e8-bff5-266d1ffc183f",
     "prev": "b8e6027f-c059-4f63-9636-337dec565a39",
     "regions": {
      "5bd8d10f-91ee-41f5-8572-10589fbc9f18": {
       "attrs": {
        "height": 0.8,
        "width": 0.8,
        "x": 0.1,
        "y": 0.1
       },
       "content": {
        "cell": "77a25b99-42cc-4a41-bcac-1a0c1a74558d",
        "part": "whole"
       },
       "id": "5bd8d10f-91ee-41f5-8572-10589fbc9f18"
      }
     }
    },
    "17bb0548-b80c-4650-93b7-1a03fb0f2ee4": {
     "id": "17bb0548-b80c-4650-93b7-1a03fb0f2ee4",
     "prev": "81c2c8a7-b749-4efe-acf4-0f8c1af5bd9b",
     "regions": {
      "fbbcd129-1891-4ab7-a2a7-eebc4fdb7147": {
       "attrs": {
        "height": 0.8,
        "width": 0.8,
        "x": 0.1,
        "y": 0.1
       },
       "content": {
        "cell": "0e2713a4-e747-449f-a2bb-8f52b3fd02dd",
        "part": "whole"
       },
       "id": "fbbcd129-1891-4ab7-a2a7-eebc4fdb7147"
      }
     }
    },
    "1be6568f-2f40-4587-bafd-e6a4f771de61": {
     "id": "1be6568f-2f40-4587-bafd-e6a4f771de61",
     "prev": "98f9c9d0-79e7-4e73-8ae3-e924c4dd020b",
     "regions": {
      "3077f2bd-7ee0-4081-8c47-7411a02f32a7": {
       "attrs": {
        "height": 0.8,
        "width": 0.8,
        "x": 0.1,
        "y": 0.1
       },
       "content": {
        "cell": "62954c43-0e55-4367-b1b5-c25bb52f1059",
        "part": "whole"
       },
       "id": "3077f2bd-7ee0-4081-8c47-7411a02f32a7"
      }
     }
    },
    "2163efb7-ec1f-40a7-be3f-82243b909922": {
     "id": "2163efb7-ec1f-40a7-be3f-82243b909922",
     "prev": "6719bbd9-0087-46ab-8790-1c61223926b6",
     "regions": {
      "e618b6a4-0c91-43f6-bfe7-0dd8e8a7560a": {
       "attrs": {
        "height": 0.8,
        "width": 0.8,
        "x": 0.1,
        "y": 0.1
       },
       "content": {
        "cell": "d81ef71b-375c-4c5f-be48-2f72979724cd",
        "part": "whole"
       },
       "id": "e618b6a4-0c91-43f6-bfe7-0dd8e8a7560a"
      }
     }
    },
    "2b2e413d-8c72-4394-ac19-9ca1d13a76d5": {
     "id": "2b2e413d-8c72-4394-ac19-9ca1d13a76d5",
     "prev": "50b6f61a-5fd3-4e7f-bbd0-f76e857580fa",
     "regions": {
      "5dc0d8ba-ff34-49e8-9ac9-a3fc2e2c90c3": {
       "attrs": {
        "height": 0.8,
        "width": 0.8,
        "x": 0.1,
        "y": 0.1
       },
       "content": {
        "cell": "a0f8e7e1-8c0b-4f42-8eb7-81cfd774f664",
        "part": "whole"
       },
       "id": "5dc0d8ba-ff34-49e8-9ac9-a3fc2e2c90c3"
      }
     }
    },
    "33d7d400-1108-4152-9d23-4c2d564a8352": {
     "id": "33d7d400-1108-4152-9d23-4c2d564a8352",
     "prev": "f9525042-e70a-4985-adde-f64679c5dc39",
     "regions": {
      "5c1569ae-6623-4c9b-bf27-352d356fc88e": {
       "attrs": {
        "height": 0.8,
        "width": 0.8,
        "x": 0.1,
        "y": 0.1
       },
       "content": {
        "cell": "86d4e995-ecce-468a-8ba7-d275d2f41fe9",
        "part": "whole"
       },
       "id": "5c1569ae-6623-4c9b-bf27-352d356fc88e"
      }
     }
    },
    "3fc22977-8458-4a68-867d-e90ef3c79212": {
     "id": "3fc22977-8458-4a68-867d-e90ef3c79212",
     "prev": "c9db70ab-f6b9-4539-9903-7d5195df82fc",
     "regions": {
      "1d8f5638-8754-4b4c-bf6b-035e2f0b6495": {
       "attrs": {
        "height": 0.8,
        "width": 0.8,
        "x": 0.1,
        "y": 0.1
       },
       "content": {
        "cell": "b0109f16-6d96-4294-bd8c-2788ad1cbc77",
        "part": "whole"
       },
       "id": "1d8f5638-8754-4b4c-bf6b-035e2f0b6495"
      }
     }
    },
    "4174cbc0-2e5f-4032-a878-ca1f58ae57c7": {
     "id": "4174cbc0-2e5f-4032-a878-ca1f58ae57c7",
     "prev": "17bb0548-b80c-4650-93b7-1a03fb0f2ee4",
     "regions": {
      "4c8c9853-1984-4f67-bf72-e4f3215a72a8": {
       "attrs": {
        "height": 0.8,
        "width": 0.8,
        "x": 0.1,
        "y": 0.1
       },
       "content": {
        "cell": "8a36655c-fe62-4a2c-8ec9-518ae5db7e0a",
        "part": "whole"
       },
       "id": "4c8c9853-1984-4f67-bf72-e4f3215a72a8"
      }
     }
    },
    "50b6f61a-5fd3-4e7f-bbd0-f76e857580fa": {
     "id": "50b6f61a-5fd3-4e7f-bbd0-f76e857580fa",
     "prev": "2163efb7-ec1f-40a7-be3f-82243b909922",
     "regions": {
      "5b3b1ea5-860d-4fa3-97fa-04e263d72503": {
       "attrs": {
        "height": 0.8,
        "width": 0.8,
        "x": 0.1,
        "y": 0.1
       },
       "content": {
        "cell": "96444b38-e0e8-438e-a994-2164ccc090a6",
        "part": "whole"
       },
       "id": "5b3b1ea5-860d-4fa3-97fa-04e263d72503"
      }
     }
    },
    "52cf8bc9-d636-48bd-8fbc-efd018cbb429": {
     "id": "52cf8bc9-d636-48bd-8fbc-efd018cbb429",
     "prev": "1be6568f-2f40-4587-bafd-e6a4f771de61",
     "regions": {
      "f37ab8b7-4d9e-453b-8fb7-30f548ad4a81": {
       "attrs": {
        "height": 0.8,
        "width": 0.8,
        "x": 0.1,
        "y": 0.1
       },
       "content": {
        "cell": "ed435474-64a2-4bdc-84fc-0114d4ba8ba1",
        "part": "whole"
       },
       "id": "f37ab8b7-4d9e-453b-8fb7-30f548ad4a81"
      }
     }
    },
    "54639d32-73d3-436c-a552-a9a6d0a4b678": {
     "id": "54639d32-73d3-436c-a552-a9a6d0a4b678",
     "prev": "c935b28b-35bd-431e-9f09-02ac46264789",
     "regions": {
      "fe36db79-5e37-4759-8aa0-6cedcef5f4a1": {
       "attrs": {
        "height": 0.8,
        "width": 0.8,
        "x": 0.1,
        "y": 0.1
       },
       "content": {
        "cell": "43ad8244-7420-4502-acf5-819639d19107",
        "part": "whole"
       },
       "id": "fe36db79-5e37-4759-8aa0-6cedcef5f4a1"
      }
     }
    },
    "5479dc5c-9da6-4867-9d96-a21e4b427ea6": {
     "id": "5479dc5c-9da6-4867-9d96-a21e4b427ea6",
     "prev": "bce5f55c-81b3-4ab5-86c1-10414906c46e",
     "regions": {
      "e8066eee-7d11-431f-99ad-37741afb6a91": {
       "attrs": {
        "height": 0.8,
        "width": 0.8,
        "x": 0.1,
        "y": 0.1
       },
       "content": {
        "cell": "280be136-7df7-421f-9a70-917afae12ac6",
        "part": "whole"
       },
       "id": "e8066eee-7d11-431f-99ad-37741afb6a91"
      }
     }
    },
    "62904ec9-6da6-41d3-9d9b-8f95f0b986c8": {
     "id": "62904ec9-6da6-41d3-9d9b-8f95f0b986c8",
     "prev": "96ae19cb-8bf1-450a-b239-36f8011071c9",
     "regions": {
      "924a62a6-3f97-47fe-af1b-d6df765849e7": {
       "attrs": {
        "height": 0.8,
        "width": 0.8,
        "x": 0.1,
        "y": 0.1
       },
       "content": {
        "cell": "a85b34a0-17a9-4714-b28e-0cf97d9dda81",
        "part": "whole"
       },
       "id": "924a62a6-3f97-47fe-af1b-d6df765849e7"
      }
     }
    },
    "6719bbd9-0087-46ab-8790-1c61223926b6": {
     "id": "6719bbd9-0087-46ab-8790-1c61223926b6",
     "prev": "06cbb13e-6de7-4bd1-af7c-98c5deb9fa4a",
     "regions": {
      "bcdab4de-889e-4488-b3bc-b37eac9ed1b8": {
       "attrs": {
        "height": 0.8,
        "width": 0.8,
        "x": 0.1,
        "y": 0.1
       },
       "content": {
        "cell": "db415d3c-61af-42db-84af-ae7c07ec34f4",
        "part": "whole"
       },
       "id": "bcdab4de-889e-4488-b3bc-b37eac9ed1b8"
      }
     }
    },
    "7ad79d5c-5459-49c2-bf12-56f6c30770bb": {
     "id": "7ad79d5c-5459-49c2-bf12-56f6c30770bb",
     "prev": "e3eb049d-08d0-4ab6-b443-8956d34b54f4",
     "regions": {
      "5cceaf26-b622-48cf-b28f-dd412f6ea152": {
       "attrs": {
        "height": 0.8,
        "width": 0.8,
        "x": 0.1,
        "y": 0.1
       },
       "content": {
        "cell": "c3424e6f-ceeb-4f3f-bf20-e288b3131d62",
        "part": "whole"
       },
       "id": "5cceaf26-b622-48cf-b28f-dd412f6ea152"
      }
     }
    },
    "80dbf15c-481e-4392-954b-bbdf980b647d": {
     "id": "80dbf15c-481e-4392-954b-bbdf980b647d",
     "prev": "10c684e3-9946-43e8-bff5-266d1ffc183f",
     "regions": {
      "2acd96b5-c8d8-4c7b-a4d7-4205eea4f0d6": {
       "attrs": {
        "height": 0.8,
        "width": 0.8,
        "x": 0.1,
        "y": 0.1
       },
       "content": {
        "cell": "ce7c0206-87b8-44ce-b8ae-5cb367f55936",
        "part": "whole"
       },
       "id": "2acd96b5-c8d8-4c7b-a4d7-4205eea4f0d6"
      }
     }
    },
    "81c2c8a7-b749-4efe-acf4-0f8c1af5bd9b": {
     "id": "81c2c8a7-b749-4efe-acf4-0f8c1af5bd9b",
     "prev": "33d7d400-1108-4152-9d23-4c2d564a8352",
     "regions": {
      "027b0cb7-c319-4680-b67e-b0ca7254ef23": {
       "attrs": {
        "height": 0.8,
        "width": 0.8,
        "x": 0.1,
        "y": 0.1
       },
       "content": {
        "cell": "0d2c96dc-8e17-4cb6-8f39-9cd8ec10a74d",
        "part": "whole"
       },
       "id": "027b0cb7-c319-4680-b67e-b0ca7254ef23"
      }
     }
    },
    "8e9e5531-ab45-4aa5-b6e2-6bfaab904099": {
     "id": "8e9e5531-ab45-4aa5-b6e2-6bfaab904099",
     "prev": "80dbf15c-481e-4392-954b-bbdf980b647d",
     "regions": {
      "51fa1493-011d-4761-b987-05f231dbd756": {
       "attrs": {
        "height": 0.8,
        "width": 0.8,
        "x": 0.1,
        "y": 0.1
       },
       "content": {
        "cell": "ea01c928-9f7b-430a-b449-5aeb345f65ed",
        "part": "whole"
       },
       "id": "51fa1493-011d-4761-b987-05f231dbd756"
      }
     }
    },
    "96ae19cb-8bf1-450a-b239-36f8011071c9": {
     "id": "96ae19cb-8bf1-450a-b239-36f8011071c9",
     "prev": "54639d32-73d3-436c-a552-a9a6d0a4b678",
     "regions": {
      "e5b8755d-7cef-4daf-be0a-953d2346feb1": {
       "attrs": {
        "height": 0.8,
        "width": 0.8,
        "x": 0.1,
        "y": 0.1
       },
       "content": {
        "cell": "fb13f410-3b86-453f-9385-555990e75193",
        "part": "whole"
       },
       "id": "e5b8755d-7cef-4daf-be0a-953d2346feb1"
      }
     }
    },
    "98f9c9d0-79e7-4e73-8ae3-e924c4dd020b": {
     "id": "98f9c9d0-79e7-4e73-8ae3-e924c4dd020b",
     "prev": "5479dc5c-9da6-4867-9d96-a21e4b427ea6",
     "regions": {
      "788c4ab6-7b0b-4d8b-a37f-e17e957b83ba": {
       "attrs": {
        "height": 0.8,
        "width": 0.8,
        "x": 0.1,
        "y": 0.1
       },
       "content": {
        "cell": "5ba56a2a-21fc-4d09-b985-9c4559abc306",
        "part": "whole"
       },
       "id": "788c4ab6-7b0b-4d8b-a37f-e17e957b83ba"
      }
     }
    },
    "994270de-9bd6-498c-8c99-d35b7299225a": {
     "id": "994270de-9bd6-498c-8c99-d35b7299225a",
     "prev": "2b2e413d-8c72-4394-ac19-9ca1d13a76d5",
     "regions": {
      "0adcb2a6-9a9b-47bc-b0e0-44ac649c8518": {
       "attrs": {
        "height": 0.8,
        "width": 0.8,
        "x": 0.1,
        "y": 0.1
       },
       "content": {
        "cell": "9b59ee8b-4394-4975-a639-e11dd3ef632f",
        "part": "whole"
       },
       "id": "0adcb2a6-9a9b-47bc-b0e0-44ac649c8518"
      }
     }
    },
    "a80e6959-0fc8-44a6-a007-e3bcf5f9064a": {
     "id": "a80e6959-0fc8-44a6-a007-e3bcf5f9064a",
     "prev": "edb79b8c-da9a-46ef-a679-199e123dfc76",
     "regions": {
      "a1fabae0-92d3-4556-b640-be58a6819b92": {
       "attrs": {
        "height": 0.8,
        "width": 0.8,
        "x": 0.1,
        "y": 0.1
       },
       "content": {
        "cell": "66d60306-6d53-4e5b-b0f6-b3f5837a93d1",
        "part": "whole"
       },
       "id": "a1fabae0-92d3-4556-b640-be58a6819b92"
      }
     }
    },
    "b038c36f-2b86-4003-86fa-03eb85f64e0b": {
     "id": "b038c36f-2b86-4003-86fa-03eb85f64e0b",
     "prev": "8e9e5531-ab45-4aa5-b6e2-6bfaab904099",
     "regions": {
      "b3db4acc-bc99-4306-babc-bf0c04dd96c0": {
       "attrs": {
        "height": 0.8,
        "width": 0.8,
        "x": 0.1,
        "y": 0.1
       },
       "content": {
        "cell": "9b19d323-65ed-4055-9c56-4f02765d2904",
        "part": "whole"
       },
       "id": "b3db4acc-bc99-4306-babc-bf0c04dd96c0"
      }
     }
    },
    "b8e6027f-c059-4f63-9636-337dec565a39": {
     "id": "b8e6027f-c059-4f63-9636-337dec565a39",
     "prev": "3fc22977-8458-4a68-867d-e90ef3c79212",
     "regions": {
      "f3186625-5ec0-45e3-ac7e-67ad92a84d8b": {
       "attrs": {
        "height": 0.8,
        "width": 0.8,
        "x": 0.1,
        "y": 0.1
       },
       "content": {
        "cell": "848db0b0-35e4-4418-84f8-185567386d14",
        "part": "whole"
       },
       "id": "f3186625-5ec0-45e3-ac7e-67ad92a84d8b"
      }
     }
    },
    "bce5f55c-81b3-4ab5-86c1-10414906c46e": {
     "id": "bce5f55c-81b3-4ab5-86c1-10414906c46e",
     "prev": "b038c36f-2b86-4003-86fa-03eb85f64e0b",
     "regions": {
      "2439938b-1ddf-48d7-ab36-f846fba49912": {
       "attrs": {
        "height": 0.8,
        "width": 0.8,
        "x": 0.1,
        "y": 0.1
       },
       "content": {
        "cell": "9e5dc26d-8ec5-4a2b-b044-64ceefbd0cce",
        "part": "whole"
       },
       "id": "2439938b-1ddf-48d7-ab36-f846fba49912"
      }
     }
    },
    "c935b28b-35bd-431e-9f09-02ac46264789": {
     "id": "c935b28b-35bd-431e-9f09-02ac46264789",
     "prev": "d7a68c9b-b4c7-4520-bc5d-dbc33c51e6ca",
     "regions": {
      "52c6a05b-d643-4120-8ea0-f40faa4ff9fe": {
       "attrs": {
        "height": 0.8,
        "width": 0.8,
        "x": 0.1,
        "y": 0.1
       },
       "content": {
        "cell": "fa591adc-5f59-4363-b8d6-303810e3e11f",
        "part": "whole"
       },
       "id": "52c6a05b-d643-4120-8ea0-f40faa4ff9fe"
      }
     }
    },
    "c9db70ab-f6b9-4539-9903-7d5195df82fc": {
     "id": "c9db70ab-f6b9-4539-9903-7d5195df82fc",
     "prev": "4174cbc0-2e5f-4032-a878-ca1f58ae57c7",
     "regions": {
      "7b8a5d94-f55b-458b-823a-8129fb392207": {
       "attrs": {
        "height": 0.8,
        "width": 0.8,
        "x": 0.1,
        "y": 0.1
       },
       "content": {
        "cell": "0fc45d3d-c24d-47f9-8569-127266d13d56",
        "part": "whole"
       },
       "id": "7b8a5d94-f55b-458b-823a-8129fb392207"
      }
     }
    },
    "ce3f3d92-d5d2-451b-9c0c-a117ef4ec456": {
     "id": "ce3f3d92-d5d2-451b-9c0c-a117ef4ec456",
     "prev": "994270de-9bd6-498c-8c99-d35b7299225a",
     "regions": {
      "564e9c7f-f8b4-4ad8-b6ac-9522f0e3c1a6": {
       "attrs": {
        "height": 0.8,
        "width": 0.8,
        "x": 0.1,
        "y": 0.1
       },
       "content": {
        "cell": "e179219c-8e0b-4f6d-86c4-33d977300238",
        "part": "whole"
       },
       "id": "564e9c7f-f8b4-4ad8-b6ac-9522f0e3c1a6"
      }
     }
    },
    "d7a68c9b-b4c7-4520-bc5d-dbc33c51e6ca": {
     "id": "d7a68c9b-b4c7-4520-bc5d-dbc33c51e6ca",
     "prev": "ce3f3d92-d5d2-451b-9c0c-a117ef4ec456",
     "regions": {
      "d81fd72c-caa7-43b3-8bfb-60deec533c04": {
       "attrs": {
        "height": 0.8,
        "width": 0.8,
        "x": 0.1,
        "y": 0.1
       },
       "content": {
        "cell": "d994c5a5-39a0-4af6-bae1-3cdf207ef160",
        "part": "whole"
       },
       "id": "d81fd72c-caa7-43b3-8bfb-60deec533c04"
      }
     }
    },
    "e3eb049d-08d0-4ab6-b443-8956d34b54f4": {
     "id": "e3eb049d-08d0-4ab6-b443-8956d34b54f4",
     "prev": null,
     "regions": {
      "72d6f5c3-6ed5-4b02-85c9-010d3473faaa": {
       "attrs": {
        "height": 0.8,
        "width": 0.8,
        "x": 0.1,
        "y": 0.1
       },
       "content": {
        "cell": "33405e17-60a9-463c-8894-df5bd5e7659c",
        "part": "whole"
       },
       "id": "72d6f5c3-6ed5-4b02-85c9-010d3473faaa"
      }
     }
    },
    "edb79b8c-da9a-46ef-a679-199e123dfc76": {
     "id": "edb79b8c-da9a-46ef-a679-199e123dfc76",
     "prev": "62904ec9-6da6-41d3-9d9b-8f95f0b986c8",
     "regions": {
      "acf1ca75-72dd-444c-8840-783407dcf318": {
       "attrs": {
        "height": 0.8,
        "width": 0.8,
        "x": 0.1,
        "y": 0.1
       },
       "content": {
        "cell": "ebb20b41-4f1b-4038-afad-67c438637296",
        "part": "whole"
       },
       "id": "acf1ca75-72dd-444c-8840-783407dcf318"
      }
     }
    },
    "f9525042-e70a-4985-adde-f64679c5dc39": {
     "id": "f9525042-e70a-4985-adde-f64679c5dc39",
     "prev": "a80e6959-0fc8-44a6-a007-e3bcf5f9064a",
     "regions": {
      "072e6e73-a89a-48d8-9879-14c3e2d9bbdd": {
       "attrs": {
        "height": 0.8,
        "width": 0.8,
        "x": 0.1,
        "y": 0.1
       },
       "content": {
        "cell": "4233e795-70c7-4565-b78d-98cedff45e7d",
        "part": "whole"
       },
       "id": "072e6e73-a89a-48d8-9879-14c3e2d9bbdd"
      }
     }
    }
   },
   "themes": {}
  }
 },
 "nbformat": 4,
 "nbformat_minor": 2
}
