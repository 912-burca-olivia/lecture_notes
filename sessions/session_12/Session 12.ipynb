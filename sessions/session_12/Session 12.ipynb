{
 "cells": [
  {
   "cell_type": "markdown",
   "metadata": {
    "slideshow": {
     "slide_type": "slide"
    }
   },
   "source": [
    "![](https://www.saa-authors.eu/picture/739/ftw_768/saa-mtcwmza4nzq5mq.jpg)"
   ]
  },
  {
   "cell_type": "markdown",
   "metadata": {
    "slideshow": {
     "slide_type": "subslide"
    }
   },
   "source": [
    "\n",
    "<!--\n",
    "## How will teaching happen with the Corona lock-down?\n",
    "\n",
    "We will do it virtually just like today. Before the lecture starts we will share a link to Zoom (similar to: `https://itucph.zoom.us/<letter>/<number>`) via https://talk.itu.dk/channel/itu-devops-all.\n",
    "\n",
    "Likely teaching style will change a bit, i.e., your group work exercises... Let's see how it works today and then we will try to adjust.\n",
    "\n",
    "For your group project work find similar means of collaborating remotely on the projects. Likely, you have established such ways already, for example via talk.itu.dk/Slack/Skype/Discord/... and your CI/CD chains together with VCS and issue tracker, etc.\n",
    "-->"
   ]
  },
  {
   "cell_type": "markdown",
   "metadata": {
    "slideshow": {
     "slide_type": "slide"
    }
   },
   "source": [
    "# Recap\n"
   ]
  },
  {
   "cell_type": "markdown",
   "metadata": {
    "slideshow": {
     "slide_type": "subslide"
    }
   },
   "source": [
    "## How is it going with your projects?\n",
    "\n",
    "  * When do new users register?\n",
    "  * Which scaling solution did you implement?\n"
   ]
  },
  {
   "cell_type": "markdown",
   "metadata": {
    "slideshow": {
     "slide_type": "subslide"
    }
   },
   "source": [
    "## The state of your projects?\n",
    "\n",
    "http://142.93.104.18/status.html"
   ]
  },
  {
   "cell_type": "markdown",
   "metadata": {
    "slideshow": {
     "slide_type": "fragment"
    }
   },
   "source": [
    "  * http://64.225.103.230/commit_activity_weekly.svg\n",
    "  * http://64.225.103.230/release_activity_weekly.svg"
   ]
  },
  {
   "cell_type": "markdown",
   "metadata": {
    "slideshow": {
     "slide_type": "skip"
    }
   },
   "source": [
    "-------------------"
   ]
  },
  {
   "cell_type": "markdown",
   "metadata": {
    "slideshow": {
     "slide_type": "slide"
    }
   },
   "source": [
    "# Software Quality?\n",
    "\n",
    "Now that we are almost at the end of the course (already the second last session), and now that you spent a lot of time evolving and maintaining your MiniTwit systems, one question might arise:\n",
    "\n",
    "     \"Are your systems any good?\"\n",
    "  \n",
    "Or how good/bad are they?"
   ]
  },
  {
   "cell_type": "markdown",
   "metadata": {
    "slideshow": {
     "slide_type": "subslide"
    }
   },
   "source": [
    "## What is Software Quality?"
   ]
  },
  {
   "cell_type": "markdown",
   "metadata": {
    "slideshow": {
     "slide_type": "fragment"
    }
   },
   "source": [
    "Generally, _quality_ is defined as:\n",
    "\n",
    "\n",
    "  > \"[...] the totality of characteristics of an entity that bear on its ability to satisfy stated and implied needs.\"\n",
    "  >\n",
    "  > [ISO 8402:1994, Quality management and quality assurance – Vocabulary](https://www.iso.org/standard/20115.html)\n"
   ]
  },
  {
   "cell_type": "markdown",
   "metadata": {
    "slideshow": {
     "slide_type": "subslide"
    }
   },
   "source": [
    "For the term _software quality_ software standards are quite consistent.\n",
    "\n",
    "  > **(1)** capability of a software product to satisfy stated and implied needs when used under specified conditions\n",
    "  >\n",
    "  > [_Systems and software engineering — Systems and software Quality Requirements and Evaluation (SQuaRE) — Guide to\n",
    "SQuaRE_, International Organization for Standardization, Geneva, CH, Standard, May 2015](https://www.iso.org/obp/ui/#iso:std:64764:en)\n",
    "  >\n",
    "  > **(2)** degree to which a software product satisfies stated and implied needs when used under specified conditions\n",
    "  >\n",
    "  > [_Systems and software engineering — Systems and software Quality Requirements and Evaluation (SQuaRE) — System and software quality models_, International Organization for Standardization, Geneva, CH, Standard, May 2015](https://www.iso.org/obp/ui/#iso:std:iso-iec:25010:ed-1:v1:en)\n",
    "  >\n",
    "  > **(3)** degree to which a software product meets established requirements\n",
    "  >\n",
    "  > [_IEEE 730-2014 IEEE Standard for Software Quality Assurance Processes_](https://standards.ieee.org/standard/730-2014.html)\n",
    "\n"
   ]
  },
  {
   "cell_type": "markdown",
   "metadata": {
    "slideshow": {
     "slide_type": "subslide"
    }
   },
   "source": [
    "Various stakeholders have particular and varying quality requirements:\n",
    "\n",
    "  > Good software should deliver the required functionality and performance to the user and should be maintainable, dependable, and usable.\n",
    "  >\n",
    "  > [I. Sommerville, _Software Engineering_, 9th ed. USA: Addison-Wesley Publishing Company, 2010.](https://www.pearson.com/us/higher-education/product/Sommerville-Software-Engineering-9th-Edition/9780137035151.html)\n"
   ]
  },
  {
   "cell_type": "markdown",
   "metadata": {
    "slideshow": {
     "slide_type": "subslide"
    }
   },
   "source": [
    "Various stakeholders have particular and varying quality requirements:\n",
    "\n",
    "  > ... David Gamin studied how quality is perceived in various domains, including philosophy, economics, marketing, and operations management. He concluded that \"quality is a complex and multifaceted concept\" that can be described from five different perspectives.\n",
    "  >\n",
    "  >   * The **transcendental view** sees quality as something that can be recognized but not defined.\n",
    "  >\n",
    "  >   * The **user view** sees quality as fitness for purpose.\n",
    "  >\n",
    "  >   * The **manufacturing view** sees quality as conformance to specification.\n",
    "  >\n",
    "  >   * The **product view** sees quality as tied to inherent characteristics of the product.\n",
    "  >\n",
    "  >   * The **value-based view** sees quality as dependent on the amount a customer is willing to pay for it.\n",
    "  >\n",
    "  > [Kitchenham et al. 1996 _Software Quality: The Elusive Target_](https://ieeexplore.ieee.org/iel1/52/10198/00476281.pdf)"
   ]
  },
  {
   "cell_type": "markdown",
   "metadata": {
    "slideshow": {
     "slide_type": "fragment"
    }
   },
   "source": [
    "One perspective that is missing in the above but that Sommerville describes in chapter 24.4 is the perspective of that _software process quality_, which assumes that the better the process leading to a software product the better the product itself."
   ]
  },
  {
   "cell_type": "markdown",
   "metadata": {
    "slideshow": {
     "slide_type": "slide"
    }
   },
   "source": [
    "### Software Quality Models"
   ]
  },
  {
   "cell_type": "markdown",
   "metadata": {
    "slideshow": {
     "slide_type": "subslide"
    }
   },
   "source": [
    "Since there are many software quality models. Let's have a look at the earliest Boehm's, model from 1976 and more recent ones\n",
    " from the ISO 250x0 series of standards."
   ]
  },
  {
   "cell_type": "markdown",
   "metadata": {
    "slideshow": {
     "slide_type": "fragment"
    }
   },
   "source": [
    "# Boehm 1976 - Quality Model\n",
    "\n",
    "<img src=\"images/boehm.png\" width=\"60%\">\n",
    "\n",
    "[Boehm et al. _\"Quantitative evaluation of software quality\"_](https://dl.acm.org/ft_gateway.cfm?id=807736&type=pdf)"
   ]
  },
  {
   "cell_type": "markdown",
   "metadata": {
    "slideshow": {
     "slide_type": "subslide"
    }
   },
   "source": [
    "# Boehm 1976 - Quality Model\n",
    "\n",
    "<img src=\"images/boehm_metrics.png\" width=\"70%\">\n",
    "\n",
    "[Boehm et al. _\"Quantitative evaluation of software quality\"_](https://dl.acm.org/ft_gateway.cfm?id=807736&type=pdf)\n"
   ]
  },
  {
   "cell_type": "markdown",
   "metadata": {
    "slideshow": {
     "slide_type": "subslide"
    }
   },
   "source": [
    "# ISO 250x0 - Quality Models\n",
    "\n",
    "<img src=\"images/ISO_25000.png\" width=\"60%\">"
   ]
  },
  {
   "cell_type": "markdown",
   "metadata": {
    "slideshow": {
     "slide_type": "subslide"
    }
   },
   "source": [
    "# ISO 25010 - Quality in Use Model\n",
    "\n",
    "<img src=\"images/ISO_25010_in_use.png\" width=\"80%\">"
   ]
  },
  {
   "cell_type": "markdown",
   "metadata": {
    "slideshow": {
     "slide_type": "subslide"
    }
   },
   "source": [
    "# ISO 25010 - Product Model\n",
    "\n",
    "<img src=\"images/ISO_25010_product.png\" width=\"90%\">"
   ]
  },
  {
   "cell_type": "markdown",
   "metadata": {
    "slideshow": {
     "slide_type": "subslide"
    }
   },
   "source": [
    "# ISO 25023 - Metrics (QMEs)\n",
    "\n",
    "<img src=\"images/ISO_25023.png\" width=\"80%\">"
   ]
  },
  {
   "cell_type": "markdown",
   "metadata": {
    "slideshow": {
     "slide_type": "subslide"
    }
   },
   "source": [
    "### How to measure software quality and quality attributes?\n",
    "\n",
    "As you read in Sommerville that is neither easy nor straight forward."
   ]
  },
  {
   "cell_type": "markdown",
   "metadata": {
    "slideshow": {
     "slide_type": "fragment"
    }
   },
   "source": [
    "\n",
    "Usually:\n",
    "\n",
    "  > The project or organization must start by making a list of nonfunctional requirements that define the \"right code.\" We call this the quality model.\n",
    "  >\n",
    "  > Letouzey et al. 2012 _\"Managing Technical Debt with the SQALE Method\"_\n",
    "\n",
    "Then one has to define and specify metrics, associate them to the quality attributes of interest, translate these  metrics into precise programs/measures on given artifacts, and define how measured values are aggregated in the end for assessment.\n"
   ]
  },
  {
   "cell_type": "markdown",
   "metadata": {
    "slideshow": {
     "slide_type": "subslide"
    }
   },
   "source": [
    "\n",
    "Even though difficult and not straight forward, there exists a number tools that automatically measure various quality attributes of software (currently mainly source code):\n",
    "\n",
    "For example, the following tool allow to asses software code quality:\n",
    "\n",
    "  * [Sonarqube](https://sonarcloud.io)\n",
    "    - Example:  https://sonarcloud.io/dashboard?id=itu-devops_itu-minitwit-terraform\n",
    "  * [Code Climate](https://codeclimate.com/)\n",
    "  * [Better Code Hub](https://bettercodehub.com/)\n",
    "  \n",
    "<img src=\"http://itu.dk/people/ropf/presentations/images/sw_qual_tools.png\" width=60%>\n",
    "\n",
    "<!--TODO: Add Dromey paper-->"
   ]
  },
  {
   "cell_type": "markdown",
   "metadata": {
    "slideshow": {
     "slide_type": "subslide"
    }
   },
   "source": [
    "# What is Software?\n",
    "\n",
    "\n",
    "Remember that _software_ is way more than code!\n",
    "\n",
    "\n",
    "  > [...] software is not just the programs themselves but also all associated documentation and configuration data that is required to make these programs operate correctly.\n",
    "  >\n",
    "  > Sommerville _\"Software Engineering\"_ (9th Ed.) \n"
   ]
  },
  {
   "cell_type": "markdown",
   "metadata": {
    "slideshow": {
     "slide_type": "subslide"
    }
   },
   "source": [
    "Interestingly, it is not properly defined what software actually is.\n",
    "  \n",
    "  \n",
    "\n",
    "  > \"Software is the collection of all artifacts, which allow (a) suitably educated person(s) with access to specified and suitable hardware to instantiate a running system.\n",
    "  >\n",
    "  > Additionally, the collection of such artifacts allow such (a) person(s) to understand and reason about a systems' working and properties and let them understand why the system is as it is and why it behaves the way it does.\"\n",
    "  >\n",
    "  > Helge's definition of software\n",
    "  \n",
    "  \n",
    "That is, when you want to measure software quality you have to necessarily look at more than just source code.\n",
    "\n",
    "<!--\n",
    "Software is the collection of all of the above artifacts that humans collect and store and these artifacts are more than just code, documentation is an integral part of them, depending on the domain data is not necessary, and – even though rare – code is not strictly necessary.\n",
    "\n",
    "\n",
    "categories source code, specific source code, script code, binary code, build code, infrastructure code, image, video, music, configuration, database, font, archive, markup, document, app data, prose, legalese, and other \n",
    "-->\n"
   ]
  },
  {
   "cell_type": "markdown",
   "metadata": {
    "slideshow": {
     "slide_type": "subslide"
    }
   },
   "source": [
    "### Open discussion\n",
    "\n",
    "What are your results and thoughts concerning preparation task 1?\n",
    "\n",
    "  >  * Identify and list qualities of your MiniTwit system from the four perspectives (except of the transcendental) from the Kitchenham paper.\n",
    "  >  * Did you focus on any perspective or any qualities, perhaps even without being aware of it? If yes, list these.\n",
    "  >  * Rank the identified qualities per perspective by decreasing importance to you and provide an argument for why you choose certain as the most important.\n",
    "  >  * Think about and discuss with your group fellows, how you can measure the  qualities that you ranked the most important. That is, try to define a set of metrics that would allow to measure these (multiple metrics per quality can be possible).\n",
    "  \n",
    "\n",
    "Let's focus on the qualities that you ranked to be most important?"
   ]
  },
  {
   "cell_type": "markdown",
   "metadata": {
    "slideshow": {
     "slide_type": "slide"
    }
   },
   "source": [
    "# Maintainability\n",
    "\n",
    "As you could already see in the first quality model [Boehm et al. _\"Quantitative evaluation of software quality\"_](https://dl.acm.org/ft_gateway.cfm?id=807736&type=pdf) _maintainability_ seems to be an important software quality.\n",
    "\n",
    "\n",
    "<img src=\"images/boehm.png\" width=\"50%\">\n"
   ]
  },
  {
   "cell_type": "markdown",
   "metadata": {
    "slideshow": {
     "slide_type": "subslide"
    }
   },
   "source": [
    "This is likely due to:\n",
    "\n",
    "  > M2. Maintenance typically consumes about 40 to 80 percent (60 percent average) of software costs. Therefore, it is probably the most important life cycle phase.\n",
    "  > \n",
    "  > ...\n",
    "  > \n",
    "  > M3. Enhancement is responsible for roughly 60 percent of software maintenance costs. Error correction is roughly 17 percent. So, software maintenance is largely about adding new capability to old software, not about fixing it.\n",
    "  >\n",
    "  > ...\n",
    "  >\n",
    "  > M5. Most software development tasks and software maintenance tasks are the same—except for the additional maintenance task of \"understanding the existing product.\" This task is the dominant maintenance activity, consuming roughly 30 percent of maintenance time. So, you could claim that maintenance is more difficult than development.\n",
    "  >\n",
    "  > Glass _\"Frequently Forgotten Fundamental Facts about Software Engineering\"_ [http://www.eng.auburn.edu/~kchang/comp6710/readings/Forgotten_Fundamentals_IEEE_Software_May_2001.pdf](http://www.eng.auburn.edu/~kchang/comp6710/readings/Forgotten_Fundamentals_IEEE_Software_May_2001.pdf) \n",
    "  \n",
    "  "
   ]
  },
  {
   "cell_type": "markdown",
   "metadata": {
    "slideshow": {
     "slide_type": "subslide"
    }
   },
   "source": [
    "\n",
    "## What comprises Maintainance?\n",
    "\n",
    "  * fixing bugs\n",
    "  * keeping its systems operational\n",
    "  * investigating failures\n",
    "  * adapting it to new platforms\n",
    "  * modifying it for new use cases\n",
    "  * repaying technical debt\n",
    "  * adding new features\n",
    "  * etc.\n",
    "\n",
    "From: Kleppmann _\"Designing Data-Intensive Applications\"_"
   ]
  },
  {
   "cell_type": "markdown",
   "metadata": {
    "slideshow": {
     "slide_type": "subslide"
    }
   },
   "source": [
    "## Design for Maintainability according to the ISO 25010 Product Model\n",
    "\n",
    "\n",
    "  * Modularity\n",
    "  * Reusability \n",
    "  * Analysability\n",
    "  * Modifyability\n",
    "  * Testability\n",
    "  \n",
    "  "
   ]
  },
  {
   "cell_type": "markdown",
   "metadata": {
    "slideshow": {
     "slide_type": "subslide"
    }
   },
   "source": [
    "## Design for Maintainability (Kleppmann _\"Designing Data-Intensive Applications\"_)\n",
    "\n",
    "...minimize pain during maintenance, and thus avoid creating legacy software ourselves.\n",
    "\n",
    "  * a) **Operability**\n",
    "    Make it easy for operations teams to keep the system running smoothly.\n",
    "  * b) **Simplicity**\n",
    "    Make it easy for new engineers to understand the system, by removing as much complexity as possible from the system. (Note this is not the same as simplicity of the user interface.)\n",
    "  * c) **Evolvability**\n",
    "    Make it easy for engineers to make changes to the system in the future, adapting it for unanticipated use cases as requirements change. Also known as extensibility, modifiability, or plasticity.\n",
    "    \n"
   ]
  },
  {
   "cell_type": "markdown",
   "metadata": {
    "slideshow": {
     "slide_type": "subslide"
    }
   },
   "source": [
    "  \n",
    "### a) Operability: Making Life Easy for Operations\n",
    "\n",
    "\n",
    "Do you support your operations team, with respect to your MiniTwit systems, in that you support to:\n",
    "\n",
    "  * Monitor the health of the system?\n",
    "  * Quickly restore a service if it goes into a bad state?\n",
    "  * Track down the cause of problems, such as system failures, degraded performance, etc?\n",
    "  * Keep software and platforms up to date?\n",
    "  * Observe how different systems affect each other?\n",
    "  * Anticipate future problems and solve them before they occur (e.g., capacity planning)?\n",
    "  * Establish good practices and tools for deployment, configuration management, etc.?\n",
    "  * Perform complex maintenance tasks, such as moving an application from one platform to another?\n",
    "  * Preserve the group’s knowledge about the system, even as individual people come and go?"
   ]
  },
  {
   "cell_type": "markdown",
   "metadata": {
    "slideshow": {
     "slide_type": "subslide"
    }
   },
   "source": [
    "Good operability means making routine tasks easy:\n",
    "\n",
    "  * Provide good monitoring to make runtime behavior and system internals visible\n",
    "  * Provide good support for automation and integration with standard tools\n",
    "  * Avoid dependency on individual machines\n",
    "  * Provide good documentation and an easy-to-understand operational model\n",
    "  * Provide good default behavior, but allow administrators to override defaults when needed\n",
    "  * Provide self-healing where appropriate\n",
    "  * Exhibiting predictable behavior, minimizing surprises"
   ]
  },
  {
   "cell_type": "markdown",
   "metadata": {
    "slideshow": {
     "slide_type": "subslide"
    }
   },
   "source": [
    "### b) Simplicity: Managing Complexity\n",
    "\n",
    "Many of the fixes applied to your MiniTwit systems, will eventually create a _\"big ball of mud\"_:"
   ]
  },
  {
   "cell_type": "code",
   "execution_count": 2,
   "metadata": {
    "slideshow": {
     "slide_type": "fragment"
    }
   },
   "outputs": [
    {
     "data": {
      "text/html": [
       "\n",
       "        <iframe\n",
       "            width=\"100%\"\n",
       "            height=\"350\"\n",
       "            src=\"http://laputan.org/mud/mud.html#Abstract\"\n",
       "            frameborder=\"0\"\n",
       "            allowfullscreen\n",
       "        ></iframe>\n",
       "        "
      ],
      "text/plain": [
       "<IPython.lib.display.IFrame at 0x10f3b1668>"
      ]
     },
     "execution_count": 2,
     "metadata": {},
     "output_type": "execute_result"
    }
   ],
   "source": [
    "from IPython.display import IFrame\n",
    "IFrame('http://laputan.org/mud/mud.html#Abstract', width=\"100%\", height=350)"
   ]
  },
  {
   "cell_type": "markdown",
   "metadata": {
    "slideshow": {
     "slide_type": "subslide"
    }
   },
   "source": [
    "##### Do I have a _\"big ball of mud\"_?\n",
    "\n",
    "  * **hacks aimed at solving performance problems**\n",
    "  * tight coupling of modules\n",
    "  * tangled dependencies\n",
    "  * inconsistent naming and terminology\n",
    "  * explosion of the state space\n",
    "  \n",
    "Issues with the _\"big ball of mud\"_:\n",
    "\n",
    "  * budgets and schedules are often overrun. \n",
    "  * risk of introducing bugs when making a change\n",
    "  \n",
    "<!--\n",
    "removing accidental complexity with the help of abstraction\n",
    "-->"
   ]
  },
  {
   "cell_type": "markdown",
   "metadata": {
    "slideshow": {
     "slide_type": "subslide"
    }
   },
   "source": [
    "### c) Evolvability: Making Change Easy\n",
    "\n",
    "  * unlikely that your system’s requirements will remain unchanged forever\n",
    "  * keeping things operational and simple as described above allows for evolvability\n",
    "  \n",
    "  \n",
    "  \n",
    "----------\n",
    "\n",
    "The notes on maintainability above come from chapter 1 _Maintainability_ p.18ff in _Designing Data-Intensive Applications_ by Martin Kleppmann.\n",
    "  "
   ]
  },
  {
   "cell_type": "markdown",
   "metadata": {
    "slideshow": {
     "slide_type": "slide"
    }
   },
   "source": [
    "## Technical Debt"
   ]
  },
  {
   "cell_type": "markdown",
   "metadata": {
    "slideshow": {
     "slide_type": "fragment"
    }
   },
   "source": [
    "What is technical debt to you? \n",
    "\n",
    "Please share in the chat some thoughts on preparation task 3 a)"
   ]
  },
  {
   "cell_type": "markdown",
   "metadata": {},
   "source": [
    "  * a\n",
    "  * b\n",
    "  * c"
   ]
  },
  {
   "cell_type": "markdown",
   "metadata": {
    "slideshow": {
     "slide_type": "subslide"
    }
   },
   "source": [
    "## Technical Debt?\n",
    "\n",
    "  > \"Shipping first time code is like going into debt. A little debt speeds development so long as it is paid back promptly with a rewrite. ... The danger occurs when the debt is not repaid. Every minute spent on not-quite-right code counts as interest on that debt.\"\n",
    "  >\n",
    "  > Cunningham 1992 _\"The WyCash Portfolio Management System\"_\n",
    "  \n",
    "  \n"
   ]
  },
  {
   "cell_type": "markdown",
   "metadata": {
    "slideshow": {
     "slide_type": "fragment"
    }
   },
   "source": [
    "\n",
    "  - As in the saying _one man's meat is another man's poison_, we do not have generally true measures for software quality, i.e., _quite-right_, see e.g., Kitchenham 1996, Boehm 1976.\n",
    "\n",
    "  - Often code quality is domain specific as for example stated in the ISO 25000 standard: \n",
    "  > \"for interactive consumer software, such as word processor, usability and co-existence with other software, such as mailing software, is considered important. For Internet and open systems, security and interoperability are most important.\"\n",
    "  >\n",
    "  > ISO 25000"
   ]
  },
  {
   "cell_type": "markdown",
   "metadata": {
    "slideshow": {
     "slide_type": "subslide"
    }
   },
   "source": [
    "\n",
    "  - TD is:\n",
    "  \n",
    "  > \"the cost of the effort required to fix problems that remain in the code when an application is released to operation.\"\n",
    "  >\n",
    "  > [Sappidi et al. 2010 _\"CAST Worldwide 1141 Application Software Quality Study\"_](https://www.agilealliance.org/wp-content/uploads/2016/01/CAST_2010AnnualReport_KeyFindings_WebFinal.pdf)\n"
   ]
  },
  {
   "cell_type": "markdown",
   "metadata": {
    "slideshow": {
     "slide_type": "fragment"
    }
   },
   "source": [
    "  - TD is: \n",
    "  \n",
    "  > \"collection of design or implementation constructs that are expedient in the short term, but set up a technical context that can make future changes more costly or impossible.\" \n",
    "  >\n",
    "  > Avgeriou et al. 2016 _\"Managing technical debt in software engineering (dagstuhl seminar 16162)\"_\n"
   ]
  },
  {
   "cell_type": "markdown",
   "metadata": {
    "slideshow": {
     "slide_type": "fragment"
    }
   },
   "source": [
    "\n",
    "  - TD is:\n",
    "  > \"a metaphor for the accumulation of unresolved issues in a software project'\"\n",
    "  >\n",
    "  > Birchall _\"Re-Engineering Legacy Software\"_\n",
    "  \n",
    "  > \"the difference between what was promised and what was actually delivered.\" \n",
    "  >\n",
    "  > [Radigan](https://www.atlassian.com/agile/software-development/technical-debt)\n"
   ]
  },
  {
   "cell_type": "markdown",
   "metadata": {
    "slideshow": {
     "slide_type": "subslide"
    }
   },
   "source": [
    "### How is technical debt introduced?\n",
    "\n",
    "![](https://martinfowler.com/bliki/images/techDebtQuadrant.png)\n",
    "\n",
    "https://martinfowler.com/bliki/TechnicalDebtQuadrant.html\n",
    "\n",
    "\n",
    "\n"
   ]
  },
  {
   "cell_type": "markdown",
   "metadata": {
    "slideshow": {
     "slide_type": "subslide"
    }
   },
   "source": [
    "### How to measure technical debt?\n",
    "\n",
    "The answer is likely similar to as to how to measure software quality: It is neither easy nor straight forward."
   ]
  },
  {
   "cell_type": "markdown",
   "metadata": {
    "slideshow": {
     "slide_type": "subslide"
    }
   },
   "source": [
    "\n",
    "Let's try one of the tools that does not only measure software quality but provides also a technical debt measure.\n",
    "\n",
    "  * -> [Sonarqube](https://sonarcloud.io)\n",
    "  * [Code Climate](https://codeclimate.com/)\n",
    "  * [Better Code Hub](https://bettercodehub.com/)\n",
    "  \n",
    "<img src=\"http://itu.dk/people/ropf/presentations/images/sw_qual_tools.png\" width=60%>\n"
   ]
  },
  {
   "cell_type": "markdown",
   "metadata": {
    "slideshow": {
     "slide_type": "subslide"
    }
   },
   "source": [
    "Please share a link to your sonarcloud.io analysis. Since your projects are open-source the analysis results should be public too.\n",
    "\n",
    "The URL should look similar to the following:\n",
    "https://sonarcloud.io/dashboard?id=itu-devops_itu-minitwit-terraform"
   ]
  },
  {
   "cell_type": "markdown",
   "metadata": {
    "slideshow": {
     "slide_type": "subslide"
    }
   },
   "source": [
    "### Technical Debt for SonarQube - The SQALE method\n",
    "\n",
    "  > **Technical Debt** (`sqale_index`)\n",
    "  > \n",
    "  > Effort to fix all Code Smells. The measure is stored in minutes in the database. An 8-hour day is assumed when values are shown in days.\n",
    "  > \n",
    "  > https://docs.sonarqube.org/latest/user-guide/metric-definitions/#header-4"
   ]
  },
  {
   "cell_type": "markdown",
   "metadata": {
    "slideshow": {
     "slide_type": "fragment"
    }
   },
   "source": [
    "  > **Technical Debt Ratio** (`sqale_debt_ratio`)\n",
    "  > \n",
    "  > Ratio between the cost to develop the software and the cost to fix it. The Technical Debt Ratio formula is:\n",
    "  > \n",
    "  > `Remediation cost / Development cost`\n",
    "  >\n",
    "  > Which can be restated as:\n",
    "  >\n",
    "  > `Remediation cost / (Cost to develop 1 line of code * Number of lines of code)`\n",
    "  > \n",
    "  > The value of the cost to develop a line of code is 0.06 days.\n",
    "  > \n",
    "  > https://docs.sonarqube.org/latest/user-guide/metric-definitions/#header-4"
   ]
  },
  {
   "cell_type": "markdown",
   "metadata": {
    "slideshow": {
     "slide_type": "fragment"
    }
   },
   "source": [
    "### Question\n",
    "\n",
    "Does that correspond to your understanding of technical debt?"
   ]
  },
  {
   "cell_type": "markdown",
   "metadata": {
    "slideshow": {
     "slide_type": "slide"
    }
   },
   "source": [
    "-----------\n",
    "\n",
    "\n",
    "# Your turn now!\n",
    "\n",
    "<img src=\"https://media.giphy.com/media/13GIgrGdslD9oQ/giphy.gif\" width=50%/>\n",
    "\n",
    "  - [1) Enhance your CI Pipelines with a Software Quality Assessment Tool](#1\\)-Enhance-your-CI-Pipelines-with-a-Software-Quality-Assessment-Tool)\n",
    "  - [2) Software Maintenance](#2\\)-Software-Maintenance)\n"
   ]
  },
  {
   "cell_type": "markdown",
   "metadata": {
    "slideshow": {
     "slide_type": "subslide"
    }
   },
   "source": [
    "## 1) Enhance your CI Pipelines with a Software Quality Assessment Tool\n",
    "\n",
    "Choose and include a tool into your CI/CD pipelines that allows to asses the quality of your _ITU-MiniTwit_ system. You might want to use one of the tools presented in this lecture.\n",
    "\n",
    "Increase quality (in terms of the chosen tool) by acting on the most prominent issues that the tool tells you to fix."
   ]
  },
  {
   "cell_type": "markdown",
   "metadata": {
    "slideshow": {
     "slide_type": "subslide"
    }
   },
   "source": [
    "## 2) Software Maintenance \n",
    "\n",
    "We are in maintenance. That is, fix issues of your version of _ITU-MiniTwit_ as soon as possible. Either issues that you find via your monitoring or those that you observe under: http://142.93.104.18/status.html"
   ]
  },
  {
   "cell_type": "markdown",
   "metadata": {
    "slideshow": {
     "slide_type": "slide"
    }
   },
   "source": [
    "--------------------------"
   ]
  },
  {
   "cell_type": "markdown",
   "metadata": {
    "slideshow": {
     "slide_type": "slide"
    }
   },
   "source": [
    "# What to include in the report?\n",
    "\n",
    "See [REPORT.md](../../REPORT.md)"
   ]
  }
 ],
 "metadata": {
  "celltoolbar": "Slideshow",
  "kernelspec": {
   "display_name": "Python 3.7.3 64-bit ('base': conda)",
   "language": "python",
   "name": "python37364bitbaseconda5acdf8fd35f946cab962b990d57125af"
  },
  "language_info": {
   "codemirror_mode": {
    "name": "ipython",
    "version": 3
   },
   "file_extension": ".py",
   "mimetype": "text/x-python",
   "name": "python",
   "nbconvert_exporter": "python",
   "pygments_lexer": "ipython3",
   "version": "3.7.3"
  }
 },
 "nbformat": 4,
 "nbformat_minor": 2
}
