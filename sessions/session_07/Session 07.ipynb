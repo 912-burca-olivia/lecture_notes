{
 "cells": [
  {
   "cell_type": "markdown",
   "metadata": {
    "slideshow": {
     "slide_type": "slide"
    }
   },
   "source": [
    "![](https://www.saa-authors.eu/picture/739/ftw_768/saa-mtcwmza4nzq5mq.jpg)"
   ]
  },
  {
   "cell_type": "markdown",
   "metadata": {
    "slideshow": {
     "slide_type": "slide"
    }
   },
   "source": [
    "# Feedback\n"
   ]
  },
  {
   "cell_type": "markdown",
   "metadata": {
    "slideshow": {
     "slide_type": "subslide"
    }
   },
   "source": [
    "## How is it going with your projects?"
   ]
  },
  {
   "cell_type": "code",
   "execution_count": 3,
   "metadata": {
    "slideshow": {
     "slide_type": "subslide"
    }
   },
   "outputs": [
    {
     "data": {
      "text/html": [
       "\n",
       "        <iframe\n",
       "            width=\"900\"\n",
       "            height=\"500\"\n",
       "            src=\"http://138.68.93.2/chart.svg\"\n",
       "            frameborder=\"0\"\n",
       "            allowfullscreen\n",
       "        ></iframe>\n",
       "        "
      ],
      "text/plain": [
       "<IPython.lib.display.IFrame at 0x10a24b610>"
      ]
     },
     "execution_count": 3,
     "metadata": {},
     "output_type": "execute_result"
    }
   ],
   "source": [
    "from IPython.display import IFrame\n",
    "IFrame('http://138.68.93.2/chart.svg', width=900, height=500)"
   ]
  },
  {
   "cell_type": "markdown",
   "metadata": {
    "slideshow": {
     "slide_type": "subslide"
    }
   },
   "source": [
    "#### Did you double check that you are returning the right status codes?"
   ]
  },
  {
   "cell_type": "code",
   "execution_count": 4,
   "metadata": {
    "slideshow": {
     "slide_type": "-"
    }
   },
   "outputs": [
    {
     "data": {
      "text/html": [
       "\n",
       "        <iframe\n",
       "            width=\"900\"\n",
       "            height=\"500\"\n",
       "            src=\"http://138.68.93.2/error_chart.svg\"\n",
       "            frameborder=\"0\"\n",
       "            allowfullscreen\n",
       "        ></iframe>\n",
       "        "
      ],
      "text/plain": [
       "<IPython.lib.display.IFrame at 0x10a257950>"
      ]
     },
     "execution_count": 4,
     "metadata": {},
     "output_type": "execute_result"
    }
   ],
   "source": [
    "from IPython.display import IFrame\n",
    "IFrame('http://138.68.93.2/error_chart.svg', width=900, height=500)"
   ]
  },
  {
   "cell_type": "code",
   "execution_count": 5,
   "metadata": {
    "slideshow": {
     "slide_type": "subslide"
    }
   },
   "outputs": [
    {
     "data": {
      "text/html": [
       "\n",
       "        <iframe\n",
       "            width=\"900\"\n",
       "            height=\"500\"\n",
       "            src=\"http://46.101.243.88/commit_activity_daily.svg\"\n",
       "            frameborder=\"0\"\n",
       "            allowfullscreen\n",
       "        ></iframe>\n",
       "        "
      ],
      "text/plain": [
       "<IPython.lib.display.IFrame at 0x10a257c50>"
      ]
     },
     "execution_count": 5,
     "metadata": {},
     "output_type": "execute_result"
    }
   ],
   "source": [
    "from IPython.display import IFrame\n",
    "IFrame('http://46.101.243.88/commit_activity_daily.svg', width=900, height=500)"
   ]
  },
  {
   "cell_type": "code",
   "execution_count": 9,
   "metadata": {
    "slideshow": {
     "slide_type": "subslide"
    }
   },
   "outputs": [
    {
     "data": {
      "text/html": [
       "\n",
       "        <iframe\n",
       "            width=\"900\"\n",
       "            height=\"500\"\n",
       "            src=\"http://46.101.243. 88/release_activity_weekly.svg\"\n",
       "            frameborder=\"0\"\n",
       "            allowfullscreen\n",
       "        ></iframe>\n",
       "        "
      ],
      "text/plain": [
       "<IPython.lib.display.IFrame at 0x10a2cee50>"
      ]
     },
     "execution_count": 9,
     "metadata": {},
     "output_type": "execute_result"
    }
   ],
   "source": [
    "from IPython.display import IFrame\n",
    "IFrame('http://46.101.243. 88/release_activity_weekly.svg', width=900, height=500)"
   ]
  },
  {
   "cell_type": "markdown",
   "metadata": {
    "slideshow": {
     "slide_type": "subslide"
    }
   },
   "source": [
    "## How do you feel it is going with your projects?\n",
    "\n",
    "\n",
    "<!--\n",
    "Stand-up in start of exercise session.\n",
    "\n",
    "Each group uses three minutes to say:\n",
    "\n",
    "  * Did you observe something after setting up your monitoring that you fixed?\n",
    "-->"
   ]
  },
  {
   "cell_type": "markdown",
   "metadata": {
    "slideshow": {
     "slide_type": "subslide"
    }
   },
   "source": [
    "## Monitoring?\n",
    "\n",
    "\n",
    "Only 4/12 groups sent a pull-request to https://github.com/itu-devops/lecture_notes/blob/master/misc_urls.py with a monitoring URL (March 14th 21:30)?"
   ]
  },
  {
   "cell_type": "markdown",
   "metadata": {
    "slideshow": {
     "slide_type": "subslide"
    }
   },
   "source": [
    "![](images/group_e_monitoring_http.png)\n",
    "![](images/group_e_monitoring_db.png)"
   ]
  },
  {
   "cell_type": "markdown",
   "metadata": {
    "slideshow": {
     "slide_type": "subslide"
    }
   },
   "source": [
    "![](images/group_j_monitoring.png)"
   ]
  },
  {
   "cell_type": "markdown",
   "metadata": {
    "slideshow": {
     "slide_type": "subslide"
    }
   },
   "source": [
    "![](images/group_l_monitoring.png)"
   ]
  },
  {
   "cell_type": "markdown",
   "metadata": {
    "slideshow": {
     "slide_type": "subslide"
    }
   },
   "source": [
    "![](images/group_b_monitoring.png)"
   ]
  },
  {
   "cell_type": "markdown",
   "metadata": {
    "slideshow": {
     "slide_type": "subslide"
    }
   },
   "source": [
    "Remember from last session:\n",
    "\n",
    "  > Without monitoring you are not doing your job.\n",
    "  >\n",
    "  > James Turnbull _\"The Art of Monitoring\"_\n",
    "  \n",
    "So all the other groups, please add monitoring to your applications and share the link to the dashboard with us."
   ]
  },
  {
   "cell_type": "markdown",
   "metadata": {
    "slideshow": {
     "slide_type": "subslide"
    }
   },
   "source": [
    "### Please remember that the monitoring dashboard has to be accessible for us...\n",
    "\n",
    "Either it is public or you have to use the [credentials were distributed via Teams](https://teams.microsoft.com/l/message/19:2e0525061c7c44c3b4e57d61edba106b@thread.tacv2/1615542430497?tenantId=bea229b6-7a08-4086-b44c-71f57f716bdb&groupId=9505ab1e-489e-4444-a47f-0f8883316005&parentMessageId=1615542430497&teamName=DevOps%2C%20Software%20Evolution%20and%20Software%20Maintenance%20(S2021)&channelName=General&createdTime=1615542430497)."
   ]
  },
  {
   "cell_type": "markdown",
   "metadata": {
    "slideshow": {
     "slide_type": "slide"
    }
   },
   "source": [
    "## Maintenance?\n",
    "\n",
    "Did you observe something after setting up your monitoring that you fixed?"
   ]
  },
  {
   "cell_type": "markdown",
   "metadata": {
    "slideshow": {
     "slide_type": "slide"
    }
   },
   "source": [
    "---------------\n",
    "# Software Quality?\n",
    "\n",
    "Now that we are in the second half of the course and now that you spent a lot of time evolving and maintaining your *ITU-MiniTwit* systems, some questions might arise:\n",
    " \n",
    "  * Are your *ITU-MiniTwit* systems any good?\n",
    "  * How good/bad are your *ITU-MiniTwit* systems?\n",
    "  * Is there anything one can do to improve quality of your *ITU-MiniTwit* systems?"
   ]
  },
  {
   "cell_type": "markdown",
   "metadata": {
    "slideshow": {
     "slide_type": "subslide"
    }
   },
   "source": [
    "## What is Software Quality?"
   ]
  },
  {
   "cell_type": "markdown",
   "metadata": {
    "slideshow": {
     "slide_type": "fragment"
    }
   },
   "source": [
    "Generally, _quality_ is defined as:\n",
    "\n",
    "\n",
    "  > \"[...] the totality of characteristics of an entity that bear on its ability to satisfy stated and implied needs.\"\n",
    "  >\n",
    "  > [ISO 8402:1994, Quality management and quality assurance – Vocabulary](https://www.iso.org/standard/20115.html)\n"
   ]
  },
  {
   "cell_type": "markdown",
   "metadata": {
    "slideshow": {
     "slide_type": "subslide"
    }
   },
   "source": [
    "For the term _software quality_ industrial standards are quite consistent.\n",
    "\n",
    "  > **(1)** capability of a software product to satisfy stated and implied needs when used under specified conditions\n",
    "  >\n",
    "  > [_Systems and software engineering — Systems and software Quality Requirements and Evaluation (SQuaRE) — Guide to\n",
    "SQuaRE_, International Organization for Standardization, Geneva, CH, Standard, May 2015](https://www.iso.org/obp/ui/#iso:std:64764:en)\n",
    "  >\n",
    "  > **(2)** degree to which a software product satisfies stated and implied needs when used under specified conditions\n",
    "  >\n",
    "  > [_Systems and software engineering — Systems and software Quality Requirements and Evaluation (SQuaRE) — System and software quality models_, International Organization for Standardization, Geneva, CH, Standard, May 2015](https://www.iso.org/obp/ui/#iso:std:iso-iec:25010:ed-1:v1:en)\n",
    "  >\n",
    "  > **(3)** degree to which a software product meets established requirements\n",
    "  >\n",
    "  > [_IEEE 730-2014 IEEE Standard for Software Quality Assurance Processes_](https://standards.ieee.org/standard/730-2014.html)\n",
    "\n"
   ]
  },
  {
   "cell_type": "markdown",
   "metadata": {
    "slideshow": {
     "slide_type": "subslide"
    }
   },
   "source": [
    "Various stakeholders have particular and varying quality requirements:\n",
    "\n",
    "  > Good software should deliver the required functionality and performance to the user and should be maintainable, dependable, and usable.\n",
    "  >\n",
    "  > [I. Sommerville, _Software Engineering_, 9th ed. USA: Addison-Wesley Publishing Company, 2010.](https://www.pearson.com/us/higher-education/product/Sommerville-Software-Engineering-9th-Edition/9780137035151.html)\n"
   ]
  },
  {
   "cell_type": "markdown",
   "metadata": {
    "slideshow": {
     "slide_type": "subslide"
    }
   },
   "source": [
    "Various stakeholders have particular and varying quality requirements:\n",
    "\n",
    "  > ... David Gamin studied how quality is perceived in various domains, including philosophy, economics, marketing, and operations management. He concluded that \"quality is a complex and multifaceted concept\" that can be described from five different perspectives.\n",
    "  >\n",
    "  >   * The **transcendental view** sees quality as something that can be recognized but not defined.\n",
    "  >\n",
    "  >   * The **user view** sees quality as fitness for purpose.\n",
    "  >\n",
    "  >   * The **manufacturing view** sees quality as conformance to specification.\n",
    "  >\n",
    "  >   * The **product view** sees quality as tied to inherent characteristics of the product.\n",
    "  >\n",
    "  >   * The **value-based view** sees quality as dependent on the amount a customer is willing to pay for it.\n",
    "  >\n",
    "  > [Kitchenham et al. 1996 _Software Quality: The Elusive Target_](https://ieeexplore.ieee.org/iel1/52/10198/00476281.pdf)"
   ]
  },
  {
   "cell_type": "markdown",
   "metadata": {
    "slideshow": {
     "slide_type": "fragment"
    }
   },
   "source": [
    "One perspective that is missing in the above but that Sommerville describes in chapter 24.4 is the perspective of *software process quality*, which assumes that the better the process leading to a software product the better the product itself."
   ]
  },
  {
   "cell_type": "markdown",
   "metadata": {
    "slideshow": {
     "slide_type": "slide"
    }
   },
   "source": [
    "### Software Quality Models"
   ]
  },
  {
   "cell_type": "markdown",
   "metadata": {
    "slideshow": {
     "slide_type": "subslide"
    }
   },
   "source": [
    "Since there are many software quality models. Let's have a look at the earliest Boehm's model from 1976 and more recent ones from the ISO 250x0 series of standards."
   ]
  },
  {
   "cell_type": "markdown",
   "metadata": {
    "slideshow": {
     "slide_type": "fragment"
    }
   },
   "source": [
    "# Boehm 1976 - Quality Model\n",
    "\n",
    "<img src=\"images/boehm.png\" width=\"60%\">\n",
    "\n",
    "[Boehm et al. _\"Quantitative evaluation of software quality\"_](https://dl.acm.org/ft_gateway.cfm?id=807736&type=pdf)"
   ]
  },
  {
   "cell_type": "markdown",
   "metadata": {
    "slideshow": {
     "slide_type": "subslide"
    }
   },
   "source": [
    "# Boehm 1976 - Quality Model\n",
    "\n",
    "<img src=\"images/boehm_metrics.png\" width=\"70%\">\n",
    "\n",
    "[Boehm et al. _\"Quantitative evaluation of software quality\"_](https://dl.acm.org/ft_gateway.cfm?id=807736&type=pdf)\n"
   ]
  },
  {
   "cell_type": "markdown",
   "metadata": {
    "slideshow": {
     "slide_type": "subslide"
    }
   },
   "source": [
    "# ISO 250x0 - Quality Models\n",
    "\n",
    "<img src=\"images/ISO_25000.png\" width=\"60%\">"
   ]
  },
  {
   "cell_type": "markdown",
   "metadata": {
    "slideshow": {
     "slide_type": "subslide"
    }
   },
   "source": [
    "# ISO 25010 - Quality in Use Model\n",
    "\n",
    "<img src=\"images/ISO_25010_in_use.png\" width=\"80%\">"
   ]
  },
  {
   "cell_type": "markdown",
   "metadata": {
    "slideshow": {
     "slide_type": "subslide"
    }
   },
   "source": [
    "# ISO 25010 - Product Model\n",
    "\n",
    "<img src=\"images/ISO_25010_product.png\" width=\"90%\">"
   ]
  },
  {
   "cell_type": "markdown",
   "metadata": {
    "slideshow": {
     "slide_type": "subslide"
    }
   },
   "source": [
    "# ISO 25023 - Metrics (QMEs)\n",
    "\n",
    "<img src=\"images/ISO_25023.png\" width=\"80%\">"
   ]
  },
  {
   "cell_type": "markdown",
   "metadata": {
    "slideshow": {
     "slide_type": "subslide"
    }
   },
   "source": [
    "### How to measure software quality and quality attributes?\n",
    "\n",
    "As Sommerville states, it is neither easy nor straight forward:\n",
    "\n",
    "  > Unfortunately, it is difficult to make direct measurements of many of the software\n",
    "quality attributes shown in Figure 24.2. Quality attributes such as maintainability, understandability, and usability are external attributes that relate to how developers and users experience the software. They are affected by subjective factors, such as user experience and education, and they cannot therefore be measured objectively. To make a judgment about these attributes, you have to measure some internal attrib- utes of the software (such as its size, complexity, etc.) and assume that these are related to the quality characteristics that you are concerned with."
   ]
  },
  {
   "cell_type": "markdown",
   "metadata": {
    "slideshow": {
     "slide_type": "fragment"
    }
   },
   "source": [
    "\n",
    "Usually:\n",
    "\n",
    "  > The project or organization must start by making a list of nonfunctional requirements that define the \"right code.\" We call this the quality model.\n",
    "  >\n",
    "  > Letouzey et al. 2012 _\"Managing Technical Debt with the SQALE Method\"_\n",
    "\n",
    "Then one has to define and specify metrics, associate them to the quality attributes of interest, translate these  metrics into precise programs/measures on given artifacts, and define how measured values are aggregated in the end for assessment.\n"
   ]
  },
  {
   "cell_type": "markdown",
   "metadata": {
    "slideshow": {
     "slide_type": "subslide"
    }
   },
   "source": [
    "# Problematic about Software Quality: \"What is Software?\"\n",
    "\n",
    "\n",
    "Remember that _software_ is way more than code!\n",
    "\n",
    "\n",
    "  > [...] software is not just the programs themselves but also all associated documentation and configuration data that is required to make these programs operate correctly.\n",
    "  >\n",
    "  > Sommerville _\"Software Engineering\"_ (9th Ed.) \n"
   ]
  },
  {
   "cell_type": "markdown",
   "metadata": {
    "slideshow": {
     "slide_type": "subslide"
    }
   },
   "source": [
    "Interestingly, it is not properly defined what software actually is.\n",
    "  \n",
    "  \n",
    "\n",
    "  > \"Software is the collection of all artifacts, which allow (a) suitably educated person(s) with access to specified and suitable hardware to instantiate a running system.\n",
    "  >\n",
    "  > Additionally, the collection of such artifacts allow such (a) person(s) to understand and reason about a systems' working and properties and let them understand why the system is as it is and why it behaves the way it does.\"\n",
    "  >\n",
    "  > Helge's definition of software\n",
    "  \n",
    "  \n",
    "That is, when you want to measure software quality you have to necessarily look at more than just source code.\n",
    "\n",
    "<!--\n",
    "Software is the collection of all of the above artifacts that humans collect and store and these artifacts are more than just code, documentation is an integral part of them, depending on the domain data is not necessary, and – even though rare – code is not strictly necessary.\n",
    "\n",
    "\n",
    "categories source code, specific source code, script code, binary code, build code, infrastructure code, image, video, music, configuration, database, font, archive, markup, document, app data, prose, legalese, and other \n",
    "-->\n"
   ]
  },
  {
   "cell_type": "markdown",
   "metadata": {
    "slideshow": {
     "slide_type": "slide"
    }
   },
   "source": [
    "# Maintainability\n",
    "\n",
    "As you could already see in the first quality model [Boehm et al. _\"Quantitative evaluation of software quality\"_](https://dl.acm.org/ft_gateway.cfm?id=807736&type=pdf) _maintainability_ seems to be an important software quality.\n",
    "\n",
    "\n",
    "<img src=\"images/boehm.png\" width=\"50%\">\n"
   ]
  },
  {
   "cell_type": "markdown",
   "metadata": {
    "slideshow": {
     "slide_type": "subslide"
    }
   },
   "source": [
    "This is likely due to:\n",
    "\n",
    "  > M2. Maintenance typically consumes about 40 to 80 percent (60 percent average) of software costs. Therefore, it is probably the most important life cycle phase.\n",
    "  > \n",
    "  > ...\n",
    "  > \n",
    "  > M3. Enhancement is responsible for roughly 60 percent of software maintenance costs. Error correction is roughly 17 percent. So, software maintenance is largely about adding new capability to old software, not about fixing it.\n",
    "  >\n",
    "  > ...\n",
    "  >\n",
    "  > M5. Most software development tasks and software maintenance tasks are the same—except for the additional maintenance task of \"understanding the existing product.\" This task is the dominant maintenance activity, consuming roughly 30 percent of maintenance time. So, you could claim that maintenance is more difficult than development.\n",
    "  >\n",
    "  > [Glass _\"Frequently Forgotten Fundamental Facts about Software Engineering\"_](http://www.eng.auburn.edu/~kchang/comp6710/readings/Forgotten_Fundamentals_IEEE_Software_May_2001.pdf) \n",
    "  \n",
    "  "
   ]
  },
  {
   "cell_type": "markdown",
   "metadata": {
    "slideshow": {
     "slide_type": "subslide"
    }
   },
   "source": [
    "\n",
    "## What comprises Maintainance?\n",
    "\n",
    "  * fixing bugs\n",
    "  * keeping its systems operational\n",
    "  * investigating failures\n",
    "  * adapting it to new platforms\n",
    "  * modifying it for new use cases\n",
    "  * repaying technical debt\n",
    "  * adding new features\n",
    "  * etc.\n",
    "\n",
    "From: Kleppmann _\"Designing Data-Intensive Applications\"_"
   ]
  },
  {
   "cell_type": "markdown",
   "metadata": {
    "slideshow": {
     "slide_type": "subslide"
    }
   },
   "source": [
    "## Design for Maintainability according to the ISO 25010 Product Model\n",
    "\n",
    "\n",
    "  * Modularity\n",
    "  * Reusability \n",
    "  * Analysability\n",
    "  * Modifyability\n",
    "  * Testability\n",
    "  \n",
    "  "
   ]
  },
  {
   "cell_type": "markdown",
   "metadata": {
    "slideshow": {
     "slide_type": "subslide"
    }
   },
   "source": [
    "## Design for Maintainability (Kleppmann _\"Designing Data-Intensive Applications\"_)\n",
    "\n",
    "...minimize pain during maintenance, and thus avoid creating legacy software ourselves.\n",
    "\n",
    "  * a) **Operability**\n",
    "    Make it easy for operations teams to keep the system running smoothly.\n",
    "  * b) **Simplicity**\n",
    "    Make it easy for new engineers to understand the system, by removing as much complexity as possible from the system. (Note this is not the same as simplicity of the user interface.)\n",
    "  * c) **Evolvability**\n",
    "    Make it easy for engineers to make changes to the system in the future, adapting it for unanticipated use cases as requirements change. Also known as extensibility, modifiability, or plasticity.\n",
    "    \n"
   ]
  },
  {
   "cell_type": "markdown",
   "metadata": {
    "slideshow": {
     "slide_type": "subslide"
    }
   },
   "source": [
    "  \n",
    "### a) Operability: Making Life Easy for Operations\n",
    "\n",
    "\n",
    "Do you support your operations team, with respect to your MiniTwit systems, in that you support to:\n",
    "\n",
    "  * Monitor the health of the system?\n",
    "  * Quickly restore a service if it goes into a bad state?\n",
    "  * Track down the cause of problems, such as system failures, degraded performance, etc?\n",
    "  * Keep software and platforms up to date?\n",
    "  * Observe how different systems affect each other?\n",
    "  * Anticipate future problems and solve them before they occur (e.g., capacity planning)?\n",
    "  * Establish good practices and tools for deployment, configuration management, etc.?\n",
    "  * Perform complex maintenance tasks, such as moving an application from one platform to another?\n",
    "  * Preserve the group’s knowledge about the system, even as individual people come and go?"
   ]
  },
  {
   "cell_type": "markdown",
   "metadata": {
    "slideshow": {
     "slide_type": "subslide"
    }
   },
   "source": [
    "Good operability means making routine tasks easy:\n",
    "\n",
    "  * Provide good monitoring to make runtime behavior and system internals visible\n",
    "  * Provide good support for automation and integration with standard tools\n",
    "  * Avoid dependency on individual machines\n",
    "  * Provide good documentation and an easy-to-understand operational model\n",
    "  * Provide good default behavior, but allow administrators to override defaults when needed\n",
    "  * Provide self-healing where appropriate\n",
    "  * Exhibiting predictable behavior, minimizing surprises"
   ]
  },
  {
   "cell_type": "markdown",
   "metadata": {
    "slideshow": {
     "slide_type": "subslide"
    }
   },
   "source": [
    "### b) Simplicity: Managing Complexity\n",
    "\n",
    "Many of the fixes applied to your *ITU-MiniTwit* systems, will eventually create a _\"big ball of mud\"_:"
   ]
  },
  {
   "cell_type": "code",
   "execution_count": 1,
   "metadata": {
    "slideshow": {
     "slide_type": "fragment"
    }
   },
   "outputs": [
    {
     "data": {
      "text/html": [
       "\n",
       "        <iframe\n",
       "            width=\"100%\"\n",
       "            height=\"350\"\n",
       "            src=\"http://laputan.org/mud/mud.html#Abstract\"\n",
       "            frameborder=\"0\"\n",
       "            allowfullscreen\n",
       "        ></iframe>\n",
       "        "
      ],
      "text/plain": [
       "<IPython.lib.display.IFrame at 0x10a15d750>"
      ]
     },
     "execution_count": 1,
     "metadata": {},
     "output_type": "execute_result"
    }
   ],
   "source": [
    "from IPython.display import IFrame\n",
    "IFrame('http://laputan.org/mud/mud.html#Abstract', width=\"100%\", height=350)"
   ]
  },
  {
   "cell_type": "markdown",
   "metadata": {
    "slideshow": {
     "slide_type": "subslide"
    }
   },
   "source": [
    "##### Do I have a _\"big ball of mud\"_?\n",
    "\n",
    "  * **hacks aimed at solving performance problems**\n",
    "  * tight coupling of modules\n",
    "  * tangled dependencies\n",
    "  * inconsistent naming and terminology\n",
    "  * explosion of the state space\n",
    "  \n",
    "Issues with the _\"big ball of mud\"_:\n",
    "\n",
    "  * budgets and schedules are often overrun. \n",
    "  * risk of introducing bugs when making a change\n",
    "  \n",
    "<!--\n",
    "removing accidental complexity with the help of abstraction\n",
    "-->"
   ]
  },
  {
   "cell_type": "markdown",
   "metadata": {
    "slideshow": {
     "slide_type": "subslide"
    }
   },
   "source": [
    "### c) Evolvability: Making Change Easy\n",
    "\n",
    "  * unlikely that your system’s requirements will remain unchanged forever\n",
    "  * keeping things operational and simple as described above allows for evolvability\n",
    "  \n",
    "  \n",
    "  \n",
    "----------\n",
    "\n",
    "The notes on maintainability above come from chapter 1 _Maintainability_ p.18ff in _Designing Data-Intensive Applications_ by Martin Kleppmann.\n",
    "  "
   ]
  },
  {
   "cell_type": "markdown",
   "metadata": {
    "slideshow": {
     "slide_type": "slide"
    }
   },
   "source": [
    "## Technical Debt\n",
    "\n"
   ]
  },
  {
   "cell_type": "markdown",
   "metadata": {
    "slideshow": {
     "slide_type": "subslide"
    }
   },
   "source": [
    "## Technical Debt?\n",
    "\n",
    "  > \"Shipping first time code is like going into debt. A little debt speeds development so long as it is paid back promptly with a rewrite. ... The danger occurs when the debt is not repaid. Every minute spent on not-quite-right code counts as interest on that debt.\"\n",
    "  >\n",
    "  > Cunningham 1992 _\"The WyCash Portfolio Management System\"_\n",
    "  \n",
    "  \n"
   ]
  },
  {
   "cell_type": "markdown",
   "metadata": {
    "slideshow": {
     "slide_type": "fragment"
    }
   },
   "source": [
    "\n",
    "  - As in the saying *one man's meat is another man's poison*, we do not have generally true measures for software quality, i.e., *quite-right*, see e.g., Kitchenham 1996, Boehm 1976.\n",
    "\n",
    "  - Often code quality is domain specific as for example stated in the ISO 25000 standard: \n",
    "  > \"for interactive consumer software, such as word processor, usability and co-existence with other software, such as mailing software, is considered important. For Internet and open systems, security and interoperability are most important.\"\n",
    "  >\n",
    "  > ISO 25000"
   ]
  },
  {
   "cell_type": "markdown",
   "metadata": {
    "slideshow": {
     "slide_type": "subslide"
    }
   },
   "source": [
    "Technical Debt (TD) is used as metaphor to describe \n",
    "\n",
    "  > “technical compromises that are expedient in the short term, but that create a technical context that increases complexity and cost in the long term”\n",
    "  >\n",
    "  > Avgeriou et al. [_“Managing technical debt in software engineering (dagstuhl seminar 16162)”_](https://drops.dagstuhl.de/opus/volltexte/2016/6693/pdf/dagrep_v006_i004_p110_s16162.pdf)"
   ]
  },
  {
   "cell_type": "markdown",
   "metadata": {
    "slideshow": {
     "slide_type": "fragment"
    }
   },
   "source": [
    "\n",
    "  - TD is:\n",
    "  \n",
    "  > \"the cost of the effort required to fix problems that remain in the code when an application is released to operation.\"\n",
    "  >\n",
    "  > [Sappidi et al. 2010 _\"CAST Worldwide 1141 Application Software Quality Study\"_](https://www.agilealliance.org/wp-content/uploads/2016/01/CAST_2010AnnualReport_KeyFindings_WebFinal.pdf)\n"
   ]
  },
  {
   "cell_type": "markdown",
   "metadata": {
    "slideshow": {
     "slide_type": "fragment"
    }
   },
   "source": [
    "\n",
    "  - TD is:\n",
    "  > \"a metaphor for the accumulation of unresolved issues in a software project'\"\n",
    "  >\n",
    "  > Birchall _\"Re-Engineering Legacy Software\"_\n",
    "  \n",
    "  > \"the difference between what was promised and what was actually delivered.\" \n",
    "  >\n",
    "  > [Radigan](https://www.atlassian.com/agile/software-development/technical-debt)\n"
   ]
  },
  {
   "cell_type": "markdown",
   "metadata": {
    "slideshow": {
     "slide_type": "subslide"
    }
   },
   "source": [
    "### How is technical debt introduced?\n",
    "\n",
    "![](https://martinfowler.com/bliki/images/techDebtQuadrant.png)\n",
    "\n",
    "https://martinfowler.com/bliki/TechnicalDebtQuadrant.html\n",
    "\n",
    "\n",
    "\n"
   ]
  },
  {
   "cell_type": "markdown",
   "metadata": {
    "slideshow": {
     "slide_type": "slide"
    }
   },
   "source": [
    "# What can we do about SW Quality, Maintainability, and TD?"
   ]
  },
  {
   "cell_type": "markdown",
   "metadata": {
    "slideshow": {
     "slide_type": "fragment"
    }
   },
   "source": [
    "In essence we can do two things:\n",
    "    \n",
    "  * introduce certain practices in our development process\n",
    "  * introduce quality gates (and tools that check them) into our build processes"
   ]
  },
  {
   "cell_type": "markdown",
   "metadata": {
    "slideshow": {
     "slide_type": "subslide"
    }
   },
   "source": [
    "## Practices for Software Quality\n",
    "\n",
    "### Pair programming\n",
    "\n",
    "  > By  working  in tandem,  the  pairs  completed their  assignments 40% to 50% faster.\n",
    "  >\n",
    "  > [L. Williams et al. _\"Strengthening the Case for Pair Programming\"_](https://ieeexplore.ieee.org/stamp/stamp.jsp?arnumber=854064)\n",
    " \n",
    " "
   ]
  },
  {
   "cell_type": "markdown",
   "metadata": {
    "slideshow": {
     "slide_type": "fragment"
    }
   },
   "source": [
    "  > The top benefit was fewer bugs in the source code. One person \n",
    "said \"it greatly reduces bug numbers.\" Simple bugs were found \n",
    "and fixed, as one respondent reported, \"there are fewer 'petty'\n",
    "bugs.\" In addition, respondents speculated that the longer bugs \n",
    "live in the code, the more difficult they are to fix. Using pair pro-\n",
    "gramming, \"bugs are spotted earlier\" in the development process, \n",
    "and \"may prevent bugs before [they are] deeply embedded.\"\n",
    "  > \n",
    "  > A. Begel et al. [_\"Pair programming: what's in it for me?\"_](https://www.researchgate.net/profile/Andrew-Begel/publication/221494979_Pair_Programming_What%27s_in_it_for_Me/links/0c960522018d66773d000000/Pair-Programming-Whats-in-it-for-Me.pdf)"
   ]
  },
  {
   "cell_type": "markdown",
   "metadata": {
    "slideshow": {
     "slide_type": "fragment"
    }
   },
   "source": [
    "  > for a development-time cost of about 15%, pair programming improves design quality, reduces defects, reduces staffing risk, enhances technical skills, improves team communications and is considered more enjoyable at statistically significant levels.\n",
    "  >\n",
    "  > A. Cockburn et al. [_\"The Costs and Benefits of Pair Programming\"_](https://collaboration.csc.ncsu.edu/laurie/Papers/XPSardinia.PDF)\n",
    "\n"
   ]
  },
  {
   "cell_type": "markdown",
   "metadata": {
    "slideshow": {
     "slide_type": "subslide"
    }
   },
   "source": [
    "###  Code reviews\n",
    "  \n",
    "  > At a cost of 1-2% of the project, a 40% decrease in the number of issues  was  found.\n",
    "  >\n",
    "  > R.A. Baker Jr [_\"Code reviews enhance software quality\"_](https://dl.acm.org/doi/pdf/10.1145/253228.253461)"
   ]
  },
  {
   "cell_type": "markdown",
   "metadata": {
    "slideshow": {
     "slide_type": "fragment"
    }
   },
   "source": [
    "  > Findings  show  that  unreviewed  commits  (i.e., commits  that did  not  undergo  a  review  process)  have  over  two  times  more chances of introducing bugs than reviewed commits (i.e., commits that  underwent  a  review  process).  In  addition,  code  committed after  review  has  a  substantially  higher  readability  with  respect to  unreviewed  code.\n",
    "  >\n",
    "  > G. Bavota et al. [_\"Four eyes are better than two: On the impact of code reviews on software quality\"_](http://citeseerx.ist.psu.edu/viewdoc/download?doi=10.1.1.709.2980&rep=rep1&type=pdf)\n",
    "\n",
    "\n",
    "\n"
   ]
  },
  {
   "cell_type": "markdown",
   "metadata": {
    "slideshow": {
     "slide_type": "fragment"
    }
   },
   "source": [
    "\n",
    "  > we ﬁnd that both code review coverage and participation share a significant link with software quality. Low code review coverage and participation are estimated to produce components with up to two and five additional post-release defects respectively. Our results empirically confirm the intuition that poorly reviewed code has a negative impact on software quality [...]\n",
    "  >\n",
    "  > S. McIntosh [_\"The impact of code review coverage and code review participation on software quality: a case study of the Qt, VTK, and ITK projects\"_](https://dl.acm.org/doi/abs/10.1145/2597073.2597076)"
   ]
  },
  {
   "cell_type": "markdown",
   "metadata": {
    "slideshow": {
     "slide_type": "subslide"
    }
   },
   "source": [
    "## Practices for Software Quality \n",
    "\n",
    "### Static Analysis Tools\n",
    "\n",
    "\n",
    "In the following we want to asses some qualities of an earlier version of *ITU-MiniTwit*, the one published in the master branch of https://github.com/itu-devops/itu-minitwit-monitoring.\n",
    "\n",
    "Since that program is a Python program, I will show you in the following some tools from the Python realm but similar ones exist for any of your languages.\n"
   ]
  },
  {
   "cell_type": "markdown",
   "metadata": {
    "slideshow": {
     "slide_type": "subslide"
    }
   },
   "source": [
    "### [Pylint](pylint.org)\n",
    "\n",
    "  * checks coding standards \n",
    "  * detects errors\n",
    "  * detects duplicates \n",
    "  * detects unused code\n",
    "  \n",
    "\n",
    "```\n",
    "$ pylint minitwit_mysql.py\n",
    "************* Module minitwit_mysql\n",
    "minitwit_mysql.py:33:2: W0511: TODO change... (fixme)\n",
    "minitwit_mysql.py:74:0: C0303: Trailing whitespace (trailing-whitespace)\n",
    "minitwit_mysql.py:178:0: C0301: Line too long (114/100) (line-too-long)\n",
    "minitwit_mysql.py:178:0: C0301: Line too long (114/100) (line-too-long)\n",
    "minitwit_mysql.py:206:0: C0301: Line too long (101/100) (line-too-long)\n",
    "minitwit_mysql.py:239:0: C0301: Line too long (107/100) (line-too-long)\n",
    "minitwit_mysql.py:239:0: C0301: Line too long (107/100) (line-too-long)\n",
    "minitwit_mysql.py:28:0: E0611: No name 'check_password_hash' in module 'werkzeug' (no-name-in-module)\n",
    "minitwit_mysql.py:28:0: E0611: No name 'generate_password_hash' in module 'werkzeug' (no-name-in-module)\n",
    "minitwit_mysql.py:48:0: C0103: Constant name \"app\" doesn't conform to UPPER_CASE naming style (invalid-name)\n",
    "minitwit_mysql.py:79:4: C0103: Variable name \"rv\" doesn't conform to snake_case naming style (invalid-name)\n",
    "minitwit_mysql.py:67:20: W0613: Unused argument 'args' (unused-argument)\n",
    "minitwit_mysql.py:91:4: C0103: Variable name \"rv\" doesn't conform to snake_case naming style (invalid-name)\n",
    "minitwit_mysql.py:309:0: E1101: Method 'jinja_env' has no 'filters' member (no-member)\n",
    "minitwit_mysql.py:310:0: E1101: Method 'jinja_env' has no 'filters' member (no-member)\n",
    "minitwit_mysql.py:13:0: W0611: Unused import sqlite3 (unused-import)\n",
    "minitwit_mysql.py:16:0: W0611: Unused closing imported from contextlib (unused-import)\n",
    "\n",
    "-----------------------------------\n",
    "Your code has been rated at 7.54/10\n",
    "```\n",
    "\n",
    "  * R ... Refactor to adhere to \"good practice\"\n",
    "  * C ... Convention violation of coding standard\n",
    "  * W ... Warning indicating style issues or minor programming issues \n",
    "  * E ... Error, most likely bugs\n",
    "  * F ... Fatal, errors which prevent further analysis"
   ]
  },
  {
   "cell_type": "markdown",
   "metadata": {
    "slideshow": {
     "slide_type": "subslide"
    }
   },
   "source": [
    "### [Pyflakes](https://github.com/PyCQA/pyflakes)\n",
    "\n",
    "  * detects errors\n",
    "\n",
    "```\n",
    "$ pyflakes minitwit_mysql.py\n",
    "minitwit_mysql.py:13: 'sqlite3' imported but unused\n",
    "minitwit_mysql.py:16: 'contextlib.closing' imported but unused\n",
    "```"
   ]
  },
  {
   "cell_type": "markdown",
   "metadata": {
    "slideshow": {
     "slide_type": "subslide"
    }
   },
   "source": [
    "### [Prospector ](https://github.com/PyCQA/prospector)\n",
    "\n",
    "Prospector is a \"meta-tool\" since it incorporates results from other static analysis tools, such as, [Pylint](http://docs.pylint.org/), [pep8](http://pep8.readthedocs.org/en/latest/), and [McCabe complexity](https://pypi.python.org/pypi/mccabe), etc.\n",
    "\n",
    "\n",
    "```\n",
    "$ prospector minitwit_mysql.py\n",
    "Messages\n",
    "========\n",
    "\n",
    "minitwit_mysql.py\n",
    "  Line: 13\n",
    "    pylint: unused-import / Unused import sqlite3\n",
    "  Line: 16\n",
    "    pylint: unused-import / Unused closing imported from contextlib\n",
    "  Line: 39\n",
    "    dodgy: password / Possible hardcoded password\n",
    "  Line: 45\n",
    "    dodgy: secret / Possible hardcoded secret key\n",
    "  Line: 67\n",
    "    pylint: unused-argument / Unused argument 'args' (col 20)\n",
    "\n",
    "\n",
    "\n",
    "Check Information\n",
    "=================\n",
    "         Started: 2020-03-11 17:41:13.781662\n",
    "        Finished: 2020-03-11 17:41:16.566612\n",
    "      Time Taken: 2.78 seconds\n",
    "       Formatter: grouped\n",
    "        Profiles: default, no_doc_warnings, no_test_warnings, strictness_medium, strictness_high, strictness_veryhigh, no_member_warnings\n",
    "      Strictness: None\n",
    "  Libraries Used: flask\n",
    "       Tools Run: dodgy, mccabe, pep8, profile-validator, pyflakes, pylint\n",
    "  Messages Found: 5\n",
    "```\n"
   ]
  },
  {
   "cell_type": "markdown",
   "metadata": {
    "slideshow": {
     "slide_type": "subslide"
    }
   },
   "source": [
    "### [Bandit](https://github.com/PyCQA/bandit)\n",
    "\n",
    "Tries to detect\n",
    "\n",
    "  * security defects\n",
    "  * hardcoded passwords\n",
    "  * Shell injections\n",
    "  * SQL injections\n",
    "\n",
    "```\n",
    "$ bandit -r minitwit_mysql.py\n",
    "[main]\tINFO\tprofile include tests: None\n",
    "[main]\tINFO\tprofile exclude tests: None\n",
    "[main]\tINFO\tcli include tests: None\n",
    "[main]\tINFO\tcli exclude tests: None\n",
    "[main]\tINFO\trunning on Python 3.7.3\n",
    "[node_visitor]\tINFO\tUnable to find qualified name for module: minitwit_mysql.py\n",
    "Run started:2020-03-11 16:44:27.375384\n",
    "\n",
    "Test results:\n",
    ">> Issue: [B105:hardcoded_password_string] Possible hardcoded password: 'root'\n",
    "   Severity: Low   Confidence: Medium\n",
    "   Location: minitwit_mysql.py:39\n",
    "   More Info: https://bandit.readthedocs.io/en/latest/plugins/b105_hardcoded_password_string.html\n",
    "38\tDB_USER = \"root\"\n",
    "39\tDB_PASSWORD = \"root\"\n",
    "40\tDB_NAME = \"minitwit\"\n",
    "\n",
    "--------------------------------------------------\n",
    ">> Issue: [B105:hardcoded_password_string] Possible hardcoded password: 'development key'\n",
    "   Severity: Low   Confidence: Medium\n",
    "   Location: minitwit_mysql.py:45\n",
    "   More Info: https://bandit.readthedocs.io/en/latest/plugins/b105_hardcoded_password_string.html\n",
    "44\tDEBUG = True\n",
    "45\tSECRET_KEY = \"development key\"\n",
    "46\n",
    "47\t# create our little application :)\n",
    "48\tapp = Flask(__name__)\n",
    "\n",
    "--------------------------------------------------\n",
    ">> Issue: [B608:hardcoded_sql_expressions] Possible SQL injection vector through string-based query construction.\n",
    "   Severity: Medium   Confidence: Medium\n",
    "   Location: minitwit_mysql.py:89\n",
    "   More Info: https://bandit.readthedocs.io/en/latest/plugins/b608_hardcoded_sql_expressions.html\n",
    "88\t    cur.execute(\n",
    "89\t        \"select user_id from user where username = '{}'\".format(username)\n",
    "90\t    )\n",
    "\n",
    "--------------------------------------------------\n",
    ">> Issue: [B303:blacklist] Use of insecure MD2, MD4, MD5, or SHA1 hash function.\n",
    "   Severity: Medium   Confidence: High\n",
    "   Location: minitwit_mysql.py:104\n",
    "   More Info: https://bandit.readthedocs.io/en/latest/blacklists/blacklist_calls.html#b303-md5\n",
    "103\t    return \"http://www.gravatar.com/avatar/%s?d=identicon&s=%d\" % (\n",
    "104\t        md5(email.strip().lower().encode(\"utf-8\")).hexdigest(),\n",
    "105\t        size,\n",
    "\n",
    "--------------------------------------------------\n",
    ">> Issue: [B608:hardcoded_sql_expressions] Possible SQL injection vector through string-based query construction.\n",
    "   Severity: Medium   Confidence: Low\n",
    "   Location: minitwit_mysql.py:118\n",
    "   More Info: https://bandit.readthedocs.io/en/latest/plugins/b608_hardcoded_sql_expressions.html\n",
    "117\t        g.user = query_db(\n",
    "118\t            \"select * from user where user_id = '{}'\".format(session[\"user_id\"]),\n",
    "119\t            one=True,\n",
    "\n",
    "--------------------------------------------------\n",
    ">> Issue: [B608:hardcoded_sql_expressions] Possible SQL injection vector through string-based query construction.\n",
    "   Severity: Medium   Confidence: Low\n",
    "   Location: minitwit_mysql.py:147\n",
    "   More Info: https://bandit.readthedocs.io/en/latest/plugins/b608_hardcoded_sql_expressions.html\n",
    "146\t                                    where who_id = {}))\n",
    "147\t        order by message.pub_date desc limit {}\"\"\"\n",
    "148\t            .format(session[\"user_id\"], session[\"user_id\"], PER_PAGE),\n",
    "\n",
    "--------------------------------------------------\n",
    ">> Issue: [B608:hardcoded_sql_expressions] Possible SQL injection vector through string-based query construction.\n",
    "   Severity: Medium   Confidence: Low\n",
    "   Location: minitwit_mysql.py:161\n",
    "   More Info: https://bandit.readthedocs.io/en/latest/plugins/b608_hardcoded_sql_expressions.html\n",
    "160\t        where message.flagged = 0 and message.author_id = user.user_id\n",
    "161\t        order by message.pub_date desc limit {}\"\"\".format(PER_PAGE)),\n",
    "162\t    )\n",
    "\n",
    "--------------------------------------------------\n",
    ">> Issue: [B608:hardcoded_sql_expressions] Possible SQL injection vector through string-based query construction.\n",
    "   Severity: Medium   Confidence: Low\n",
    "   Location: minitwit_mysql.py:169\n",
    "   More Info: https://bandit.readthedocs.io/en/latest/plugins/b608_hardcoded_sql_expressions.html\n",
    "168\t    profile_user = query_db(\n",
    "169\t        \"select * from user where username = '{}'\".format(username), one=True\n",
    "170\t    )\n",
    "\n",
    "--------------------------------------------------\n",
    ">> Issue: [B608:hardcoded_sql_expressions] Possible SQL injection vector through string-based query construction.\n",
    "   Severity: Medium   Confidence: Low\n",
    "   Location: minitwit_mysql.py:178\n",
    "   More Info: https://bandit.readthedocs.io/en/latest/plugins/b608_hardcoded_sql_expressions.html\n",
    "177\t                \"\"\"select 1 from follower where\n",
    "178\t            follower.who_id = {} and follower.whom_id = {}\"\"\".format(session[\"user_id\"], profile_user[\"user_id\"]),\n",
    "179\t                one=True,\n",
    "\n",
    "--------------------------------------------------\n",
    ">> Issue: [B608:hardcoded_sql_expressions] Possible SQL injection vector through string-based query construction.\n",
    "   Severity: Medium   Confidence: Low\n",
    "   Location: minitwit_mysql.py:189\n",
    "   More Info: https://bandit.readthedocs.io/en/latest/plugins/b608_hardcoded_sql_expressions.html\n",
    "188\t            user.user_id = message.author_id and user.user_id = {}\n",
    "189\t            order by message.pub_date desc limit {}\"\"\".format(profile_user[\"user_id\"], PER_PAGE),\n",
    "190\t        ),\n",
    "\n",
    "--------------------------------------------------\n",
    ">> Issue: [B608:hardcoded_sql_expressions] Possible SQL injection vector through string-based query construction.\n",
    "   Severity: Medium   Confidence: Medium\n",
    "   Location: minitwit_mysql.py:206\n",
    "   More Info: https://bandit.readthedocs.io/en/latest/plugins/b608_hardcoded_sql_expressions.html\n",
    "205\t    cur.execute(\n",
    "206\t        \"insert into follower (who_id, whom_id) values ({}, {})\".format(session[\"user_id\"], whom_id),\n",
    "207\t    )\n",
    "\n",
    "--------------------------------------------------\n",
    ">> Issue: [B608:hardcoded_sql_expressions] Possible SQL injection vector through string-based query construction.\n",
    "   Severity: Medium   Confidence: Medium\n",
    "   Location: minitwit_mysql.py:223\n",
    "   More Info: https://bandit.readthedocs.io/en/latest/plugins/b608_hardcoded_sql_expressions.html\n",
    "222\t    cur.execute(\n",
    "223\t        \"delete from follower where who_id={} and whom_id={}\".format(session[\"user_id\"], whom_id),\n",
    "224\t    )\n",
    "\n",
    "--------------------------------------------------\n",
    ">> Issue: [B608:hardcoded_sql_expressions] Possible SQL injection vector through string-based query construction.\n",
    "   Severity: Medium   Confidence: Medium\n",
    "   Location: minitwit_mysql.py:239\n",
    "   More Info: https://bandit.readthedocs.io/en/latest/plugins/b608_hardcoded_sql_expressions.html\n",
    "238\t            \"\"\"insert into message (author_id, text, pub_date, flagged)\n",
    "239\t            values ({}, '{}', {}, 0)\"\"\".format(session[\"user_id\"], request.form[\"text\"], int(time.time())),\n",
    "240\t        )\n",
    "\n",
    "--------------------------------------------------\n",
    ">> Issue: [B608:hardcoded_sql_expressions] Possible SQL injection vector through string-based query construction.\n",
    "   Severity: Medium   Confidence: Low\n",
    "   Location: minitwit_mysql.py:255\n",
    "   More Info: https://bandit.readthedocs.io/en/latest/plugins/b608_hardcoded_sql_expressions.html\n",
    "254\t            \"\"\"select * from user where\n",
    "255\t            username = '{}'\"\"\".format(request.form[\"username\"]),\n",
    "256\t            one=True,\n",
    "\n",
    "--------------------------------------------------\n",
    ">> Issue: [B608:hardcoded_sql_expressions] Possible SQL injection vector through string-based query construction.\n",
    "   Severity: Medium   Confidence: Low\n",
    "   Location: minitwit_mysql.py:289\n",
    "   More Info: https://bandit.readthedocs.io/en/latest/plugins/b608_hardcoded_sql_expressions.html\n",
    "288\t            query = \"\"\"insert into user (\n",
    "289\t                username, email, pw_hash) values ('{}', '{}', '{}')\"\"\".format(\n",
    "290\t                    request.form[\"username\"],\n",
    "\n",
    "--------------------------------------------------\n",
    ">> Issue: [B104:hardcoded_bind_all_interfaces] Possible binding to all interfaces.\n",
    "   Severity: Medium   Confidence: Medium\n",
    "   Location: minitwit_mysql.py:314\n",
    "   More Info: https://bandit.readthedocs.io/en/latest/plugins/b104_hardcoded_bind_all_interfaces.html\n",
    "313\tif __name__ == \"__main__\":\n",
    "314\t    app.run(host=\"0.0.0.0\", port=5000)\n",
    "\n",
    "--------------------------------------------------\n",
    "\n",
    "Code scanned:\n",
    "\tTotal lines of code: 251\n",
    "\tTotal lines skipped (#nosec): 0\n",
    "\n",
    "Run metrics:\n",
    "\tTotal issues (by severity):\n",
    "\t\tUndefined: 0.0\n",
    "\t\tLow: 2.0\n",
    "\t\tMedium: 14.0\n",
    "\t\tHigh: 0.0\n",
    "\tTotal issues (by confidence):\n",
    "\t\tUndefined: 0.0\n",
    "\t\tLow: 8.0\n",
    "\t\tMedium: 7.0\n",
    "\t\tHigh: 1.0\n",
    "Files skipped (0):\n",
    "```"
   ]
  },
  {
   "cell_type": "markdown",
   "metadata": {
    "slideshow": {
     "slide_type": "subslide"
    }
   },
   "source": [
    "### [Black](https://github.com/psf/black)\n",
    "\n",
    "  > Black is the uncompromising Python code formatter. By using it, you agree to cede control over minutiae of hand-formatting. In return, Black gives you speed, determinism, and freedom from `pycodestyle` nagging about formatting. You will save time and mental energy for more important matters.\n",
    "  >\n",
    "  > https://github.com/psf/black\n",
    "  \n",
    "  \n",
    "```\n",
    "$ black minitwit_mysql.py\n",
    "reformatted minitwit_mysql.py\n",
    "All done! ✨ 🍰 ✨\n",
    "1 file reformatted.\n",
    "```"
   ]
  },
  {
   "cell_type": "markdown",
   "metadata": {
    "slideshow": {
     "slide_type": "skip"
    }
   },
   "source": [
    "The above tool presentation is inspired by https://luminousmen.com/post/python-static-analysis-tools"
   ]
  },
  {
   "cell_type": "markdown",
   "metadata": {
    "slideshow": {
     "slide_type": "subslide"
    }
   },
   "source": [
    "### How to measure maintainabiliy and TD?\n",
    "\n",
    "The answer is likely similar to as to how to measure software quality: It is neither easy nor straight forward."
   ]
  },
  {
   "cell_type": "markdown",
   "metadata": {
    "slideshow": {
     "slide_type": "subslide"
    }
   },
   "source": [
    "\n",
    "Even though difficult and not straight forward, there exists a number tools that automatically measure various quality attributes of software (currently mainly source code):\n",
    "\n",
    "For example, the following tools allow to asses software code quality:\n",
    "\n",
    "  \n",
    "<img src=\"http://itu.dk/people/ropf/presentations/images/sw_qual_tools.png\" width=60%>\n",
    "\n"
   ]
  },
  {
   "cell_type": "markdown",
   "metadata": {
    "slideshow": {
     "slide_type": "subslide"
    }
   },
   "source": [
    "\n",
    "  * [Sonarqube](https://sonarcloud.io)\n",
    "    - Provides a maintainability and TD measure/index\n",
    "    - Example:  https://sonarcloud.io/dashboard?id=itu-devops_itu-minitwit-terraform\n",
    "  * [Code Climate](https://codeclimate.com/)\n",
    "    - Provides a maintainability index\n",
    "  * [Better Code Hub](https://bettercodehub.com/)\n",
    "    - Focuses on maintainability, mainly based on the book:\n",
    "      - J. Visser et al. [_\"Building Maintainable Software, Java Edition\"_](\n",
    "https://books.google.dk/books?id=2MV4CwAAQBAJ&printsec=frontcover&dq=building+maintainable+software+java&hl=da&sa=X&ved=2ahUKEwith7qMx7DvAhUF7KQKHbOZBvYQ6AEwAHoECAIQAg#v=onepage&q=building%20maintainable%20software%20java&f=false)\n",
    "      - J. Visser et al. [_\"Building Maintainable Software, C# Edition\"_](https://books.google.dk/books?hl=da&lr=&id=-QVQDAAAQBAJ&oi=fnd&pg=PR2&dq=building+maintainable+software&ots=77PM9UQrHO&sig=wDj8VeCd8dap2Rzc103jykR_K9k&redir_esc=y#v=onepage&q=building%20maintainable%20software&f=false)"
   ]
  },
  {
   "cell_type": "markdown",
   "metadata": {
    "slideshow": {
     "slide_type": "subslide"
    }
   },
   "source": [
    "But be aware of what tools actually measure and of:\n",
    "\n",
    "  > The project or organization must start by making a list of nonfunctional requirements that define the \"right code.\" We call this the quality model.\n",
    "  >\n",
    "  > Letouzey et al. 2012 _\"Managing Technical Debt with the SQALE Method\"_\n",
    "\n"
   ]
  },
  {
   "cell_type": "markdown",
   "metadata": {
    "slideshow": {
     "slide_type": "subslide"
    }
   },
   "source": [
    "#### Technical Debt for SonarQube - The SQALE method\n",
    "\n",
    "  > **Technical Debt** (`sqale_index`)\n",
    "  > \n",
    "  > Effort to fix all Code Smells. The measure is stored in minutes in the database. An 8-hour day is assumed when values are shown in days.\n",
    "  > \n",
    "  > https://docs.sonarqube.org/latest/user-guide/metric-definitions/#header-4"
   ]
  },
  {
   "cell_type": "markdown",
   "metadata": {
    "slideshow": {
     "slide_type": "fragment"
    }
   },
   "source": [
    "  > **Technical Debt Ratio** (`sqale_debt_ratio`)\n",
    "  > \n",
    "  > Ratio between the cost to develop the software and the cost to fix it. The Technical Debt Ratio formula is:\n",
    "  > \n",
    "  > `Remediation cost / Development cost`\n",
    "  >\n",
    "  > Which can be restated as:\n",
    "  >\n",
    "  > `Remediation cost / (Cost to develop 1 line of code * Number of lines of code)`\n",
    "  > \n",
    "  > The value of the cost to develop a line of code is 0.06 days.\n",
    "  > \n",
    "  > https://docs.sonarqube.org/latest/user-guide/metric-definitions/#header-4"
   ]
  },
  {
   "cell_type": "code",
   "execution_count": null,
   "metadata": {},
   "outputs": [],
   "source": []
  },
  {
   "cell_type": "markdown",
   "metadata": {
    "slideshow": {
     "slide_type": "subslide"
    }
   },
   "source": [
    "## Orga\n"
   ]
  },
  {
   "cell_type": "markdown",
   "metadata": {
    "slideshow": {
     "slide_type": "subslide"
    }
   },
   "source": [
    "### Want to write your thesis about SW-Quality, Metrics, Technical Debt, or related topics?\n",
    "\n",
    "In case you think any of these questions are intriguing and if you think that some of the presented tools appear like black magic and you don't belive/trust them, then all this stuff is my area of research and I love to supervise thesis in this area!\n",
    "\n",
    "Just feel free to contact me."
   ]
  },
  {
   "cell_type": "markdown",
   "metadata": {
    "slideshow": {
     "slide_type": "subslide"
    }
   },
   "source": [
    "### Another Guest Lecture\n",
    "\n",
    "![](https://www.twobirds.com/en/our-lawyers/%2F%7E%2Fmedia%2Fimages%2Fbird-and-bird%2Flawyer-bios%2Fphotos%2Fdenmark%2Falexander-lundkvist%2Falexander-lundkvist-module.jpg)\n",
    "\n",
    "Remember, next week we are having a guest lecture by [Alexander from Bird&Bird lawyers](https://www.twobirds.com/en/our-lawyers/a/alexander-lundkvist).\n",
    "\n",
    "He will tell you about software licenses, software license compatibility, i.e., he will give you information on if you could build your systems with all their dependencies in that way if you were in a real project.\n",
    "\n",
    "The setup will be:\n",
    "\n",
    "  * Lecture: 8:00 - 12:00 (as usual)\n",
    "  * Guest lecture: **11:00**-**12:00** (Please come all back to the main Zoom meeting before 11:00) \n",
    "\n"
   ]
  },
  {
   "cell_type": "markdown",
   "metadata": {
    "slideshow": {
     "slide_type": "subslide"
    }
   },
   "source": [
    "### Time to say good-bye\n",
    "\n",
    "![](http://cdn.lowgif.com/medium/84746cb797486e97-.gif)\n",
    "\n",
    "... for now. 😢\n",
    "\n",
    "I won't be gone, I will be in the chat, when required I will join the exercise sessions, and you will see me for sure again in the very last session, when we shut down the simulator and tell you what to do before the exams.\n",
    "\n",
    "From next week, Mircea will take over and tell you more about interesting topics."
   ]
  },
  {
   "cell_type": "markdown",
   "metadata": {
    "slideshow": {
     "slide_type": "subslide"
    }
   },
   "source": [
    "# What to do now?\n",
    "\n",
    "  * To prepare for your project work, practice with the [exercises](./README_EXERCISE.md)\n",
    "  * Do the [project work](./README_TASKS.md) until the end of the week\n",
    "  * And [prepare for the next session](../session_08/README_PREP.md)"
   ]
  }
 ],
 "metadata": {
  "celltoolbar": "Slideshow",
  "kernelspec": {
   "display_name": "Python 3",
   "language": "python",
   "name": "python3"
  },
  "language_info": {
   "codemirror_mode": {
    "name": "ipython",
    "version": 3
   },
   "file_extension": ".py",
   "mimetype": "text/x-python",
   "name": "python",
   "nbconvert_exporter": "python",
   "pygments_lexer": "ipython3",
   "version": "3.7.6"
  }
 },
 "nbformat": 4,
 "nbformat_minor": 2
}
