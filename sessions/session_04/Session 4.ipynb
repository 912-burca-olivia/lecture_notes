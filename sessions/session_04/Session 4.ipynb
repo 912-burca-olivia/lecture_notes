{
 "cells": [
  {
   "cell_type": "markdown",
   "metadata": {
    "slideshow": {
     "slide_type": "slide"
    }
   },
   "source": [
    "![](https://www.saa-authors.eu/picture/739/ftw_768/saa-mtcwmza4nzq5mq.jpg)"
   ]
  },
  {
   "cell_type": "markdown",
   "metadata": {
    "slideshow": {
     "slide_type": "slide"
    }
   },
   "source": [
    "# Feedback & Info\n"
   ]
  },
  {
   "cell_type": "markdown",
   "metadata": {
    "slideshow": {
     "slide_type": "subslide"
    }
   },
   "source": [
    "## Activity Dashboard\n",
    "\n",
    "  * [Daily commit activity per group](http://159.89.26.109/commit_activity_daily.svg)\n",
    "  * [Weekly commit activity per group](http://159.89.26.109/commit_activity_weekly.svg)\n",
    "  * [Weekly release activity per group](http://159.89.26.109/release_activity_weekly.svg)"
   ]
  },
  {
   "cell_type": "markdown",
   "metadata": {
    "slideshow": {
     "slide_type": "subslide"
    }
   },
   "source": [
    "## Lovely that you help each other and me on Teams!!!\n",
    "\n",
    "                                               _   _\n",
    "       _______________                        |*\\_/*|________\n",
    "      |  ___________  |     .-.     .-.      ||_/-\\_|______  |\n",
    "      | |           | |    .****. .****.     | |           | |\n",
    "      | |   0   0   | |    .*****.*****.     | |   0   0   | |\n",
    "      | |     -     | |     .*********.      | |     -     | |\n",
    "      | |   \\___/   | |      .*******.       | |   \\___/   | |\n",
    "      | |___     ___| |       .*****.        | |___________| |\n",
    "      |_____|\\_/|_____|        .***.         |_______________|\n",
    "        _|__|/ \\|_|_.............*.............._|________|_\n",
    "       / ********** \\                          / ********** \\\n",
    "     /  ************  \\                      /  ************  \\\n",
    "    --------------------                    --------------------\n",
    "\n",
    "Keep on that good spirit!"
   ]
  },
  {
   "cell_type": "markdown",
   "metadata": {
    "slideshow": {
     "slide_type": "subslide"
    }
   },
   "source": [
    "## General Advise\n",
    "\n",
    "  * **Log** what you have been doing. This makes it easier for the TAs and your group fellows to help you. Also it is a prerequisite to [ask good questions](https://stackoverflow.com/help/how-to-ask) or write good [bug reports](https://www.kenst.com/2018/02/how-to-write-a-good-bug-report-use-rimgen/).\n",
    "  * Make sure to **read** each bullet/sentence written in task descriptions."
   ]
  },
  {
   "cell_type": "markdown",
   "metadata": {
    "slideshow": {
     "slide_type": "subslide"
    }
   },
   "source": [
    "## Questions"
   ]
  },
  {
   "cell_type": "markdown",
   "metadata": {
    "slideshow": {
     "slide_type": "fragment"
    }
   },
   "source": [
    "#### When does it start precisely?\n",
    "\n",
    "Send again a pull request to `repositories.py` in our central repository: https://github.com/itu-devops/lecture_notes/blob/master/repositories.py\n",
    "\n",
    "Add two URL links:\n",
    "\n",
    "  * One to your running applications (edit `\"http://<minitwit_application_url>\"`)\n",
    "  * Another one to the simulator API endpoint (edit `\"http://<sim_api_url>\"`)"
   ]
  },
  {
   "cell_type": "markdown",
   "metadata": {},
   "source": [
    "-------------"
   ]
  },
  {
   "cell_type": "markdown",
   "metadata": {
    "slideshow": {
     "slide_type": "slide"
    }
   },
   "source": [
    "# Motivation - Building and deploying software can be scary.\n",
    "\n",
    "\n",
    "<img src=\"http://media.giphy.com/media/DHujNQWc9XjRC/giphy.gif\" width=\"30%\">\n",
    "\n",
    "\n",
    "You can break things, tests will fail, colleagues might get angry, etc.\n",
    "\n",
    "However, an infrastructure that lets you deliver and deploy automatically and continuously may help to reduce those fears that many developers have. It allows you to deploy frequently without any manual intervention. In particular, when things go wrong you just deploy a fix quickly and easily."
   ]
  },
  {
   "cell_type": "markdown",
   "metadata": {
    "slideshow": {
     "slide_type": "subslide"
    }
   },
   "source": [
    "### Your Turn! -  `Task 1`\n",
    "<img src=\"https://media.giphy.com/media/13GIgrGdslD9oQ/giphy.gif\" width=50%/>\n",
    "\n",
    "  - How do you build your software currently?\n",
    "  - Which steps have to be performed after checking out your repository to create the 'executable' artifact?\n",
    "\n",
    "Note the steps in bullet points and share them in the [General channel](https://teams.microsoft.com/l/channel/19%3a2e0525061c7c44c3b4e57d61edba106b%40thread.tacv2/General?groupId=9505ab1e-489e-4444-a47f-0f8883316005&tenantId=bea229b6-7a08-4086-b44c-71f57f716bdb) (one entry per team)"
   ]
  },
  {
   "cell_type": "markdown",
   "metadata": {
    "slideshow": {
     "slide_type": "subslide"
    }
   },
   "source": [
    "\n",
    "# How can you build and deploy?"
   ]
  },
  {
   "cell_type": "markdown",
   "metadata": {
    "slideshow": {
     "slide_type": "subslide"
    }
   },
   "source": [
    "  * Not at all, I work on the server...\n",
    "  * Manually, via SSH/SCP\n",
    "  * Via scripted flows\n",
    "  * Via build systems"
   ]
  },
  {
   "cell_type": "markdown",
   "metadata": {
    "slideshow": {
     "slide_type": "subslide"
    }
   },
   "source": [
    "[`make`](https://www.gnu.org/software/make/manual/html_node/) is likely one of the oldest build automation tools.\n",
    "An example of a `Makefile` that builds and deploys a homepage via SCP.\n",
    "\n",
    "```\n",
    ".PHONY: build serve all deploy\n",
    "\n",
    "build:\n",
    "        ./build.sh\n",
    "\n",
    "serve:\n",
    "        cd public\n",
    "        open index.html\n",
    "        python -m http.server\n",
    "\n",
    "all: build\n",
    "        git add -A && git commit -m \"Automatic predeploy commit on `date \"+%Y-%m-%d_%H:%M:%S\"`\"\n",
    "        git push origin master\n",
    "        scp -r public/* me@server.itu.dk:/import/home/me/public_html\n",
    "\n",
    "deploy: build\n",
    "        scp -r public/* me@server.dk:/import/home/me/public_html\n",
    "```\n",
    "\n",
    "A bit more complicated example, the Linux kernel [`Makefile`](https://github.com/torvalds/linux/blob/master/Makefile)"
   ]
  },
  {
   "cell_type": "markdown",
   "metadata": {
    "slideshow": {
     "slide_type": "subslide"
    }
   },
   "source": [
    "\n",
    "# How do companies build and deploy?"
   ]
  },
  {
   "cell_type": "markdown",
   "metadata": {
    "slideshow": {
     "slide_type": "fragment"
    }
   },
   "source": [
    "## Github\n",
    "\n",
    "  > We are constantly deploying at GitHub. Dozens of times a day.\n",
    "  > \n",
    "  > Any employee can deploy to production from Campfire with a single message. When someone pushes to master, after watching the tests pass, they're encouraged to immediately deploy to production. This way, everyone is responsible for their own code being production-ready, and people don't have to worry about pushing someone else's code and breaking production.\n",
    "  > \n",
    "  > Recently, this process got even better. Now, after someone pushes to master and the tests pass, master is deployed to production automatically. We have ways of preventing this from happening (an employee can temporarily lock deployment while they're collecting data, for example), but by default, production is always up-to-date with master.\n",
    "  > \n",
    "  > This is a fantastic way of doing things. Deploying constantly means we completely avoid giant scary \"deployment days\", and our fast and painless deployment process means we can quickly fix problems as they're discovered.\n",
    "  > \n",
    "  > Jake Boxer (https://www.quora.com/How-often-do-major-software-companies-such-as-Github-Facebook-Google-Quora-Pinterest-etc-push-code-to-production-Is-there-any-standard-pattern-of-release-cycle-which-any-company-can-follow)"
   ]
  },
  {
   "cell_type": "markdown",
   "metadata": {
    "slideshow": {
     "slide_type": "subslide"
    }
   },
   "source": [
    "## Amazon\n",
    "\n",
    "  > **Amazon May (2011) Deployment Stats (production hosts & environments only)**\n",
    "  >   \n",
    "  > * Mean time between deployments (weekday): 11.6 seconds\n",
    "  > * Max # of deployments in a single hour: 1,079\n",
    "  > * Mean # of hosts simultaneously receiving a deployment: 10,000\n",
    "  > * Max # of hosts simultaneously receiving a deployment: * 30,000\n",
    "  >\n",
    "  > https://web.archive.org/web/20160305150815/http://assets.en.oreilly.com/1/event/60/Velocity%20Culture%20Presentation.pdf\n",
    "  \n",
    "  > **Results**\n",
    "  > * 75% reduction in outages triggered by software deployments since 2006\n",
    "  > * 90% reduction in outage minutes triggered by software deployments\n",
    "  > * ~0.001% of software deployments cause an outage\n",
    "  > * Instantaneous automated rollback\n",
    "  > * Reduction in complexity\n",
    "\n",
    "You can see the entire talk with these numbers here: http://www.youtube.com/watch?v=dxk8b9rSKOo\n",
    "  "
   ]
  },
  {
   "cell_type": "markdown",
   "metadata": {
    "slideshow": {
     "slide_type": "subslide"
    }
   },
   "source": [
    "## Facebook\n",
    "\n",
    "Facebook deploys:\n",
    "\n",
    "  * One minor update on most business days\n",
    "  * One major update on a weekly basis, usually Tuesdays\n",
    "\n",
    "\n",
    "https://arstechnica.com/information-technology/2012/04/exclusive-a-behind-the-scenes-look-at-facebook-release-engineering/"
   ]
  },
  {
   "cell_type": "markdown",
   "metadata": {
    "slideshow": {
     "slide_type": "slide"
    }
   },
   "source": [
    "# Okay, but how can we do this?\n",
    "\n",
    "There are many CI/CD solutions. In our following example we will have a closer look to Travis CI. However, you might consider an alternative technology. The following list should link you to some commonly used solutions.\n",
    "\n",
    "Self-hosted most often in bigger organizations and companies:\n",
    "\n",
    "  * [Jenkins](https://jenkins.io/index.html)\n",
    "  * [Bamboo](https://www.atlassian.com/software/bamboo)\n",
    "  * [TeamCity](https://www.jetbrains.com/teamcity/)\n",
    "  * [Concourse](https://concourse.ci)\n",
    "  * [Azure DevOps Server](https://azure.microsoft.com/en-us/services/devops/server/)\n",
    "  \n",
    "CI/CD as a service:\n",
    "\n",
    "  * [Travis CI](https://travis-ci.org/)\n",
    "  * [CircleCI](https://circleci.com)\n",
    "  * [Github Actions](https://github.com/features/actions)\n",
    "  * [Wercker](http://www.wercker.com)"
   ]
  },
  {
   "cell_type": "markdown",
   "metadata": {
    "slideshow": {
     "slide_type": "subslide"
    }
   },
   "source": [
    "##  CI/CD System???\n",
    "\n",
    "  > A CI system clones the codebase for the software under consideration from a source control system such as GitHub, builds the software into an artifact that can be a binary, a tar archive, or a Docker image, and, very importantly, also runs unit and/or integration tests for the software. A CD system deploys the artifacts built by the CI system to a target environment. This deployment can be automated for nonproduction environments, but usually includes a manual approval step for production. A more advanced type of such systems is a continuous delivery platform, which automates the deployment step to production and is capable of rolling back the deployment based on metrics obtained from monitoring and logging platforms.\n",
    "  >\n",
    "  > N. Gift et al. [_\"Python for DevOps\"_](https://www.oreilly.com/library/view/python-for-devops/9781492057680/)"
   ]
  },
  {
   "cell_type": "markdown",
   "metadata": {
    "slideshow": {
     "slide_type": "slide"
    }
   },
   "source": [
    "# A CI/CD Example Setup\n",
    "\n",
    "This is a guide on how to setup an example continuous integration (CI) chain using the following technologies and tools:\n",
    "\n",
    "  * the distributed version control system (VCS) Git (https://git-scm.com) and GitHub (https://github.com) as host,\n",
    "  * the build server service Travis CI (https://travis-ci.com/),\n",
    "  * Docker containers (https://www.docker.com) and DockerHub (https://hub.docker.com) as a public artifact registry,\n",
    "  * Vagrant (https://www.vagrantup.com) to setup and manage virtual remote machines,\n",
    "  * and the cloud server provider Digital Ocean (https://www.digitalocean.com).\n",
    "\n",
    "<!--\n",
    "Note, the scenario was mainly created by you lovely TAs Christoffer and Zander (in alphabetical order)\n",
    "-->"
   ]
  },
  {
   "cell_type": "markdown",
   "metadata": {
    "slideshow": {
     "slide_type": "slide"
    }
   },
   "source": [
    "# Scenario\n",
    "\n",
    "We have the ITU-MiniTwit application. Now, it is using MySQL as DBMS instead of SQLite. The entire application is bundled in Docker images and run as single containers for now."
   ]
  },
  {
   "cell_type": "markdown",
   "metadata": {
    "slideshow": {
     "slide_type": "fragment"
    }
   },
   "source": [
    "![](images/CICD_Setup.png)\n"
   ]
  },
  {
   "cell_type": "markdown",
   "metadata": {
    "slideshow": {
     "slide_type": "subslide"
    }
   },
   "source": [
    "## Step 1 - Setup Artifacts Store\n",
    "\n",
    "![](images/CICD_Setup_1.png)\n"
   ]
  },
  {
   "cell_type": "markdown",
   "metadata": {
    "slideshow": {
     "slide_type": "subslide"
    }
   },
   "source": [
    "Alternatives are:\n",
    "\n",
    "  * [Artefactory](https://jfrog.com/artifactory/)\n",
    "  * [GitHub Packages](https://github.com/features/packages)\n",
    "  * The package store of your programming languages package manager:\n",
    "    - [Maven Central Repository](https://search.maven.org/)\n",
    "    - [NuGet store](https://www.nuget.org/)\n",
    "    - [Python Package Index](https://pypi.org)\n",
    "    - [NPM store](https://www.npmjs.com/), etc.\n",
    "  * Any of the latter self-hosted\n",
    "  * Or perhaps just your VCS repository"
   ]
  },
  {
   "cell_type": "markdown",
   "metadata": {
    "slideshow": {
     "slide_type": "subslide"
    }
   },
   "source": [
    "## Step 2 - Setup Remote VM and Keys\n",
    "\n",
    "![](images/CICD_Setup_2.png)\n"
   ]
  },
  {
   "cell_type": "markdown",
   "metadata": {
    "slideshow": {
     "slide_type": "subslide"
    }
   },
   "source": [
    "## Step 3 - Building, Testing & Delivering  the Software\n",
    "\n",
    "![](images/CICD_Setup_3.png)"
   ]
  },
  {
   "cell_type": "markdown",
   "metadata": {
    "slideshow": {
     "slide_type": "subslide"
    }
   },
   "source": [
    "## Step 4 - Deploying  the Software\n",
    "\n",
    "![](images/CICD_Setup.png)"
   ]
  },
  {
   "cell_type": "markdown",
   "metadata": {
    "slideshow": {
     "slide_type": "slide"
    }
   },
   "source": [
    "# Reflection - How about the CI/CD Scenario?\n",
    "\n"
   ]
  },
  {
   "cell_type": "markdown",
   "metadata": {
    "slideshow": {
     "slide_type": "slide"
    }
   },
   "source": [
    "# What to do now?\n",
    "\n",
    "  * To prepare for your project work, practice with the [exercises](../session_04/README_EXERCISE.md)\n",
    "  * Do the [project work](../session_04/README_TASKS.md) until the end of the week\n",
    "  * And [prepare for the next session](../session_07/README_PREP.md)"
   ]
  }
 ],
 "metadata": {
  "celltoolbar": "Slideshow",
  "kernelspec": {
   "display_name": "Python 3",
   "language": "python",
   "name": "python3"
  },
  "language_info": {
   "codemirror_mode": {
    "name": "ipython",
    "version": 3
   },
   "file_extension": ".py",
   "mimetype": "text/x-python",
   "name": "python",
   "nbconvert_exporter": "python",
   "pygments_lexer": "ipython3",
   "version": "3.8.8"
  }
 },
 "nbformat": 4,
 "nbformat_minor": 2
}
