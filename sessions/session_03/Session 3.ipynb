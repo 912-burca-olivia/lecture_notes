{
 "cells": [
  {
   "cell_type": "markdown",
   "metadata": {
    "slideshow": {
     "slide_type": "slide"
    }
   },
   "source": [
    "![](https://www.saa-authors.eu/picture/739/ftw_768/saa-mtcwmza4nzq5mq.jpg)"
   ]
  },
  {
   "cell_type": "markdown",
   "metadata": {
    "slideshow": {
     "slide_type": "slide"
    }
   },
   "source": [
    "# Feedback\n"
   ]
  },
  {
   "cell_type": "markdown",
   "metadata": {
    "slideshow": {
     "slide_type": "subslide"
    }
   },
   "source": [
    "## How are you after starting refactoring?"
   ]
  },
  {
   "cell_type": "markdown",
   "metadata": {
    "slideshow": {
     "slide_type": "subslide"
    }
   },
   "source": [
    "## Status of your rewrite?"
   ]
  },
  {
   "cell_type": "markdown",
   "metadata": {
    "slideshow": {
     "slide_type": "subslide"
    }
   },
   "source": [
    "  * Multiple repos? -> Send a PR on `repositories.py`, we collect all of your repos there\n",
    "\n",
    "  * Distribute work across all team members.\n",
    "  * Take small steps, try to work agile.\n",
    "  \n",
    "  * How do you plan/organize your work? -> You might consider using, e.g., GH issues.\n",
    "  \n",
    "  \n",
    "MSc students:\n",
    "\n",
    "  * Are you sure that you logged your decisions?"
   ]
  },
  {
   "cell_type": "markdown",
   "metadata": {
    "slideshow": {
     "slide_type": "subslide"
    }
   },
   "source": [
    "http://159.89.26.109/release_activity_weekly.svg\n",
    "![](http://159.89.26.109/release_activity_weekly.svg)"
   ]
  },
  {
   "cell_type": "markdown",
   "metadata": {
    "slideshow": {
     "slide_type": "subslide"
    }
   },
   "source": [
    "## What did we do the last two times?\n",
    "\n",
    "We tranfsered the _ITU-MiniTwit_ application from the server to your computers via `scp`.\n",
    "\n",
    "![](images/01_scp.png)"
   ]
  },
  {
   "cell_type": "markdown",
   "metadata": {
    "slideshow": {
     "slide_type": "subslide"
    }
   },
   "source": [
    "## Topic of today: What about that server?\n",
    "\n",
    "<img src=\"images/01_scp2.png\" width=50%>\n",
    "\n",
    "\n",
    "  * Where does it come from?\n",
    "  * How does it come there?\n",
    "  \n",
    "  "
   ]
  },
  {
   "cell_type": "markdown",
   "metadata": {
    "slideshow": {
     "slide_type": "subslide"
    }
   },
   "source": [
    "## Topic of today: What about that server?\n",
    "\n",
    "We will look at various ways to provision machines locally and remotely (in the \"cloud\").\n",
    "\n",
    "  * a) Provision of physical servers\n",
    "  * b) Manual provision of local virtual machines with VirtualBox\n",
    "  * c) Automatic provision of local virtual machines with VirtualBox and Vagrant\n",
    "  * d) Automatic provision of local clusters of virtual machines with VirtualBox and Vagrant\n",
    "  * e) Manual provision of remote virtual machines at DigitalOcean\n",
    "  * f) Automatic provision of remote virtual machines at DigitalOcean via a web-API\n",
    "  * g) Automatic provision of remote clusters of virtual machines at DigitalOcean via Vagrant"
   ]
  },
  {
   "cell_type": "markdown",
   "metadata": {
    "slideshow": {
     "slide_type": "slide"
    }
   },
   "source": [
    "----------------------\n",
    "# Getting bored today?\n",
    "\n",
    "\n",
    "![](http://static3.businessinsider.com/image/4fbfb86becad044879000001-506-253/suddenly-startups-have-gotten-very-boring.jpg)\n",
    "\n",
    "\n",
    "\n",
    "\n",
    "## [Start working on the exercises](./README_EXECISE.md)\n",
    "\n",
    "----------------------\n"
   ]
  },
  {
   "cell_type": "markdown",
   "metadata": {
    "slideshow": {
     "slide_type": "subslide"
    }
   },
   "source": [
    "## a) Provision of physical servers\n",
    "\n",
    "We can provision physical machines, either from commodity hardware or dedicated servers and put them in a suitable place.\n",
    "\n",
    "<img src=\"https://www.servethehome.com/wp-content/uploads/2020/12/MyElectronics.nl-Apple-Mac-Mini-and-Raspberry-Pi-Rack-5.jpg\" width=\"50%\">\n",
    "\n"
   ]
  },
  {
   "cell_type": "markdown",
   "metadata": {
    "slideshow": {
     "slide_type": "fragment"
    }
   },
   "source": [
    "  * What is the advantage of that?\n",
    "  * What might be a drawback?"
   ]
  },
  {
   "cell_type": "markdown",
   "metadata": {
    "slideshow": {
     "slide_type": "subslide"
    }
   },
   "source": [
    "## a) Provision of physical servers\n",
    "\n",
    "We have to setup, configure, and maintain these machines then. Both the hard- and software.\n",
    "\n",
    "Each of thesse activities takes likely quite some time, and they are hard \"to script\".\n",
    "\n",
    "<table>\n",
    "    <tbody>\n",
    "        <tr>\n",
    "            <td><img src=\"https://projects-static.raspberrypi.org/projects/raspberry-pi-setting-up/4df3ac6c8eb5b3b63407c6c6d88705fd9ec42f3f/en/images/pi-sd.png\"></td>\n",
    "            <td><img src=\"https://projects-static.raspberrypi.org/projects/raspberry-pi-setting-up/4df3ac6c8eb5b3b63407c6c6d88705fd9ec42f3f/en/images/pi-ethernet.png\"></td>\n",
    "        </tr>\n",
    "    </tbody>\n",
    "</table>\n"
   ]
  },
  {
   "cell_type": "markdown",
   "metadata": {
    "slideshow": {
     "slide_type": "subslide"
    }
   },
   "source": [
    "## b) Manual provision of local virtual machines with VirtualBox\n",
    "\n",
    "Many of you that did not install a Linux directly on your computer but in a virtual machine (VM) struggled through this, either with VirtualBox, VMWare, Parallels, etc.\n",
    "\n",
    "<img src=\"https://support.system76.com/_nuxt/image/b3128e.webp\" width=\"50%\">\n",
    "\n",
    "  * What is the advantage of that?\n",
    "  * What might be a drawback?"
   ]
  },
  {
   "cell_type": "markdown",
   "metadata": {
    "slideshow": {
     "slide_type": "subslide"
    }
   },
   "source": [
    "## b) Manual provision of local virtual machines with VirtualBox\n",
    "\n",
    "Depending on how you did, you had to perform a lot of manual steps. These are scripted by somebody, for example as in the [official documentation from System76](https://support.system76.com/articles/install-in-vm/).\n",
    "\n",
    "<table class=\"center\">\n",
    "    <tbody>\n",
    "        <tr>\n",
    "            <td><center>Configure RAM</center><img src=\"https://support.system76.com/_nuxt/image/7f3953.webp\" width=\"60%\"></td>\n",
    "            <td><center>Configure Harddisk</center><img src=\"https://support.system76.com/_nuxt/image/1bc2ff.webp\" width=\"80%\"></td>\n",
    "        </tr>\n",
    "        <tr>\n",
    "            <td><center>Start the VM</center><img src=\"https://support.system76.com/_nuxt/image/a94581.webp\" width=\"60%\"></td>\n",
    "            <td><center>Configure the OS Image</center><img src=\"https://support.system76.com/_nuxt/image/b531c7.webp\" width=\"80%\"></td>\n",
    "        </tr>\n",
    "    </tbody>\n",
    "</table>"
   ]
  },
  {
   "cell_type": "markdown",
   "metadata": {
    "slideshow": {
     "slide_type": "subslide"
    }
   },
   "source": [
    "## Virtual Machines (VM)???\n",
    "\n",
    "\n",
    "  > A hypervisor or virtual machine monitor (VMM) is *computer software*, *firmware* or *hardware* that creates and runs virtual machines. A computer on which a hypervisor runs one or more virtual machines is called a **host machine**, and each virtual machine is called a **guest machine**. \n",
    "  >\n",
    "  > The hypervisor presents the guest operating systems with a virtual operating platform and manages the execution of the guest operating systems. Multiple instances of a variety of operating systems may share the virtualized hardware resources: for example, Linux, Windows, and macOS instances **can all run on a single physical x86 machine**. \n",
    "  >\n",
    "  > This contrasts with **operating-system-level virtualization**, where all instances (usually called containers) must **share a single kernel**, though the guest operating systems can **differ in user space**, such as different Linux distributions with the same kernel.\n",
    "  >\n",
    "  > https://en.wikipedia.org/wiki/Hypervisor\n",
    "\n",
    "![](https://upload.wikimedia.org/wikipedia/commons/e/e1/Hyperviseur.png)\n",
    "\n"
   ]
  },
  {
   "cell_type": "markdown",
   "metadata": {
    "slideshow": {
     "slide_type": "subslide"
    }
   },
   "source": [
    "\n",
    "  > Virtual machines run guest operating systems-note the OS layer in each box. This is resource intensive, and the resulting disk image and application state is an entanglement of OS settings, system-installed dependencies, OS security patches, and other easy-to-lose, hard-to-replicate ephemera.\n",
    "  >\n",
    "  > (https://docs.docker.com/get-started/#containers-vs-virtual-machines)\n",
    "\n",
    "\n",
    "<img src=\"https://docs.docker.com/images/VM%402x.png\" width=35%>\n"
   ]
  },
  {
   "cell_type": "markdown",
   "metadata": {
    "slideshow": {
     "slide_type": "subslide"
    }
   },
   "source": [
    "## c) Automatic provision of local virtual machines with VirtualBox and Vagrant\n",
    "\n",
    "Since we are programmers and since DevOps relies heavily on automatization, we want to script the creation of virtual machines.\n",
    "\n",
    "VirtualBox comes with a CLI command [`VBoxManage`](https://www.virtualbox.org/manual/ch08.html), which can be used to create and interact with virtual machines.\n",
    "\n",
    "The following BASH script illustrates an example of how to programatically create a Debian 11.2.0 VM.\n",
    "The script is adapted from https://andreafortuna.org/2019/10/24/how-to-create-a-virtualbox-vm-from-command-line/.\n",
    "\n",
    "\n",
    "  * What is the advantage of that?\n",
    "  * What might be a drawback?\n",
    "  \n"
   ]
  },
  {
   "cell_type": "markdown",
   "metadata": {
    "slideshow": {
     "slide_type": "subslide"
    }
   },
   "source": [
    "```bash\n",
    "#!/usr/bin/env bash\n",
    "\n",
    "MACHINENAME=$1\n",
    "\n",
    "# Download debian.iso\n",
    "if [ ! -f ./debian.iso ]; then\n",
    "    wget https://cdimage.debian.org/debian-cd/current/amd64/iso-cd/debian-11.2.0-amd64-netinst.iso -O debian.iso\n",
    "fi\n",
    "\n",
    "#Create VM\n",
    "VBoxManage createvm --name \"$MACHINENAME\" --ostype \"Debian_64\" --register --basefolder \"$(pwd)\"\n",
    "#Set memory and network\n",
    "VBoxManage modifyvm \"$MACHINENAME\" --ioapic on\n",
    "VBoxManage modifyvm \"$MACHINENAME\" --memory 1024 --vram 128\n",
    "VBoxManage modifyvm \"$MACHINENAME\" --nic1 nat\n",
    "#Create Disk and connect Debian Iso\n",
    "VBoxManage createhd --filename \"$(pwd)\"/\"$MACHINENAME\"/\"$MACHINENAME_DISK\".vdi --size 80000 --format VDI\n",
    "VBoxManage storagectl \"$MACHINENAME\" --name \"SATA Controller\" --add sata --controller IntelAhci\n",
    "VBoxManage storageattach \"$MACHINENAME\" --storagectl \"SATA Controller\" --port 0 --device 0 --type hdd --medium  \"$(pwd)\"/\"$MACHINENAME\"/\"$MACHINENAME_DISK\".vdi\n",
    "VBoxManage storagectl \"$MACHINENAME\" --name \"IDE Controller\" --add ide --controller PIIX4\n",
    "VBoxManage storageattach \"$MACHINENAME\" --storagectl \"IDE Controller\" --port 1 --device 0 --type dvddrive --medium \"$(pwd)\"/debian.iso\n",
    "VBoxManage modifyvm \"$MACHINENAME\" --boot1 dvd --boot2 disk --boot3 none --boot4 none\n",
    "\n",
    "#Enable RDP\n",
    "VBoxManage modifyvm \"$MACHINENAME\" --vrde on\n",
    "VBoxManage modifyvm \"$MACHINENAME\" --vrdemulticon on --vrdeport 10001\n",
    "\n",
    "#Start the VM\n",
    "VBoxHeadless --startvm \"$MACHINENAME\"\n",
    "```"
   ]
  },
  {
   "cell_type": "markdown",
   "metadata": {
    "slideshow": {
     "slide_type": "skip"
    }
   },
   "source": [
    "In the following another example that creates a CentOS VM with VirtualBox.\n",
    "The script is adapted from https://hayato-iriumi.net/2019/06/13/create-virtualbox-vm-with-bash-script/.\n",
    "\n",
    "\n",
    "```bash\n",
    "#!/usr/bin/env bash\n",
    "VMName=\"CentOS\"\n",
    "VMDiskRoot=\"/mnt/firecuda/VMs\"\n",
    "DiskDir=\"$VMDiskRoot/$VMName\"\n",
    "DiskSize=$((1024*200))\n",
    "MemorySize=$((1024*9))\n",
    "VRamSize=128\n",
    "CPUCount=2\n",
    "OSTypeID=\"RedHat_64\"\n",
    "NetworkInterface=\"wlx503eaa732ee3\"\n",
    "ISOFilePath=$HOME/Downloads/CentOS-7-x86_64-Minimal-1810.iso\n",
    " \n",
    "echo \"Creating $VMName disk at $DiskDir. Its size is $DiskSize.\"\n",
    "if [ ! -d \"$DiskDir\" ]; then\n",
    "    mkdir -p $DiskDir\n",
    "fi\n",
    " \n",
    "#VBoxManage list vms\n",
    "echo \"Creating disk...\"\n",
    "VBoxManage createhd --filename \"$DiskDir/$VMName.vdi\" --size $DiskSize \n",
    " \n",
    "echo \"Creating VM...\"\n",
    "VBoxManage createvm --name $VMName --ostype \"$OSTypeID\" --register\n",
    " \n",
    "echo \"Adding the created disk to the VM...\"\n",
    "VBoxManage storagectl $VMName --name \"SATA Controller\" --add sata --portcount 1 --controller IntelAHCI\n",
    "VBoxManage storageattach $VMName --storagectl \"SATA Controller\" --port 0 --device 0 --type hdd --medium \"$DiskDir/$VMName.vdi\"\n",
    " \n",
    "VBoxManage storagectl $VMName --name \"IDE Controller\" --add ide\n",
    "VBoxManage storageattach $VMName --storagectl \"IDE Controller\" --port 0 --device 0 --type dvddrive --medium \"$ISOFilePath\"\n",
    " \n",
    "echo \"Setting memory...\"\n",
    "VBoxManage modifyvm $VMName --memory $MemorySize --vram $VRamSize --cpus $CPUCount\n",
    " \n",
    "echo \"Setting boot sequence...\"\n",
    "VBoxManage modifyvm $VMName --boot1 dvd --boot2 disk --boot3 none --boot4 none\n",
    " \n",
    "echo \"Setting network...\"\n",
    "VBoxManage modifyvm $VMName --nic1 bridged --bridgeadapter1 $NetworkInterface\n",
    " \n",
    "echo \"VM Creation completed.\"\n",
    "```\n",
    "\n",
    "Another relevant source with an example might be: https://www.xmodulo.com/how-to-create-and-start-virtualbox-vm-without-gui.html\n",
    "\n"
   ]
  },
  {
   "cell_type": "markdown",
   "metadata": {
    "slideshow": {
     "slide_type": "subslide"
    }
   },
   "source": [
    "### Note: VirtualMachine != VirtualBox\n",
    "\n",
    "\n",
    "There exist many different hypervisors, i.e., tools for running VMs. Some of them are:\n",
    "\n",
    "  * [Parallels Workstation](http://www.parallels.com/eu/all-products)\n",
    "  * [VirtualBox](http://virtualbox.org)\n",
    "  * [VMware](https://www.vmware.com) \n",
    "  * [QEMU](https://www.qemu.org)\n"
   ]
  },
  {
   "cell_type": "markdown",
   "metadata": {
    "slideshow": {
     "slide_type": "subslide"
    }
   },
   "source": [
    "## Creating a single Ubuntu VM locally with Vagrant and VirtualBox\n",
    "\n",
    "After working with the preparation material, you should be able to tell me what the following does:\n",
    "\n",
    "```bash\n",
    "vagrant init bento/ubuntu-21.04\n",
    "vagrant up\n",
    "```\n",
    "Without all the commented lines, the most basic generated `Vagrantfile` looks like this:\n",
    "\n",
    "```ruby\n",
    "# -*- mode: ruby -*-\n",
    "# vi: set ft=ruby :\n",
    "Vagrant.configure(\"2\") do |config|\n",
    "  config.vm.box = \"bento/ubuntu-21.04\"\n",
    "end\n",
    "```\n",
    "\n",
    "  * What kind of code do we see here?\n",
    "  * What does it describe?\n",
    "  * What happens when you run it?"
   ]
  },
  {
   "cell_type": "markdown",
   "metadata": {
    "slideshow": {
     "slide_type": "subslide"
    }
   },
   "source": [
    "## Creating a single Ubuntu VM locally with Vagrant and VirtualBox\n",
    "\n",
    "\n",
    "\n",
    "The following `Vagrantfile` illustrates a description of a single virtual machine, that:\n",
    "\n",
    "  * has an Ubunutu OS of the specified version,\n",
    "  * maps a port to the host machine similar to the examples seen with Docker last week,\n",
    "  * mounts a directory into the VM (one-directional sync),\n",
    "  * runs in VirtualBox,\n",
    "  * displays its graphical user interface,\n",
    "  * posesses a GB of RAM,\n",
    "  * and whose OS package database gets updated on VM creation.\n",
    "\n",
    "```ruby\n",
    "# -*- mode: ruby -*-\n",
    "# vi: set ft=ruby :\n",
    "\n",
    "Vagrant.configure(\"2\") do |config|\n",
    "  config.vm.box = \"bento/ubuntu-21.04\"\n",
    "  config.vm.network \"forwarded_port\", guest: 80, host: 8080\n",
    "  config.vm.synced_folder \"./\", \"/vagrant_data\"\n",
    "\n",
    "  config.vm.provider \"virtualbox\" do |vb|\n",
    "    vb.gui = true\n",
    "    vb.memory = \"1024\"\n",
    "  end\n",
    "\n",
    "  config.vm.provision \"shell\", inline: <<-SHELL\n",
    "    apt-get update\n",
    "  SHELL\n",
    "end\n",
    "```\n",
    "\n"
   ]
  },
  {
   "cell_type": "markdown",
   "metadata": {
    "slideshow": {
     "slide_type": "subslide"
    }
   },
   "source": [
    "## d) Automatic provision of local clusters of virtual machines with VirtualBox and Vagrant\n",
    "\n",
    "\n",
    "In the preparation material we created a single VM per `Vagrantfile`. However, you can manage multiple VMs with a single `Vagrantfile`, a so-called multi-machine setup.\n",
    "\n",
    "  * What is the advantage of that?\n",
    "  * What might be a drawback?\n",
    "\n",
    "\n",
    "```ruby\n",
    "# -*- mode: ruby -*-\n",
    "# vi: set ft=ruby :\n",
    "\n",
    "Vagrant.configure(\"2\") do |config|\n",
    "  config.vm.box = \"generic/ubuntu1804\"\n",
    "\n",
    "  config.vm.network \"private_network\", type: \"dhcp\"\n",
    "\n",
    "  # For two way synchronization you might want to try `type: \"virtualbox\"`\n",
    "  config.vm.synced_folder \".\", \"/vagrant\", type: \"rsync\"\n",
    "\n",
    "  config.vm.define \"dbserver\", primary: true do |server|\n",
    "    server.vm.network \"private_network\", ip: \"192.168.56.2\"\n",
    "    config.vm.network \"forwarded_port\", guest: 27017, host: 27017\n",
    "    config.vm.network \"forwarded_port\", guest: 28017, host: 28017\n",
    "    server.vm.provider \"virtualbox\" do |vb|\n",
    "      vb.memory = \"1024\"\n",
    "    end\n",
    "    server.vm.hostname = \"dbserver\"\n",
    "    server.vm.provision \"shell\", inline: <<-SHELL\n",
    "        echo \"Installing MongoDB\"\n",
    "        wget -qO - https://www.mongodb.org/static/pgp/server-4.2.asc | sudo apt-key add -\n",
    "        echo \"deb [ arch=amd64 ] https://repo.mongodb.org/apt/ubuntu bionic/mongodb-org/4.2 multiverse\" | sudo tee /etc/apt/sources.list.d/mongodb-org-4.2.list\n",
    "        sudo apt-get update\n",
    "        sudo apt-get install -y mongodb-org\n",
    "\n",
    "        sudo mkdir -p /data/db\n",
    "        sudo sed -i '/  bindIp:/ s/127.0.0.1/0.0.0.0/' /etc/mongod.conf\n",
    "\n",
    "        sudo systemctl start mongod\n",
    "        mongorestore --gzip /vagrant/dump\n",
    "    SHELL\n",
    "  end\n",
    "\n",
    "  config.vm.define \"webserver\", primary: true do |server|\n",
    "    server.vm.network \"private_network\", ip: \"192.168.56.3\"\n",
    "    server.vm.network \"forwarded_port\", guest: 5000, host: 5000\n",
    "    server.vm.provider \"virtualbox\" do |vb|\n",
    "      vb.memory = \"1024\"\n",
    "    end\n",
    "    server.vm.hostname = \"webserver\"\n",
    "    server.vm.provision \"shell\", inline: <<-SHELL\n",
    "        export DB_IP=\"192.168.20.2\"\n",
    "\n",
    "        echo \"Installing Anaconda...\"\n",
    "        sudo wget https://repo.anaconda.com/archive/Anaconda3-2019.07-Linux-x86_64.sh -O $HOME/Anaconda3-2019.07-Linux-x86_64.sh\n",
    "    \n",
    "        bash ~/Anaconda3-2019.07-Linux-x86_64.sh -b\n",
    "        \n",
    "        echo \". $HOME/.bashrc\" >> $HOME/.bash_profile\n",
    "        echo \"export PATH=$HOME/anaconda3/bin:$PATH\" >> $HOME/.bash_profile\n",
    "        export PATH=\"$HOME/anaconda3/bin:$PATH\"\n",
    "        rm Anaconda3-2019.07-Linux-x86_64.sh\n",
    "        source $HOME/.bash_profile\n",
    "\n",
    "        pip install Flask-PyMongo\n",
    "\n",
    "        cp -r /vagrant/* $HOME\n",
    "        nohup python minitwit.py > out.log &\n",
    "        echo \"=================================================================\"\n",
    "        echo \"=                            DONE                               =\"\n",
    "        echo \"=================================================================\"\n",
    "        echo \"Navigate in your browser to:\"\n",
    "        echo \"http://192.168.56.3:5000\"\n",
    "    SHELL\n",
    "  end\n",
    "\n",
    "  config.vm.provision \"shell\", privileged: false, inline: <<-SHELL\n",
    "    sudo apt-get update\n",
    "  SHELL\n",
    "end\n",
    "```"
   ]
  },
  {
   "cell_type": "markdown",
   "metadata": {
    "slideshow": {
     "slide_type": "subslide"
    }
   },
   "source": [
    "## e) Manual provision of remote virtual machines at DigitalOcean\n",
    "\n",
    "Find an introduction of how to create a virtual machine on DigitalOcean: https://docs.digitalocean.com/products/droplets/how-to/create/\n",
    "\n",
    "They call these remote virtual machines 'droplets'. Some people refer to them as virtual provate servers (VPS).\n",
    "\n",
    "\n",
    "<img src=\"https://docs.digitalocean.com/screenshots/create.5e7554fead014c2002f9b2bd75739531dfe78ec3b027039d86de2c7f3b35612e.png\" width=\"60%\">\n"
   ]
  },
  {
   "cell_type": "markdown",
   "metadata": {
    "slideshow": {
     "slide_type": "subslide"
    }
   },
   "source": [
    "<table class=\"center\">\n",
    "    <tbody>\n",
    "        <tr>\n",
    "            <td><center>Choose an OS</center><img src=\"https://docs.digitalocean.com/screenshots/droplets/create/choose-image.6a83962611e90c5b3066c908cad05bac2a2a2d0a65a4accd4403a31a021b3519.png\" width=\"80%\"></td>\n",
    "            <td><center>Configure CPU, RAM, and Harddisk</center><img src=\"https://docs.digitalocean.com/screenshots/droplets/create/choose-a-plan.5ae754c26c33ee70abf765de85ff117c11aa97577cff6201830e1a11841d7c67.png\" width=\"80%\"></td>\n",
    "        </tr>\n",
    "        <tr>\n",
    "            <td><center>Choose VM's location</center><img src=\"https://docs.digitalocean.com/screenshots/droplets/create/choose-datacenter-region.04f10391078da44206e14a2b359265e64b2daf78a4c15290a0d698663edfa2f7.png\" width=\"80%\"></td>\n",
    "            <td><center>Configure SSH</center><img src=\"https://docs.digitalocean.com/screenshots/droplets/create/authentication.e8cf3f4255f58259508bd09e78cecc4de98cd7304113c010148474c4e0a85f30.png\" width=\"80%\"></td>\n",
    "        </tr>\n",
    "    </tbody>\n",
    "</table>\n",
    "\n",
    "\n",
    "  * What is the advantage of that?\n",
    "  * What might be a drawback?"
   ]
  },
  {
   "cell_type": "markdown",
   "metadata": {
    "slideshow": {
     "slide_type": "subslide"
    }
   },
   "source": [
    "## f) Automatic provision of remote virtual machines at DigitalOcean via a web-API\n",
    "\n",
    "Since we are programmers and since DevOps relies heavily on automatization, we want to script the creation of virtual machines.\n",
    "\n",
    "DigitalOcean -like most other vendors- provide a web-API, which can be used to create and interact with virtual machines.\n",
    "\n",
    "The following API invocation (via `curl`) illustrate how to query your remote VMs:\n",
    "\n",
    "```bash\n",
    "curl -X GET \"https://api.digitalocean.com/v2/droplets\" -H \"Authorization: Bearer $DIGITAL_OCEAN_TOKEN\"\n",
    "```"
   ]
  },
  {
   "cell_type": "markdown",
   "metadata": {
    "slideshow": {
     "slide_type": "fragment"
    }
   },
   "source": [
    "To make these examples work, you have to have an _environment variable_ configured that holds your API token. For a single session, run in your terminal `export DIGITAL_OCEAN_TOKEN=\"<your_token>\"`. If you want to make the environment variable permanent, add them to your `$HOME/.bashrc`. See the exercises for more details on that."
   ]
  },
  {
   "cell_type": "markdown",
   "metadata": {
    "slideshow": {
     "slide_type": "subslide"
    }
   },
   "source": [
    "## f) Automatic provision of remote virtual machines at DigitalOcean via a web-API\n",
    "\n",
    "Creating one or more remote virtual machines:\n",
    "\n",
    "```bash\n",
    "curl -X POST \"https://api.digitalocean.com/v2/droplets\" \\\n",
    "\t-d'{\"names\":[\"my_fst_vm\"],\"region\":\"fra1\",\"size\":\"s-1vcpu-1gb\",\"image\":\"ubuntu-21-10-x64\"}' \\\n",
    "\t-H \"Authorization: Bearer $DIGITAL_OCEAN_TOKEN\" \\\n",
    "\t-H \"Content-Type: application/json\"\n",
    "```\n",
    "\n",
    "\n",
    "\n",
    "\n",
    "  * What is the advantage of that?\n",
    "  * What might be a drawback?\n",
    "\n",
    "<small>\n",
    "Find more <a href=\"https://docs.digitalocean.com/reference/api/example-usage/\">examples</a> and the <a href=\"https://docs.digitalocean.com/reference/api/api-reference/\">official API documentation</a> linked.\n",
    "</small>"
   ]
  },
  {
   "cell_type": "markdown",
   "metadata": {
    "slideshow": {
     "slide_type": "subslide"
    }
   },
   "source": [
    "## f) Automatic provision of remote virtual machines at DigitalOcean via a web-API\n",
    "\n",
    "  * Official Ruby API wrapper: https://rubygems.org/gems/droplet_kit\n",
    "  * A popular Python API wrapper: https://pypi.org/project/python-digitalocean/"
   ]
  },
  {
   "cell_type": "markdown",
   "metadata": {
    "slideshow": {
     "slide_type": "subslide"
    }
   },
   "source": [
    "## g) Automatic provision of remote clusters of virtual machines at DigitalOcean via Vagrant\n",
    "\n",
    "### Demo: **remote** deployment with Vagrant\n",
    "\n",
    "See [./README_EXERCISE.md](./README_EXERCISE.md) for descriptions and how to recreate this example in the exercise session.\n",
    "\n",
    "```bash\n",
    "$ git clone https://github.com/itu-devops/flask-minitwit-mongodb.git\n",
    "$ cd flask-minitwit-mongodb\n",
    "$ git checkout VMify_remote\n",
    "$ rm -r .vagrant/\n",
    "$ vagrant up\n",
    "==> webserver: Running action triggers before up ...\n",
    "==> webserver: Running trigger...\n",
    "==> webserver: Waiting to create server until dbserver's IP is available.\n",
    "==> dbserver: Using existing SSH key: ITU\n",
    "==> dbserver: Creating a new droplet...\n",
    "...\n",
    "```\n",
    "\n",
    "#### While waiting, let's decipher the `Vagrantfile` for remote deployment\n",
    "\n",
    "Can you spot an aspect of the remote setup creation that poses a risk on maintainability/reproducability?"
   ]
  },
  {
   "cell_type": "markdown",
   "metadata": {
    "slideshow": {
     "slide_type": "subslide"
    }
   },
   "source": [
    "```ruby\n",
    "# -*- mode: ruby -*-\n",
    "# vi: set ft=ruby :\n",
    "\n",
    "$ip_file = \"db_ip.txt\"\n",
    "\n",
    "Vagrant.configure(\"2\") do |config|\n",
    "    config.vm.box = 'digital_ocean'\n",
    "    config.vm.box_url = \"https://github.com/devopsgroup-io/vagrant-digitalocean/raw/master/box/digital_ocean.box\"\n",
    "    config.ssh.private_key_path = '~/.ssh/id_rsa'\n",
    "    config.vm.synced_folder \".\", \"/vagrant\", type: \"rsync\"\n",
    "  \n",
    "    config.vm.define \"dbserver\", primary: true do |server|\n",
    "      server.vm.provider :digital_ocean do |provider|\n",
    "        provider.ssh_key_name = ENV[\"SSH_KEY_NAME\"]\n",
    "        provider.token = ENV[\"DIGITAL_OCEAN_TOKEN\"]\n",
    "        provider.image = 'ubuntu-18-04-x64'\n",
    "        provider.region = 'fra1'\n",
    "        provider.size = 's-1vcpu-1gb'\n",
    "        provider.privatenetworking = true\n",
    "      end\n",
    "  \n",
    "      server.vm.hostname = \"dbserver\"\n",
    "\n",
    "      server.trigger.after :up do |trigger|\n",
    "        trigger.info =  \"Writing dbserver's IP to file...\"\n",
    "        trigger.ruby do |env,machine|\n",
    "          remote_ip = machine.instance_variable_get(:@communicator).instance_variable_get(:@connection_ssh_info)[:host]\n",
    "          File.write($ip_file, remote_ip)\n",
    "        end \n",
    "      end\n",
    "\n",
    "      server.vm.provision \"shell\", inline: <<-SHELL\n",
    "        echo \"Installing MongoDB\"\n",
    "        wget -qO - https://www.mongodb.org/static/pgp/server-4.2.asc | sudo apt-key add -\n",
    "        echo \"deb [ arch=amd64 ] https://repo.mongodb.org/apt/ubuntu bionic/mongodb-org/4.2 multiverse\" | sudo tee /etc/apt/sources.list.d/mongodb-org-4.2.list\n",
    "        sudo apt-get update\n",
    "        sudo apt-get install -y mongodb-org\n",
    "\n",
    "        sudo mkdir -p /data/db\n",
    "        sudo sed -i '/  bindIp:/ s/127.0.0.1/0.0.0.0/' /etc/mongod.conf\n",
    "\n",
    "        sudo systemctl start mongod\n",
    "        mongorestore --gzip /vagrant/dump\n",
    "      SHELL\n",
    "    end\n",
    "\n",
    "    config.vm.define \"webserver\", primary: false do |server|\n",
    "  \n",
    "      server.vm.provider :digital_ocean do |provider|\n",
    "        provider.ssh_key_name = ENV[\"SSH_KEY_NAME\"]\n",
    "        provider.token = ENV[\"DIGITAL_OCEAN_TOKEN\"]\n",
    "        provider.image = 'ubuntu-18-04-x64'\n",
    "        provider.region = 'fra1'\n",
    "        provider.size = 's-1vcpu-1gb'\n",
    "        provider.privatenetworking = true\n",
    "      end\n",
    "\n",
    "      server.vm.hostname = \"webserver\"\n",
    "\n",
    "      server.trigger.before :up do |trigger|\n",
    "        trigger.info =  \"Waiting to create server until dbserver's IP is available.\"\n",
    "        trigger.ruby do |env,machine|\n",
    "          while !File.file?($ip_file) do\n",
    "            sleep(1)\n",
    "          end\n",
    "          db_ip = File.read($ip_file).strip()\n",
    "          puts \"Now, I have it...\"\n",
    "          puts db_ip\n",
    "        end \n",
    "      end\n",
    "\n",
    "      server.trigger.after :provision do |trigger|\n",
    "        trigger.ruby do |env,machine|\n",
    "          File.delete($ip_file) if File.exists? $ip_file\n",
    "        end \n",
    "      end\n",
    "\n",
    "      server.vm.provision \"shell\", inline: <<-SHELL\n",
    "        export DB_IP=`cat /vagrant/db_ip.txt`\n",
    "        echo $DB_IP\n",
    "\n",
    "        echo \"Installing Anaconda...\"\n",
    "        sudo wget https://repo.anaconda.com/archive/Anaconda3-2019.07-Linux-x86_64.sh -O $HOME/Anaconda3-2019.07-Linux-x86_64.sh\n",
    "    \n",
    "        bash ~/Anaconda3-2019.07-Linux-x86_64.sh -b\n",
    "        \n",
    "        echo \". $HOME/.bashrc\" >> $HOME/.bash_profile\n",
    "        echo \"export PATH=$HOME/anaconda3/bin:$PATH\" >> $HOME/.bash_profile\n",
    "        export PATH=\"$HOME/anaconda3/bin:$PATH\"\n",
    "        rm Anaconda3-2019.07-Linux-x86_64.sh\n",
    "        source $HOME/.bash_profile\n",
    "\n",
    "        pip install Flask-PyMongo\n",
    "\n",
    "        cp -r /vagrant/* $HOME\n",
    "        nohup python minitwit.py > out.log 2>&1 &\n",
    "        echo \"=================================================================\"\n",
    "        echo \"=                            DONE                               =\"\n",
    "        echo \"=================================================================\"\n",
    "        echo \"Navigate in your browser to:\"\n",
    "        THIS_IP=`hostname -I | cut -d\" \" -f1`\n",
    "        echo \"http://${THIS_IP}:5000\"\n",
    "      SHELL\n",
    "    end\n",
    "    config.vm.provision \"shell\", privileged: false, inline: <<-SHELL\n",
    "      sudo apt-get update\n",
    "    SHELL\n",
    "  end\n",
    "```"
   ]
  },
  {
   "cell_type": "markdown",
   "metadata": {
    "slideshow": {
     "slide_type": "slide"
    }
   },
   "source": [
    "----------------\n",
    "\n",
    "# Virtual machines compared to containers \n",
    "\n",
    "Remember:\n",
    "\n",
    "  > Virtual machines run guest operating systems-note the OS layer in each box. This is resource intensive, and the resulting disk image and application state is an entanglement of OS settings, system-installed dependencies, OS security patches, and other easy-to-lose, hard-to-replicate ephemera.\n",
    "  >\n",
    "  > (https://docs.docker.com/get-started/#containers-vs-virtual-machines)\n",
    "\n",
    "\n",
    "<img src=\"https://docs.docker.com/images/VM%402x.png\" width=35%>"
   ]
  },
  {
   "cell_type": "markdown",
   "metadata": {
    "slideshow": {
     "slide_type": "subslide"
    }
   },
   "source": [
    "\n",
    "# Virtual machines compared to containers \n",
    "\n",
    "  > A container image is a lightweight, stand-alone, executable package of a piece of software that includes everything needed to run it: code, runtime, system tools, system libraries, settings.\n",
    "  > \n",
    "  > ...\n",
    "  > \n",
    "  > Containers isolate software from its surroundings, for example differences between development and staging environments and help reduce conflicts between teams running different software on the same infrastructure. (https://www.docker.com/what-container)\n",
    "  \n",
    "  <img src=\"https://docs.docker.com/images/Container%402x.png\" width=35%>"
   ]
  },
  {
   "cell_type": "markdown",
   "metadata": {
    "slideshow": {
     "slide_type": "subslide"
    }
   },
   "source": [
    "## Why should we consider VMs?\n",
    "\n",
    "  * Handling VMs is a skill.\n",
    "  * Practice it now while you are in a safe environment. Especially, when working as consultants you have to constantly adapt to new environments.\n",
    "  * Very quickly you can run whichever operating system (Windows, MacOS, Unixes, etc.) that allow you to get your job done.\n"
   ]
  },
  {
   "cell_type": "markdown",
   "metadata": {
    "slideshow": {
     "slide_type": "subslide"
    }
   },
   "source": [
    "## Vagrant? What is it?\n",
    "\n",
    "  > Vagrant is a tool for building and managing virtual machine environments [...] Vagrant lowers development environment setup time, increases production parity, and makes the \"works on my machine\" excuse a relic of the past.\n",
    "  >\n",
    "  > Vagrant provides easy to configure, reproducible, and portable work environments built on top of industry-standard technology and controlled by a single consistent workflow [...]\n",
    "  > \n",
    "  > https://www.vagrantup.com/intro\n",
    "\n",
    "\n",
    "To create your own pre-configured OS images, use a tool like [Packer](http://packer.io/)"
   ]
  },
  {
   "cell_type": "markdown",
   "metadata": {
    "slideshow": {
     "slide_type": "subslide"
    }
   },
   "source": [
    "### Provisioning of VMs with Vagrant\n",
    "\n",
    "  * What is the advantage of that?\n",
    "  * What might be a drawback?"
   ]
  },
  {
   "cell_type": "markdown",
   "metadata": {
    "slideshow": {
     "slide_type": "subslide"
    }
   },
   "source": [
    "\n",
    "#### Different Providers\n",
    "\n",
    "In this class, I always use VirtualBox as a local provider and DigitalOcean as remote (\"cloud\") provider. However, you can use many other, such as *VMWare*, *Parallels*, *AWS*, *Azure*, etc. To provision your VMs at remote providers in the cloud, you need usually a corresponding Vagrant plug-in.\n",
    "\n",
    "```bash\n",
    "$ vagrant up --provider=digital_ocean\n",
    "$ vagrant up --provider=aws\n",
    "$ vagrant up --provider=azure\n",
    "```\n",
    "\n",
    "The first line would deploy your VM as droplet on DigitalOcean (https://github.com/devopsgroup-io/vagrant-digitalocean), the second line would do similarly on Amazon AWS (https://github.com/mitchellh/vagrant-aws), and the third line would deploy at Azure (https://github.com/Azure/vagrant-azure)."
   ]
  },
  {
   "cell_type": "markdown",
   "metadata": {
    "slideshow": {
     "slide_type": "skip"
    }
   },
   "source": [
    "Other ways of provisioning, such as with [Ansible Playbooks](https://docs.ansible.com/ansible/latest/user_guide/playbooks.html), [Chef cookbooks](https://docs.chef.io/chef_solo.html), or [Puppet](https://www.puppetlabs.com/puppet).\n",
    "\n",
    "See https://www.vagrantup.com/docs/provisioning/ for more on different provisioning tools."
   ]
  },
  {
   "cell_type": "markdown",
   "metadata": {
    "slideshow": {
     "slide_type": "slide"
    }
   },
   "source": [
    "# Reflection - Why and for what to use virtualization?\n",
    "\n",
    "\n",
    "<!--\n",
    "Solves two problems:\n",
    "    \n",
    "  - Setting up a homogeneous development environment\n",
    "  - Explicit and reproducible way of specifying dependencies and configuration\n",
    "  \n",
    "Drawback:\n",
    "\n",
    "  - These machines are quite big. (But you get a full VM with possibility of doing GUI work directly)\n",
    "  -\n",
    "-->"
   ]
  },
  {
   "cell_type": "markdown",
   "metadata": {},
   "source": [
    "  - a\n",
    "  - b\n",
    "  - c\n",
    "  \n",
    "<!--  \n",
    "  - To be HW independent (VM)\n",
    "  - Scalability\n",
    "  - Minimizing env. config.\n",
    "  - Reproducability\n",
    "  - Upgradability\n",
    "-->"
   ]
  },
  {
   "cell_type": "markdown",
   "metadata": {
    "slideshow": {
     "slide_type": "subslide"
    }
   },
   "source": [
    "# What to do now?\n",
    "\n",
    "  * To prepare for your project work, practice with the [exercises](./README_EXERCISE.md)\n",
    "  * Do the [project work](./README_TASKS.md) until the end of the week\n",
    "  * And [prepare for the next session](../session_04/README_PREP.md)"
   ]
  }
 ],
 "metadata": {
  "celltoolbar": "Slideshow",
  "kernelspec": {
   "display_name": "Python 3",
   "language": "python",
   "name": "python3"
  },
  "language_info": {
   "codemirror_mode": {
    "name": "ipython",
    "version": 3
   },
   "file_extension": ".py",
   "mimetype": "text/x-python",
   "name": "python",
   "nbconvert_exporter": "python",
   "pygments_lexer": "ipython3",
   "version": "3.8.8"
  }
 },
 "nbformat": 4,
 "nbformat_minor": 2
}
