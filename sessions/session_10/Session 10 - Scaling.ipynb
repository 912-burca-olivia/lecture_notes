{
 "cells": [
  {
   "cell_type": "markdown",
   "metadata": {
    "nbpresent": {
     "id": "351e9502-9861-418d-8f4b-e68163460a81"
    }
   },
   "source": [
    "Course: DevOps, Maintenance, and Evolution\n",
    "\n",
    "# Session #10: Scaling \n",
    "\n",
    "\n",
    "\n",
    "\n"
   ]
  },
  {
   "cell_type": "markdown",
   "metadata": {
    "nbpresent": {
     "id": "22775c09-2985-46bf-9f60-3eea2f9565f3"
    },
    "slideshow": {
     "slide_type": "slide"
    }
   },
   "source": [
    "# The state of your projects?"
   ]
  },
  {
   "cell_type": "code",
   "execution_count": 1,
   "metadata": {
    "collapsed": false,
    "nbpresent": {
     "id": "86d3dd20-583b-4257-a4b9-abad5fde2f9c"
    },
    "scrolled": false
   },
   "outputs": [
    {
     "data": {
      "text/html": [
       "\n",
       "        <iframe\n",
       "            width=\"100%\"\n",
       "            height=\"600\"\n",
       "            src=\"http://64.225.103.230/commit_activity_daily.svg\"\n",
       "            frameborder=\"0\"\n",
       "            allowfullscreen\n",
       "        ></iframe>\n",
       "        "
      ],
      "text/plain": [
       "<IPython.lib.display.IFrame at 0x1062a2588>"
      ]
     },
     "execution_count": 1,
     "metadata": {},
     "output_type": "execute_result"
    }
   ],
   "source": [
    "from IPython.display import IFrame\n",
    "\n",
    "url = 'http://64.225.103.230/commit_activity_daily.svg'\n",
    "IFrame(url, width='100%', height='600') "
   ]
  },
  {
   "cell_type": "code",
   "execution_count": 2,
   "metadata": {
    "collapsed": false,
    "nbpresent": {
     "id": "ed6334f4-ffcb-444b-9c6e-f1e1dda29fad"
    },
    "slideshow": {
     "slide_type": "subslide"
    }
   },
   "outputs": [
    {
     "data": {
      "text/html": [
       "\n",
       "        <iframe\n",
       "            width=\"100%\"\n",
       "            height=\"500\"\n",
       "            src=\"http://142.93.104.18/chart.svg\"\n",
       "            frameborder=\"0\"\n",
       "            allowfullscreen\n",
       "        ></iframe>\n",
       "        "
      ],
      "text/plain": [
       "<IPython.lib.display.IFrame at 0x1062a2940>"
      ]
     },
     "execution_count": 2,
     "metadata": {},
     "output_type": "execute_result"
    }
   ],
   "source": [
    "from IPython.display import IFrame\n",
    "\n",
    "url = 'http://142.93.104.18/chart.svg'\n",
    "IFrame(url, width='100%', height=500)"
   ]
  },
  {
   "cell_type": "code",
   "execution_count": 3,
   "metadata": {
    "collapsed": false,
    "nbpresent": {
     "id": "62e8f7fb-1515-41ec-b878-bf4218984973"
    },
    "slideshow": {
     "slide_type": "subslide"
    }
   },
   "outputs": [
    {
     "data": {
      "text/html": [
       "\n",
       "        <iframe\n",
       "            width=\"100%\"\n",
       "            height=\"500\"\n",
       "            src=\"http://142.93.104.18/error_chart.svg\"\n",
       "            frameborder=\"0\"\n",
       "            allowfullscreen\n",
       "        ></iframe>\n",
       "        "
      ],
      "text/plain": [
       "<IPython.lib.display.IFrame at 0x1062a2a20>"
      ]
     },
     "execution_count": 3,
     "metadata": {},
     "output_type": "execute_result"
    }
   ],
   "source": [
    "from IPython.display import IFrame\n",
    "\n",
    "url = 'http://142.93.104.18/error_chart.svg'\n",
    "IFrame(url, width='100%', height=500) "
   ]
  },
  {
   "cell_type": "markdown",
   "metadata": {
    "nbpresent": {
     "id": "af2a0c7d-be56-492a-a824-95d6bf3ef476"
    },
    "slideshow": {
     "slide_type": "slide"
    }
   },
   "source": [
    "## How is the SLA monitoring going?\n",
    "\n",
    "- Which teams found their monitored teams to respect the SLAs? Partially?\n",
    "- How is your team doing? Your monitored team? \n",
    "- What did you learn about writing SLAs?\n",
    "\n",
    "\n",
    "\n",
    "## Pen-Testing \n",
    "\n",
    "- Did you succeed in finding vulnerabilities? Either your code or the other teams?\n",
    "- Make sure to send your report to the tested group :)\n",
    "\n",
    "## Logging\n",
    "- Could you detect any attempts on your service?\n"
   ]
  },
  {
   "cell_type": "markdown",
   "metadata": {
    "nbpresent": {
     "id": "edb92663-e57d-4f99-b7ff-fb55525287a7"
    },
    "slideshow": {
     "slide_type": "slide"
    }
   },
   "source": [
    "# Bottlenecks appear in any good design\n",
    "\n",
    "Most Common Reasons:\n",
    "  * Congestion\n",
    "  * Single point of failure"
   ]
  },
  {
   "cell_type": "markdown",
   "metadata": {
    "nbpresent": {
     "id": "30c0dd19-e814-4350-8024-ad812d2041a8"
    },
    "slideshow": {
     "slide_type": "slide"
    }
   },
   "source": [
    "## Single Point of Failure\n",
    "\n",
    "Very likely your systems look similar to the following:\n",
    "\n",
    "![](images/possible_arch1.png)"
   ]
  },
  {
   "cell_type": "markdown",
   "metadata": {
    "nbpresent": {
     "id": "952aca33-f19f-4de4-8dcf-d062ea156ea9"
    },
    "slideshow": {
     "slide_type": "subslide"
    }
   },
   "source": [
    "## Single Point of Failure\n",
    " \n",
    "Or perhaps you deployed the various components on their own machines:\n",
    "![](images/possible_arch2.png)"
   ]
  },
  {
   "cell_type": "markdown",
   "metadata": {
    "nbpresent": {
     "id": "766f2ce0-6e82-4132-bef3-41bf53764808"
    },
    "slideshow": {
     "slide_type": "subslide"
    }
   },
   "source": [
    "## What happens if one of the nodes goes down?\n",
    "\n",
    "- every one of the systems is a single point of failure\n",
    "- the solution: replication"
   ]
  },
  {
   "cell_type": "markdown",
   "metadata": {
    "nbpresent": {
     "id": "65bb99cf-df96-4123-b9f6-79c430045a54"
    },
    "slideshow": {
     "slide_type": "subslide"
    }
   },
   "source": [
    "# Solution to Congestion - Scaling\n",
    "\n",
    "Two Types of Scaling:\n",
    "- Vertical\n",
    "- Horizontal"
   ]
  },
  {
   "cell_type": "markdown",
   "metadata": {
    "nbpresent": {
     "id": "4aab9abd-7608-4d57-b6ac-e2ce0323822a"
    },
    "slideshow": {
     "slide_type": "subslide"
    }
   },
   "source": [
    "## Vertical Scaling - Manually\n",
    "\n",
    "  * In a physical server add more memory, harddisk etc.\n",
    "  * Nice thing about using VMs, we can do that at runtime."
   ]
  },
  {
   "cell_type": "markdown",
   "metadata": {
    "nbpresent": {
     "id": "ba18bb7f-9b41-4c38-a20c-5209101342c2"
    },
    "slideshow": {
     "slide_type": "subslide"
    }
   },
   "source": [
    " \n",
    "## Vertical Scaling with VirtualBox\n",
    "\n",
    "Note the VM has to be powered off to perform modifications of RAM and storage. You can modify VMs via the GUI or on the CLI\n",
    "\n"
   ]
  },
  {
   "cell_type": "markdown",
   "metadata": {
    "nbpresent": {
     "id": "ff34b5ae-26c7-463e-8062-08c66aef84c1"
    },
    "slideshow": {
     "slide_type": "subslide"
    }
   },
   "source": [
    "### GUI\n",
    "\n",
    "![](https://i.stack.imgur.com/IEtuL.png)"
   ]
  },
  {
   "cell_type": "markdown",
   "metadata": {
    "nbpresent": {
     "id": "aa82aeda-2acd-41f8-a773-f16be0f54092"
    },
    "slideshow": {
     "slide_type": "subslide"
    }
   },
   "source": [
    "![](https://i.stack.imgur.com/AYfo9.png)\n",
    "\n",
    "See https://askubuntu.com/a/510139"
   ]
  },
  {
   "cell_type": "markdown",
   "metadata": {
    "nbpresent": {
     "id": "15270de5-7d1e-43f3-a2e8-49440fecfec7"
    },
    "slideshow": {
     "slide_type": "subslide"
    }
   },
   "source": [
    "### CLI\n",
    "\n",
    "To increase RAM of an existing VM to 8GB, storage to 64GB, and the CPU to more cores, one could run:\n",
    "\n",
    "```bash\n",
    "> VBoxManage list vms\n",
    "\"coursevm\" {e072b310-1922-4113-93f5-2ca865e01722}\n",
    "\"lsd2018vm\" {67fda2ea-7c3e-42f6-9a13-d0908020322d}\n",
    "```\n",
    "\n",
    "```bash\n",
    "> VBoxManage modifyvm \"coursevm\" --cpus 8\n",
    "> VBoxManage modifyvm \"coursevm\" --memory 8192\n",
    "```"
   ]
  },
  {
   "cell_type": "markdown",
   "metadata": {
    "nbpresent": {
     "id": "92a14cca-ee03-4a51-b350-4fe60c472be6"
    },
    "slideshow": {
     "slide_type": "subslide"
    }
   },
   "source": [
    "```bash\n",
    "> VBoxManage list hdds\n",
    "UUID:           d95b799f-0f33-4abd-925c-84ea5cbb3225\n",
    "Parent UUID:    base\n",
    "State:          created\n",
    "Type:           normal (base)\n",
    "Location:       /path/to/node1/ubuntu-16.04-amd64-disk001.vmdk\n",
    "Storage format: VMDK\n",
    "Capacity:       40960 MBytes\n",
    "Encryption:     disabled\n",
    "\n",
    "UUID:           9953ea1b-7295-4547-94fa-209f49c258f5\n",
    "Parent UUID:    base\n",
    "State:          created\n",
    "Type:           normal (base)\n",
    "Location:       /path/to/node1ubuntu-16.04-amd64-disk001.vmdk\n",
    "Storage format: VMDK\n",
    "Capacity:       40960 MBytes\n",
    "Encryption:     disabled\n",
    "```\n",
    "\n",
    "```sh\n",
    "> VBoxManage clonehd \"9953ea1b-7295-4547-94fa-209f49c258f5\" \"cloned.vdi\" --format vdi\n",
    "> VBoxManage modifymedium disk \"cloned.vdi\" --resize 65536\n",
    "```"
   ]
  },
  {
   "cell_type": "markdown",
   "metadata": {
    "nbpresent": {
     "id": "b9bc393d-40d3-4a15-a0c6-70e1e783b977"
    },
    "slideshow": {
     "slide_type": "subslide"
    }
   },
   "source": [
    "Optionally, you may want to convert the disk back to `vmdk` with `VBoxManage clonehd \"cloned.vdi\" \"resized.vmdk\" --format vmdk`\n",
    "\n",
    "**OBS** from within your VM make use of the new space by extending your disk with `gparted` or similar tools.\n",
    "\n",
    "See:\n",
    "  * Modfication of RAM https://www.virtualbox.org/manual/ch08.html#vboxmanage-modifyvm \n",
    "  * Modification of storage https://www.virtualbox.org/manual/ch08.html#vboxmanage-modifyvdi\n"
   ]
  },
  {
   "cell_type": "markdown",
   "metadata": {
    "nbpresent": {
     "id": "acb64917-2683-4da0-8a1e-24877ce0cb73"
    },
    "slideshow": {
     "slide_type": "subslide"
    }
   },
   "source": [
    "## Vertical Scaling with DigitalOcean\n",
    "\n",
    "\n",
    "### GUI\n",
    "\n",
    "\n",
    "![](https://assets.nyc3.cdn.digitaloceanspaces.com/droplets/resize-options.png)\n",
    "\n"
   ]
  },
  {
   "cell_type": "markdown",
   "metadata": {
    "nbpresent": {
     "id": "1b8a9fa6-f585-48fd-84f0-608827232072"
    },
    "slideshow": {
     "slide_type": "subslide"
    }
   },
   "source": [
    "But -similar to VirtualBox- you can only resize VMs that are not running.\n",
    "\n",
    "![](https://assets.nyc3.cdn.digitaloceanspaces.com/droplets/resize-switch-on.png)\n",
    "\n",
    "\n",
    "\n",
    "See https://www.digitalocean.com/docs/droplets/how-to/resize/#resizing-via-the-control-panel\n",
    "\n"
   ]
  },
  {
   "cell_type": "markdown",
   "metadata": {
    "nbpresent": {
     "id": "4c6bd7bc-b9ba-41f2-9f9d-31b6770eb8a5"
    },
    "slideshow": {
     "slide_type": "subslide"
    }
   },
   "source": [
    "### CLI\n",
    "\n",
    "Using the HTTP API vertical scaling could look as in the following.\n",
    "\n",
    "See \n",
    "\n",
    "  * https://www.digitalocean.com/docs/droplets/how-to/resize/\n",
    "  * https://developers.digitalocean.com/documentation/v2/#resize-a-droplet\n",
    "\n",
    "\n",
    "**Note**: The following commands assume that you have defined the $DIGITAL_OCEAN_TOKEN envvar.\n",
    "\n",
    "\n",
    "##### Create a New Droplet\n",
    "\n",
    "```bash\n",
    "> curl -X POST \"https://api.digitalocean.com/v2/droplets\" \\\n",
    "       -d'{\"name\":\"New-Droplet\",\"region\":\"fra1\",\"size\":\"512mb\",\"image\":\"ubuntu-16-04-x64\"}' \\\n",
    "       -H \"Authorization: Bearer $DIGITAL_OCEAN_TOKEN\" \\\n",
    "\t   -H \"Content-Type: application/json\"\n",
    "```"
   ]
  },
  {
   "cell_type": "markdown",
   "metadata": {
    "nbpresent": {
     "id": "4d0de48c-7624-4804-bcfd-ad11d885ff64"
    },
    "slideshow": {
     "slide_type": "subslide"
    }
   },
   "source": [
    "##### List all Droplets\n",
    "\n",
    "```sh\n",
    "> curl -X GET \"https://api.digitalocean.com/v2/droplets\" -H \"Authorization: Bearer $DIGITAL_OCEAN_TOKEN\" | jq\n",
    "\n",
    "{\n",
    "  \"droplets\": [\n",
    "    {\n",
    "      \"id\": 116690982,\n",
    "      \"name\": \"webserver\",\n",
    "      \"memory\": 1024,\n",
    "      \"vcpus\": 1,\n",
    "      \"disk\": 30,\n",
    "      \"locked\": false,\n",
    "      \"status\": \"active\",\n",
    "      \"kernel\": null,\n",
    "      \"created_at\": \"2018-10-26T12:54:08Z\",\n",
    "      \"features\": [],\n",
    "...\n",
    "      \"networks\": {\n",
    "        \"v4\": [\n",
    "          {\n",
    "            \"ip_address\": \"46.101.225.71\",\n",
    "            \"netmask\": \"255.255.192.0\",\n",
    "            \"gateway\": \"46.101.192.1\",\n",
    "            \"type\": \"public\"\n",
    "          }\n",
    "        ],\n",
    "        \"v6\": []\n",
    "      },\n",
    "...\n",
    "}\n",
    "```\n"
   ]
  },
  {
   "cell_type": "markdown",
   "metadata": {
    "nbpresent": {
     "id": "9b02ce04-8351-42fe-9558-efd718081034"
    },
    "slideshow": {
     "slide_type": "subslide"
    }
   },
   "source": [
    "##### Resizing it\n",
    "\n",
    "Resize CPU and RAM only to a 4GB droplet, which automatically shuts down the droplet. \n",
    "\n",
    "```sh\n",
    "> curl -X POST -H 'Content-Type: application/json' \\\n",
    "       -H \"Authorization: Bearer $DIGITAL_OCEAN_TOKEN\" \\\n",
    "       -d '{\"type\":\"resize\",\"size\":\"s-2vcpu-4gb\"}' \\\n",
    "       \"https://api.digitalocean.com/v2/droplets/$DROPLET_ID/actions\"\n",
    "```\n",
    "\n",
    "what's wrong with this?\n"
   ]
  },
  {
   "cell_type": "markdown",
   "metadata": {
    "nbpresent": {
     "id": "522a70e0-c685-4e26-9561-312eb989b555"
    },
    "slideshow": {
     "slide_type": "subslide"
    }
   },
   "source": [
    "\n",
    "##### Increase disk size:\n",
    "\n",
    "\n",
    "```sh\n",
    "> curl -X POST -H 'Content-Type: application/json' \\\n",
    "       -H \"Authorization: Bearer $DIGITAL_OCEAN_TOKEN\" \\\n",
    "       -d '{\"type\":\"resize\",\"size\": \"s-2vcpu-4gb\",\"disk\":true}'  \\\n",
    "       \"https://api.digitalocean.com/v2/droplets/$DROPLET_ID/actions\"\n",
    "```\n"
   ]
  },
  {
   "cell_type": "markdown",
   "metadata": {
    "nbpresent": {
     "id": "fbee34cd-c0e5-4559-8b74-bddb4348987d"
    },
    "slideshow": {
     "slide_type": "subslide"
    }
   },
   "source": [
    "##### Power on\n",
    "\n",
    "```sh\n",
    "> curl -X POST -H 'Content-Type: application/json' \\\n",
    "       -H \"Authorization: Bearer $DIGITAL_OCEAN_TOKEN\" \\\n",
    "       -d '{\"type\":\"power_on\"}' \\\n",
    "       \"https://api.digitalocean.com/v2/droplets/$DROPLET_ID/actions\"\n",
    "```\n",
    "\n"
   ]
  },
  {
   "cell_type": "markdown",
   "metadata": {
    "nbpresent": {
     "id": "188b1c78-1363-43bf-add3-f0bc1479bce0"
    },
    "slideshow": {
     "slide_type": "subslide"
    }
   },
   "source": [
    "### Discussion\n",
    "\n",
    "Now that is quite cool no? You could attach a resize action to an alarm and scale you machines vertically automatically.\n",
    "\n",
    "But what is the drawback? You have to switch off the machines that you want to scale. That is quite unpractical if you have do not have reduntant machines, see more about that below."
   ]
  },
  {
   "cell_type": "markdown",
   "metadata": {
    "nbpresent": {
     "id": "842b0a15-1eb2-4667-8f84-7dbcd912fb78"
    }
   },
   "source": [
    "# Horizontal Scaling\n",
    "\n",
    "\n",
    "Horizontal scaling means not increasing the resources of a single (virtual) machine but instead adding more (virtual) machines to your cluster.\n",
    "\n",
    "![](https://assets.digitalocean.com/blog/static/scaling-php/horizontal-scaling.png)"
   ]
  },
  {
   "cell_type": "markdown",
   "metadata": {
    "nbpresent": {
     "id": "efa29195-2d49-462e-9117-6c3e0566f8ab"
    },
    "slideshow": {
     "slide_type": "subslide"
    }
   },
   "source": [
    "# Horizontal Scaling does not Only Solve Congestion but also Single Point of Failure\n",
    "\n",
    "Note: probably change the title to match the next slide :)\n",
    "\n",
    "![](images/possible_arch2.png)"
   ]
  },
  {
   "cell_type": "markdown",
   "metadata": {
    "nbpresent": {
     "id": "cfdd681a-d267-4d75-88ad-4214e61a882e"
    },
    "slideshow": {
     "slide_type": "slide"
    }
   },
   "source": [
    "# Redundancy/High-available Setup\n",
    "\n",
    "![](https://assets.digitalocean.com/blog/static/floating-ips-start-architecting-your-applications-for-high-availability/ha-diagram-animated.gif)\n"
   ]
  },
  {
   "cell_type": "markdown",
   "metadata": {
    "nbpresent": {
     "id": "f578da5c-5a62-4bd0-9a05-2cb38dbee52b"
    },
    "slideshow": {
     "slide_type": "subslide"
    }
   },
   "source": [
    "For guides on manual horizontal scaling on DigitalOcean see for example:\n",
    "\n",
    "  * https://blog.digitalocean.com/floating-ips-start-architecting-your-applications-for-high-availability/\n",
    "  * https://www.digitalocean.com/community/tutorials/how-to-set-up-highly-available-web-servers-with-keepalived-and-floating-ips-on-ubuntu-14-04\n",
    "  * https://www.digitalocean.com/community/tutorials/how-to-create-a-high-availability-setup-with-heartbeat-and-floating-ips-on-ubuntu-16-04\n",
    "  * https://blog.digitalocean.com/load-balancers-simplifying-high-availability/\n",
    "  * https://blog.digitalocean.com/horizontally-scaling-php-applications/"
   ]
  },
  {
   "cell_type": "markdown",
   "metadata": {
    "nbpresent": {
     "id": "cbf28ac2-0ed2-4d39-a941-206bc6459a95"
    },
    "slideshow": {
     "slide_type": "subslide"
    }
   },
   "source": [
    "# Tools that Help Horizontal Scaling\n",
    "\n",
    "  * Kubernetes, the elephant\n",
    "  * Docker Swarm, the mouse\n"
   ]
  },
  {
   "cell_type": "markdown",
   "metadata": {
    "nbpresent": {
     "id": "c0b2d682-2baf-4ddb-8016-031c9ec05b2c"
    },
    "slideshow": {
     "slide_type": "subslide"
    }
   },
   "source": [
    "## Kubernetes\n",
    "\n",
    "  * ... is popular in the US, see https://trends.google.com/trends/explore?geo=US&q=Kubernetes,Docker%20Swarm,Mesos\n",
    "  * But since Danmark has another size, it is not that much more popular compared to alternatives, see\n",
    "  https://trends.google.com/trends/explore?geo=DK&q=Kubernetes,Docker%20Swarm,Mesos"
   ]
  },
  {
   "cell_type": "markdown",
   "metadata": {
    "nbpresent": {
     "id": "3958a75b-ca90-4f38-a426-08ed818afa6c"
    },
    "slideshow": {
     "slide_type": "subslide"
    }
   },
   "source": [
    "\n",
    "![](images/full-kubernetes-model-architecture.png)"
   ]
  },
  {
   "cell_type": "markdown",
   "metadata": {
    "nbpresent": {
     "id": "e0051c48-fff8-4dbb-b8cd-915eee5024e6"
    }
   },
   "source": [
    "## Docker Swarm\n",
    "\n",
    "We are going for the mouse...\n",
    "\n",
    "  * Based on `swarmkit`\n",
    "    > A toolkit for orchestrating distributed systems at any scale\n",
    "  * Orchestration\n",
    "    - Manages nodes and services\n",
    "  * Scheduling\n",
    "    - Resource aware task scheduling\n",
    "  \n",
    "Scalability?\n",
    "    "
   ]
  },
  {
   "cell_type": "markdown",
   "metadata": {
    "nbpresent": {
     "id": "894d1ca4-0edd-452b-8af0-45f9554a914b"
    },
    "slideshow": {
     "slide_type": "subslide"
    }
   },
   "source": [
    "## Docker Swarm: Concepts\n",
    "\n",
    "  * Nodes\n",
    "    - A VM instance participating in a swarm \n",
    "    - Worker nodes\n",
    "    - Manager nodes\n",
    "  * Services and tasks\n",
    "    - A collection of tasks to be executed on a node, i.e., containers\n",
    "    - Replicated services\n",
    "    - Global services (one instance per node)\n",
    "  * Load balancing\n",
    "See https://docs.docker.com/engine/swarm/"
   ]
  },
  {
   "cell_type": "markdown",
   "metadata": {
    "nbpresent": {
     "id": "206f6c0f-d4c1-4860-b61e-ca99bf0dc42f"
    },
    "slideshow": {
     "slide_type": "subslide"
    }
   },
   "source": [
    "## Docker Swarm: Nodes\n",
    "\n",
    "Two types of nodes: \n",
    "  * Managers\n",
    "  * Workers\n",
    "\n",
    "![](https://docs.docker.com/engine/swarm/images/swarm-diagram.png)\n",
    "\n"
   ]
  },
  {
   "cell_type": "markdown",
   "metadata": {
    "nbpresent": {
     "id": "3992a29b-a292-4b24-9686-308cdc761186"
    }
   },
   "source": [
    "### Manager nodes\n",
    "\n",
    "  * maintain cluster state\n",
    "  * schedule services\n",
    "\n",
    "For teaching we run a single swarm manager. In production you should have at least three manager nodes.\n",
    "\n",
    "  * Three manager swarm tolerates a maximum loss of one manager.\n",
    "  * Five manager swarm tolerates a maximum loss of two managers.\n",
    "  * $n$ manager swarm tolerates maximum loss of $(n-1)/2$ managers.\n",
    "\n",
    "Docker recommends a maximum of seven manager nodes for a swarm.\n",
    "\n",
    "Important Note: Adding more managers does NOT mean increased scalability or higher performance. In general, the opposite is true."
   ]
  },
  {
   "cell_type": "markdown",
   "metadata": {
    "nbpresent": {
     "id": "853f572d-32bf-4029-9c9f-07811df19cd9"
    },
    "slideshow": {
     "slide_type": "subslide"
    }
   },
   "source": [
    "### Worker nodes\n",
    "\n",
    "  * are instances of Docker Engine whith sole purpose to execute containers\n",
    "  * do not participate in scheduling decisions, or serve the swarm mode HTTP API\n",
    "  * Have at least one manager node\n",
    "  * (By default, all managers are also workers)\n",
    "\n",
    "See more https://docs.docker.com/engine/swarm/how-swarm-mode-works/nodes/"
   ]
  },
  {
   "cell_type": "markdown",
   "metadata": {
    "nbpresent": {
     "id": "b40f489b-1a37-464d-957e-26c9ca8c445f"
    },
    "slideshow": {
     "slide_type": "subslide"
    }
   },
   "source": [
    "![](https://docs.docker.com/engine/swarm/images/replicated-vs-global.png)"
   ]
  },
  {
   "cell_type": "markdown",
   "metadata": {
    "nbpresent": {
     "id": "e6e50ea7-a569-4531-9096-a8170f44b704"
    },
    "slideshow": {
     "slide_type": "subslide"
    }
   },
   "source": [
    "|Swarm Size|\tMajority\t|Fault Tolerance|\n",
    "|:----------:|:-------------:|:------:|\n",
    "|1\t|1\t|0|\n",
    "|2\t|2\t|0|\n",
    "|3\t|2\t|1|\n",
    "|4\t|3\t|1|\n",
    "|5\t|3\t|2|\n",
    "|6\t|4\t|2|\n",
    "|7\t|4\t|3|\n",
    "|8\t|5\t|3|\n",
    "|9\t|5\t|4|\n",
    "\n",
    "\n",
    "https://docs.docker.com/engine/swarm/admin_guide/#add-manager-nodes-for-fault-tolerance"
   ]
  },
  {
   "cell_type": "markdown",
   "metadata": {
    "nbpresent": {
     "id": "bc18cd98-2702-4406-9a0c-baa9c123a42d"
    },
    "slideshow": {
     "slide_type": "subslide"
    }
   },
   "source": [
    "## New Docker Commands\n",
    "\n",
    "  * `docker-machine` ... to manage virtual machines\n",
    "    - usually used for quickly creating new VMs\n",
    "  * `docker swarm` ... to manage a cluster (swarm)\n",
    "  * `docker service` ... to manage replicated containers (services) in the swarm"
   ]
  },
  {
   "cell_type": "markdown",
   "metadata": {
    "nbpresent": {
     "id": "80939afd-0e60-4f56-9f59-c11d25e42b66"
    }
   },
   "source": [
    "### Locally Or on Other Providers than DO\n",
    "If you want to create such a node on your local machine with VirtualBox as backend:\n",
    "\n",
    "```sh\n",
    "$ docker-machine create --driver virtualbox default\n",
    "```\n",
    "\n",
    "See more on that in the documentation: https://docs.docker.com/machine/get-started/\n",
    "\n",
    "\n",
    "However, in the following we will use DigitalOcean for providing VMs for the nodes, see https://docs.docker.com/machine/drivers/digital-ocean/#usage\n",
    "\n",
    "If your project runs on another provider you may want to check the other available drivers:\n",
    "https://docs.docker.com/machine/drivers/\n"
   ]
  },
  {
   "cell_type": "markdown",
   "metadata": {
    "nbpresent": {
     "id": "0aa2b499-2279-42ac-9cef-490b922a6bac"
    },
    "slideshow": {
     "slide_type": "subslide"
    }
   },
   "source": [
    "# Interactive: Docker Swarm cluster on DigitalOcean!\n",
    "\n",
    "Create a Docker Swarm cluster on DigitalOcean (or locally with VirtualBox) with the following guide.\n",
    "\n",
    "Note: \n",
    "\n",
    "- You need to have `docker-machine` installed. \n",
    "- define envvar: $DIGITAL_OCEAN_TOKEN\n"
   ]
  },
  {
   "cell_type": "markdown",
   "metadata": {
    "nbpresent": {
     "id": "e72cd6e4-ee26-4064-b7c3-a795e7e4dc94"
    }
   },
   "source": [
    "### Creating a Docker Swarm Cluster Node\n",
    "\n",
    "\n",
    "```sh\n",
    "> export DIGITALOCEAN_REGION=fra1 \n",
    "```\n",
    "\n",
    "```sh\n",
    "> export DIGITALOCEAN_SIZE=1gb\n",
    "```\n",
    "\n",
    "```sh\n",
    "> export DIGITALOCEAN_PRIVATE_NETWORKING=true\n",
    "```\n",
    "\n",
    "```sh\n",
    "> docker-machine create --driver digitalocean \\\n",
    "                        --digitalocean-image ubuntu-18-04-x64 \\\n",
    "                        --digitalocean-access-token $DIGITAL_OCEAN_TOKEN \\\n",
    "                        node-0\n",
    "```\n",
    "\n",
    "... about 3min ... \n",
    "\n",
    "~~~bash\n",
    "> docker-machine ls\n",
    "NAME     ACTIVE   DRIVER         STATE     URL                         SWARM   DOCKER     ERRORS\n",
    "node-0   -        digitalocean   Running   tcp://142.93.109.102:2376           v18.09.0\n",
    "~~~\n"
   ]
  },
  {
   "cell_type": "markdown",
   "metadata": {
    "nbpresent": {
     "id": "22508ca6-28dc-4bc3-bf27-f25cfd33253c"
    }
   },
   "source": [
    "\n",
    "### Creating Two More Nodes\n",
    "\n",
    "```bash\n",
    "> docker-machine create --driver digitalocean \\\n",
    "                        --digitalocean-image ubuntu-18-04-x64 \\\n",
    "                        --digitalocean-access-token $DIGITAL_OCEAN_TOKEN \\\n",
    "                        node-1\n",
    "```\n",
    "\n",
    "```sh\n",
    "> docker-machine create --driver digitalocean \\\n",
    "                        --digitalocean-image ubuntu-18-04-x64 \\\n",
    "                        --digitalocean-access-token $DIGITAL_OCEAN_TOKEN \\\n",
    "                        node-2\n",
    "```\n",
    "\n"
   ]
  },
  {
   "cell_type": "markdown",
   "metadata": {
    "nbpresent": {
     "id": "d4adb99c-e899-4ecb-8344-f0ae00e1a0a9"
    }
   },
   "source": [
    "\n",
    "#### Alternatively, you could create a cluster with multiple nodes via a loop:\n",
    "\n",
    "\n",
    "```bash\n",
    "#!/bin/bash\n",
    "\n",
    "export DIGITALOCEAN_REGION=fra1\n",
    "export DIGITALOCEAN_SIZE=1gb\n",
    "export DIGITALOCEAN_PRIVATE_NETWORKING=true\n",
    "for (( i=0; i<=2; i++ ))\n",
    "do\n",
    "    echo \"Creating node $i\"\n",
    "    docker-machine create --driver digitalocean \\\n",
    "                          --digitalocean-image ubuntu-18-04-x64 \\\n",
    "                          --digitalocean-access-token $DIGITAL_OCEAN_TOKEN \\\n",
    "                          node-$i\n",
    "done\n",
    "```\n",
    "\n"
   ]
  },
  {
   "cell_type": "markdown",
   "metadata": {
    "nbpresent": {
     "id": "eef06f1d-013b-4ed7-86e4-2e9124dfb697"
    }
   },
   "source": [
    "### Getting the IP of a Cluster Node\n",
    "\n",
    "~~~bash\n",
    "$ docker-machine ip node-0\n",
    "~~~\n",
    "\n",
    "\n"
   ]
  },
  {
   "cell_type": "markdown",
   "metadata": {
    "nbpresent": {
     "id": "ae7f3a9e-fa27-414f-a5ba-db6ea7ac6e5e"
    }
   },
   "source": [
    "### Making `node-0` a Cluster Manager\n",
    "\n",
    "```bash\n",
    "> SWARM_MANAGER_IP=`docker-machine ip node-0`\n",
    "```\n",
    "\n",
    "```sh\n",
    "> echo $SWARM_MANAGER_IP\n",
    "```\n",
    "\n",
    "```\n",
    "142.93.109.102\n",
    "```\n",
    "\n",
    "\n",
    "```sh\n",
    "\n",
    "> docker-machine ssh node-0 \"docker swarm init --advertise-addr $SWARM_MANAGER_IP\"\n",
    "\n",
    "```\n",
    "\n",
    "\n",
    "```\n",
    "Swarm initialized: current node (sozjy3nmfrieacm2pbgj41ek3) is now a manager.\n",
    "\n",
    "To add a worker to this swarm, run the following command:\n",
    "\n",
    "    docker swarm join --token SWMTKN-1-4rndqz4hwe38wtbl9fwgj33rk48ok3hri7a0xy42o7sf5ll38z-afkri2vu57m5z31v34bny16aj 142.93.109.102:2377\n",
    "\n",
    "To add a manager to this swarm, run 'docker swarm join-token manager' and follow the instructions.\n",
    "```\n",
    "\n"
   ]
  },
  {
   "cell_type": "markdown",
   "metadata": {
    "nbpresent": {
     "id": "f442fbfe-bfc8-4eff-86d4-61fc2e322a3b"
    }
   },
   "source": [
    "### Converting node-1 and node-2 to Workers\n",
    "\n",
    "Now let's get that token from the remote node and build a command that we can run on node-1 and node-2 to join the swarm.\n",
    "\n",
    "```sh\n",
    "> docker-machine ssh node-0 \"docker swarm join-token worker -q\"\n",
    "SWMTKN-1-4rndqz4hwe38wtbl9fwgj33rk48ok3hri7a0xy42o7sf5ll38z-afkri2vu57m5z31v34bny16aj\n",
    "\n",
    "> MANAGER_TOKEN=`docker-machine ssh node-0 \"docker swarm join-token worker -q\"`\n",
    "\n",
    "> REMOTE_CMD=\"docker swarm join --token $MANAGER_TOKEN $SWARM_MANAGER_IP:2377\"\n",
    "\n",
    "> docker-machine ssh node-1 \"$REMOTE_CMD\"\n",
    "```\n",
    "\n",
    "```\n",
    "  This node joined a swarm as a worker.\n",
    "```\n",
    "\n",
    "```sh\n",
    "> docker-machine ssh node-2 \"$REMOTE_CMD\"\n",
    "```\n",
    "\n",
    "```\n",
    "  This node joined a swarm as a worker.\n",
    "```\n",
    "\n",
    "\n",
    "\n",
    "\n"
   ]
  },
  {
   "cell_type": "markdown",
   "metadata": {
    "nbpresent": {
     "id": "9441836e-8642-4342-a708-020100c33f59"
    }
   },
   "source": [
    "### On the manager, we can see the state of the cluster\n",
    "\n",
    "```sh\n",
    "\n",
    "> docker-machine ssh node-0 \"docker node ls\"\n",
    "\n",
    "ID                            HOSTNAME            STATUS              AVAILABILITY        MANAGER STATUS      ENGINE VERSION\n",
    "sozjy3nmfrieacm2pbgj41ek3 *   node-0              Ready               Active              Leader              18.09.0\n",
    "hy6ie5xq561f9w1zpiyaqkrk5     node-1              Ready               Active                                  18.09.0\n",
    "\n",
    "```"
   ]
  },
  {
   "cell_type": "markdown",
   "metadata": {
    "nbpresent": {
     "id": "51a516e3-374e-4e84-8d92-5090f41415f8"
    }
   },
   "source": [
    "\n",
    "\n",
    "### Starting a Service\n",
    "\n",
    "Now that everything is setup, let's run a service on our cluster:\n",
    "\n",
    "```sh\n",
    "> docker-machine ssh node-0 \"docker service create -p 8080:8080 --name appserver stifstof/crashserver\"\n",
    "overall progress: 0 out of 1 tasks\n",
    "...\n",
    "overall progress: 1 out of 1 tasks\n",
    "verify: Waiting 5 seconds to verify that tasks are stable...\n",
    "...\n",
    "verify: Waiting 1 seconds to verify that tasks are stable...\n",
    "verify: Service converged\n",
    "```\n",
    "\n",
    "... about 1-2 min ...\n"
   ]
  },
  {
   "cell_type": "markdown",
   "metadata": {
    "nbpresent": {
     "id": "c679ee81-83f7-4359-a2af-c6d7f599d24b"
    }
   },
   "source": [
    "\n",
    "\n",
    "\n",
    "### Checking the State of the Service\n",
    "\n",
    "\n",
    "```bash\n",
    "> docker-machine ssh node-0 \"docker service ls\"\n",
    "ID                  NAME                MODE                REPLICAS            IMAGE                        PORTS\n",
    "ttkqm9wzthgu        appserver           replicated          1/1                 stifstof/crashserver:latest   *:8080->8080/tcp\n",
    "```\n",
    "\n",
    "You may directly ask for the state of a service with\n",
    "\n",
    "```bash\n",
    "> docker-machine ssh node-0 \"docker service ps appserver\"\n",
    "```\n",
    "\n",
    "\n",
    "Now, on a Mac you can: \n",
    "\n",
    "```sh\n",
    "> open http://$SWARM_MANAGER_IP:8080\n",
    "```\n",
    "\n",
    "Alternatively, navigate manually to the swarm manager's IP port 8080 and see the webpage served. \n",
    "\n"
   ]
  },
  {
   "cell_type": "markdown",
   "metadata": {
    "nbpresent": {
     "id": "235122c8-4dc7-4208-b03f-cca81860fd8a"
    }
   },
   "source": [
    "#### What happens if you navigate to the worker node ips? \n",
    "\n",
    "\n",
    "```sh\n",
    "open http://`docker-machine ip node-1`:8080\n",
    "```\n",
    "\n",
    "```sh\n",
    "open http://`docker-machine ip node-2`:8080\n",
    "```"
   ]
  },
  {
   "cell_type": "markdown",
   "metadata": {
    "nbpresent": {
     "id": "9d7cf0d1-c52a-4e5d-800a-f2597a07a7e7"
    }
   },
   "source": [
    "### The Routing Mesh\n",
    "\n",
    "\n",
    "> The routing mesh enables each node in the swarm to accept connections on published ports for any service running in the swarm, even if there’s no task running on the node. The routing mesh routes all incoming requests to published ports on available nodes to an active container.\n",
    "\n",
    "\n",
    "Read more:  https://docs.docker.com/engine/swarm/ingress/\n"
   ]
  },
  {
   "cell_type": "markdown",
   "metadata": {
    "nbpresent": {
     "id": "0df0b717-22cc-4e2b-b3fc-9525b37c86b7"
    }
   },
   "source": [
    "# The Swarm also Restarts Services\n",
    "\n",
    "\n",
    "To demonstrate this, we used the crashserver service - which is a webserver which kills itself three seconds after serving an http request.\n",
    "\n",
    "Take some time and observe the behavior of the container before continuing with the guide. \n",
    "Note how the infrastructure is self-healing, by checking the state of the service multiple times after an invocation as shown above.\n",
    "\n",
    "The service becomes unavailable while Swarm is recreating the container after it has been killed. \n",
    "Now we will scale the service to increase availability.\n",
    "\n"
   ]
  },
  {
   "cell_type": "markdown",
   "metadata": {
    "nbpresent": {
     "id": "1bb65010-9bf2-423d-8eb1-fb228ff51481"
    }
   },
   "source": [
    "\n",
    "\n",
    "## Finally, Scaling\n",
    "\n",
    "```bash\n",
    "> docker-machine ssh node-0 \"docker service scale appserver=5\"\n",
    "> docker-machine ssh node-0 \"docker service ls\"\n",
    "\n",
    "ID                  NAME                MODE                REPLICAS            IMAGE                        PORTS\n",
    "ttkqm9wzthgu        appserver           replicated          5/5                 stifstof/crashserver:latest   *:8080->8080/tcp\n",
    "\n",
    "\n",
    "\n",
    "> docker-machine ssh node-0 \"docker service ps appserver\"\n",
    "\n",
    "\n",
    "ID                  NAME                IMAGE                        NODE                DESIRED STATE       CURRENT STATE            ERROR               PORTS\n",
    "vbg02o9bsaog        appserver.1         stifstof/crashserver:latest   node-1              Running             Running 7 minutes ago\n",
    "mudpe1lokpj7        appserver.2         stifstof/crashserver:latest   node-0              Running             Running 13 seconds ago\n",
    "t7enei6pz4jw        appserver.3         stifstof/crashserver:latest   node-0              Running             Running 12 seconds ago\n",
    "sfpn4f2kg5nq        appserver.4         stifstof/crashserver:latest   node-1              Running             Running 39 seconds ago\n",
    "wa8f99b6t199        appserver.5         stifstof/crashserver:latest   node-0              Running             Running 12 seconds ago\n",
    "```\n",
    "\n",
    "\n"
   ]
  },
  {
   "cell_type": "markdown",
   "metadata": {
    "nbpresent": {
     "id": "79dc690f-d8d6-433d-8320-b089a4d59e6a"
    }
   },
   "source": [
    "# Did it work? \n",
    "\n",
    "You should now be able to invoke the webpage without seeing the error-page each time the container is killed, but instead see the request being served by another container. Nice!\n",
    "\n",
    "Althrough it is possible to kill all container by manically invoking the /status endpoint, if you want to test the self-healing feature of swarm, you can invoke the /kill endpoint, which will kill the container immediately, so you don't have to wait.  \n",
    "\n"
   ]
  },
  {
   "cell_type": "markdown",
   "metadata": {
    "nbpresent": {
     "id": "4b6da5d5-ff76-4f37-8a28-2579df0d38af"
    }
   },
   "source": [
    "\n",
    "\n",
    "# Cleaning up to not pay anymore...\n",
    "\n",
    "\n",
    "\n",
    "```bash\n",
    "> docker-machine ls --filter name=node-.* --filter driver=digitalocean --format \"{{.Name}}\" | xargs docker-machine rm -y\n",
    "\n",
    "About to remove node-0, node-1\n",
    "WARNING: This action will delete both local reference and remote instance.\n",
    "Successfully removed node-0\n",
    "Successfully removed node-1\n",
    "```\n",
    "\n",
    "\n",
    "\n",
    "The guide above is based on the guide at:\n",
    "https://www.digitalocean.com/community/tutorials/how-to-create-a-cluster-of-docker-containers-with-docker-swarm-and-digitalocean-on-ubuntu-16-04"
   ]
  },
  {
   "cell_type": "markdown",
   "metadata": {
    "nbpresent": {
     "id": "84fd4526-bd67-471a-b23b-21ecb0f532eb"
    },
    "slideshow": {
     "slide_type": "subslide"
    }
   },
   "source": [
    "# Upgrade Strategies\n",
    "\n",
    "\n",
    "  * _Blue-green_ ... Two identical environments, where only one is hot at any time\n",
    "  ![](https://opensource.com/sites/default/files/f1_2.png)"
   ]
  },
  {
   "cell_type": "markdown",
   "metadata": {
    "nbpresent": {
     "id": "db5f0f98-baa3-4280-9eef-a2e828991a76"
    },
    "slideshow": {
     "slide_type": "subslide"
    }
   },
   "source": [
    "  * _Canary_ ... Deploy to a small group first, then deploy to the rest\n",
    "  ![](https://opensource.com/sites/default/files/f3_0.png)\n"
   ]
  },
  {
   "cell_type": "markdown",
   "metadata": {
    "nbpresent": {
     "id": "2f779410-4863-44be-b29c-b9a0c73a86af"
    },
    "slideshow": {
     "slide_type": "subslide"
    }
   },
   "source": [
    "  * _Rolling_ ... Deploy in rolling iterations\n",
    "  ![](https://opensource.com/sites/default/files/images/business-uploads/rolling2.gif)\n",
    "  \n",
    "See https://opensource.com/article/17/5/colorful-deployments"
   ]
  },
  {
   "cell_type": "markdown",
   "metadata": {
    "nbpresent": {
     "id": "9827f145-1a6a-4324-8db5-08efe2eab322"
    }
   },
   "source": [
    "## Docker Swarm: Rolling Updates\n",
    "\n",
    "  1. Stop the first task\n",
    "  2. Schedule update for the stopped task\n",
    "  3. Start the container for the updated task\n",
    "  4. If the update to a task returns RUNNING, wait for the specified delay period then start the next task\n",
    "  5. If, at any  me during the update, a task returns FAILED, pause the update\n",
    "\n",
    "PS: You need at least two replicas!\n",
    "\n",
    "\n",
    "See https://docs.docker.com/engine/swarm/swarm-tutorial/rolling-update/"
   ]
  },
  {
   "cell_type": "markdown",
   "metadata": {
    "nbpresent": {
     "id": "2a76f800-a770-417d-adec-e661f87c7750"
    }
   },
   "source": [
    "## Automating the Automation: Deploying the Swarm with Terraform\n",
    "\n",
    "#### Terraform\n",
    "- declarative scripting of complex cloud infrastructure\n",
    "- like vagrant but for the cloud\n",
    "- unlike Puppet, Chef which are for automating software on a single machine\n"
   ]
  },
  {
   "cell_type": "markdown",
   "metadata": {
    "nbpresent": {
     "id": "63798b78-b6cf-4695-9e13-6516cbed328b"
    },
    "slideshow": {
     "slide_type": "subslide"
    }
   },
   "source": [
    "# Your Task Until Next Week\n",
    "\n",
    "\n",
    "Either \n",
    "\n",
    "  * create a high-available setup with _hot_ and _standby_ server for your MiniTwit, or\n",
    "    - you don't need to replicate the load balancer too; suffices to replicate your server\n",
    "  * create a Docker Swarm cluster for your MiniTwit in which all components run as services.\n",
    "  \n",
    "  \n",
    "In both cases implement a rolling update strategy to your build chain.\n",
    "\n",
    "\n"
   ]
  },
  {
   "cell_type": "markdown",
   "metadata": {},
   "source": [
    "\n",
    "### Stuff that came up during the chat / discussions:\n",
    "\n",
    "- Talk about scalability problems due to too many services at Dell:  https://www.youtube.com/watch?v=gfh-VCTwMw8\n",
    "\n",
    "\n",
    "- Floating IPs = Elastic IPs @ Amazon\n",
    "\n",
    "\n",
    "- Information on the exam report? \n",
    "  - We'll post it in writing in the upcoming days\n",
    "\n",
    "\n",
    "- Isn't it too much work to switch to container orchestration while bringing along monitoring and ...\n",
    "  - It's up to you how much you want to go with this\n",
    "  \n",
    "In general:\n",
    "- think about the cost implications & tradeoffs of various architectures  -- probably an interesting project / thesis by the way\n",
    "\n",
    "Also: \n",
    "- Press F to pay respect: https://knowyourmeme.com/memes/press-f-to-pay-respects\n",
    "\n"
   ]
  },
  {
   "cell_type": "code",
   "execution_count": null,
   "metadata": {
    "collapsed": true
   },
   "outputs": [],
   "source": []
  }
 ],
 "metadata": {
  "anaconda-cloud": {},
  "celltoolbar": "Slideshow",
  "kernelspec": {
   "display_name": "Python [default]",
   "language": "python",
   "name": "python3"
  },
  "language_info": {
   "codemirror_mode": {
    "name": "ipython",
    "version": 3
   },
   "file_extension": ".py",
   "mimetype": "text/x-python",
   "name": "python",
   "nbconvert_exporter": "python",
   "pygments_lexer": "ipython3",
   "version": "3.5.2"
  },
  "nbpresent": {
   "slides": {
    "0064238c-1af6-4621-80c9-864ece97cd3c": {
     "id": "0064238c-1af6-4621-80c9-864ece97cd3c",
     "prev": "ecbd86e2-f51c-4d31-a75f-40a21202b6f7",
     "regions": {
      "bd7d147d-5663-4d63-b3c8-707485fb08c7": {
       "attrs": {
        "height": 0.8,
        "width": 0.8,
        "x": 0.1,
        "y": 0.1
       },
       "content": {
        "cell": "92a14cca-ee03-4a51-b350-4fe60c472be6",
        "part": "whole"
       },
       "id": "bd7d147d-5663-4d63-b3c8-707485fb08c7"
      }
     }
    },
    "07975e01-355f-445c-92ad-1e21c9f1c664": {
     "id": "07975e01-355f-445c-92ad-1e21c9f1c664",
     "prev": "0957d04a-ca57-4097-8af4-d23ce871377e",
     "regions": {
      "80052fbd-6736-4bfb-8c05-e44e3155b075": {
       "attrs": {
        "height": 0.8,
        "width": 0.8,
        "x": 0.1,
        "y": 0.1
       },
       "content": {
        "cell": "80939afd-0e60-4f56-9f59-c11d25e42b66",
        "part": "whole"
       },
       "id": "80052fbd-6736-4bfb-8c05-e44e3155b075"
      }
     }
    },
    "0957d04a-ca57-4097-8af4-d23ce871377e": {
     "id": "0957d04a-ca57-4097-8af4-d23ce871377e",
     "prev": "e039c209-0452-4eaa-98ec-6f064a315d81",
     "regions": {
      "152173f7-20b9-4399-8c40-e222b79f1fd9": {
       "attrs": {
        "height": 0.8,
        "width": 0.8,
        "x": 0.1,
        "y": 0.1
       },
       "content": {
        "cell": "bc18cd98-2702-4406-9a0c-baa9c123a42d",
        "part": "whole"
       },
       "id": "152173f7-20b9-4399-8c40-e222b79f1fd9"
      }
     }
    },
    "0c7697b9-61e9-4f29-b24b-93004f93e385": {
     "id": "0c7697b9-61e9-4f29-b24b-93004f93e385",
     "prev": "2ce1d4a3-b5db-4aa9-a485-c16350a9dd22",
     "regions": {
      "483af5d5-775d-41c0-aa57-bbb08f673ce8": {
       "attrs": {
        "height": 0.8,
        "width": 0.8,
        "x": 0.1,
        "y": 0.1
       },
       "content": {
        "cell": "4b6da5d5-ff76-4f37-8a28-2579df0d38af",
        "part": "whole"
       },
       "id": "483af5d5-775d-41c0-aa57-bbb08f673ce8"
      }
     }
    },
    "11c0fca1-0907-4ff2-a92f-7c109f5c3c09": {
     "id": "11c0fca1-0907-4ff2-a92f-7c109f5c3c09",
     "prev": "8f01d264-d54a-4762-922d-31b334bb8f6d",
     "regions": {
      "131a9f99-53ba-4788-a5d2-d117e63a9470": {
       "attrs": {
        "height": 0.8,
        "width": 0.8,
        "x": 0.1,
        "y": 0.1
       },
       "content": {
        "cell": "edb92663-e57d-4f99-b7ff-fb55525287a7",
        "part": "whole"
       },
       "id": "131a9f99-53ba-4788-a5d2-d117e63a9470"
      }
     }
    },
    "1275fa3e-ea3a-404c-be2d-f60c830ea4b6": {
     "id": "1275fa3e-ea3a-404c-be2d-f60c830ea4b6",
     "prev": "7e55e3cd-5e25-4e75-8504-70d16cbd6727",
     "regions": {
      "a705d31c-3e49-4f98-9cd4-835fcc191323": {
       "attrs": {
        "height": 0.8,
        "width": 0.8,
        "x": 0.1,
        "y": 0.1
       },
       "content": {
        "cell": "c679ee81-83f7-4359-a2af-c6d7f599d24b",
        "part": "whole"
       },
       "id": "a705d31c-3e49-4f98-9cd4-835fcc191323"
      }
     }
    },
    "168adeba-9807-4f9e-81e6-6ac1c3c8f4aa": {
     "id": "168adeba-9807-4f9e-81e6-6ac1c3c8f4aa",
     "prev": "dc749c95-26e3-4be5-880b-e7f88abbbf4b",
     "regions": {
      "ac6118e5-addd-4f6a-a2ff-0f77b6be8277": {
       "attrs": {
        "height": 0.8,
        "width": 0.8,
        "x": 0.1,
        "y": 0.1
       },
       "content": {
        "cell": "ae7f3a9e-fa27-414f-a5ba-db6ea7ac6e5e",
        "part": "whole"
       },
       "id": "ac6118e5-addd-4f6a-a2ff-0f77b6be8277"
      }
     }
    },
    "194bb618-7332-4f2c-880d-85860e0404b0": {
     "id": "194bb618-7332-4f2c-880d-85860e0404b0",
     "prev": "7ce12038-8046-48f9-8063-febaca85eb2c",
     "regions": {
      "169f55bd-3f25-4e78-8223-59c55d2ffac9": {
       "attrs": {
        "height": 0.8,
        "width": 0.8,
        "x": 0.1,
        "y": 0.1
       },
       "content": {
        "cell": "ba18bb7f-9b41-4c38-a20c-5209101342c2",
        "part": "whole"
       },
       "id": "169f55bd-3f25-4e78-8223-59c55d2ffac9"
      }
     }
    },
    "2a568dde-27eb-47e6-8c2d-093d1641788d": {
     "id": "2a568dde-27eb-47e6-8c2d-093d1641788d",
     "prev": "66ee9a69-431a-481f-90e1-e4cb0f72bb81",
     "regions": {
      "71175a13-1e3a-4869-bfd1-df6f9ccc53fb": {
       "attrs": {
        "height": 0.8,
        "width": 0.8,
        "x": 0.1,
        "y": 0.1
       },
       "content": {
        "cell": "f578da5c-5a62-4bd0-9a05-2cb38dbee52b",
        "part": "whole"
       },
       "id": "71175a13-1e3a-4869-bfd1-df6f9ccc53fb"
      }
     }
    },
    "2c6e3ecc-38c4-4fa2-bbf2-26bc8910892e": {
     "id": "2c6e3ecc-38c4-4fa2-bbf2-26bc8910892e",
     "prev": "33c0d9c9-4dbe-4e1e-9c69-e19cd6701443",
     "regions": {
      "5f4cee40-f518-44f1-99cb-9bf468af2f87": {
       "attrs": {
        "height": 0.8,
        "width": 0.8,
        "x": 0.1,
        "y": 0.1
       },
       "content": {
        "cell": "1bb65010-9bf2-423d-8eb1-fb228ff51481",
        "part": "whole"
       },
       "id": "5f4cee40-f518-44f1-99cb-9bf468af2f87"
      }
     }
    },
    "2ce1d4a3-b5db-4aa9-a485-c16350a9dd22": {
     "id": "2ce1d4a3-b5db-4aa9-a485-c16350a9dd22",
     "prev": "2c6e3ecc-38c4-4fa2-bbf2-26bc8910892e",
     "regions": {
      "d8ab07ff-75aa-4ba1-be01-2ff21ffff114": {
       "attrs": {
        "height": 0.8,
        "width": 0.8,
        "x": 0.1,
        "y": 0.1
       },
       "content": {
        "cell": "79dc690f-d8d6-433d-8320-b089a4d59e6a",
        "part": "whole"
       },
       "id": "d8ab07ff-75aa-4ba1-be01-2ff21ffff114"
      }
     }
    },
    "331a0131-4818-4f61-bc62-511f299cd8b8": {
     "id": "331a0131-4818-4f61-bc62-511f299cd8b8",
     "prev": "8f3893cb-cafd-4422-8093-cf5f993f3928",
     "regions": {
      "0e1da632-7e42-4d08-88f6-62586ba204f7": {
       "attrs": {
        "height": 0.8,
        "width": 0.8,
        "x": 0.1,
        "y": 0.1
       },
       "content": {
        "cell": "e0051c48-fff8-4dbb-b8cd-915eee5024e6",
        "part": "whole"
       },
       "id": "0e1da632-7e42-4d08-88f6-62586ba204f7"
      }
     }
    },
    "33c0d9c9-4dbe-4e1e-9c69-e19cd6701443": {
     "id": "33c0d9c9-4dbe-4e1e-9c69-e19cd6701443",
     "prev": "a790c589-2698-4603-b793-b23892f4f0c2",
     "regions": {
      "cff40310-f6b0-4e63-8525-a2b8ba64fb4b": {
       "attrs": {
        "height": 0.8,
        "width": 0.8,
        "x": 0.1,
        "y": 0.1
       },
       "content": {
        "cell": "0df0b717-22cc-4e2b-b3fc-9525b37c86b7",
        "part": "whole"
       },
       "id": "cff40310-f6b0-4e63-8525-a2b8ba64fb4b"
      }
     }
    },
    "369035db-bf23-4f11-9bea-dd26a468258b": {
     "id": "369035db-bf23-4f11-9bea-dd26a468258b",
     "prev": "967d33ac-1074-49b9-b9a9-3cead53ea40d",
     "regions": {
      "f6fd623c-66ed-4c42-9ce5-163c7813d5f1": {
       "attrs": {
        "height": 0.8,
        "width": 0.8,
        "x": 0.1,
        "y": 0.1
       },
       "content": {
        "cell": "c0b2d682-2baf-4ddb-8016-031c9ec05b2c",
        "part": "whole"
       },
       "id": "f6fd623c-66ed-4c42-9ce5-163c7813d5f1"
      }
     }
    },
    "383cbace-647d-4ae0-951c-d322b318d584": {
     "id": "383cbace-647d-4ae0-951c-d322b318d584",
     "prev": "610230a6-d6f0-4fff-9847-df4448146d23",
     "regions": {
      "63e01e20-761d-4585-869a-d94e22fe1186": {
       "attrs": {
        "height": 0.8,
        "width": 0.8,
        "x": 0.1,
        "y": 0.1
       },
       "content": {
        "cell": "9b02ce04-8351-42fe-9558-efd718081034",
        "part": "whole"
       },
       "id": "63e01e20-761d-4585-869a-d94e22fe1186"
      }
     }
    },
    "3ccb188b-315d-43f1-9d10-22802b223261": {
     "id": "3ccb188b-315d-43f1-9d10-22802b223261",
     "prev": "b428afce-4bb6-4ca8-9ec4-6fc900f9a534",
     "regions": {
      "1b84b984-2fe5-4a19-8fa7-e4af94a1e877": {
       "attrs": {
        "height": 0.8,
        "width": 0.8,
        "x": 0.1,
        "y": 0.1
       },
       "content": {
        "cell": "766f2ce0-6e82-4132-bef3-41bf53764808",
        "part": "whole"
       },
       "id": "1b84b984-2fe5-4a19-8fa7-e4af94a1e877"
      }
     }
    },
    "4078b881-5b2f-4ffa-9074-57fec46e2aaf": {
     "id": "4078b881-5b2f-4ffa-9074-57fec46e2aaf",
     "prev": "50906de6-59cf-428f-b243-32e20756fc35",
     "regions": {
      "ceb1397f-c022-494f-92b4-8207e2b4f337": {
       "attrs": {
        "height": 0.8,
        "width": 0.8,
        "x": 0.1,
        "y": 0.1
       },
       "content": {
        "cell": "fbee34cd-c0e5-4559-8b74-bddb4348987d",
        "part": "whole"
       },
       "id": "ceb1397f-c022-494f-92b4-8207e2b4f337"
      }
     }
    },
    "44512f86-69a9-4bba-a00a-4d1d4003dc93": {
     "id": "44512f86-69a9-4bba-a00a-4d1d4003dc93",
     "prev": "6e94128e-c989-4c65-8202-08134e1a17f2",
     "regions": {
      "721a81d5-c5e3-40af-8ab8-6ec2f4c22212": {
       "attrs": {
        "height": 0.8,
        "width": 0.8,
        "x": 0.1,
        "y": 0.1
       },
       "content": {
        "cell": "63798b78-b6cf-4695-9e13-6516cbed328b",
        "part": "whole"
       },
       "id": "721a81d5-c5e3-40af-8ab8-6ec2f4c22212"
      }
     }
    },
    "4ad4c844-e184-45c9-b6e7-a7727535ab62": {
     "id": "4ad4c844-e184-45c9-b6e7-a7727535ab62",
     "prev": "8fb1336f-95f5-4549-8587-b88171be3dde",
     "regions": {
      "4443e361-e128-427e-959e-f814b0c0fd42": {
       "attrs": {
        "height": 0.8,
        "width": 0.8,
        "x": 0.1,
        "y": 0.1
       },
       "content": {
        "cell": "22508ca6-28dc-4bc3-bf27-f25cfd33253c",
        "part": "whole"
       },
       "id": "4443e361-e128-427e-959e-f814b0c0fd42"
      }
     }
    },
    "4d383dc9-89f3-47fb-975a-8a07c3c30326": {
     "id": "4d383dc9-89f3-47fb-975a-8a07c3c30326",
     "prev": "db825ff5-7b11-4e63-8c64-f2c18dd34ea1",
     "regions": {
      "9f457be2-88a7-4372-8a38-c9134ab931eb": {
       "attrs": {
        "height": 0.8,
        "width": 0.8,
        "x": 0.1,
        "y": 0.1
       },
       "content": {
        "cell": "efa29195-2d49-462e-9117-6c3e0566f8ab",
        "part": "whole"
       },
       "id": "9f457be2-88a7-4372-8a38-c9134ab931eb"
      }
     }
    },
    "50906de6-59cf-428f-b243-32e20756fc35": {
     "id": "50906de6-59cf-428f-b243-32e20756fc35",
     "prev": "383cbace-647d-4ae0-951c-d322b318d584",
     "regions": {
      "58a61bc9-539f-4049-9f5b-6f12324fe763": {
       "attrs": {
        "height": 0.8,
        "width": 0.8,
        "x": 0.1,
        "y": 0.1
       },
       "content": {
        "cell": "522a70e0-c685-4e26-9561-312eb989b555",
        "part": "whole"
       },
       "id": "58a61bc9-539f-4049-9f5b-6f12324fe763"
      }
     }
    },
    "5b0d6aff-d543-4593-92fc-6ce6a56d29fb": {
     "id": "5b0d6aff-d543-4593-92fc-6ce6a56d29fb",
     "prev": "1275fa3e-ea3a-404c-be2d-f60c830ea4b6",
     "regions": {
      "5526f54e-98ff-49c3-8564-595382e04e85": {
       "attrs": {
        "height": 0.8,
        "width": 0.8,
        "x": 0.1,
        "y": 0.1
       },
       "content": {
        "cell": "235122c8-4dc7-4208-b03f-cca81860fd8a",
        "part": "whole"
       },
       "id": "5526f54e-98ff-49c3-8564-595382e04e85"
      }
     }
    },
    "610230a6-d6f0-4fff-9847-df4448146d23": {
     "id": "610230a6-d6f0-4fff-9847-df4448146d23",
     "prev": "b3d807bc-d84e-4a5d-a4ec-0dbaee0c60e1",
     "regions": {
      "07c9454e-a700-4a7f-b6ed-965eee9002f8": {
       "attrs": {
        "height": 0.8,
        "width": 0.8,
        "x": 0.1,
        "y": 0.1
       },
       "content": {
        "cell": "4d0de48c-7624-4804-bcfd-ad11d885ff64",
        "part": "whole"
       },
       "id": "07c9454e-a700-4a7f-b6ed-965eee9002f8"
      }
     }
    },
    "6280777e-d04a-4a3d-a931-8d08dcecc5d8": {
     "id": "6280777e-d04a-4a3d-a931-8d08dcecc5d8",
     "prev": "b62785bf-b821-43aa-b1f7-e19ecb088b2b",
     "regions": {
      "fafc7d4f-19da-40a4-9015-de4821dd13ae": {
       "attrs": {
        "height": 0.8,
        "width": 0.8,
        "x": 0.1,
        "y": 0.1
       },
       "content": {
        "cell": "86d3dd20-583b-4257-a4b9-abad5fde2f9c",
        "part": "whole"
       },
       "id": "fafc7d4f-19da-40a4-9015-de4821dd13ae"
      }
     }
    },
    "66a0fc5f-929b-436d-b936-e6ecb605da68": {
     "id": "66a0fc5f-929b-436d-b936-e6ecb605da68",
     "prev": "75e5278a-be19-41f8-b5ee-7d14a3789722",
     "regions": {
      "27a1ad38-49f5-4c2a-821c-b072640a76b6": {
       "attrs": {
        "height": 0.8,
        "width": 0.8,
        "x": 0.1,
        "y": 0.1
       },
       "content": {
        "cell": "1b8a9fa6-f585-48fd-84f0-608827232072",
        "part": "whole"
       },
       "id": "27a1ad38-49f5-4c2a-821c-b072640a76b6"
      }
     }
    },
    "66ee9a69-431a-481f-90e1-e4cb0f72bb81": {
     "id": "66ee9a69-431a-481f-90e1-e4cb0f72bb81",
     "prev": "4d383dc9-89f3-47fb-975a-8a07c3c30326",
     "regions": {
      "cc380451-7ddf-454f-b09a-6b4325c9c3a9": {
       "attrs": {
        "height": 0.8,
        "width": 0.8,
        "x": 0.1,
        "y": 0.1
       },
       "content": {
        "cell": "cfdd681a-d267-4d75-88ad-4214e61a882e",
        "part": "whole"
       },
       "id": "cc380451-7ddf-454f-b09a-6b4325c9c3a9"
      }
     }
    },
    "6a6047a3-995e-4b00-96fd-6ee356ba6417": {
     "id": "6a6047a3-995e-4b00-96fd-6ee356ba6417",
     "prev": null,
     "regions": {
      "75b944cf-33b4-4f2b-82c2-b4aa2ee12c34": {
       "attrs": {
        "height": 0.8,
        "width": 0.8,
        "x": 0.1,
        "y": 0.1
       },
       "content": {
        "cell": "351e9502-9861-418d-8f4b-e68163460a81",
        "part": "whole"
       },
       "id": "75b944cf-33b4-4f2b-82c2-b4aa2ee12c34"
      }
     }
    },
    "6e94128e-c989-4c65-8202-08134e1a17f2": {
     "id": "6e94128e-c989-4c65-8202-08134e1a17f2",
     "prev": "f099e70a-9908-4f55-b4c7-7c69973ce9a0",
     "regions": {
      "2b1eaee9-3966-4b3a-8cf0-aaa999d7917e": {
       "attrs": {
        "height": 0.8,
        "width": 0.8,
        "x": 0.1,
        "y": 0.1
       },
       "content": {
        "cell": "2a76f800-a770-417d-adec-e661f87c7750",
        "part": "whole"
       },
       "id": "2b1eaee9-3966-4b3a-8cf0-aaa999d7917e"
      }
     }
    },
    "74e4cc03-d5bb-4585-bc97-98a0d14b0b35": {
     "id": "74e4cc03-d5bb-4585-bc97-98a0d14b0b35",
     "prev": "b4da9a0e-314f-4809-b45f-5548ae192cb3",
     "regions": {
      "976299d1-1bf4-4998-a89f-d6b3e883c0ee": {
       "attrs": {
        "height": 0.8,
        "width": 0.8,
        "x": 0.1,
        "y": 0.1
       },
       "content": {
        "cell": "db5f0f98-baa3-4280-9eef-a2e828991a76",
        "part": "whole"
       },
       "id": "976299d1-1bf4-4998-a89f-d6b3e883c0ee"
      }
     }
    },
    "75e5278a-be19-41f8-b5ee-7d14a3789722": {
     "id": "75e5278a-be19-41f8-b5ee-7d14a3789722",
     "prev": "817b3cea-1b72-4b97-a148-926db1dfd2ac",
     "regions": {
      "3ac50428-9a8c-49b3-9cb7-30afec40202c": {
       "attrs": {
        "height": 0.8,
        "width": 0.8,
        "x": 0.1,
        "y": 0.1
       },
       "content": {
        "cell": "acb64917-2683-4da0-8a1e-24877ce0cb73",
        "part": "whole"
       },
       "id": "3ac50428-9a8c-49b3-9cb7-30afec40202c"
      }
     }
    },
    "792a0824-4315-47b0-b221-882a09f6943a": {
     "id": "792a0824-4315-47b0-b221-882a09f6943a",
     "prev": "331a0131-4818-4f61-bc62-511f299cd8b8",
     "regions": {
      "8c974429-b524-4e6e-9057-52bc8b1c3455": {
       "attrs": {
        "height": 0.8,
        "width": 0.8,
        "x": 0.1,
        "y": 0.1
       },
       "content": {
        "cell": "894d1ca4-0edd-452b-8af0-45f9554a914b",
        "part": "whole"
       },
       "id": "8c974429-b524-4e6e-9057-52bc8b1c3455"
      }
     }
    },
    "7ce12038-8046-48f9-8063-febaca85eb2c": {
     "id": "7ce12038-8046-48f9-8063-febaca85eb2c",
     "prev": "e0622777-114a-4037-a663-807eaed52b9b",
     "regions": {
      "3193c332-70c1-4f99-b298-8cb720c8dd34": {
       "attrs": {
        "height": 0.8,
        "width": 0.8,
        "x": 0.1,
        "y": 0.1
       },
       "content": {
        "cell": "4aab9abd-7608-4d57-b6ac-e2ce0323822a",
        "part": "whole"
       },
       "id": "3193c332-70c1-4f99-b298-8cb720c8dd34"
      }
     }
    },
    "7cf99cab-6b53-491f-9707-497abbafa594": {
     "id": "7cf99cab-6b53-491f-9707-497abbafa594",
     "prev": "bd5172cf-cf6a-40f4-9c2a-779b90f1819e",
     "regions": {
      "bd55ccf3-baee-46c9-8f87-92ff8386fd0b": {
       "attrs": {
        "height": 0.8,
        "width": 0.8,
        "x": 0.1,
        "y": 0.1
       },
       "content": {
        "cell": "3992a29b-a292-4b24-9686-308cdc761186",
        "part": "whole"
       },
       "id": "bd55ccf3-baee-46c9-8f87-92ff8386fd0b"
      }
     }
    },
    "7e55e3cd-5e25-4e75-8504-70d16cbd6727": {
     "id": "7e55e3cd-5e25-4e75-8504-70d16cbd6727",
     "prev": "f29118f2-a498-43cd-ba97-4edbf4103a39",
     "regions": {
      "115a859e-3031-4a1b-aa1a-c54447451c52": {
       "attrs": {
        "height": 0.8,
        "width": 0.8,
        "x": 0.1,
        "y": 0.1
       },
       "content": {
        "cell": "51a516e3-374e-4e84-8d92-5090f41415f8",
        "part": "whole"
       },
       "id": "115a859e-3031-4a1b-aa1a-c54447451c52"
      }
     }
    },
    "817b3cea-1b72-4b97-a148-926db1dfd2ac": {
     "id": "817b3cea-1b72-4b97-a148-926db1dfd2ac",
     "prev": "0064238c-1af6-4621-80c9-864ece97cd3c",
     "regions": {
      "03161bbd-332a-4d72-b046-fe7ff7734042": {
       "attrs": {
        "height": 0.8,
        "width": 0.8,
        "x": 0.1,
        "y": 0.1
       },
       "content": {
        "cell": "b9bc393d-40d3-4a15-a0c6-70e1e783b977",
        "part": "whole"
       },
       "id": "03161bbd-332a-4d72-b046-fe7ff7734042"
      }
     }
    },
    "828327c0-975f-4066-a217-1332b40c31c5": {
     "id": "828327c0-975f-4066-a217-1332b40c31c5",
     "prev": "b5817d4b-ff13-4167-a22e-efd9727fea4d",
     "regions": {
      "c0c1b60a-c9a9-451e-8546-aac14bb0241b": {
       "attrs": {
        "height": 0.8,
        "width": 0.8,
        "x": 0.1,
        "y": 0.1
       },
       "content": {
        "cell": "62e8f7fb-1515-41ec-b878-bf4218984973",
        "part": "whole"
       },
       "id": "c0c1b60a-c9a9-451e-8546-aac14bb0241b"
      }
     }
    },
    "84733990-4bc0-4694-946b-c80d938a86f6": {
     "id": "84733990-4bc0-4694-946b-c80d938a86f6",
     "prev": "4ad4c844-e184-45c9-b6e7-a7727535ab62",
     "regions": {
      "cf44ddd7-0c3d-4447-88d3-107f02f58d91": {
       "attrs": {
        "height": 0.8,
        "width": 0.8,
        "x": 0.1,
        "y": 0.1
       },
       "content": {
        "cell": "d4adb99c-e899-4ecb-8344-f0ae00e1a0a9",
        "part": "whole"
       },
       "id": "cf44ddd7-0c3d-4447-88d3-107f02f58d91"
      }
     }
    },
    "8f01d264-d54a-4762-922d-31b334bb8f6d": {
     "id": "8f01d264-d54a-4762-922d-31b334bb8f6d",
     "prev": "828327c0-975f-4066-a217-1332b40c31c5",
     "regions": {
      "c8609b76-608f-4670-adb5-e6e85b9ff47f": {
       "attrs": {
        "height": 0.8,
        "width": 0.8,
        "x": 0.1,
        "y": 0.1
       },
       "content": {
        "cell": "af2a0c7d-be56-492a-a824-95d6bf3ef476",
        "part": "whole"
       },
       "id": "c8609b76-608f-4670-adb5-e6e85b9ff47f"
      }
     }
    },
    "8f3893cb-cafd-4422-8093-cf5f993f3928": {
     "id": "8f3893cb-cafd-4422-8093-cf5f993f3928",
     "prev": "369035db-bf23-4f11-9bea-dd26a468258b",
     "regions": {
      "49be6d1c-c549-46de-b5b3-feac2b2c9647": {
       "attrs": {
        "height": 0.8,
        "width": 0.8,
        "x": 0.1,
        "y": 0.1
       },
       "content": {
        "cell": "3958a75b-ca90-4f38-a426-08ed818afa6c",
        "part": "whole"
       },
       "id": "49be6d1c-c549-46de-b5b3-feac2b2c9647"
      }
     }
    },
    "8fb1336f-95f5-4549-8587-b88171be3dde": {
     "id": "8fb1336f-95f5-4549-8587-b88171be3dde",
     "prev": "a542618e-c9ba-45d1-82d5-8115e715a930",
     "regions": {
      "c9265450-77f8-4c58-8861-2f17238d6b4a": {
       "attrs": {
        "height": 0.8,
        "width": 0.8,
        "x": 0.1,
        "y": 0.1
       },
       "content": {
        "cell": "e72cd6e4-ee26-4064-b7c3-a795e7e4dc94",
        "part": "whole"
       },
       "id": "c9265450-77f8-4c58-8861-2f17238d6b4a"
      }
     }
    },
    "919f050b-4999-4e72-b547-3ca7c26c1bdd": {
     "id": "919f050b-4999-4e72-b547-3ca7c26c1bdd",
     "prev": "abdf381c-2069-4aa3-8a7b-d17c7711acdd",
     "regions": {
      "71aae927-68af-46b8-9283-6f3f87f6231e": {
       "attrs": {
        "height": 0.8,
        "width": 0.8,
        "x": 0.1,
        "y": 0.1
       },
       "content": {
        "cell": "aa82aeda-2acd-41f8-a773-f16be0f54092",
        "part": "whole"
       },
       "id": "71aae927-68af-46b8-9283-6f3f87f6231e"
      }
     }
    },
    "967d33ac-1074-49b9-b9a9-3cead53ea40d": {
     "id": "967d33ac-1074-49b9-b9a9-3cead53ea40d",
     "prev": "2a568dde-27eb-47e6-8c2d-093d1641788d",
     "regions": {
      "be4ff2e2-03d7-4c97-9297-08ab25745a14": {
       "attrs": {
        "height": 0.8,
        "width": 0.8,
        "x": 0.1,
        "y": 0.1
       },
       "content": {
        "cell": "cbf28ac2-0ed2-4d39-a941-206bc6459a95",
        "part": "whole"
       },
       "id": "be4ff2e2-03d7-4c97-9297-08ab25745a14"
      }
     }
    },
    "9ff94fbb-c7b9-47be-8dac-0b3b4fb7d428": {
     "id": "9ff94fbb-c7b9-47be-8dac-0b3b4fb7d428",
     "prev": "4078b881-5b2f-4ffa-9074-57fec46e2aaf",
     "regions": {
      "4f06f1c4-777e-4600-a32a-2aeb17da4be2": {
       "attrs": {
        "height": 0.8,
        "width": 0.8,
        "x": 0.1,
        "y": 0.1
       },
       "content": {
        "cell": "188b1c78-1363-43bf-add3-f0bc1479bce0",
        "part": "whole"
       },
       "id": "4f06f1c4-777e-4600-a32a-2aeb17da4be2"
      }
     }
    },
    "a542618e-c9ba-45d1-82d5-8115e715a930": {
     "id": "a542618e-c9ba-45d1-82d5-8115e715a930",
     "prev": "07975e01-355f-445c-92ad-1e21c9f1c664",
     "regions": {
      "bddd9a76-c309-42c1-bb2b-0ea547113c57": {
       "attrs": {
        "height": 0.8,
        "width": 0.8,
        "x": 0.1,
        "y": 0.1
       },
       "content": {
        "cell": "0aa2b499-2279-42ac-9cef-490b922a6bac",
        "part": "whole"
       },
       "id": "bddd9a76-c309-42c1-bb2b-0ea547113c57"
      }
     }
    },
    "a61c7177-2b7b-4fbc-9ba3-0a37e62b954b": {
     "id": "a61c7177-2b7b-4fbc-9ba3-0a37e62b954b",
     "prev": "168adeba-9807-4f9e-81e6-6ac1c3c8f4aa",
     "regions": {
      "d89b330b-efdd-4282-958d-1e765603d90e": {
       "attrs": {
        "height": 0.8,
        "width": 0.8,
        "x": 0.1,
        "y": 0.1
       },
       "content": {
        "cell": "f442fbfe-bfc8-4eff-86d4-61fc2e322a3b",
        "part": "whole"
       },
       "id": "d89b330b-efdd-4282-958d-1e765603d90e"
      }
     }
    },
    "a790c589-2698-4603-b793-b23892f4f0c2": {
     "id": "a790c589-2698-4603-b793-b23892f4f0c2",
     "prev": "5b0d6aff-d543-4593-92fc-6ce6a56d29fb",
     "regions": {
      "5398c921-068e-4b3e-b7b4-83d564592de1": {
       "attrs": {
        "height": 0.8,
        "width": 0.8,
        "x": 0.1,
        "y": 0.1
       },
       "content": {
        "cell": "9d7cf0d1-c52a-4e5d-800a-f2597a07a7e7",
        "part": "whole"
       },
       "id": "5398c921-068e-4b3e-b7b4-83d564592de1"
      }
     }
    },
    "a9d5f3fb-4199-42ff-a747-d19c21f36b04": {
     "id": "a9d5f3fb-4199-42ff-a747-d19c21f36b04",
     "prev": "74e4cc03-d5bb-4585-bc97-98a0d14b0b35",
     "regions": {
      "a32ca064-0893-42e6-a78e-fc2f952410fc": {
       "attrs": {
        "height": 0.8,
        "width": 0.8,
        "x": 0.1,
        "y": 0.1
       },
       "content": {
        "cell": "2f779410-4863-44be-b29c-b9a0c73a86af",
        "part": "whole"
       },
       "id": "a32ca064-0893-42e6-a78e-fc2f952410fc"
      }
     }
    },
    "abdf381c-2069-4aa3-8a7b-d17c7711acdd": {
     "id": "abdf381c-2069-4aa3-8a7b-d17c7711acdd",
     "prev": "194bb618-7332-4f2c-880d-85860e0404b0",
     "regions": {
      "e09dfa55-5dac-4153-9d4e-508dcfa9b6c3": {
       "attrs": {
        "height": 0.8,
        "width": 0.8,
        "x": 0.1,
        "y": 0.1
       },
       "content": {
        "cell": "ff34b5ae-26c7-463e-8062-08c66aef84c1",
        "part": "whole"
       },
       "id": "e09dfa55-5dac-4153-9d4e-508dcfa9b6c3"
      }
     }
    },
    "b3d807bc-d84e-4a5d-a4ec-0dbaee0c60e1": {
     "id": "b3d807bc-d84e-4a5d-a4ec-0dbaee0c60e1",
     "prev": "66a0fc5f-929b-436d-b936-e6ecb605da68",
     "regions": {
      "10ca935b-6ad5-418c-8c66-3e67bc6cee0e": {
       "attrs": {
        "height": 0.8,
        "width": 0.8,
        "x": 0.1,
        "y": 0.1
       },
       "content": {
        "cell": "4c6bd7bc-b9ba-41f2-9f9d-31b6770eb8a5",
        "part": "whole"
       },
       "id": "10ca935b-6ad5-418c-8c66-3e67bc6cee0e"
      }
     }
    },
    "b428afce-4bb6-4ca8-9ec4-6fc900f9a534": {
     "id": "b428afce-4bb6-4ca8-9ec4-6fc900f9a534",
     "prev": "e6cd1587-8f3a-4aea-b9d5-8ed12bab6acc",
     "regions": {
      "36b86a82-fc6b-461c-8949-c69bbf75509b": {
       "attrs": {
        "height": 0.8,
        "width": 0.8,
        "x": 0.1,
        "y": 0.1
       },
       "content": {
        "cell": "952aca33-f19f-4de4-8dcf-d062ea156ea9",
        "part": "whole"
       },
       "id": "36b86a82-fc6b-461c-8949-c69bbf75509b"
      }
     }
    },
    "b4da9a0e-314f-4809-b45f-5548ae192cb3": {
     "id": "b4da9a0e-314f-4809-b45f-5548ae192cb3",
     "prev": "0c7697b9-61e9-4f29-b24b-93004f93e385",
     "regions": {
      "5889f3b6-0979-447e-a983-5cda230f0c34": {
       "attrs": {
        "height": 0.8,
        "width": 0.8,
        "x": 0.1,
        "y": 0.1
       },
       "content": {
        "cell": "84fd4526-bd67-471a-b23b-21ecb0f532eb",
        "part": "whole"
       },
       "id": "5889f3b6-0979-447e-a983-5cda230f0c34"
      }
     }
    },
    "b5817d4b-ff13-4167-a22e-efd9727fea4d": {
     "id": "b5817d4b-ff13-4167-a22e-efd9727fea4d",
     "prev": "6280777e-d04a-4a3d-a931-8d08dcecc5d8",
     "regions": {
      "37fa7ed5-a151-4526-b3f4-2f5dc9dec3b5": {
       "attrs": {
        "height": 0.8,
        "width": 0.8,
        "x": 0.1,
        "y": 0.1
       },
       "content": {
        "cell": "ed6334f4-ffcb-444b-9c6e-f1e1dda29fad",
        "part": "whole"
       },
       "id": "37fa7ed5-a151-4526-b3f4-2f5dc9dec3b5"
      }
     }
    },
    "b62785bf-b821-43aa-b1f7-e19ecb088b2b": {
     "id": "b62785bf-b821-43aa-b1f7-e19ecb088b2b",
     "prev": "6a6047a3-995e-4b00-96fd-6ee356ba6417",
     "regions": {
      "d6e1bd44-9de9-4aa0-9f63-68668bd9d6a1": {
       "attrs": {
        "height": 0.8,
        "width": 0.8,
        "x": 0.1,
        "y": 0.1
       },
       "content": {
        "cell": "22775c09-2985-46bf-9f60-3eea2f9565f3",
        "part": "whole"
       },
       "id": "d6e1bd44-9de9-4aa0-9f63-68668bd9d6a1"
      }
     }
    },
    "bd5172cf-cf6a-40f4-9c2a-779b90f1819e": {
     "id": "bd5172cf-cf6a-40f4-9c2a-779b90f1819e",
     "prev": "792a0824-4315-47b0-b221-882a09f6943a",
     "regions": {
      "664a2a35-ea6d-4259-a9b2-e557ddcfdfe1": {
       "attrs": {
        "height": 0.8,
        "width": 0.8,
        "x": 0.1,
        "y": 0.1
       },
       "content": {
        "cell": "206f6c0f-d4c1-4860-b61e-ca99bf0dc42f",
        "part": "whole"
       },
       "id": "664a2a35-ea6d-4259-a9b2-e557ddcfdfe1"
      }
     }
    },
    "db825ff5-7b11-4e63-8c64-f2c18dd34ea1": {
     "id": "db825ff5-7b11-4e63-8c64-f2c18dd34ea1",
     "prev": "9ff94fbb-c7b9-47be-8dac-0b3b4fb7d428",
     "regions": {
      "d1b4e56d-e64e-4d92-9347-8dfd7d57a115": {
       "attrs": {
        "height": 0.8,
        "width": 0.8,
        "x": 0.1,
        "y": 0.1
       },
       "content": {
        "cell": "842b0a15-1eb2-4667-8f84-7dbcd912fb78",
        "part": "whole"
       },
       "id": "d1b4e56d-e64e-4d92-9347-8dfd7d57a115"
      }
     }
    },
    "dc749c95-26e3-4be5-880b-e7f88abbbf4b": {
     "id": "dc749c95-26e3-4be5-880b-e7f88abbbf4b",
     "prev": "84733990-4bc0-4694-946b-c80d938a86f6",
     "regions": {
      "8aaf91e4-2fca-449a-8dff-586dc21b14ae": {
       "attrs": {
        "height": 0.8,
        "width": 0.8,
        "x": 0.1,
        "y": 0.1
       },
       "content": {
        "cell": "eef06f1d-013b-4ed7-86e4-2e9124dfb697",
        "part": "whole"
       },
       "id": "8aaf91e4-2fca-449a-8dff-586dc21b14ae"
      }
     }
    },
    "e039c209-0452-4eaa-98ec-6f064a315d81": {
     "id": "e039c209-0452-4eaa-98ec-6f064a315d81",
     "prev": "eca7a06d-af05-4d9d-a013-73047a7b3a38",
     "regions": {
      "c937e79d-11e1-42bf-a362-1f5049b2dbf4": {
       "attrs": {
        "height": 0.8,
        "width": 0.8,
        "x": 0.1,
        "y": 0.1
       },
       "content": {
        "cell": "e6e50ea7-a569-4531-9096-a8170f44b704",
        "part": "whole"
       },
       "id": "c937e79d-11e1-42bf-a362-1f5049b2dbf4"
      }
     }
    },
    "e0622777-114a-4037-a663-807eaed52b9b": {
     "id": "e0622777-114a-4037-a663-807eaed52b9b",
     "prev": "3ccb188b-315d-43f1-9d10-22802b223261",
     "regions": {
      "e597104c-83cc-4094-9dd8-2c1efab92031": {
       "attrs": {
        "height": 0.8,
        "width": 0.8,
        "x": 0.1,
        "y": 0.1
       },
       "content": {
        "cell": "65bb99cf-df96-4123-b9f6-79c430045a54",
        "part": "whole"
       },
       "id": "e597104c-83cc-4094-9dd8-2c1efab92031"
      }
     }
    },
    "e6cd1587-8f3a-4aea-b9d5-8ed12bab6acc": {
     "id": "e6cd1587-8f3a-4aea-b9d5-8ed12bab6acc",
     "prev": "11c0fca1-0907-4ff2-a92f-7c109f5c3c09",
     "regions": {
      "bd2975d0-35d9-46db-abd1-a54ce87df162": {
       "attrs": {
        "height": 0.8,
        "width": 0.8,
        "x": 0.1,
        "y": 0.1
       },
       "content": {
        "cell": "30c0dd19-e814-4350-8024-ad812d2041a8",
        "part": "whole"
       },
       "id": "bd2975d0-35d9-46db-abd1-a54ce87df162"
      }
     }
    },
    "eca7a06d-af05-4d9d-a013-73047a7b3a38": {
     "id": "eca7a06d-af05-4d9d-a013-73047a7b3a38",
     "prev": "ee055abd-f8ce-4226-a388-e8521d180643",
     "regions": {
      "baa1595c-ad73-43d1-9038-644a13884d00": {
       "attrs": {
        "height": 0.8,
        "width": 0.8,
        "x": 0.1,
        "y": 0.1
       },
       "content": {
        "cell": "b40f489b-1a37-464d-957e-26c9ca8c445f",
        "part": "whole"
       },
       "id": "baa1595c-ad73-43d1-9038-644a13884d00"
      }
     }
    },
    "ecbd86e2-f51c-4d31-a75f-40a21202b6f7": {
     "id": "ecbd86e2-f51c-4d31-a75f-40a21202b6f7",
     "prev": "919f050b-4999-4e72-b547-3ca7c26c1bdd",
     "regions": {
      "01d50036-304c-497f-8e72-2431ff984d46": {
       "attrs": {
        "height": 0.8,
        "width": 0.8,
        "x": 0.1,
        "y": 0.1
       },
       "content": {
        "cell": "15270de5-7d1e-43f3-a2e8-49440fecfec7",
        "part": "whole"
       },
       "id": "01d50036-304c-497f-8e72-2431ff984d46"
      }
     }
    },
    "ee055abd-f8ce-4226-a388-e8521d180643": {
     "id": "ee055abd-f8ce-4226-a388-e8521d180643",
     "prev": "7cf99cab-6b53-491f-9707-497abbafa594",
     "regions": {
      "c3ad12e8-bd32-4987-b2c5-a20304c1770a": {
       "attrs": {
        "height": 0.8,
        "width": 0.8,
        "x": 0.1,
        "y": 0.1
       },
       "content": {
        "cell": "853f572d-32bf-4029-9c9f-07811df19cd9",
        "part": "whole"
       },
       "id": "c3ad12e8-bd32-4987-b2c5-a20304c1770a"
      }
     }
    },
    "f099e70a-9908-4f55-b4c7-7c69973ce9a0": {
     "id": "f099e70a-9908-4f55-b4c7-7c69973ce9a0",
     "prev": "a9d5f3fb-4199-42ff-a747-d19c21f36b04",
     "regions": {
      "705d3bba-bd54-47c5-902f-da3013f75be6": {
       "attrs": {
        "height": 0.8,
        "width": 0.8,
        "x": 0.1,
        "y": 0.1
       },
       "content": {
        "cell": "9827f145-1a6a-4324-8db5-08efe2eab322",
        "part": "whole"
       },
       "id": "705d3bba-bd54-47c5-902f-da3013f75be6"
      }
     }
    },
    "f29118f2-a498-43cd-ba97-4edbf4103a39": {
     "id": "f29118f2-a498-43cd-ba97-4edbf4103a39",
     "prev": "a61c7177-2b7b-4fbc-9ba3-0a37e62b954b",
     "regions": {
      "01198258-d0a8-4886-83ea-df68e6f06a24": {
       "attrs": {
        "height": 0.8,
        "width": 0.8,
        "x": 0.1,
        "y": 0.1
       },
       "content": {
        "cell": "9441836e-8642-4342-a708-020100c33f59",
        "part": "whole"
       },
       "id": "01198258-d0a8-4886-83ea-df68e6f06a24"
      }
     }
    }
   },
   "themes": {}
  }
 },
 "nbformat": 4,
 "nbformat_minor": 2
}
