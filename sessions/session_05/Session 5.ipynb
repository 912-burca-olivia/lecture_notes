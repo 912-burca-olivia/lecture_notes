{
 "cells": [
  {
   "cell_type": "markdown",
   "metadata": {
    "slideshow": {
     "slide_type": "slide"
    }
   },
   "source": [
    "![](https://www.saa-authors.eu/picture/739/ftw_768/saa-mtcwmza4nzq5mq.jpg)"
   ]
  },
  {
   "cell_type": "markdown",
   "metadata": {
    "slideshow": {
     "slide_type": "subslide"
    }
   },
   "source": [
    "## Survey Results\n",
    "\n",
    "\n",
    "See on Mentimeter..."
   ]
  },
  {
   "cell_type": "markdown",
   "metadata": {
    "slideshow": {
     "slide_type": "slide"
    }
   },
   "source": [
    "# Feedback\n"
   ]
  },
  {
   "cell_type": "markdown",
   "metadata": {
    "slideshow": {
     "slide_type": "subslide"
    }
   },
   "source": [
    "http://159.89.26.109/release_activity_weekly.svg\n",
    "![](http://159.89.26.109/release_activity_weekly.svg)"
   ]
  },
  {
   "cell_type": "markdown",
   "metadata": {
    "slideshow": {
     "slide_type": "subslide"
    }
   },
   "source": [
    "## The Simulator starts today!\n",
    "\n",
    "The TAs will start the simulator **today** in the exercise session (in between 12:30 and 14:00). \n",
    "\n",
    "\n",
    "**Make sure that the given test passes and that the provided simulator script runs againt your endpoint without any errors!**  \n",
    "\n",
    "\n",
    "In case you have not done so yet, send a pull request to `repositories.py` in our central repository: https://github.com/itu-devops/lecture_notes/blob/master/repositories.py!\n",
    "\n",
    "Only half of the groups have done so yet.\n",
    "\n",
    "Add two URLs:\n",
    "\n",
    "  * One to your running applications (edit `\"http://<minitwit_application_url>\"`)\n",
    "  * Another one to the simulator API endpoint (edit `\"http://<sim_api_url>\"`)\n",
    "  \n"
   ]
  },
  {
   "cell_type": "markdown",
   "metadata": {
    "slideshow": {
     "slide_type": "subslide"
    }
   },
   "source": [
    "  * group_X: GET http://<your_host>/latest  ->\n",
    "    - ✗ 404 page not found\n",
    "    - ✗ 0\n",
    "    - ✗ group_X: 500\n",
    "    - ✗ {'latest': 700}\n",
    "    - ✓ {'latest': -1}\n",
    "    - ✗/✓ {'latest': 0}\n",
    "    \n",
    "    \n",
    "Please fix these as very first task in exercises."
   ]
  },
  {
   "cell_type": "markdown",
   "metadata": {
    "slideshow": {
     "slide_type": "subslide"
    }
   },
   "source": [
    "## Software licenses, changing the world?\n",
    "\n",
    "  * Amongst others, Dierker et al. [_\"Can Software Licenses Contribute to Cyberarms Control?\"_](https://www.nspw.org/papers/2018/nspw2018-dierker.pdf) provide a well written overview of existing non-military licenses.\n",
    "  * The [\"Pacifist Public License\"](https://sourceforge.net/p/gpu/gpu-freedom/ci/master/tree/PPL_license.txt#l1) is a GPL-2.0 based license that excludes military use.\n",
    "    - Some discussion about to which degree such a license can be a Free and Open Source License: https://www.linux.com/news/open-source-project-adds-no-military-use-clause-gpl/\n",
    "  * [The License for Non-Military Software Implementations of OCB](https://www.cs.ucdavis.edu/~rogaway/ocb/license2.pdf)\n",
    "  * [The Peaceful Open Source License](https://web.archive.org/web/20140924010836/http://wiseearthpublishers.com/sites/wiseearthpublishers.com/files/PeacefulOSL.txt)"
   ]
  },
  {
   "cell_type": "markdown",
   "metadata": {},
   "source": [
    "----------------------\n",
    "# Getting bored today?\n",
    "\n",
    "\n",
    "![](http://static3.businessinsider.com/image/4fbfb86becad044879000001-506-253/suddenly-startups-have-gotten-very-boring.jpg)\n",
    "\n",
    "\n",
    "\n",
    "\n",
    "### [Did you really read the first part of Part 1 of the DevOps Handbook?](https://ituniversity-my.sharepoint.com/:b:/g/personal/ropf_itu_dk/Eafg4B4afaxIqYGDYJqOJLQBycrIZ8JwkokFy4j9JuWiuQ?e=OH5SzC)\n",
    "\n",
    "----------------------"
   ]
  },
  {
   "cell_type": "markdown",
   "metadata": {
    "slideshow": {
     "slide_type": "subslide"
    }
   },
   "source": [
    "## What did we do so far?"
   ]
  },
  {
   "cell_type": "markdown",
   "metadata": {
    "slideshow": {
     "slide_type": "fragment"
    }
   },
   "source": [
    "![](../session_04/images/CICD_Setup.png)\n"
   ]
  },
  {
   "cell_type": "markdown",
   "metadata": {
    "slideshow": {
     "slide_type": "subslide"
    }
   },
   "source": [
    "## Why did we do it?\n",
    "\n",
    "   * Save time setting up \"stuff\" the same way --> save money.\n",
    "   * Reduce downtime & increase stability, reduced human errors \n",
    "   * Deploy fast deploy often --> easy to revert back"
   ]
  },
  {
   "cell_type": "markdown",
   "metadata": {
    "slideshow": {
     "slide_type": "subslide"
    }
   },
   "source": [
    "  * Improved Productivity and Efficiency\n",
    "     - For example, developers used to spend 20% of their time setting up and fixing their test environments. Now, the CD pipeline automatically sets up the environments. \n",
    "     - testers used to spend considerable effort setting up their test environments. Now, they don’t need to do this, either.\n",
    "     - Operations engineers used to take a few days’ effort to release an application to production. Now, they only need to click a button; the pipeline automatically releases the application to production.\n",
    "  * More Reliable Releases\n",
    "  \n",
    "Condensed from [Continuous Delivery: Huge Benefits, but Challenges Too](https://www.researchgate.net/profile/Lianping_Chen/publication/271635510_Continuous_Delivery_Huge_Benefits_but_Challenges_Too/links/551d850a0cf2a2d9e13aec8f/Continuous-Delivery-Huge-Benefits-but-Challenges-Too.pdf)\n",
    "\n",
    "\n"
   ]
  },
  {
   "cell_type": "markdown",
   "metadata": {
    "slideshow": {
     "slide_type": "subslide"
    }
   },
   "source": [
    "# What is DevOps?"
   ]
  },
  {
   "cell_type": "markdown",
   "metadata": {
    "slideshow": {
     "slide_type": "subslide"
    }
   },
   "source": [
    "## Hell a lot of blog posts about it...\n",
    "\n",
    "  > Think of developers being able to do some of the tasks that are normally assigned to system administrators, such as creating new servers, making updates to production sites, deploying apps. Also think of sysadmins sharing some duties with developers, and being able to manage multiple servers at once.\n",
    "  >\n",
    "  > See https://www.sitepoint.com/devops-by-example-tools-pros-and-cons-of-a-devops-culture/"
   ]
  },
  {
   "cell_type": "markdown",
   "metadata": {
    "slideshow": {
     "slide_type": "subslide"
    }
   },
   "source": [
    "<img src=\"https://upload.wikimedia.org/wikipedia/commons/b/b5/Devops.svg\" width=\"50%\"/>"
   ]
  },
  {
   "cell_type": "markdown",
   "metadata": {
    "slideshow": {
     "slide_type": "subslide"
    }
   },
   "source": [
    "<img src=\"https://upload.wikimedia.org/wikipedia/commons/0/05/Devops-toolchain.svg\" width=\"50%\"/>"
   ]
  },
  {
   "cell_type": "markdown",
   "metadata": {
    "slideshow": {
     "slide_type": "subslide"
    }
   },
   "source": [
    "## Problem:\n",
    "\n",
    "  > No standard definition exists for DevOps.\n",
    "  >\n",
    "  > [Adopting DevOps Practices in Quality Assurance](https://queue.acm.org/detail.cfm?id=2540984)"
   ]
  },
  {
   "cell_type": "markdown",
   "metadata": {
    "slideshow": {
     "slide_type": "subslide"
    }
   },
   "source": [
    "## Possible solution:\n",
    "\n",
    "We look at two publications:\n",
    "\n",
    "  a) [What is DevOps? A Systematic Mapping Study on Definitions and Practices](https://www.researchgate.net/profile/Ramtin_Jabbari/publication/308857081_What_is_DevOps_A_Systematic_Mapping_Study_on_Definitions_and_Practices/links/5aa2ae9145851543e63c223a/What-is-DevOps-A-Systematic-Mapping-Study-on-Definitions-and-Practices.pdf)\n",
    "  \n",
    "  b) [The DevOps Handbook: How to Create World-Class Agility, Reliability, and Security in Technology Organizations](https://www.oreilly.com/library/view/the-devops-handbook/9781457191381/)"
   ]
  },
  {
   "cell_type": "markdown",
   "metadata": {
    "slideshow": {
     "slide_type": "fragment"
    }
   },
   "source": [
    "b) [The DevOps Handbook: How to Create World-Class Agility, Reliability, and Security in Technology Organizations](https://www.oreilly.com/library/view/the-devops-handbook/9781457191381/) describes more what is characteristic for DevOps processes."
   ]
  },
  {
   "cell_type": "markdown",
   "metadata": {
    "slideshow": {
     "slide_type": "subslide"
    }
   },
   "source": [
    "### What is DevOps? A Systematic Mapping Study on Definitions and Practices"
   ]
  },
  {
   "cell_type": "markdown",
   "metadata": {
    "slideshow": {
     "slide_type": "subslide"
    }
   },
   "source": [
    "The study does the following:\n",
    "\n",
    "  > * Analyze and compare definitions of DevOps from the research literature.\n",
    "  > * Identify and classify practices associated with DevOps.\n",
    "  > * Compare DevOps with other development methods."
   ]
  },
  {
   "cell_type": "markdown",
   "metadata": {
    "slideshow": {
     "slide_type": "subslide"
    }
   },
   "source": [
    "Analyzes 117 publications and creates a wordcloud for the given definitions:\n",
    "\n",
    "![](images/definition_wordcloud.png)"
   ]
  },
  {
   "cell_type": "markdown",
   "metadata": {
    "slideshow": {
     "slide_type": "subslide"
    }
   },
   "source": [
    "![](images/defintion_components.png)"
   ]
  },
  {
   "cell_type": "markdown",
   "metadata": {
    "slideshow": {
     "slide_type": "subslide"
    }
   },
   "source": [
    "![](images/devops_practices.png)"
   ]
  },
  {
   "cell_type": "markdown",
   "metadata": {
    "slideshow": {
     "slide_type": "subslide"
    }
   },
   "source": [
    "### A Possible Definition\n",
    "\n",
    "  > DevOps is  a  development  methodology aimed  at  bridging  the gap between Development (Dev) and Operations, emphasizing communication and collaboration, continuous  integration,  quality  assurance and  delivery with automated deployment utilizing a set of development practices.\n",
    "  >\n",
    "  > [What is DevOps? A Systematic Mapping Study onDefinitions and Practices](https://www.researchgate.net/profile/Ramtin_Jabbari/publication/308857081_What_is_DevOps_A_Systematic_Mapping_Study_on_Definitions_and_Practices/links/5aa2ae9145851543e63c223a/What-is-DevOps-A-Systematic-Mapping-Study-on-Definitions-and-Practices.pdf)\n",
    "  \n",
    "--------------------"
   ]
  },
  {
   "cell_type": "markdown",
   "metadata": {
    "slideshow": {
     "slide_type": "subslide"
    }
   },
   "source": [
    "### The DevOps Handbook: How to Create World-Class Agility, Reliability, and Security in Technology Organizations\n",
    "\n",
    "They characterize DevOps by \"*Three Ways*\": \n",
    "\n",
    "  * Flow\n",
    "  * Feedback\n",
    "  * Continual Learning and Experimentation"
   ]
  },
  {
   "cell_type": "markdown",
   "metadata": {
    "slideshow": {
     "slide_type": "subslide"
    }
   },
   "source": [
    "![](https://2wded2jn6ekmzt6b3ruvnh15-wpengine.netdna-ssl.com/wp-content/uploads/2017/10/Three-Ways-470-x-670-px.png)"
   ]
  },
  {
   "cell_type": "markdown",
   "metadata": {
    "slideshow": {
     "slide_type": "subslide"
    }
   },
   "source": [
    "A manufacturing value stream can be observed as the flow of work/material through on the factory floor. \n",
    "\n",
    "\n",
    "Problem in our domain: work is usually invisible."
   ]
  },
  {
   "cell_type": "markdown",
   "metadata": {
    "slideshow": {
     "slide_type": "subslide"
    }
   },
   "source": [
    "  > Value occurs for customers when services are running in production and deployments happen swiftly without causing disruptions.\n",
    "  >\n",
    "  > https://caylent.com/devops-handbook-part-1-the-three-ways-2"
   ]
  },
  {
   "cell_type": "markdown",
   "metadata": {
    "slideshow": {
     "slide_type": "slide"
    }
   },
   "source": [
    "DevOps focuses on shortening deployment lead time to a period of minutes. \n",
    "\n",
    "![](https://2wded2jn6ekmzt6b3ruvnh15-wpengine.netdna-ssl.com/wp-content/uploads/2017/10/Leadtime-high-res-768x289.png)"
   ]
  },
  {
   "cell_type": "markdown",
   "metadata": {
    "slideshow": {
     "slide_type": "subslide"
    }
   },
   "source": [
    "####  The Principles of *Flow*\n",
    "\n",
    "\n",
    "  * Make Work Visible\n",
    "  ![](images/make_work_visible.png)\n"
   ]
  },
  {
   "cell_type": "markdown",
   "metadata": {
    "slideshow": {
     "slide_type": "fragment"
    }
   },
   "source": [
    "  \n",
    "  * Limit Work in Progress\n"
   ]
  },
  {
   "cell_type": "markdown",
   "metadata": {
    "slideshow": {
     "slide_type": "fragment"
    }
   },
   "source": [
    "  * Reduce Batch Sizes\n",
    "  \n",
    "  ![](https://miro.medium.com/max/1318/1*YtshITZLqxYGzfYBHqTZNA.gif)"
   ]
  },
  {
   "cell_type": "markdown",
   "metadata": {
    "slideshow": {
     "slide_type": "subslide"
    }
   },
   "source": [
    "  * Reduce the Number of Handoffs\n",
    "  * Continually Identify and Evaluate Constraints\n",
    "  * Eliminate Hardships and Waste in the Value Stream"
   ]
  },
  {
   "cell_type": "markdown",
   "metadata": {
    "slideshow": {
     "slide_type": "subslide"
    }
   },
   "source": [
    "####  The Principles of *Feedback*\n",
    "\n",
    "  * See Problems as They Occur\n",
    "  * Swarm and Solve Problems to Build New Knowledge\n",
    "  * Keep Pushing Quality Closer to the Source\n",
    "  * Enable Optimizing for Downstream Work Centers"
   ]
  },
  {
   "cell_type": "markdown",
   "metadata": {
    "slideshow": {
     "slide_type": "subslide"
    }
   },
   "source": [
    "####  The Principles of *Continual Learning and Experimentation*\n",
    "\n",
    "  * Institutionalize the Improvement of Daily Work\n",
    "  * Transform Local Discoveries into Global Improvements\n",
    "  * Inject Resilience Patterns into Our Daily Work\n",
    "  * Leaders Reinforce a Learning Culture\n"
   ]
  },
  {
   "cell_type": "markdown",
   "metadata": {
    "slideshow": {
     "slide_type": "slide"
    }
   },
   "source": [
    "-----------------"
   ]
  },
  {
   "cell_type": "markdown",
   "metadata": {
    "slideshow": {
     "slide_type": "subslide"
    }
   },
   "source": [
    "## What did we do so far? "
   ]
  },
  {
   "cell_type": "markdown",
   "metadata": {
    "slideshow": {
     "slide_type": "subslide"
    }
   },
   "source": [
    "### Topic two weeks ago: Automatic creation of virtual machines?\n",
    "\n",
    "<img src=\"images/01_scp2.png\" width=50%>\n",
    "  "
   ]
  },
  {
   "cell_type": "markdown",
   "metadata": {
    "slideshow": {
     "slide_type": "fragment"
    }
   },
   "source": [
    "  * We looked at variuos ways of creating virtual machines (remote servers)\n",
    "  * We **did not** look explicitely on what happens after a VM is created and before it can be used by our application."
   ]
  },
  {
   "cell_type": "markdown",
   "metadata": {
    "slideshow": {
     "slide_type": "subslide"
    }
   },
   "source": [
    "![](https://www.bbva.com/wp-content/uploads/2018/05/image_0-1.png)\n",
    "\n",
    "\n",
    "<tiny>\n",
    "    Image origin: <a href=\"https://www.bbva.com/en/vulnerability-management-in-dependencies-in-ci-cd-environments-with-open-source-tools/\">https://www.bbva.com/en/vulnerability-management-in-dependencies-in-ci-cd-environments-with-open-source-tools\n",
    "        </a>\n",
    "</tiny>"
   ]
  },
  {
   "cell_type": "markdown",
   "metadata": {
    "slideshow": {
     "slide_type": "subslide"
    }
   },
   "source": [
    "## Where does all the software come from?\n",
    "\n",
    "<img src=\"images/02_cm.png\" width=\"50%\">\n",
    "\n",
    "  * How did we get software on our servers?"
   ]
  },
  {
   "cell_type": "markdown",
   "metadata": {
    "slideshow": {
     "slide_type": "subslide"
    }
   },
   "source": [
    "### Perhaps you remember our use of Vagrantfiles\n",
    "\n",
    "These describe characteristics of provisioned virtual machines:\n",
    "\n",
    "```ruby\n",
    "# -*- mode: ruby -*-\n",
    "# vi: set ft=ruby :\n",
    "\n",
    "$ip_file = \"db_ip.txt\"\n",
    "\n",
    "Vagrant.configure(\"2\") do |config|\n",
    "    config.vm.box = 'digital_ocean'\n",
    "    config.vm.box_url = \"https://github.com/devopsgroup-io/vagrant-digitalocean/raw/master/box/digital_ocean.box\"\n",
    "    config.ssh.private_key_path = '~/.ssh/id_rsa'\n",
    "    config.vm.synced_folder \".\", \"/vagrant\", type: \"rsync\"\n",
    "  \n",
    "    config.vm.define \"dbserver\", primary: true do |server|\n",
    "      server.vm.provider :digital_ocean do |provider|\n",
    "        provider.ssh_key_name = ENV[\"SSH_KEY_NAME\"]\n",
    "        provider.token = ENV[\"DIGITAL_OCEAN_TOKEN\"]\n",
    "        provider.image = 'ubuntu-18-04-x64'\n",
    "        provider.region = 'fra1'\n",
    "        provider.size = 's-1vcpu-1gb'\n",
    "        provider.privatenetworking = true\n",
    "      end\n",
    "  \n",
    "      server.vm.hostname = \"dbserver\"\n",
    "\n",
    "      server.trigger.after :up do |trigger|\n",
    "        trigger.info =  \"Writing dbserver's IP to file...\"\n",
    "        trigger.ruby do |env,machine|\n",
    "          remote_ip = machine.instance_variable_get(:@communicator).instance_variable_get(:@connection_ssh_info)[:host]\n",
    "          File.write($ip_file, remote_ip)\n",
    "        end \n",
    "      end\n",
    "\n",
    "      server.vm.provision \"shell\", inline: <<-SHELL\n",
    "        echo \"Installing MongoDB\"\n",
    "        wget -qO - https://www.mongodb.org/static/pgp/server-4.2.asc | sudo apt-key add -\n",
    "        echo \"deb [ arch=amd64 ] https://repo.mongodb.org/apt/ubuntu bionic/mongodb-org/4.2 multiverse\" | sudo tee /etc/apt/sources.list.d/mongodb-org-4.2.list\n",
    "        sudo apt-get update\n",
    "        sudo apt-get install -y mongodb-org\n",
    "\n",
    "        sudo mkdir -p /data/db\n",
    "        sudo sed -i '/  bindIp:/ s/127.0.0.1/0.0.0.0/' /etc/mongod.conf\n",
    "\n",
    "        sudo systemctl start mongod\n",
    "        mongorestore --gzip /vagrant/dump\n",
    "      SHELL\n",
    "    end\n",
    "\n",
    "    config.vm.provision \"shell\", privileged: false, inline: <<-SHELL\n",
    "      sudo apt-get update\n",
    "    SHELL\n",
    "  end\n",
    "```"
   ]
  },
  {
   "cell_type": "markdown",
   "metadata": {
    "slideshow": {
     "slide_type": "subslide"
    }
   },
   "source": [
    "```ruby\n",
    "# -*- mode: ruby -*-\n",
    "# vi: set ft=ruby :\n",
    "\n",
    "Vagrant.configure(\"2\") do |config|\n",
    "    config.vm.box = 'digital_ocean'\n",
    "    config.vm.box_url = \"https://github.com/devopsgroup-io/vagrant-digitalocean/raw/master/box/digital_ocean.box\"\n",
    "    config.ssh.private_key_path = '~/.ssh/id_rsa'\n",
    "    config.vm.synced_folder \".\", \"/vagrant\", type: \"rsync\"\n",
    "  \n",
    "    config.vm.define \"dbserver\", primary: true do |server|\n",
    "      server.vm.provider :digital_ocean do |provider|\n",
    "        provider.ssh_key_name = ENV[\"SSH_KEY_NAME\"]\n",
    "        provider.token = ENV[\"DIGITAL_OCEAN_TOKEN\"]\n",
    "        provider.image = 'ubuntu-18-04-x64'\n",
    "        provider.region = 'fra1'\n",
    "        provider.size = 's-1vcpu-1gb'\n",
    "        provider.privatenetworking = true\n",
    "      end\n",
    "  \n",
    "      server.vm.hostname = \"dbserver\"\n",
    "\n",
    "...\n",
    "      server.vm.provision \"shell\", inline: <<-SHELL\n",
    "        echo \"Installing MongoDB\"\n",
    "        wget -qO - https://www.mongodb.org/static/pgp/server-4.2.asc | sudo apt-key add -\n",
    "        echo \"deb [ arch=amd64 ] https://repo.mongodb.org/apt/ubuntu bionic/mongodb-org/4.2 multiverse\" | sudo tee /etc/apt/sources.list.d/mongodb-org-4.2.list\n",
    "        sudo apt-get update\n",
    "        sudo apt-get install -y mongodb-org\n",
    "\n",
    "        sudo mkdir -p /data/db\n",
    "        sudo sed -i '/  bindIp:/ s/127.0.0.1/0.0.0.0/' /etc/mongod.conf\n",
    "\n",
    "        sudo systemctl start mongod\n",
    "        mongorestore --gzip /vagrant/dump\n",
    "      SHELL\n",
    "    end\n",
    "...\n",
    "    config.vm.provision \"shell\", privileged: false, inline: <<-SHELL\n",
    "      sudo apt-get update\n",
    "    SHELL\n",
    "  end\n",
    "```"
   ]
  },
  {
   "cell_type": "markdown",
   "metadata": {},
   "source": [
    "### Provisioner scripts???\n",
    "\n",
    "  > Provisioners in Vagrant allow you to automatically install software, alter configurations, and more on the machine as part of the `vagrant up` process.\n",
    "  >\n",
    "  > This is useful since boxes typically are not built perfectly for your use case. Of course, if you want to just use vagrant ssh and install the software by hand, that works. But by using the provisioning systems built-in to Vagrant, it automates the process so that it is **repeatable**. Most importantly, it **requires no human interaction**, so you can `vagrant destroy` and `vagrant up` and have a fully ready-to-go work environment with a single command. Powerful.\n",
    "  > \n",
    "  > https://www.vagrantup.com/docs/provisioning\n",
    "\n",
    "\n",
    "\n",
    "```ruby\n",
    "...\n",
    "      server.vm.provision \"shell\", inline: <<-SHELL\n",
    "        echo \"Installing MongoDB\"\n",
    "        wget -qO - https://www.mongodb.org/static/pgp/server-4.2.asc | sudo apt-key add -\n",
    "        echo \"deb [ arch=amd64 ] https://repo.mongodb.org/apt/ubuntu bionic/mongodb-org/4.2 multiverse\" | sudo tee /etc/apt/sources.list.d/mongodb-org-4.2.list\n",
    "        sudo apt-get update\n",
    "        sudo apt-get install -y mongodb-org\n",
    "\n",
    "        sudo mkdir -p /data/db\n",
    "        sudo sed -i '/  bindIp:/ s/127.0.0.1/0.0.0.0/' /etc/mongod.conf\n",
    "\n",
    "        sudo systemctl start mongod\n",
    "        mongorestore --gzip /vagrant/dump\n",
    "      SHELL\n",
    "    end\n",
    "...\n",
    "```"
   ]
  },
  {
   "cell_type": "markdown",
   "metadata": {
    "slideshow": {
     "slide_type": "subslide"
    }
   },
   "source": [
    "That concept is of course independent of Vagrant, i.e., no matter which server you have to configure doing it in a **repeatable** and **automatic** way is recommended. Thereby you can for example share your machine configurations with team members via a version control system, e.g. `git`.\n"
   ]
  },
  {
   "cell_type": "markdown",
   "metadata": {
    "slideshow": {
     "slide_type": "fragment"
    }
   },
   "source": [
    "#### What is the issue with this provisioner script?\n",
    "\n",
    "```bash\n",
    "echo \"Installing MongoDB\"\n",
    "wget -qO - https://www.mongodb.org/static/pgp/server-4.2.asc | sudo apt-key add -\n",
    "echo \"deb [ arch=amd64 ] https://repo.mongodb.org/apt/ubuntu bionic/mongodb-org/4.2 multiverse\" | sudo tee /etc/apt/sources.list.d/mongodb-org-4.2.list\n",
    "sudo apt-get update\n",
    "sudo apt-get install -y mongodb-org\n",
    "\n",
    "sudo mkdir -p /data/db\n",
    "sudo sed -i '/  bindIp:/ s/127.0.0.1/0.0.0.0/' /etc/mongod.conf\n",
    "\n",
    "sudo systemctl start mongod\n",
    "mongorestore --gzip /vagrant/dump\n",
    "```\n",
    "\n",
    "  * What happens when that script is executed multiple times?"
   ]
  },
  {
   "cell_type": "markdown",
   "metadata": {
    "slideshow": {
     "slide_type": "subslide"
    }
   },
   "source": [
    "### Many different configuration management tools\n",
    "\n",
    "![](https://cdnblog.filecloud.com/blog/wp-content/uploads/2014/08/CMTs1.jpg)\n",
    "\n",
    "As you saw in the preparation material, one of their key features is **idempotency**, i.e., the state of the provisioned machine is always the same after running the respective provisioner script. No matter if it was executed one or multiple times.\n"
   ]
  },
  {
   "cell_type": "markdown",
   "metadata": {
    "slideshow": {
     "slide_type": "subslide"
    }
   },
   "source": [
    "\n",
    "  * I will not give you an introduction to Ansible, some good introductory resources are:\n",
    "    - https://docs.ansible.com/ansible/latest/user_guide/intro_getting_started.html\n",
    "    - https://www.digitalocean.com/community/tutorials/how-to-deploy-a-static-html-website-with-ansible-on-ubuntu-20-04-nginx\n",
    "  \n",
    "We will have a guest lecture in the second half of the course that covers certain aspects of Ansible"
   ]
  },
  {
   "cell_type": "markdown",
   "metadata": {
    "slideshow": {
     "slide_type": "subslide"
    }
   },
   "source": [
    "## Idenmpotent Shell Scripts"
   ]
  },
  {
   "cell_type": "markdown",
   "metadata": {},
   "source": [
    "![](images/idempotent.png)"
   ]
  },
  {
   "cell_type": "markdown",
   "metadata": {
    "slideshow": {
     "slide_type": "slide"
    }
   },
   "source": [
    "### Examples of Idenmpotent Shell Scripts"
   ]
  },
  {
   "cell_type": "markdown",
   "metadata": {
    "slideshow": {
     "slide_type": "subslide"
    }
   },
   "source": [
    "#### Non-idempotent:\n",
    "\n",
    "```bash\n",
    "$ mkdir ./config_dir\n",
    "$ mkdir ./config_dir\n",
    "mkdir: ./config_dir: File exists\n",
    "```\n",
    "\n",
    "#### Idempotent:\n",
    "\n",
    "```bash\n",
    "$ mkdir -p ./config_dir\n",
    "$ echo $?\n",
    "0\n",
    "```\n",
    "\n",
    "Returns `0`, i.e., exits successfully."
   ]
  },
  {
   "cell_type": "markdown",
   "metadata": {
    "slideshow": {
     "slide_type": "subslide"
    }
   },
   "source": [
    "#### Non-idempotent:\n",
    "\n",
    "\n",
    "```bash\n",
    "$ rm -r ./config_dir/\n",
    "$ rm -r ./config_dir/\n",
    "rm: ./config_dir/: No such file or directory\n",
    "```\n",
    "\n",
    "#### Idempotent:\n",
    "\n",
    "```bash\n",
    "$ rm -rf ./config_dir/\n",
    "$ echo $?\n",
    "0\n",
    "``` "
   ]
  },
  {
   "cell_type": "markdown",
   "metadata": {
    "slideshow": {
     "slide_type": "subslide"
    }
   },
   "source": [
    "#### Non-idempotent:\n",
    "\n",
    "```bash\n",
    "$ echo \"deb [ arch=amd64 ] https://repo.mongodb.org/apt/ubuntu bionic/mongodb-org/4.2 multiverse\" | \\\\\n",
    "    sudo tee -a /etc/apt/sources.list.d/mongodb-org-4.2.list\n",
    "$ echo \"deb [ arch=amd64 ] https://repo.mongodb.org/apt/ubuntu bionic/mongodb-org/4.2 multiverse\" | \\\\\n",
    "    sudo tee -a /etc/apt/sources.list.d/mongodb-org-4.2.list\n",
    "$ cat /etc/apt/sources.list.d/mongodb-org-4.2.list\n",
    "deb [ arch=amd64 ] https://repo.mongodb.org/apt/ubuntu bionic/mongodb-org/4.2 multiverse\n",
    "deb [ arch=amd64 ] https://repo.mongodb.org/apt/ubuntu bionic/mongodb-org/4.2 multiverse\n",
    "```\n",
    "\n",
    "#### Idempotent:\n",
    "\n",
    "```bash\n",
    "echo \"deb [ arch=amd64 ] https://repo.mongodb.org/apt/ubuntu bionic/mongodb-org/4.2 multiverse\" | \\\\\n",
    "    sudo tee -a /etc/apt/sources.list.d/mongodb-org-4.2.list\n",
    "if ! grep -qF \"bionic/mongodb-org/4.2\" /etc/apt/sources.list.d/mongodb-org-4.2.list; then\n",
    "  echo \"deb [ arch=amd64 ] https://repo.mongodb.org/apt/ubuntu bionic/mongodb-org/4.2 multiverse\" | \\\\\n",
    "     sudo tee -a /etc/apt/sources.list.d/mongodb-org-4.2.list\n",
    "fi\n",
    "cat /etc/apt/sources.list.d/mongodb-org-4.2.list\n",
    "```\n",
    "\n",
    "Returns:\n",
    "```\n",
    "deb [ arch=amd64 ] https://repo.mongodb.org/apt/ubuntu bionic/mongodb-org/4.2 multiverse\n",
    "```"
   ]
  },
  {
   "cell_type": "markdown",
   "metadata": {
    "slideshow": {
     "slide_type": "subslide"
    }
   },
   "source": [
    "#### Non-idempotent:\n",
    "\n",
    "```bash\n",
    "sqlite3 /tmp/minitwit.db < schema.sql\n",
    "sqlite3 /tmp/minitwit.db < dump.sql\n",
    "```\n",
    "\n",
    "#### Idempotent:\n",
    "\n",
    "```bash\n",
    "if [ -f \"/tmp/minitwit.db\" ]; then \n",
    "    echo \"Database already exists.\"\n",
    "    exit 1\n",
    "fi\n",
    "\n",
    "sqlite3 /tmp/minitwit.db < schema.sql\n",
    "sqlite3 /tmp/minitwit.db < dump.sql\n",
    "```"
   ]
  },
  {
   "cell_type": "markdown",
   "metadata": {
    "slideshow": {
     "slide_type": "slide"
    }
   },
   "source": [
    "----------\n",
    "\n",
    "# What to do now?\n",
    "\n",
    "  * Do the [project work](./README_TASKS.md) until the end of the week\n",
    "  * And [prepare for the next session](../session_06/README_PREP.md)"
   ]
  }
 ],
 "metadata": {
  "celltoolbar": "Slideshow",
  "kernelspec": {
   "display_name": "Python 3",
   "language": "python",
   "name": "python3"
  },
  "language_info": {
   "codemirror_mode": {
    "name": "ipython",
    "version": 3
   },
   "file_extension": ".py",
   "mimetype": "text/x-python",
   "name": "python",
   "nbconvert_exporter": "python",
   "pygments_lexer": "ipython3",
   "version": "3.8.8"
  }
 },
 "nbformat": 4,
 "nbformat_minor": 2
}
