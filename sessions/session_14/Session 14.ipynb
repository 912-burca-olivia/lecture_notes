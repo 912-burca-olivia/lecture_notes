{
 "cells": [
  {
   "cell_type": "markdown",
   "metadata": {
    "slideshow": {
     "slide_type": "slide"
    }
   },
   "source": [
    "![](https://camo.githubusercontent.com/39db34a3024e7e4066ea476de4a50c80dee6a65ab1864e1204914bc60c523061/68747470733a2f2f7777772e7361612d617574686f72732e65752f706963747572652f3733392f6674775f3736382f7361612d6d7463776d7a61346e7a71356d712e6a7067)"
   ]
  },
  {
   "cell_type": "markdown",
   "metadata": {
    "slideshow": {
     "slide_type": "slide"
    }
   },
   "source": [
    "# Evaluation"
   ]
  },
  {
   "cell_type": "markdown",
   "metadata": {
    "slideshow": {
     "slide_type": "subslide"
    }
   },
   "source": [
    "#### The most mentioned negative issues\n",
    "\n",
    "\n",
    "  * No TAs\n",
    "  * Bad slides\n",
    "  * Repetitive and no-learning guest lectures\n",
    "  * Workload\n"
   ]
  },
  {
   "cell_type": "code",
   "execution_count": null,
   "metadata": {},
   "outputs": [],
   "source": []
  },
  {
   "cell_type": "markdown",
   "metadata": {
    "slideshow": {
     "slide_type": "subslide"
    }
   },
   "source": [
    "#### ITU-wide Evaluation\n",
    "\n",
    "Please participate in the ITU-wide evaluation on LearnIT. Last year, the response rate for this course on LearnIT was 0%, which is unpractical since ITUs management mainly looks at these evaluation results: \n",
    "\n",
    "  * BSc: https://learnit.itu.dk/mod/questionnaire/view.php?id=157590\n",
    "  * MSc: https://learnit.itu.dk/mod/questionnaire/view.php?id=157592"
   ]
  },
  {
   "cell_type": "markdown",
   "metadata": {
    "slideshow": {
     "slide_type": "slide"
    }
   },
   "source": [
    "# Teaching Assistants 2023\n",
    "\n",
    "From earlier evaluations:\n",
    "\n",
    "  > * Great TA's! They were helpful many times for answering questions.\n",
    "  > * [...] TAs are really good at presenting relevant stuff [...]!\n",
    "  \n",
    "From this year's evaluation:\n",
    "\n",
    "  > * No TAs\n",
    "  > * No TAs (probably because it's very hard to be a TA in)\n"
   ]
  },
  {
   "cell_type": "markdown",
   "metadata": {
    "slideshow": {
     "slide_type": "subslide"
    }
   },
   "source": [
    "### Teaching Assistants 2023\n",
    "\n",
    "<img src=\"images/COLOURBOX46306564.jpg\" width=\"50%\">\n",
    "\n",
    "\n",
    "#### Typical Tasks\n",
    "\n",
    "  * Operate the Simulator\n",
    "  * Talk to and help student groups\n",
    "  * Implement improvements in the teaching material and/or the course's technical infrastructure\n",
    "  * Interact with Mircea and Helge to point out recurring issues and problems from student groups"
   ]
  },
  {
   "cell_type": "markdown",
   "metadata": {
    "slideshow": {
     "slide_type": "subslide"
    }
   },
   "source": [
    "#### Teaching Assistant for BDSA Fall 2022\n",
    "\n",
    "In case you would like to become TA for BDSA in fall, please contact Helge. "
   ]
  },
  {
   "cell_type": "markdown",
   "metadata": {
    "slideshow": {
     "slide_type": "slide"
    }
   },
   "source": [
    "# Exam Preparation\n",
    "\n",
    "  * You can find a bit deeper description of the exam and how it is conducted [here](https://github.com/itu-devops/lecture_notes/blob/master/exam_details.md).\n",
    "  * See exam description on LearnIT ([BSc](https://learnit.itu.dk/local/coursebase/view.php?ciid=907)/[MSc](https://learnit.itu.dk/local/coursebase/view.php?ciid=909)) under section _Ordinary exam_\n",
    "  * The course and exam are based on your project. However, the entire curriculum is relevant for the exam."
   ]
  },
  {
   "cell_type": "markdown",
   "metadata": {
    "slideshow": {
     "slide_type": "subslide"
    }
   },
   "source": [
    "#### \"I want to have the exam on day ...\"\n",
    "\n",
    "  * We cannot promise that the exams can be scheduled so that everybody is 100% happy with its placement.\n",
    "  * But you can help us scheduling by indicating your preferred days and days you would like to avoid in the [shared spreadsheet](https://ituniversity.sharepoint.com/:x:/r/sites/2022DevOpsSWEvolutionandSWMaintenance/Shared%20Documents/General/exam_preferences.xlsx?d=wf7186e03778144d3b8c04d4e3942d5bd&csf=1&web=1&e=bqrlTA).\n",
    "  * Once we have feedback from all of you, I will share an exam plan in our Git repository.\n",
    "  \n",
    "Important, when editing the spreadsheet, please make sure that the number of group members is still correct. If not please update it and inform us about it (by sending a pull request to the README.adoc file)."
   ]
  },
  {
   "cell_type": "markdown",
   "metadata": {
    "slideshow": {
     "slide_type": "slide"
    }
   },
   "source": [
    "# Thesis/Project Topics"
   ]
  },
  {
   "cell_type": "markdown",
   "metadata": {
    "slideshow": {
     "slide_type": "subslide"
    }
   },
   "source": [
    "### Mircea\n",
    "\n",
    "- [Project ideas](https://github.com/mircealungu/student-projects/)\n",
    "- Highlighted Project: [git-truck](https://github.com/git-truck/git-truck)"
   ]
  },
  {
   "cell_type": "markdown",
   "metadata": {
    "slideshow": {
     "slide_type": "subslide"
    }
   },
   "source": [
    "### Helge\n"
   ]
  },
  {
   "cell_type": "markdown",
   "metadata": {
    "slideshow": {
     "slide_type": "subslide"
    }
   },
   "source": [
    "#### DaSEA – A Dataset for Software Ecosystem Analysis (BSc/MSc)\n",
    "\n",
    "The [DaSEA](https://github.com/DaSEA-project/DASEA) project was born out of the research project and MSc of three students that took thos course last year. Find a deeper [description of the dataset in the paper](https://itu.dk/~ropf/blog/assets/msr2022.pdf) and a hig-level introduction in [the presentation](https://mybinder.org/v2/gh/DaSEA-project/MSR22-DaSEA-Dataset-Presentation/main?filepath=index.ipynb) and the [presentation video](https://itu.dk/~ropf/presentations/msr2022.html).\n",
    "\n",
    "Possible projects:\n",
    "\n",
    "  - Add more miners, especially for other operating systems (APT, Gentoo's portage, RPM, ...)\n",
    "  - Improve long-running miners of large ecosystems like Maven (Maven Central), Python (PyPI), etc.\n",
    "  - Improve operating system miners how to automatically update host version and mined package versions?"
   ]
  },
  {
   "cell_type": "markdown",
   "metadata": {
    "slideshow": {
     "slide_type": "subslide"
    }
   },
   "source": [
    "#### Implement and Evaluate Criticality Score (BSc/MSc)\n",
    "\n",
    "\n",
    "Recently, Google's Open Source team presented the [criticality score](https://github.com/ossf/criticality_score/blob/a02c8311fbbbd5d569ebaad3106ec08532b3a10c/Quantifying_criticality_algorithm.pdf), a metric to assess [_\"influence and importance\"_](https://github.com/ossf/criticality_score/blob/4a3e3e171ac403344060dbcfc43f47944afe77d0/README.md) of a project in an ecosystem from project specific signals, e.g., number of dependents, commit frequency, etc.\n",
    "\n",
    "The project's authors [would like to include a centrality metric in computation of their metric](https://github.com/ossf/criticality_score/issues/53#issuecomment-748556336), which is difficult for systems programming language ecosystems like C/C++.\n",
    "\n",
    "Using the [DaSEA dataset](http://dasea.org), one could compute ecosystem specific and global centrality ranks and include them in the metric.\n",
    "\n",
    "Find a more detailed [problem description in this paper](https://itu.dk/~ropf/blog/assets/msr2021_pfeiffer.pdf)."
   ]
  },
  {
   "cell_type": "markdown",
   "metadata": {
    "slideshow": {
     "slide_type": "subslide"
    }
   },
   "source": [
    "![](images/graph.svg)"
   ]
  },
  {
   "cell_type": "markdown",
   "metadata": {
    "slideshow": {
     "slide_type": "subslide"
    }
   },
   "source": [
    "#### Automatic Inference and Visualization of component boundaries\n",
    "\n",
    "Apply static analysis of C/C++ source code to infer and visualize component boundaries of software. Component boundaries should be identified via function/method calls.\n",
    "\n",
    "Execute a case study with the [Haiku operating system](https://www.haiku-os.org) and [FreeBSD](https://www.freebsd.org/) where you try to automatically identify the kernels of the operating systems and suggest possible ways of \"cutting\" out the Haiku kernel to replace it with the FreeBSD kernel."
   ]
  },
  {
   "cell_type": "markdown",
   "metadata": {
    "slideshow": {
     "slide_type": "subslide"
    }
   },
   "source": [
    "#### The Human Side of Code (BSc/MSc)\n",
    "\n",
    "Combine static analysis (likely `git blame`) of a **complete** software system with dynamic analysis (using profilers and tracing) to identify for each executed line of source code the influence of the respective authors.\n",
    "\n",
    "Can one identify for every line of source code written in interpreted and compiled languages like Python, C/C++, etc. which line written by which author is actually executed? How would a prototype of such a system look like and what is the lowest level in stack that one could trace?\n",
    "\n",
    "Execute a case study and evaluate a prototype.\n"
   ]
  },
  {
   "cell_type": "markdown",
   "metadata": {
    "slideshow": {
     "slide_type": "subslide"
    }
   },
   "source": [
    "\n",
    "![](https://github.com/itu-devops/lecture_notes/raw/0891bdc8b41a756eac04744e2168ec7c09f4f36b/sessions/session_02/images/deps.png)"
   ]
  }
 ],
 "metadata": {
  "celltoolbar": "Slideshow",
  "kernelspec": {
   "display_name": "Python 3.7.3 64-bit ('base': conda)",
   "language": "python",
   "name": "python37364bitbaseconda5acdf8fd35f946cab962b990d57125af"
  },
  "language_info": {
   "codemirror_mode": {
    "name": "ipython",
    "version": 3
   },
   "file_extension": ".py",
   "mimetype": "text/x-python",
   "name": "python",
   "nbconvert_exporter": "python",
   "pygments_lexer": "ipython3",
   "version": "3.7.6"
  }
 },
 "nbformat": 4,
 "nbformat_minor": 4
}
