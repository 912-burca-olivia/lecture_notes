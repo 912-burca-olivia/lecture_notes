{
 "cells": [
  {
   "cell_type": "markdown",
   "metadata": {
    "nbpresent": {
     "id": "33405e17-60a9-463c-8894-df5bd5e7659c"
    },
    "slideshow": {
     "slide_type": "slide"
    }
   },
   "source": [
    "# Session #09: Web Application Security\n",
    "============================================================\n",
    "\n",
    "<br/>\n",
    "<img src=\"./images/cyberattacks_close_businesses.png\" alt=\"Drawing\" style=\"align: left; width: 400px\"/>\n",
    "\n",
    "[Original Article](https://www.inc.com/joe-galvin/60-percent-of-small-businesses-fold-within-6-months-of-a-cyber-attack-heres-how-to-protect-yourself.html)"
   ]
  },
  {
   "cell_type": "markdown",
   "metadata": {},
   "source": [
    "\n"
   ]
  },
  {
   "cell_type": "markdown",
   "metadata": {},
   "source": [
    "## Before we Start: State of the Projects\n",
    "\n",
    "**Logging** \n",
    "  - Did you add logging to your MiniTwit?\n",
    "  - What frameworks / libraries / tools did you use? \n",
    "  \n",
    "**Logging in Practice**\n",
    "  - Could you catch a bug in production with the help of the scenario that we provided you? \n",
    "  - What was the bug? Did the logging help?\n",
    "  - Do you see access logs? \n",
    "  - Is anybody trying to hack your system?\n",
    "  \n",
    "  \n",
    "**SLAs**\n",
    "  - Did you get the chance to write one?\n",
    "  - Who didn't yet? \n",
    "  - What did you learn from our friends at Google & Microsoft and applied in your SLA?\n",
    "    - O\n",
    "    - H\n",
    "    - F\n",
    "  \n",
    "\n"
   ]
  },
  {
   "cell_type": "markdown",
   "metadata": {
    "nbpresent": {
     "id": "3ac31121-2dac-4379-8be9-ea6bd27f5fcc"
    },
    "slideshow": {
     "slide_type": "slide"
    }
   },
   "source": [
    "## Compare the following quotes\n",
    "\n",
    "\n",
    "> We know Rails. We can implement a Facebook competitor for you\n",
    ">\n",
    "> (A Good Friend of Mine)\n",
    "\n",
    "\n",
    "> I was upgraded from engineer to Site Reliability Engineer.\n",
    ">\n",
    "> It is one of the most important roles in our company.\n",
    ">\n",
    "> (Another Good Friend of Mine)\n",
    "\n",
    "##### Which one shows more profesionnality?\n",
    "\n"
   ]
  },
  {
   "cell_type": "markdown",
   "metadata": {
    "slideshow": {
     "slide_type": "slide"
    }
   },
   "source": [
    "### SRE - Before DevOps was popular\n",
    "\n",
    "> The SRE role of today combines the skills of the developer responsible for writing applications and the skills that operations engineers use to deploy those applications. The SRE moves an application from proof of concept, to quality control, and then to deployment – **automating that entire process** and giving it consistency.\n",
    "\n",
    "> By **continuing to run security experiments**, we can evaluate and improve such vulnerabilities proactively in the ecosystem before they become crisis situations.\n",
    "\n",
    "_ \n",
    "\n",
    "Read More:\n",
    "\n",
    "- What is a SRE? \n",
    " - https://opensource.com/article/18/10/what-site-reliability-engineer\n",
    " - https://www.csoonline.com/article/3244925/on-cybersecurity-and-it-teams-of-the-future-we-will-all-be-sres.html\n",
    "- SRE as an approach to DevOps:   \n",
    " - https://en.wikipedia.org/wiki/Site_Reliability_Engineering\n",
    " - Post-mortems\n",
    "\n",
    "\n"
   ]
  },
  {
   "cell_type": "markdown",
   "metadata": {
    "nbpresent": {
     "id": "28124971-4ad3-481f-b845-8855e201ca21"
    },
    "slideshow": {
     "slide_type": "slide"
    }
   },
   "source": [
    "## Being A Professional = Building Dependable Systems\n",
    "\n",
    "Webster's definition of **dependable**:\n",
    "\n",
    "```\n",
    "\n",
    "de·​pend·​able | \\ di-ˈpen-də-bəl  \\\n",
    "adjective\n",
    ": capable of being trusted or depended on : RELIABLE\n",
    "\n",
    "```\n",
    "\n",
    "<!-- <img src=\"images/dependable.png\" alt=\"Drawing\" style=\"width: 200px;\"/> -->\n",
    "\n",
    "Sommerville defines **dependability** as: \n",
    "- **availability**  -- probability that a system is operational at a given time\n",
    "- **reliability** -- correct outputs up to some given time t.\n",
    "- **safety**  -- ability to operate w/o catastrophic failure\n",
    "- **security** <-- *today's focus*\n",
    "\n",
    "\n",
    "\n",
    "\n",
    "\n"
   ]
  },
  {
   "cell_type": "markdown",
   "metadata": {
    "nbpresent": {
     "id": "e60a8e77-a808-40e7-89d6-9624f71e84c2"
    },
    "slideshow": {
     "slide_type": "slide"
    }
   },
   "source": [
    "# Book Recommendation (for the summer ;)\n",
    "\n",
    "\n",
    "### Inventing the Future at MIT\n",
    "- history of early days in computing\n",
    "- excitement about basics (reminder not to take things for granted)\n",
    "\n",
    "\n",
    "<img src=\"https://images-na.ssl-images-amazon.com/images/I/51FbpAQFVPL.jpg\" alt=\"Drawing\" style=\"width: 200px\"/>\n",
    "\n",
    "\n",
    "> \"Information wants to be free. \n",
    "> \n",
    "> Information also wants to be expensive. \n",
    "> \n",
    "> That tension will not go away\" \n",
    "> \n",
    "> (Steward Brand)\n",
    "\n",
    "More Stewart Brand: http://longnow.org/\n"
   ]
  },
  {
   "cell_type": "markdown",
   "metadata": {},
   "source": [
    "Another interesting question from the book:\n",
    "\n",
    "> **Can you map the flow of information in the world?** \n",
    "\n",
    "[One attempt to answering it](https://mircealungu.com/post/13-09-01-visualizing-stack-overflow/)  by my past student Dennis Shenk\n",
    "\n",
    "\n"
   ]
  },
  {
   "cell_type": "markdown",
   "metadata": {
    "nbpresent": {
     "id": "db415d3c-61af-42db-84af-ae7c07ec34f4"
    },
    "slideshow": {
     "slide_type": "slide"
    }
   },
   "source": [
    "> \"Information wants to be free. \n",
    "> \n",
    "> Information also wants to be expensive. \n",
    "> \n",
    "> That tension will not go away\" \n",
    "> \n",
    "> (Steward Brand)\n",
    "\n",
    "\n",
    "# Security: Preventing Information from *Beeing Freed* By the Wrong Hands\n",
    "\n",
    "\n",
    "> ( Computer | cyber | IT ) security is ...\n",
    "\n",
    ">  ... the protection of computer systems and networks from the theft of or damage to their hardware, software, or  data, as well as from the disruption or misdirection of the services they provide. [1]\n",
    "\n",
    "\n",
    "[1] https://commons.erau.edu/cgi/viewcontent.cgi?article=1476&context=jdfsl \n"
   ]
  },
  {
   "cell_type": "markdown",
   "metadata": {
    "nbpresent": {
     "id": "d81ef71b-375c-4c5f-be48-2f72979724cd"
    },
    "slideshow": {
     "slide_type": "subslide"
    }
   },
   "source": [
    "# State of the Security\n",
    "\n",
    "- **The most common way to discover security failures?**\n",
    "  - when a security incident happens \n",
    "\n",
    "\n",
    "- **Average time until people found out they were hacked?**\n",
    "  - half a year! [1]\n",
    "  - By this time, it is often too late, and damage has been done. \n",
    "  - *Story*: Russian vs. Brazilian hackers.\n",
    "\n",
    "\n",
    "[1] 2017 Cost of Data Breach Study by IBM -  https://www.ibm.com/downloads/cas/ZYKLN2E3\n",
    "\n"
   ]
  },
  {
   "cell_type": "markdown",
   "metadata": {},
   "source": [
    "## What to do? \n",
    "\n",
    "**We need a proactive and systematic approach**\n",
    "  1. understand threats\n",
    "  1. assess risk\n",
    "  1. test security\n",
    "  1. detect breaches\n",
    "  \n",
    "  \n",
    "**As DevOps that are coming from Dev...** we must become good with\n",
    "   - security\n",
    "   - system administration\n",
    "   - networking\n",
    "\n"
   ]
  },
  {
   "cell_type": "markdown",
   "metadata": {
    "nbpresent": {
     "id": "76ed761d-5b51-4e1e-838d-1f30bdb201b7"
    },
    "slideshow": {
     "slide_type": "subslide"
    }
   },
   "source": [
    "# 1. Understanding Threats\n",
    "\n",
    "\n",
    "### What is a threat? \n",
    "\n",
    "A threat is defined by a triplet:\n",
    "\n",
    "1. Intent (we can guess)\n",
    "2. Capability (we can't change)\n",
    "3. Opportunity <-- (this is our focus!)\n"
   ]
  },
  {
   "cell_type": "markdown",
   "metadata": {
    "nbpresent": {
     "id": "d994c5a5-39a0-4af6-bae1-3cdf207ef160"
    },
    "slideshow": {
     "slide_type": "subslide"
    }
   },
   "source": [
    "### Who attacks you? \n",
    "\n",
    "* Black Hat - bad guys in the western movies\n",
    "\n",
    "* White hat - ethical hackers, working with orgs to strengthen security\n",
    "\n",
    "* Grey Hat - not malicious, usually notify you that they hacked you\n",
    "\n",
    "* Script Kiddies - they have time on their hands\n",
    "\n",
    "\n",
    "What differentiates them: **intent** & **capability**..."
   ]
  },
  {
   "cell_type": "markdown",
   "metadata": {
    "slideshow": {
     "slide_type": "slide"
    }
   },
   "source": [
    "## Case Study: Migrating from GCE to DO: What Could Go Wrong? \n",
    "\n",
    "![](./images/ufw_and_docker.png)"
   ]
  },
  {
   "cell_type": "markdown",
   "metadata": {},
   "source": [
    "![](./images/give_us_btc.png)\n",
    "\n"
   ]
  },
  {
   "cell_type": "markdown",
   "metadata": {},
   "source": [
    "What went wrong ?\n",
    "\n",
    "- docker circumvents the UFW firewall configuraition and opens the ports to the world! [a discussion](https://github.com/docker/for-linux/issues/690)\n",
    "- undermines the point of the reverse proxy :)"
   ]
  },
  {
   "cell_type": "markdown",
   "metadata": {
    "nbpresent": {
     "id": "485f3bf2-58d3-46de-a96f-a79d9f47e122"
    },
    "slideshow": {
     "slide_type": "subslide"
    }
   },
   "source": [
    "# Learning from the \"Intelligence Field\"\n",
    "\n",
    "1. Collect (**What are your assets**? What is worth protecting?)\n",
    "1. Analyse the adversary and opportunities\n",
    "1. Process (**What are the *risks*? Which should be addressed?**)\n",
    "1. Disseminate (Implement mitigations)"
   ]
  },
  {
   "cell_type": "markdown",
   "metadata": {
    "nbpresent": {
     "id": "43ad8244-7420-4502-acf5-819639d19107"
    },
    "slideshow": {
     "slide_type": "subslide"
    }
   },
   "source": [
    "# How do we assess risk? \n",
    "\n",
    "### Risk Matrices\n",
    "\n",
    "- **Severity**. e.g., Insignificant, Negligible, Marginal, Critical, Catastrophic\n",
    "- **Likelihood** e.g., Certain, Likely, Possible, Unlikely, Rare\n",
    "- **Risk** = f(Likelihood, Severity)\n",
    "\n",
    "## \n",
    "\n",
    "<img src=\"images/matrix.png\" alt=\"Drawing\" style=\"width: 700px;\"/>\n",
    "\n",
    "- https://sectara.com/news/risk-assessment-matrix/\n",
    "- https://31000risk.wordpress.com/article/what-s-right-with-risk-matrices-3dksezemjiq54-4/#_Ref125355130\n",
    "\n",
    "\n"
   ]
  },
  {
   "cell_type": "markdown",
   "metadata": {
    "slideshow": {
     "slide_type": "slide"
    }
   },
   "source": [
    "# e.g. A More Detailed Matrix\n",
    "\n",
    "<img src=\"images/risk-rating-matrix.png\" />\n"
   ]
  },
  {
   "cell_type": "markdown",
   "metadata": {
    "nbpresent": {
     "id": "ebb20b41-4f1b-4038-afad-67c438637296"
    },
    "slideshow": {
     "slide_type": "subslide"
    }
   },
   "source": [
    "## Open Web Application Security Project: OWASP\n",
    "\n",
    "\n",
    "- Online Community\n",
    "- Maintains lists of vulnerabilityes for web applications\n",
    "\n",
    "\n",
    "- **OWASP Top 10** Include:\n",
    "  - 1. Broken Access Control\n",
    "  - 3. Injection (XSS, SQL, etc.)\n",
    "  - 7. Identification and Authenticaion Failures\n",
    "  - 9. Insufficient Logging & Monitoring (!!!)\n",
    "\n",
    "\n",
    "\n",
    "\n",
    "\n",
    "Read more: \n",
    "- Full top 10 list: https://owasp.org/www-project-top-ten/\n",
    "- Same Origin Policy (long but good video) https://www.youtube.com/watch?v=zul8TtVS-64\n",
    "- XSS explained nicely: https://portswigger.net/web-security/cross-site-scripting\n",
    "- CSRF - Cross Side Request Forgery - often detected by tools\n"
   ]
  },
  {
   "cell_type": "markdown",
   "metadata": {
    "nbpresent": {
     "id": "42bc8ef3-65b7-4462-b98d-14b25461f975"
    },
    "slideshow": {
     "slide_type": "subslide"
    }
   },
   "source": [
    "### Detail: Insufficient Logging and Monitoring\n",
    "\n",
    "Issue included in the Top 10 **based on an industry survey**\n",
    "\n",
    "Strategy for determining if you have **sufficient monitoring**\n",
    "\n",
    "- examine the logs following *penetration testing* (defined later)\n",
    "\n",
    "\n",
    "- the testers’ actions should be recorded sufficiently to understand what damages they may have inflicted\n",
    "\n",
    "\n",
    "Note: *applying this strategy is part of your assignment*\n"
   ]
  },
  {
   "cell_type": "markdown",
   "metadata": {
    "nbpresent": {
     "id": "08b7a65d-a30b-4631-b700-e61fae9e01bf"
    },
    "slideshow": {
     "slide_type": "subslide"
    }
   },
   "source": [
    "## Insufficient Logging and Monitoring: When...\n",
    "\n",
    "- Auditable events are not logged\n",
    "  - e.g. loginsfailed logins, and high-value transactions\n",
    "- Warnings and errors generate no log messages\n",
    "  - (or inadequate, or unclear)\n",
    "- You're not looking at the logs!\n",
    "- The application is unable to detect, escalate, or alert for active attacks in real time or near real time.\n",
    "\n",
    "Source: [OWASP Top 10: Insufficient Logging and Monitoring](https://owasp.org/www-project-top-ten/OWASP_Top_Ten_2017/Top_10-2017_A10-Insufficient_Logging%252526Monitoring)\n",
    "\n",
    "Logging Cheatsheet from OWASP: https://cheatsheetseries.owasp.org/cheatsheets/Logging_Cheat_Sheet.html"
   ]
  },
  {
   "cell_type": "markdown",
   "metadata": {
    "nbpresent": {
     "id": "a85b34a0-17a9-4714-b28e-0cf97d9dda81"
    },
    "slideshow": {
     "slide_type": "subslide"
    }
   },
   "source": [
    "## Testing Security: Penetration Testing\n",
    "\n",
    "- a.k.a. pen-testing\n",
    "- simulate attacks on your system\n",
    "- helps understand what an attacker can do\n",
    "\n",
    "> \"blue teams always need **red teams** to test them against each other\"\n",
    "\n",
    "- requires you to know potential vulnerabilities\n",
    "\n",
    "\n",
    "\n",
    "\n"
   ]
  },
  {
   "cell_type": "markdown",
   "metadata": {
    "nbpresent": {
     "id": "66d60306-6d53-4e5b-b0f6-b3f5837a93d1"
    },
    "slideshow": {
     "slide_type": "subslide"
    }
   },
   "source": [
    "### Automating Pen Testing\n",
    "\n",
    "- tools exist that can automate the process\n",
    "- you provide a target IP and they scan it for vulnerabilities\n",
    "\n",
    "- Kali Linux\n",
    "  - security focused distro\n",
    "  - contains a very large set of tools (https://tools.kali.org/tools-listing)\n",
    "  - can be installed in meta-packages (https://www.kali.org/news/kali-linux-metapackages/)\n",
    "    - top10\n",
    "    - web\n",
    "    - wireless\n",
    "    - etc."
   ]
  },
  {
   "cell_type": "markdown",
   "metadata": {},
   "source": [
    "### Tool: Metasploit\n",
    "\n",
    "- ruby-based framework for vulnerability scanning\n",
    "- very popular\n",
    "- large number of plugings\n",
    "\n",
    "\n",
    "<img src=\"images/metasploit_modules.png\" alt=\"Drawing\" style=\"width: 300px;\"/>\n",
    "\n",
    "\n",
    "More: https://github.com/rapid7/metasploit-framework\n",
    "\n",
    "A lot: https://books.google.dk/books?id=EOlODwAAQBAJ"
   ]
  },
  {
   "cell_type": "markdown",
   "metadata": {
    "nbpresent": {
     "id": "38cb38c6-98f0-42da-83c9-ff9c34583470"
    },
    "slideshow": {
     "slide_type": "subslide"
    }
   },
   "source": [
    "### Tool: WMAP Plugin for Metasploit\n",
    "\n",
    "- feature-rich web application vulnerability scanner \n",
    "- originally created from a tool named SQLMap\n",
    "- integrated with Metasploit \n",
    "- see exercises for usage\n",
    "\n",
    "\n",
    "\n",
    "[1] https://www.offensive-security.com/metasploit-unleashed/wmap-web-scanner/"
   ]
  },
  {
   "cell_type": "markdown",
   "metadata": {
    "nbpresent": {
     "id": "19d637ea-f295-4f06-9d4b-24119b15ef3f"
    },
    "slideshow": {
     "slide_type": "subslide"
    }
   },
   "source": [
    "### More Pen-Testing Tools\n",
    "\n",
    "Inside Kali Linux\n",
    "- [skipfish](https://www.systutorials.com/docs/linux/man/1-skipfish/)\n",
    "- [nmap](https://nmap.org/book/man-port-scanning-basics.html)\n",
    "\n",
    "Desktop Apps\n",
    "- OWASP ZAP \n",
    "  - free, open-source penetration testing tool \n",
    "  - maintained under the umbrella of the OWASP \n",
    "  - [getting started](https://www.zaproxy.org/getting-started/), [docs](https://www.zaproxy.org/docs/api/#introduction)\n",
    "- The tools in the [list of OWASP vulnerability scanning tools](https://owasp.org/www-community/Vulnerability_Scanning_Tools)\n",
    "\n",
    "Online Services \n",
    "- Detectify (https://detectify.com/)\n",
    " - quite nice\n",
    " - requires an account\n",
    " - require you to prove that you own the website\n",
    "- Mozilla Observatory (https://observatory.mozilla.org/)\n",
    "- shodan.io\n",
    "\n"
   ]
  },
  {
   "cell_type": "markdown",
   "metadata": {
    "nbpresent": {
     "id": "a4c4d743-6782-4210-9f4c-c1028e0acb46"
    },
    "slideshow": {
     "slide_type": "subslide"
    }
   },
   "source": [
    "## Detection\n",
    "\n",
    "Is hard.\n",
    "\n",
    "Warning signs that you might have an intruder\n",
    " - abnormal network traffic (important to monitor!)\n",
    " - unusual resource usage (ditto)\n",
    " - you can't access your server\n",
    " - your server IP has been blacklisted\n",
    " \n"
   ]
  },
  {
   "cell_type": "markdown",
   "metadata": {
    "nbpresent": {
     "id": "77ca4377-3ed3-4e5f-9ee4-809b89036c0a"
    },
    "slideshow": {
     "slide_type": "subslide"
    }
   },
   "source": [
    "### Detection - Approach\n",
    "\n",
    "- Develop baseline for normal\n",
    "- Stop intruders from taking information out \n",
    "  - firewall\n",
    "  - traffic filtering\n",
    "  - white/black listing\n",
    "- Auditing, system hardening, compliance testing, e.g. Lynis\n",
    "\n",
    " \n"
   ]
  },
  {
   "cell_type": "markdown",
   "metadata": {
    "nbpresent": {
     "id": "ba70c984-c9da-4763-bf4e-46c5779e0069"
    },
    "slideshow": {
     "slide_type": "subslide"
    }
   },
   "source": [
    "### Tool for System Hardening: Lynis\n",
    "\n",
    "- analyzes the system from within\n",
    "- treats the system as white box as opposed to blackbox\n",
    "\n",
    "\n",
    "``` \n",
    "\n",
    "sudo lynis audit system\n",
    "\n",
    "... \n",
    "\n",
    " [+] Boot and services\n",
    "------------------------------------\n",
    "  - Service Manager                                           [ systemd ]\n",
    "  - Checking UEFI boot                                        [ DISABLED ]\n",
    "  - Checking presence GRUB                                    [ OK ]\n",
    "  - Checking presence GRUB2                                   [ FOUND ]\n",
    "    - Checking for password protection                        [ NONE ]\n",
    "  - Check running services (systemctl)                        [ DONE ]\n",
    "        Result: found 27 running services\n",
    "  - Check enabled services at boot (systemctl)                [ DONE ]\n",
    "        Result: found 54 enabled services\n",
    "  - Check startup files (permissions)                         [ OK ]\n",
    "\n",
    "[+] Containers\n",
    "------------------------------------\n",
    "    - Docker\n",
    "      - Docker daemon                                         [ RUNNING ]\n",
    "        - Docker info output (warnings)                       [ 1 ]\n",
    "      - Containers\n",
    "        - Total containers                                    [ UNKNOWN ]\n",
    "          - Running containers                                [ 4 ]\n",
    "    - File permissions                                        [ OK ]\n",
    "\n",
    "[+] Security frameworks\n",
    "------------------------------------\n",
    "  - Checking presence AppArmor                                [ FOUND ]\n",
    "    - Checking AppArmor status                                [ ENABLED ]\n",
    "  - Checking presence SELinux                                 [ NOT FOUND ]\n",
    "  - Checking presence TOMOYO Linux                            [ NOT FOUND ]\n",
    "  - Checking presence grsecurity                              [ NOT FOUND ]\n",
    "  - Checking for implemented MAC framework                    [ OK ]\n",
    "\n",
    "```\n",
    " \n"
   ]
  },
  {
   "cell_type": "markdown",
   "metadata": {},
   "source": [
    "# Practical Steps to Improve Security when you DevOps\n"
   ]
  },
  {
   "cell_type": "markdown",
   "metadata": {},
   "source": [
    "\n",
    "\n",
    "## 1. Evaluate Dependencies\n",
    "\n",
    "\n",
    "- Keep dependencies up to date\n",
    "\n",
    "\n",
    "- Scan dependencies for security breaches\n",
    "  - source code and container images too\n",
    "  - add security checks as part of your CI\n",
    "\n",
    "\n",
    "\n",
    "\n",
    "\n",
    "**Principle**\n",
    "\n",
    "  > \"If its part of your app, it should be part of your security process\"\n",
    "\n",
    "\n",
    "##### Case Study\n",
    "[Postmortem for Malicious eslint Packages Published on July 12th, 2018](https://eslint.org/blog/2018/07/postmortem-for-malicious-package-publishes)\n",
    "\n",
    "\n",
    "\n",
    "\n",
    "\n",
    "\n",
    "\n"
   ]
  },
  {
   "cell_type": "markdown",
   "metadata": {},
   "source": [
    "![](https://imgs.xkcd.com/comics/exploits_of_a_mom.png)\n"
   ]
  },
  {
   "cell_type": "markdown",
   "metadata": {},
   "source": [
    "## 2. Never Trust User Input\n",
    "\n",
    "- Validate the input before using it\n",
    "  - in the webpages\n",
    "  - in the API\n",
    "- Use parameterized DB queries\n",
    "\n",
    "\n",
    "**Principle:**\n",
    "> \"All input is bad until proven otherwise\"\n",
    "\n"
   ]
  },
  {
   "cell_type": "markdown",
   "metadata": {},
   "source": [
    "## 3. Protect your Servers\n",
    "\n",
    "- Keep software on servers up to date\n",
    "\n",
    "\n",
    "- e.g. [`apt-get install unattended-upgrades`](https://wiki.debian.org/UnattendedUpgrades)\n",
    "\n",
    "\n"
   ]
  },
  {
   "cell_type": "markdown",
   "metadata": {},
   "source": [
    "## 4. Protect Secrets\n",
    "\n",
    "- Don’t commit credentials and other secrets (like keys and certs) into a VCS repository\n",
    "\n",
    "\n",
    "- Use 2FA for secret repositories\n",
    "\n",
    "\n",
    "- Consider using dedicated tools and vaults for secrets\n",
    "\n",
    "\n",
    "##### Case Study\n",
    "[The Uber Breach](https://www.bloomberg.com/news/articles/2017-11-21/uber-concealed-cyberattack-that-exposed-57-million-people-s-data) - started accessing a private GitHub repo, where keys were found for an AWS account, etc.\n"
   ]
  },
  {
   "cell_type": "markdown",
   "metadata": {},
   "source": [
    "## 5. Go Hack Yourself\n",
    "\n",
    "- Create a red team to pen test\n",
    "\n",
    "\n",
    "- Stress the app infrastructure\n",
    "\n",
    "*Note: part of the assignment*"
   ]
  },
  {
   "cell_type": "markdown",
   "metadata": {},
   "source": [
    "## 6. Protect your CI/CD tools \n",
    "\n",
    "- CI pipeline is part of your infrastructure\n",
    "\n",
    "\n",
    "##### Case Study\n",
    "\n",
    "Multiple US government agencies [hacked due to misconfiguration of their TeamCity CI tool](https://cd.foundation/blog/2021/01/07/could-ci-cd-tool-teamcity-really-have-been-exploited-to-hack-the-us/_)\n"
   ]
  },
  {
   "cell_type": "markdown",
   "metadata": {},
   "source": [
    "## 7. Automatic Backups\n",
    "\n",
    "- This is critical\n",
    "\n",
    "- Test your full recovery process\n",
    "\n",
    "\n",
    "**Principle**\n",
    "\n",
    "> Data is probably your most precious asset; don't lose it\n",
    "\n",
    "> A backup is not useful unless you can use it to actually perform the backup\n",
    "\n",
    "\n"
   ]
  },
  {
   "cell_type": "markdown",
   "metadata": {},
   "source": [
    "\n",
    "## 8. Log Everything \n",
    "\n",
    "- Your key to being able to detect attacks \n",
    "\n",
    "\n",
    "- ... Except don't log customer secrets!\n"
   ]
  },
  {
   "cell_type": "markdown",
   "metadata": {},
   "source": [
    "# References:\n",
    "\n",
    "- [Five Easy Steps to Keep on Your Organization’s DevOps Security Checklist\n",
    "](https://www.tripwire.com/state-of-security/devops/devops-security-checklist/)\n",
    "- [What Is A Risk Assessment Matrix?](https://sectara.com/news/risk-assessment-matrix/)\n",
    "- [ Guide To Conducting Cybersecurity Risk Assessment For Critical Information Infrastructure](https://www.csa.gov.sg/-/media/csa/documents/legislation_supplementary_references/guide_to_conducting_cybersecurity_risk_assessment_for_cii.pdf), Dec 2019\n",
    "- The DevOps Security Checklist by Sqreen\n",
    "\n",
    "\n",
    "Further Reading\n",
    "- [Information Security Risk Analysis – A Matrix-based Approach ](https://www.albany.edu/~goel/publications/goelchen2005.pdf) -- an advanced approach to security risk analysis \n"
   ]
  }
 ],
 "metadata": {
  "anaconda-cloud": {},
  "celltoolbar": "Slideshow",
  "kernelspec": {
   "display_name": "Python 3 (ipykernel)",
   "language": "python",
   "name": "python3"
  },
  "language_info": {
   "codemirror_mode": {
    "name": "ipython",
    "version": 3
   },
   "file_extension": ".py",
   "mimetype": "text/x-python",
   "name": "python",
   "nbconvert_exporter": "python",
   "pygments_lexer": "ipython3",
   "version": "3.8.9"
  },
  "nbpresent": {
   "slides": {
    "0205e565-ecbe-417d-88ca-35ea95042705": {
     "id": "0205e565-ecbe-417d-88ca-35ea95042705",
     "prev": "9431bd03-a922-4c97-81e1-384a941a90da",
     "regions": {
      "92a7e2f4-6a9a-4288-ab10-6ee5ca049a17": {
       "attrs": {
        "height": 0.8,
        "width": 0.8,
        "x": 0.1,
        "y": 0.1
       },
       "content": {
        "cell": "4233e795-70c7-4565-b78d-98cedff45e7d",
        "part": "whole"
       },
       "id": "92a7e2f4-6a9a-4288-ab10-6ee5ca049a17"
      }
     }
    },
    "0341d6fd-8aa3-47d9-9c91-9d1792a5f11d": {
     "id": "0341d6fd-8aa3-47d9-9c91-9d1792a5f11d",
     "prev": "f424dbdd-47f9-42d7-9338-e7273187f205",
     "regions": {
      "e470aea7-5873-4eba-ab6a-d4431631b880": {
       "attrs": {
        "height": 0.8,
        "width": 0.8,
        "x": 0.1,
        "y": 0.1
       },
       "content": {
        "cell": "d81ef71b-375c-4c5f-be48-2f72979724cd",
        "part": "whole"
       },
       "id": "e470aea7-5873-4eba-ab6a-d4431631b880"
      }
     }
    },
    "092ce7fe-09d5-47ea-914a-99f87b0e870f": {
     "id": "092ce7fe-09d5-47ea-914a-99f87b0e870f",
     "prev": null,
     "regions": {
      "e9528594-7856-40e4-adb0-647c9b50a50a": {
       "attrs": {
        "height": 0.8,
        "width": 0.8,
        "x": 0.1,
        "y": 0.1
       },
       "content": {
        "cell": "33405e17-60a9-463c-8894-df5bd5e7659c",
        "part": "whole"
       },
       "id": "e9528594-7856-40e4-adb0-647c9b50a50a"
      }
     }
    },
    "12f64534-58bf-45a3-93b3-325bb9f104ce": {
     "id": "12f64534-58bf-45a3-93b3-325bb9f104ce",
     "prev": "a2066fd9-99dc-416f-8774-c58f3b4820c2",
     "regions": {
      "307e4df4-54ee-4039-9218-3b74f3b4e75e": {
       "attrs": {
        "height": 0.8,
        "width": 0.8,
        "x": 0.1,
        "y": 0.1
       },
       "content": {
        "cell": "04e8f5cf-8374-42b8-a6e1-c97249523ce4",
        "part": "whole"
       },
       "id": "307e4df4-54ee-4039-9218-3b74f3b4e75e"
      }
     }
    },
    "19de9431-5a0b-450b-95e4-d415d9ae7713": {
     "id": "19de9431-5a0b-450b-95e4-d415d9ae7713",
     "prev": "092ce7fe-09d5-47ea-914a-99f87b0e870f",
     "regions": {
      "3e140fff-bf6a-4676-95b0-35040c365caf": {
       "attrs": {
        "height": 0.8,
        "width": 0.8,
        "x": 0.1,
        "y": 0.1
       },
       "content": {
        "cell": "c3424e6f-ceeb-4f3f-bf20-e288b3131d62",
        "part": "whole"
       },
       "id": "3e140fff-bf6a-4676-95b0-35040c365caf"
      }
     }
    },
    "1b50ea55-c43d-4018-b141-1de85d354314": {
     "id": "1b50ea55-c43d-4018-b141-1de85d354314",
     "prev": "2da6ef16-300d-46a2-bd0d-72d3214e26c5",
     "regions": {
      "50b14625-17c1-4645-b82e-e6fa380e82cc": {
       "attrs": {
        "height": 0.8,
        "width": 0.8,
        "x": 0.1,
        "y": 0.1
       },
       "content": {
        "cell": "77ca4377-3ed3-4e5f-9ee4-809b89036c0a",
        "part": "whole"
       },
       "id": "50b14625-17c1-4645-b82e-e6fa380e82cc"
      }
     }
    },
    "2da6ef16-300d-46a2-bd0d-72d3214e26c5": {
     "id": "2da6ef16-300d-46a2-bd0d-72d3214e26c5",
     "prev": "db35a5e0-0c97-40df-830b-4103dc20ca06",
     "regions": {
      "e21f9b7f-aa66-464b-8c94-ed9256eae5b1": {
       "attrs": {
        "height": 0.8,
        "width": 0.8,
        "x": 0.1,
        "y": 0.1
       },
       "content": {
        "cell": "a4c4d743-6782-4210-9f4c-c1028e0acb46",
        "part": "whole"
       },
       "id": "e21f9b7f-aa66-464b-8c94-ed9256eae5b1"
      }
     }
    },
    "2e7fa013-0a00-4b87-aac2-f44791f05b3c": {
     "id": "2e7fa013-0a00-4b87-aac2-f44791f05b3c",
     "prev": "fc6b6615-3600-46cd-a072-452fd1a04370",
     "regions": {
      "e6764cc6-9835-4830-bc8a-5fd041cd6013": {
       "attrs": {
        "height": 0.8,
        "width": 0.8,
        "x": 0.1,
        "y": 0.1
       },
       "content": {
        "cell": "d994c5a5-39a0-4af6-bae1-3cdf207ef160",
        "part": "whole"
       },
       "id": "e6764cc6-9835-4830-bc8a-5fd041cd6013"
      }
     }
    },
    "31267bee-e8cd-4094-b296-eab9f9fd8314": {
     "id": "31267bee-e8cd-4094-b296-eab9f9fd8314",
     "prev": "56aa2dbf-ff77-4a11-8198-133c1e7a2f9c",
     "regions": {
      "34e9013c-6606-4c7b-a524-71deb67d5210": {
       "attrs": {
        "height": 0.8,
        "width": 0.8,
        "x": 0.1,
        "y": 0.1
       },
       "content": {
        "cell": "3ac31121-2dac-4379-8be9-ea6bd27f5fcc",
        "part": "whole"
       },
       "id": "34e9013c-6606-4c7b-a524-71deb67d5210"
      }
     }
    },
    "4cd0d817-20b7-4673-91fd-0d763ae7714d": {
     "id": "4cd0d817-20b7-4673-91fd-0d763ae7714d",
     "prev": "e1d7ca29-3138-4dfe-bcee-ca2682fee381",
     "regions": {
      "26ed99ff-9155-4396-af26-6614da37eb4a": {
       "attrs": {
        "height": 0.8,
        "width": 0.8,
        "x": 0.1,
        "y": 0.1
       },
       "content": {
        "cell": "42bc8ef3-65b7-4462-b98d-14b25461f975",
        "part": "whole"
       },
       "id": "26ed99ff-9155-4396-af26-6614da37eb4a"
      }
     }
    },
    "56aa2dbf-ff77-4a11-8198-133c1e7a2f9c": {
     "id": "56aa2dbf-ff77-4a11-8198-133c1e7a2f9c",
     "prev": "19de9431-5a0b-450b-95e4-d415d9ae7713",
     "regions": {
      "fe319e22-4422-49f7-915e-cf163e5f19d8": {
       "attrs": {
        "height": 0.8,
        "width": 0.8,
        "x": 0.1,
        "y": 0.1
       },
       "content": {
        "cell": "af8ad0e8-1364-47c2-aef2-e72d5da980ef",
        "part": "whole"
       },
       "id": "fe319e22-4422-49f7-915e-cf163e5f19d8"
      }
     }
    },
    "589d631e-adc0-42f4-9892-04831ae38c05": {
     "id": "589d631e-adc0-42f4-9892-04831ae38c05",
     "prev": "31267bee-e8cd-4094-b296-eab9f9fd8314",
     "regions": {
      "69defdfc-a0ce-4d31-a37a-2a454a2fe467": {
       "attrs": {
        "height": 0.8,
        "width": 0.8,
        "x": 0.1,
        "y": 0.1
       },
       "content": {
        "cell": "28124971-4ad3-481f-b845-8855e201ca21",
        "part": "whole"
       },
       "id": "69defdfc-a0ce-4d31-a37a-2a454a2fe467"
      }
     }
    },
    "6050adaa-3dbe-4fda-863b-4bde9798fab4": {
     "id": "6050adaa-3dbe-4fda-863b-4bde9798fab4",
     "prev": "65ed212b-cb4f-4eb3-8b21-38c9d9a72453",
     "regions": {
      "00f53bac-c7e6-44a6-abc3-b48c4951ab99": {
       "attrs": {
        "height": 0.8,
        "width": 0.8,
        "x": 0.1,
        "y": 0.1
       },
       "content": {
        "cell": "43ad8244-7420-4502-acf5-819639d19107",
        "part": "whole"
       },
       "id": "00f53bac-c7e6-44a6-abc3-b48c4951ab99"
      }
     }
    },
    "61ae7c0f-a01b-4dd7-9c83-9107628f2f96": {
     "id": "61ae7c0f-a01b-4dd7-9c83-9107628f2f96",
     "prev": "1b50ea55-c43d-4018-b141-1de85d354314",
     "regions": {
      "5f6783cf-c055-41c8-99a8-8ab65baf1464": {
       "attrs": {
        "height": 0.8,
        "width": 0.8,
        "x": 0.1,
        "y": 0.1
       },
       "content": {
        "cell": "ba70c984-c9da-4763-bf4e-46c5779e0069",
        "part": "whole"
       },
       "id": "5f6783cf-c055-41c8-99a8-8ab65baf1464"
      }
     }
    },
    "65ed212b-cb4f-4eb3-8b21-38c9d9a72453": {
     "id": "65ed212b-cb4f-4eb3-8b21-38c9d9a72453",
     "prev": "2e7fa013-0a00-4b87-aac2-f44791f05b3c",
     "regions": {
      "87425314-f57d-4dcc-8804-205aeb9099ec": {
       "attrs": {
        "height": 0.8,
        "width": 0.8,
        "x": 0.1,
        "y": 0.1
       },
       "content": {
        "cell": "485f3bf2-58d3-46de-a96f-a79d9f47e122",
        "part": "whole"
       },
       "id": "87425314-f57d-4dcc-8804-205aeb9099ec"
      }
     }
    },
    "7926988a-9dc7-4cb6-a70a-b0446fd00ebf": {
     "id": "7926988a-9dc7-4cb6-a70a-b0446fd00ebf",
     "prev": "6050adaa-3dbe-4fda-863b-4bde9798fab4",
     "regions": {
      "3e38e608-b595-4a5f-a771-12ee49379225": {
       "attrs": {
        "height": 0.8,
        "width": 0.8,
        "x": 0.1,
        "y": 0.1
       },
       "content": {
        "cell": "fb13f410-3b86-453f-9385-555990e75193",
        "part": "whole"
       },
       "id": "3e38e608-b595-4a5f-a771-12ee49379225"
      }
     }
    },
    "7993a7f1-7c98-409b-b93c-a4999aa0d7c2": {
     "id": "7993a7f1-7c98-409b-b93c-a4999aa0d7c2",
     "prev": "12f64534-58bf-45a3-93b3-325bb9f104ce",
     "regions": {
      "a86ed180-25a2-427f-9cd9-9ca65700777a": {
       "attrs": {
        "height": 0.8,
        "width": 0.8,
        "x": 0.1,
        "y": 0.1
       },
       "content": {
        "cell": "739ef50b-b932-40d5-a62a-051238f00dbd",
        "part": "whole"
       },
       "id": "a86ed180-25a2-427f-9cd9-9ca65700777a"
      }
     }
    },
    "7ac7d7e9-f545-4508-b0a8-03af5acc4722": {
     "id": "7ac7d7e9-f545-4508-b0a8-03af5acc4722",
     "prev": "7993a7f1-7c98-409b-b93c-a4999aa0d7c2",
     "regions": {
      "6b8441e8-459b-4415-aa60-43659641b066": {
       "attrs": {
        "height": 0.8,
        "width": 0.8,
        "x": 0.1,
        "y": 0.1
       },
       "content": {
        "cell": "81449e02-ced9-4695-9802-bc32f57bd8cf",
        "part": "whole"
       },
       "id": "6b8441e8-459b-4415-aa60-43659641b066"
      }
     }
    },
    "85bded29-4e97-4517-a22d-5fb5abba8274": {
     "id": "85bded29-4e97-4517-a22d-5fb5abba8274",
     "prev": "7926988a-9dc7-4cb6-a70a-b0446fd00ebf",
     "regions": {
      "12f3e173-35b1-47c4-ad2a-7125bf1ad0eb": {
       "attrs": {
        "height": 0.8,
        "width": 0.8,
        "x": 0.1,
        "y": 0.1
       },
       "content": {
        "cell": "a85b34a0-17a9-4714-b28e-0cf97d9dda81",
        "part": "whole"
       },
       "id": "12f3e173-35b1-47c4-ad2a-7125bf1ad0eb"
      }
     }
    },
    "8d7a5cbc-2ff5-44e4-aa04-9c9f7a5d84fe": {
     "id": "8d7a5cbc-2ff5-44e4-aa04-9c9f7a5d84fe",
     "prev": "589d631e-adc0-42f4-9892-04831ae38c05",
     "regions": {
      "5b571f9c-949c-4dcb-8afb-54f62eadc2f1": {
       "attrs": {
        "height": 0.8,
        "width": 0.8,
        "x": 0.1,
        "y": 0.1
       },
       "content": {
        "cell": "e60a8e77-a808-40e7-89d6-9624f71e84c2",
        "part": "whole"
       },
       "id": "5b571f9c-949c-4dcb-8afb-54f62eadc2f1"
      }
     }
    },
    "9431bd03-a922-4c97-81e1-384a941a90da": {
     "id": "9431bd03-a922-4c97-81e1-384a941a90da",
     "prev": "aa539b78-7fea-4b70-88f6-4d09d2006bd6",
     "regions": {
      "874bd972-9ff3-48dd-b928-1e582e158da5": {
       "attrs": {
        "height": 0.8,
        "width": 0.8,
        "x": 0.1,
        "y": 0.1
       },
       "content": {
        "cell": "b02e4829-1bd0-4f13-8819-1127f37b591e",
        "part": "whole"
       },
       "id": "874bd972-9ff3-48dd-b928-1e582e158da5"
      }
     }
    },
    "a2066fd9-99dc-416f-8774-c58f3b4820c2": {
     "id": "a2066fd9-99dc-416f-8774-c58f3b4820c2",
     "prev": "cec24b77-a180-46b1-8863-fb5c2ce41acb",
     "regions": {
      "ba54219d-1261-476b-bde7-d9f1757925e5": {
       "attrs": {
        "height": 0.8,
        "width": 0.8,
        "x": 0.1,
        "y": 0.1
       },
       "content": {
        "cell": "b2c2db43-e0c3-45d6-8346-cf76c4aaa821",
        "part": "whole"
       },
       "id": "ba54219d-1261-476b-bde7-d9f1757925e5"
      }
     }
    },
    "a6d8a12c-87ec-4101-b014-d80d0501e052": {
     "id": "a6d8a12c-87ec-4101-b014-d80d0501e052",
     "prev": "0205e565-ecbe-417d-88ca-35ea95042705",
     "regions": {
      "a767fe54-e390-4b44-a325-142f22f748a5": {
       "attrs": {
        "height": 0.8,
        "width": 0.8,
        "x": 0.1,
        "y": 0.1
       },
       "content": {
        "cell": "38cb38c6-98f0-42da-83c9-ff9c34583470",
        "part": "whole"
       },
       "id": "a767fe54-e390-4b44-a325-142f22f748a5"
      }
     }
    },
    "aa539b78-7fea-4b70-88f6-4d09d2006bd6": {
     "id": "aa539b78-7fea-4b70-88f6-4d09d2006bd6",
     "prev": "efa87823-4807-4a16-807a-dbf2d8c0e697",
     "regions": {
      "52dbb5c5-084f-4d3b-8171-808e90db68bd": {
       "attrs": {
        "height": 0.8,
        "width": 0.8,
        "x": 0.1,
        "y": 0.1
       },
       "content": {
        "cell": "66d60306-6d53-4e5b-b0f6-b3f5837a93d1",
        "part": "whole"
       },
       "id": "52dbb5c5-084f-4d3b-8171-808e90db68bd"
      }
     }
    },
    "cec24b77-a180-46b1-8863-fb5c2ce41acb": {
     "id": "cec24b77-a180-46b1-8863-fb5c2ce41acb",
     "prev": "61ae7c0f-a01b-4dd7-9c83-9107628f2f96",
     "regions": {
      "cc0f4530-1a0a-4520-a706-5cf9b1119226": {
       "attrs": {
        "height": 0.8,
        "width": 0.8,
        "x": 0.1,
        "y": 0.1
       },
       "content": {
        "cell": "62954c43-0e55-4367-b1b5-c25bb52f1059",
        "part": "whole"
       },
       "id": "cc0f4530-1a0a-4520-a706-5cf9b1119226"
      }
     }
    },
    "db35a5e0-0c97-40df-830b-4103dc20ca06": {
     "id": "db35a5e0-0c97-40df-830b-4103dc20ca06",
     "prev": "a6d8a12c-87ec-4101-b014-d80d0501e052",
     "regions": {
      "38ec47cb-8604-4703-9820-da5058eb8268": {
       "attrs": {
        "height": 0.8,
        "width": 0.8,
        "x": 0.1,
        "y": 0.1
       },
       "content": {
        "cell": "19d637ea-f295-4f06-9d4b-24119b15ef3f",
        "part": "whole"
       },
       "id": "38ec47cb-8604-4703-9820-da5058eb8268"
      }
     }
    },
    "e1d7ca29-3138-4dfe-bcee-ca2682fee381": {
     "id": "e1d7ca29-3138-4dfe-bcee-ca2682fee381",
     "prev": "85bded29-4e97-4517-a22d-5fb5abba8274",
     "regions": {
      "0578e9cf-9911-42cd-8e05-a58c874ce62b": {
       "attrs": {
        "height": 0.8,
        "width": 0.8,
        "x": 0.1,
        "y": 0.1
       },
       "content": {
        "cell": "ebb20b41-4f1b-4038-afad-67c438637296",
        "part": "whole"
       },
       "id": "0578e9cf-9911-42cd-8e05-a58c874ce62b"
      }
     }
    },
    "efa87823-4807-4a16-807a-dbf2d8c0e697": {
     "id": "efa87823-4807-4a16-807a-dbf2d8c0e697",
     "prev": "4cd0d817-20b7-4673-91fd-0d763ae7714d",
     "regions": {
      "457dcc38-8ee9-421f-a9a4-fc08738a2e99": {
       "attrs": {
        "height": 0.8,
        "width": 0.8,
        "x": 0.1,
        "y": 0.1
       },
       "content": {
        "cell": "08b7a65d-a30b-4631-b700-e61fae9e01bf",
        "part": "whole"
       },
       "id": "457dcc38-8ee9-421f-a9a4-fc08738a2e99"
      }
     }
    },
    "f424dbdd-47f9-42d7-9338-e7273187f205": {
     "id": "f424dbdd-47f9-42d7-9338-e7273187f205",
     "prev": "8d7a5cbc-2ff5-44e4-aa04-9c9f7a5d84fe",
     "regions": {
      "3b248480-3a33-4367-b4c9-c080b4e0566e": {
       "attrs": {
        "height": 0.8,
        "width": 0.8,
        "x": 0.1,
        "y": 0.1
       },
       "content": {
        "cell": "db415d3c-61af-42db-84af-ae7c07ec34f4",
        "part": "whole"
       },
       "id": "3b248480-3a33-4367-b4c9-c080b4e0566e"
      }
     }
    },
    "fc6b6615-3600-46cd-a072-452fd1a04370": {
     "id": "fc6b6615-3600-46cd-a072-452fd1a04370",
     "prev": "0341d6fd-8aa3-47d9-9c91-9d1792a5f11d",
     "regions": {
      "f7ccb936-8bee-4e1e-bb9b-9457c8cf0427": {
       "attrs": {
        "height": 0.8,
        "width": 0.8,
        "x": 0.1,
        "y": 0.1
       },
       "content": {
        "cell": "76ed761d-5b51-4e1e-838d-1f30bdb201b7",
        "part": "whole"
       },
       "id": "f7ccb936-8bee-4e1e-bb9b-9457c8cf0427"
      }
     }
    }
   },
   "themes": {}
  }
 },
 "nbformat": 4,
 "nbformat_minor": 2
}
