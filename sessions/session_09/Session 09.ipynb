{
 "cells": [
  {
   "cell_type": "markdown",
   "metadata": {
    "nbpresent": {
     "id": "33405e17-60a9-463c-8894-df5bd5e7659c"
    },
    "slideshow": {
     "slide_type": "slide"
    }
   },
   "source": [
    "# Web Application Security\n",
    "\n",
    "Feedback Form: https://forms.gle/j5AGrL54NTxRYmFF7\n",
    "\n"
   ]
  },
  {
   "cell_type": "markdown",
   "metadata": {
    "nbpresent": {
     "id": "c3424e6f-ceeb-4f3f-bf20-e288b3131d62"
    },
    "slideshow": {
     "slide_type": "subslide"
    }
   },
   "source": [
    "## Plan for the day\n",
    "\n",
    "* Logging: How is it going? \n",
    "* The Big Picture: Web Application Security\n",
    "* Topic: Prevention\n",
    "* (Mini-)Topic: Detection\n",
    "* Assignment\n",
    "* Group Presentation: ?\n",
    "   "
   ]
  },
  {
   "cell_type": "markdown",
   "metadata": {
    "slideshow": {
     "slide_type": "subslide"
    }
   },
   "source": [
    "## Logging\n",
    "\n",
    "* How are the teams doing?\n",
    "  - how do the logs look like?\n",
    "    - what stack are you using?\n",
    "    - what do you log? (app, os, ?)\n",
    "    - do you log errors? (see Sentry)\n",
    "  - were there problems?\n",
    "  - what did you learn?  \n",
    "* We'll come back to logging later today...\n",
    "   "
   ]
  },
  {
   "cell_type": "markdown",
   "metadata": {
    "nbpresent": {
     "id": "3ac31121-2dac-4379-8be9-ea6bd27f5fcc"
    },
    "slideshow": {
     "slide_type": "slide"
    }
   },
   "source": [
    "# Being A Professional = ... \n",
    "\n",
    "My uncle asking: why are there so many people working on at Google? That webpage is quite straightforward. \n",
    "\n",
    "My friend working at Google: I was upgraded from engineer to SRE. It is one of the most important roles...\n",
    "\n",
    "    The SRE role of today combines the skills of the developer responsible for writing applications and the skills that operations engineers use to deploy those applications. The SRE moves an application from proof of concept, to quality control, and then to deployment – automating that entire process and giving it consistency.\n",
    "\n",
    "2nd year students can already implement a Facebook Clone...\n",
    "\n",
    "So what makes the difference? \n",
    "\n",
    "\n",
    "_ \n",
    "\n",
    "Read More:\n",
    "\n",
    "- What is a SRE? \n",
    " - https://opensource.com/article/18/10/what-site-reliability-engineer\n",
    " - https://www.csoonline.com/article/3244925/on-cybersecurity-and-it-teams-of-the-future-we-will-all-be-sres.html\n",
    "- SRE as an approach to DevOps:   \n",
    " - https://en.wikipedia.org/wiki/Site_Reliability_Engineering\n",
    " - Post-mortems\n",
    "\n",
    "\n"
   ]
  },
  {
   "cell_type": "markdown",
   "metadata": {
    "slideshow": {
     "slide_type": "slide"
    }
   },
   "source": [
    "# Being A Professional = Building Dependable Systems\n",
    "\n",
    "\n",
    "<img src=\"images/dependable.png\" alt=\"Drawing\" style=\"width: 200px;\"/>\n",
    "\n",
    "Sommerville defines dependability as: \n",
    "- reliability \n",
    "- **security <- today **\n",
    "- safety   \n",
    "- availability  <- next time we talk\n",
    "\n",
    "E.g. Mr. Wolf in Pulp Fiction :)\n",
    "\n"
   ]
  },
  {
   "cell_type": "markdown",
   "metadata": {
    "nbpresent": {
     "id": "e60a8e77-a808-40e7-89d6-9624f71e84c2"
    },
    "slideshow": {
     "slide_type": "slide"
    }
   },
   "source": [
    "# \"Information... wants to be free...\n",
    "\n",
    "    ...Information also wants to be expensive. \n",
    "    That tension will not go away\" \n",
    "    \n",
    "            (Steward Brand, The Media Lab: Inventing the Future at MIT)\n",
    "\n",
    "\n",
    "<img src=\"https://images-na.ssl-images-amazon.com/images/I/51FbpAQFVPL.jpg\" alt=\"Drawing\" style=\"width: 200px;\"/>\n",
    "\n",
    "\n",
    "- history of early days in computing, excitement about basics (reminder not to take things for granted)\n",
    "- one other interesting question: \"can you map the flow of information\"?\n",
    "\n",
    "More Stewart Brand: http://longnow.org/"
   ]
  },
  {
   "cell_type": "markdown",
   "metadata": {
    "nbpresent": {
     "id": "db415d3c-61af-42db-84af-ae7c07ec34f4"
    },
    "slideshow": {
     "slide_type": "slide"
    }
   },
   "source": [
    "# Security: Preventing Information from Getting in the Wrong Hands\n",
    "\n",
    "\n",
    "> ( Computer | cyber | IT ) security is ...\n",
    "\n",
    ">  ... the protection of computer systems and networks from the theft of or damage to their hardware, software, or  data, as well as from the disruption or misdirection of the services they provide. [1]\n",
    "\n",
    "\n",
    "[1] https://commons.erau.edu/cgi/viewcontent.cgi?article=1476&context=jdfsl \n"
   ]
  },
  {
   "cell_type": "markdown",
   "metadata": {
    "nbpresent": {
     "id": "d81ef71b-375c-4c5f-be48-2f72979724cd"
    },
    "slideshow": {
     "slide_type": "subslide"
    }
   },
   "source": [
    "## Why do we need a proactive and systematic approach?\n",
    "\n",
    "- The most common way to discover security failures is when a security incident happens \n",
    "\n",
    "- Average time until people found out they were hacked: half a year! [1]\n",
    "\n",
    "- By this time, it is often too late, and damage has been done. \n",
    "\n",
    "\n",
    "*Story*: Russian vs. Brazilian hackers.\n",
    "\n",
    "\n",
    "[1] 2017 Cost of Data Breach Study by IBM -  https://www.ibm.com/downloads/cas/ZYKLN2E3\n",
    "\n"
   ]
  },
  {
   "cell_type": "markdown",
   "metadata": {
    "slideshow": {
     "slide_type": "subslide"
    }
   },
   "source": [
    "# Attacker Types\n",
    "\n",
    "* Black Hat - bad guys in the western movies\n",
    "\n",
    "* White hat - ethical hackers, working with orgs to strengthen security\n",
    "\n",
    "* Grey Hat - not malicious, usually notify you that they hacked you\n",
    "\n",
    "* Script Kiddies - \n",
    "\n",
    "* ...\n",
    "\n",
    "What differentiates them: intent & capability...\n"
   ]
  },
  {
   "cell_type": "markdown",
   "metadata": {
    "nbpresent": {
     "id": "d994c5a5-39a0-4af6-bae1-3cdf207ef160"
    },
    "slideshow": {
     "slide_type": "subslide"
    }
   },
   "source": [
    "## Threat = Triplet\n",
    "\n",
    "1 Intent (can guess)\n",
    "\n",
    "2 Capability (can't change)\n",
    "\n",
    "3 Opportunity **(our focus!)**\n"
   ]
  },
  {
   "cell_type": "markdown",
   "metadata": {
    "slideshow": {
     "slide_type": "subslide"
    }
   },
   "source": [
    "# Learning from the \"Intelligence Field\"\n",
    "\n",
    "- Collect (What are your assets? What is worth protecting?)\n",
    "- Analyse ... the adversary and opportunities\n",
    "- Process (**What are the *risks*? Which should be addressed?**)\n",
    "- Disseminate (Implement mitigations)"
   ]
  },
  {
   "cell_type": "markdown",
   "metadata": {
    "nbpresent": {
     "id": "43ad8244-7420-4502-acf5-819639d19107"
    },
    "slideshow": {
     "slide_type": "subslide"
    }
   },
   "source": [
    "## How do we assess risk? \n",
    "\n",
    "Risk Matrices\n",
    "\n",
    "- Severity: Negligible, Marginal, Critical, Catastrophic\n",
    "- Likelihood: Certain, Likely, Possible, ...\n",
    "\n",
    "<img src=\"images/matrix.png\" alt=\"Drawing\" style=\"width: 300px;\"/>\n",
    "\n",
    "\n",
    "\n"
   ]
  },
  {
   "cell_type": "markdown",
   "metadata": {
    "nbpresent": {
     "id": "fb13f410-3b86-453f-9385-555990e75193"
    },
    "slideshow": {
     "slide_type": "subslide"
    }
   },
   "source": [
    "# Other Approaches \n",
    "\n",
    "\n",
    "The Pyramid of Pain\n",
    "- the higher on the pyramid you go, the more pain you inflict on the attacker\n",
    "- Original Article: https://detect-respond.blogspot.com/2013/03/the-pyramid-of-pain.html\n",
    "\n",
    "Intrussion Kill Chain (Detect, Deny, Disrupt, Degrade, Deceive)\n",
    "- originated in military\n",
    "- adapted for Infosec by Lockheed Martin\n",
    "- model the attack as a chain of steps\n",
    "\n"
   ]
  },
  {
   "cell_type": "markdown",
   "metadata": {
    "nbpresent": {
     "id": "a85b34a0-17a9-4714-b28e-0cf97d9dda81"
    },
    "slideshow": {
     "slide_type": "subslide"
    }
   },
   "source": [
    "## Pen testing (Penetration Testing)\n",
    "\n",
    "> \"blue teams always need red teams to test them against each other\"\n",
    "\n",
    "- testing of security\n",
    "- simulate attacks on your system\n",
    "- requires you to know potential vulnerabilities\n",
    "\n"
   ]
  },
  {
   "cell_type": "markdown",
   "metadata": {
    "nbpresent": {
     "id": "ebb20b41-4f1b-4038-afad-67c438637296"
    },
    "slideshow": {
     "slide_type": "subslide"
    }
   },
   "source": [
    "## Potential Vulnerabilities List: OWASP\n",
    "\n",
    "Open Web Application Security Project\n",
    "\n",
    "**OWASP Top 10** Include:\n",
    "- Injection\n",
    "- Broken Authentication\n",
    "- Broken Access Control\n",
    "- Cross-Site Scripting\n",
    "- Insufficient Logging & Monitoring (<- how are you doing?)\n",
    "\n",
    "Full list is online: https://owasp.org/www-project-top-ten/\n",
    "\n",
    "See also: \n",
    "- Same Origin Policy (long but good video) https://www.youtube.com/watch?v=zul8TtVS-64\n",
    "- XSS explained nicely: https://portswigger.net/web-security/cross-site-scripting"
   ]
  },
  {
   "cell_type": "markdown",
   "metadata": {
    "slideshow": {
     "slide_type": "subslide"
    }
   },
   "source": [
    "## OWASP Top #10: Insufficient Logging and Monitoring\n",
    "\n",
    "> This issue is included in the Top 10 based on an industry survey. One strategy for determining if you have sufficient monitoring is to **examine the logs following penetration testing**. The testers’ actions should be recorded sufficiently to understand what damages they may have inflicted.\n",
    "\n",
    "Your assignment pretty much! \n"
   ]
  },
  {
   "cell_type": "markdown",
   "metadata": {
    "slideshow": {
     "slide_type": "subslide"
    }
   },
   "source": [
    "## Insufficient Logging and Monitoring: When...\n",
    "\n",
    "- Auditable events are not logged\n",
    "  - e.g. logins, failed logins, and high-value transactions\n",
    "- Warnings and errors generate no log messages\n",
    "  - (or inadequate, or unclear)\n",
    "- You're not looking at the logs!\n",
    "- The application is unable to detect, escalate, or alert for active attacks in real time or near real time.\n",
    "\n",
    "Source: [OWASP Top 10: Insufficient Logging and Monitoring](https://owasp.org/www-project-top-ten/OWASP_Top_Ten_2017/Top_10-2017_A10-Insufficient_Logging%252526Monitoring)\n",
    "\n",
    "Logging Cheatsheet from OWASP: https://cheatsheetseries.owasp.org/cheatsheets/Logging_Cheat_Sheet.html"
   ]
  },
  {
   "cell_type": "markdown",
   "metadata": {
    "nbpresent": {
     "id": "66d60306-6d53-4e5b-b0f6-b3f5837a93d1"
    },
    "slideshow": {
     "slide_type": "subslide"
    }
   },
   "source": [
    "## Pen Testing Toolbox\n",
    "\n",
    "Kali Linux\n",
    "- security focused distro\n",
    "- contains a very large set of tools (https://tools.kali.org/tools-listing)\n",
    "- can be installed in meta-packages (https://www.kali.org/news/kali-linux-metapackages/)"
   ]
  },
  {
   "cell_type": "markdown",
   "metadata": {
    "slideshow": {
     "slide_type": "subslide"
    }
   },
   "source": [
    "## Trying Out Kali Linux in Docker\n",
    "\n",
    "Give it a try: \n",
    "\n",
    "```\n",
    "~$ docker pull kalilinux/kali\n",
    "~$ docker run -t -i kalilinux/kali /bin/bash\n",
    "root@a218cf999462:/# apt-get update \n",
    "\n",
    "```\n",
    "\n",
    "Then you can install meta-packages: \n",
    "\n",
    "    root@a218cf999462:/# apt-get install kali-linux-web\n",
    "\n",
    "(ten minutes on a 2017 mac )\n",
    "\n",
    "~ \n",
    "\n",
    "Or install individual tool on Kali: \n",
    "\n",
    "    root@a218cf999462:/# apt-get install metasploit-framework\n",
    "    \n",
    "(several minutes later...)\n",
    "\n"
   ]
  },
  {
   "cell_type": "markdown",
   "metadata": {
    "nbpresent": {
     "id": "4233e795-70c7-4565-b78d-98cedff45e7d"
    },
    "slideshow": {
     "slide_type": "subslide"
    }
   },
   "source": [
    "## Tool: Metasploit\n",
    "\n",
    "- ruby-based framework for vulnerability scanning\n",
    "- very popular\n",
    "- lots of plugings\n",
    "\n",
    "Starting metasploit\n",
    "\n",
    "    service postgresql start\n",
    "    msfdb reinit # if this is the first time you are running metasploit\n",
    "    msfconsole\n",
    "\n",
    "More: https://github.com/rapid7/metasploit-framework\n",
    "\n",
    "A lot: https://books.google.dk/books?id=EOlODwAAQBAJ"
   ]
  },
  {
   "cell_type": "markdown",
   "metadata": {
    "slideshow": {
     "slide_type": "subslide"
    }
   },
   "source": [
    "## Example: interaction with the wmap plugin [1]\n",
    "    \n",
    "    \n",
    "    load wmap\n",
    "    wmap_sites -a https://elysiumpro.in/\n",
    "    wmap_sites -l\n",
    "    wmap_targets -t 35.227.145.165\n",
    "    wmap_run -t\n",
    "    wmap_run -e\n",
    "    vulns\n",
    "\n",
    "Notes:\n",
    "- The thing freezes for me and the way to fix it was to remove some of the offending modules, e.g. \n",
    "\n",
    "```\n",
    "    mv /usr/share/metasploit-framework/modules/auxiliary/scanner/http/brute_dirs.rb /usr/share/metasploit-framework/modules/auxiliary/scanner/http/brute_dirs.rb.bak ```\n",
    "\n",
    "\n",
    "[1] https://www.offensive-security.com/metasploit-unleashed/wmap-web-scanner/\n",
    "\n",
    "More: https://github.com/rapid7/metasploit-framework"
   ]
  },
  {
   "cell_type": "markdown",
   "metadata": {
    "nbpresent": {
     "id": "19d637ea-f295-4f06-9d4b-24119b15ef3f"
    },
    "slideshow": {
     "slide_type": "subslide"
    }
   },
   "source": [
    "## More Tools\n",
    "\n",
    "Desktop Apps: \n",
    "- OWASP ZAP (https://www.zaproxy.org/getting-started/)\n",
    "  - Documentation: https://www.zaproxy.org/docs/api/#introduction\n",
    "- OWASP OWTF (broken for me)\n",
    "\n",
    "Online Services: \n",
    "- Detectify (https://detectify.com/)\n",
    "- Mozilla Observatory (https://observatory.mozilla.org/)\n",
    "\n"
   ]
  },
  {
   "cell_type": "markdown",
   "metadata": {
    "nbpresent": {
     "id": "62954c43-0e55-4367-b1b5-c25bb52f1059"
    },
    "slideshow": {
     "slide_type": "slide"
    }
   },
   "source": [
    "-----------\n",
    "\n",
    "\n",
    "# For Your Projects\n",
    "\n",
    "<img src=\"https://media.giphy.com/media/13GIgrGdslD9oQ/giphy.gif\" width=20%/>\n",
    "\n",
    "\n",
    "1. Start Monitoring Each Others SLA\n",
    "2. Pen Test Your System\n",
    "3. Attack Your Monitored Team\n",
    "\n",
    " \n"
   ]
  },
  {
   "cell_type": "markdown",
   "metadata": {
    "slideshow": {
     "slide_type": "slide"
    }
   },
   "source": [
    "-----------\n",
    "\n",
    "\n",
    "# 1. Start Monitoring Each Others SLA\n",
    "\n",
    "\n",
    "  - Send the SLA to your monitoring team **(before the end of today!)**\n",
    "   - Include a clause on upper bound on reaction time if you don't have one\n",
    "  - Monitoring team starts monitoring your system\n",
    "  - At a later point, introduce an artificial problem in your service that they should be able to detect; once they report it to you, you can remove it\n",
    "\n",
    "**Who Monitors Whom?**\n",
    "- The one after you in the list based on https://github.com/itu-devops/2020-spring/blob/master/repositories.py \n",
    "- e.g. a monitors b\n",
    "- group l monitors group a.\n",
    "\n",
    "\n",
    "    \n"
   ]
  },
  {
   "cell_type": "markdown",
   "metadata": {
    "slideshow": {
     "slide_type": "slide"
    }
   },
   "source": [
    "\n",
    "# 2. Pen Test Your System\n",
    "\n",
    "\n",
    "\n",
    "  3. Define your assets\n",
    "  4. Create a risk matrix for your project\n",
    "  5. Pen test your system: \n",
    "    - Try to find a vulnerability in your projec\n",
    "    - Run a tool or take one of the OWASP Top 10\n",
    "    - Fix the vulnerability\n",
    "    \n",
    "\n",
    "    \n"
   ]
  },
  {
   "cell_type": "markdown",
   "metadata": {
    "slideshow": {
     "slide_type": "slide"
    }
   },
   "source": [
    "\n",
    "# 3. Test the Security of Your Monitored Team\n",
    "\n",
    "\n",
    "  1. Play a White Hat role (test to help !)\n",
    "  2. As the attacked team: try to find the attack in the logs\n"
   ]
  },
  {
   "cell_type": "markdown",
   "metadata": {
    "slideshow": {
     "slide_type": "slide"
    }
   },
   "source": [
    "\n",
    "# Hand In\n",
    "\n",
    "- Thursday, April 15: 23:59:55 \n",
    "- Report containing the above\n"
   ]
  }
 ],
 "metadata": {
  "anaconda-cloud": {},
  "celltoolbar": "Slideshow",
  "kernelspec": {
   "display_name": "Python [default]",
   "language": "python",
   "name": "python3"
  },
  "language_info": {
   "codemirror_mode": {
    "name": "ipython",
    "version": 3
   },
   "file_extension": ".py",
   "mimetype": "text/x-python",
   "name": "python",
   "nbconvert_exporter": "python",
   "pygments_lexer": "ipython3",
   "version": "3.5.2"
  },
  "nbpresent": {
   "slides": {
    "0111ab67-c4a8-4adf-9cc2-0cdab0bfa161": {
     "id": "0111ab67-c4a8-4adf-9cc2-0cdab0bfa161",
     "prev": "73e6fbc0-bc51-47e0-a7b4-3933027e7b66",
     "regions": {
      "e564210e-0541-448a-b558-9946bcdcf23b": {
       "attrs": {
        "height": 0.8,
        "width": 0.8,
        "x": 0.1,
        "y": 0.1
       },
       "content": {
        "cell": "d81ef71b-375c-4c5f-be48-2f72979724cd",
        "part": "whole"
       },
       "id": "e564210e-0541-448a-b558-9946bcdcf23b"
      }
     }
    },
    "05738737-64ce-408a-b774-df52d58ef047": {
     "id": "05738737-64ce-408a-b774-df52d58ef047",
     "prev": "95046ce3-11c1-405f-960d-0a09223b6c96",
     "regions": {
      "d6e54876-7103-4727-b3dd-d0b649ca68e2": {
       "attrs": {
        "height": 0.8,
        "width": 0.8,
        "x": 0.1,
        "y": 0.1
       },
       "content": {
        "cell": "ed435474-64a2-4bdc-84fc-0114d4ba8ba1",
        "part": "whole"
       },
       "id": "d6e54876-7103-4727-b3dd-d0b649ca68e2"
      }
     }
    },
    "10ef49d2-76cc-4bc5-9a5a-708755f2206a": {
     "id": "10ef49d2-76cc-4bc5-9a5a-708755f2206a",
     "prev": "dc9a7716-af26-42fe-8a6c-943e1d3a7449",
     "regions": {
      "e261347d-80ea-4e35-ba90-6dce716d5b90": {
       "attrs": {
        "height": 0.8,
        "width": 0.8,
        "x": 0.1,
        "y": 0.1
       },
       "content": {
        "cell": "ce7c0206-87b8-44ce-b8ae-5cb367f55936",
        "part": "whole"
       },
       "id": "e261347d-80ea-4e35-ba90-6dce716d5b90"
      }
     }
    },
    "13e2a881-7dac-463b-9da8-439ae17977ab": {
     "id": "13e2a881-7dac-463b-9da8-439ae17977ab",
     "prev": null,
     "regions": {
      "c3ca653b-df9d-4a84-b26e-2d2597a879ef": {
       "attrs": {
        "height": 0.8,
        "width": 0.8,
        "x": 0.1,
        "y": 0.1
       },
       "content": {
        "cell": "33405e17-60a9-463c-8894-df5bd5e7659c",
        "part": "whole"
       },
       "id": "c3ca653b-df9d-4a84-b26e-2d2597a879ef"
      }
     }
    },
    "14ba5d89-dad4-49ba-8de2-08a8e454a938": {
     "id": "14ba5d89-dad4-49ba-8de2-08a8e454a938",
     "prev": "d84218e1-0c84-4ef6-9b1b-0940942291ba",
     "regions": {
      "427fe199-16ab-44a5-bbf5-c8648601ebf1": {
       "attrs": {
        "height": 0.8,
        "width": 0.8,
        "x": 0.1,
        "y": 0.1
       },
       "content": {
        "cell": "fa591adc-5f59-4363-b8d6-303810e3e11f",
        "part": "whole"
       },
       "id": "427fe199-16ab-44a5-bbf5-c8648601ebf1"
      }
     }
    },
    "1878a404-efe2-4143-afc9-3980e10ad7b5": {
     "id": "1878a404-efe2-4143-afc9-3980e10ad7b5",
     "prev": "13e2a881-7dac-463b-9da8-439ae17977ab",
     "regions": {
      "3340923e-428a-41f6-ad22-e321004f2c13": {
       "attrs": {
        "height": 0.8,
        "width": 0.8,
        "x": 0.1,
        "y": 0.1
       },
       "content": {
        "cell": "c3424e6f-ceeb-4f3f-bf20-e288b3131d62",
        "part": "whole"
       },
       "id": "3340923e-428a-41f6-ad22-e321004f2c13"
      }
     }
    },
    "18fc11da-d162-465f-a6d2-05b52caf9450": {
     "id": "18fc11da-d162-465f-a6d2-05b52caf9450",
     "prev": "1878a404-efe2-4143-afc9-3980e10ad7b5",
     "regions": {
      "8cf2694d-3cb5-47a3-9555-0d06b09ac56d": {
       "attrs": {
        "height": 0.8,
        "width": 0.8,
        "x": 0.1,
        "y": 0.1
       },
       "content": {
        "cell": "3ac31121-2dac-4379-8be9-ea6bd27f5fcc",
        "part": "whole"
       },
       "id": "8cf2694d-3cb5-47a3-9555-0d06b09ac56d"
      }
     }
    },
    "2793da61-cff7-4fa2-8e2f-1d19819f8a7c": {
     "id": "2793da61-cff7-4fa2-8e2f-1d19819f8a7c",
     "prev": "52b7804a-b8e5-48fd-bb82-bd4a1b584e4d",
     "regions": {
      "441c53f1-c1f4-4682-878d-62b149c817f3": {
       "attrs": {
        "height": 0.8,
        "width": 0.8,
        "x": 0.1,
        "y": 0.1
       },
       "content": {
        "cell": "3f853b3c-4da6-4ac4-8163-20c780711b29",
        "part": "whole"
       },
       "id": "441c53f1-c1f4-4682-878d-62b149c817f3"
      }
     }
    },
    "33abc09a-09e2-44f3-924f-f381b913a8c1": {
     "id": "33abc09a-09e2-44f3-924f-f381b913a8c1",
     "prev": "458dafb9-8c8c-49b1-8403-2315f70f00f8",
     "regions": {
      "7fcfd932-fefd-405d-a372-0ff34fc759c8": {
       "attrs": {
        "height": 0.8,
        "width": 0.8,
        "x": 0.1,
        "y": 0.1
       },
       "content": {
        "cell": "8a36655c-fe62-4a2c-8ec9-518ae5db7e0a",
        "part": "whole"
       },
       "id": "7fcfd932-fefd-405d-a372-0ff34fc759c8"
      }
     }
    },
    "34c3a0fa-705a-4be6-bfed-19cf9435736c": {
     "id": "34c3a0fa-705a-4be6-bfed-19cf9435736c",
     "prev": "d6a4f1a0-68e4-4d34-9177-c53d71bb4078",
     "regions": {
      "17a0cd39-b6b0-4192-aa36-6a8281b9deba": {
       "attrs": {
        "height": 0.8,
        "width": 0.8,
        "x": 0.1,
        "y": 0.1
       },
       "content": {
        "cell": "b0109f16-6d96-4294-bd8c-2788ad1cbc77",
        "part": "whole"
       },
       "id": "17a0cd39-b6b0-4192-aa36-6a8281b9deba"
      }
     }
    },
    "35b833c7-83fa-419e-820b-05e000907bf9": {
     "id": "35b833c7-83fa-419e-820b-05e000907bf9",
     "prev": "e1287d54-ce0b-49a9-b44b-4b1a3f1353ce",
     "regions": {
      "d686048a-1d01-47db-bc31-3d40846a4d4b": {
       "attrs": {
        "height": 0.8,
        "width": 0.8,
        "x": 0.1,
        "y": 0.1
       },
       "content": {
        "cell": "ebb20b41-4f1b-4038-afad-67c438637296",
        "part": "whole"
       },
       "id": "d686048a-1d01-47db-bc31-3d40846a4d4b"
      }
     }
    },
    "35d004b3-5011-4a46-8ca6-349d2af56e01": {
     "id": "35d004b3-5011-4a46-8ca6-349d2af56e01",
     "prev": "ee9275da-66c4-4284-bf5c-ec435f7590cf",
     "regions": {
      "1561856e-35e0-418a-86ed-f72857847826": {
       "attrs": {
        "height": 0.8,
        "width": 0.8,
        "x": 0.1,
        "y": 0.1
       },
       "content": {
        "cell": "d1edacfc-15e7-4f6d-a093-0cd1fec43072",
        "part": "whole"
       },
       "id": "1561856e-35e0-418a-86ed-f72857847826"
      }
     }
    },
    "3ec7b08b-3262-4beb-aba1-e82668ed293e": {
     "id": "3ec7b08b-3262-4beb-aba1-e82668ed293e",
     "prev": "0111ab67-c4a8-4adf-9cc2-0cdab0bfa161",
     "regions": {
      "4555d71c-60b7-4316-ad9e-394aec3171f2": {
       "attrs": {
        "height": 0.8,
        "width": 0.8,
        "x": 0.1,
        "y": 0.1
       },
       "content": {
        "cell": "96444b38-e0e8-438e-a994-2164ccc090a6",
        "part": "whole"
       },
       "id": "4555d71c-60b7-4316-ad9e-394aec3171f2"
      }
     }
    },
    "458dafb9-8c8c-49b1-8403-2315f70f00f8": {
     "id": "458dafb9-8c8c-49b1-8403-2315f70f00f8",
     "prev": "fce8c05b-dc6f-4df6-aa1a-6843b8cc6a0c",
     "regions": {
      "67abd4b8-3926-4169-ace7-874012f3516e": {
       "attrs": {
        "height": 0.8,
        "width": 0.8,
        "x": 0.1,
        "y": 0.1
       },
       "content": {
        "cell": "0e2713a4-e747-449f-a2bb-8f52b3fd02dd",
        "part": "whole"
       },
       "id": "67abd4b8-3926-4169-ace7-874012f3516e"
      }
     }
    },
    "4c5773be-956d-4266-a7fa-cff548eaa653": {
     "id": "4c5773be-956d-4266-a7fa-cff548eaa653",
     "prev": "6b1e155a-05a4-445e-a31c-58a979d7dae7",
     "regions": {
      "f2e6554e-b9ad-4964-953a-55a293b0d67f": {
       "attrs": {
        "height": 0.8,
        "width": 0.8,
        "x": 0.1,
        "y": 0.1
       },
       "content": {
        "cell": "280be136-7df7-421f-9a70-917afae12ac6",
        "part": "whole"
       },
       "id": "f2e6554e-b9ad-4964-953a-55a293b0d67f"
      }
     }
    },
    "52b7804a-b8e5-48fd-bb82-bd4a1b584e4d": {
     "id": "52b7804a-b8e5-48fd-bb82-bd4a1b584e4d",
     "prev": "4c5773be-956d-4266-a7fa-cff548eaa653",
     "regions": {
      "97efbdd9-044d-45a7-8a3e-abeeb0e4d70e": {
       "attrs": {
        "height": 0.8,
        "width": 0.8,
        "x": 0.1,
        "y": 0.1
       },
       "content": {
        "cell": "9945ed97-b8b8-46c6-9396-2b60708a2bb2",
        "part": "whole"
       },
       "id": "97efbdd9-044d-45a7-8a3e-abeeb0e4d70e"
      }
     }
    },
    "5ce048be-76ee-4f44-8a8c-3f609a52dd54": {
     "id": "5ce048be-76ee-4f44-8a8c-3f609a52dd54",
     "prev": "703cda36-95df-4363-8149-3a386abcf7fd",
     "regions": {
      "f4d30ec5-f748-4201-ba9b-ebc92dfeb3d0": {
       "attrs": {
        "height": 0.8,
        "width": 0.8,
        "x": 0.1,
        "y": 0.1
       },
       "content": {
        "cell": "19d637ea-f295-4f06-9d4b-24119b15ef3f",
        "part": "whole"
       },
       "id": "f4d30ec5-f748-4201-ba9b-ebc92dfeb3d0"
      }
     }
    },
    "69cbb160-a2b1-4c91-ada8-2ecc2f60b2c2": {
     "id": "69cbb160-a2b1-4c91-ada8-2ecc2f60b2c2",
     "prev": "14ba5d89-dad4-49ba-8de2-08a8e454a938",
     "regions": {
      "4d031152-4809-405f-a3fe-96840b32a12e": {
       "attrs": {
        "height": 0.8,
        "width": 0.8,
        "x": 0.1,
        "y": 0.1
       },
       "content": {
        "cell": "43ad8244-7420-4502-acf5-819639d19107",
        "part": "whole"
       },
       "id": "4d031152-4809-405f-a3fe-96840b32a12e"
      }
     }
    },
    "6b1e155a-05a4-445e-a31c-58a979d7dae7": {
     "id": "6b1e155a-05a4-445e-a31c-58a979d7dae7",
     "prev": "5ce048be-76ee-4f44-8a8c-3f609a52dd54",
     "regions": {
      "0b60d441-167d-4cef-84fa-33739619adcd": {
       "attrs": {
        "height": 0.8,
        "width": 0.8,
        "x": 0.1,
        "y": 0.1
       },
       "content": {
        "cell": "9e5dc26d-8ec5-4a2b-b044-64ceefbd0cce",
        "part": "whole"
       },
       "id": "0b60d441-167d-4cef-84fa-33739619adcd"
      }
     }
    },
    "703cda36-95df-4363-8149-3a386abcf7fd": {
     "id": "703cda36-95df-4363-8149-3a386abcf7fd",
     "prev": "35d004b3-5011-4a46-8ca6-349d2af56e01",
     "regions": {
      "5cf653af-d8a7-44a7-9fac-cb030ca190c5": {
       "attrs": {
        "height": 0.8,
        "width": 0.8,
        "x": 0.1,
        "y": 0.1
       },
       "content": {
        "cell": "869f7018-8829-4ca3-9842-6f637abddd8d",
        "part": "whole"
       },
       "id": "5cf653af-d8a7-44a7-9fac-cb030ca190c5"
      }
     }
    },
    "707519ee-3038-4cdf-bb06-90675793963e": {
     "id": "707519ee-3038-4cdf-bb06-90675793963e",
     "prev": "34c3a0fa-705a-4be6-bfed-19cf9435736c",
     "regions": {
      "7a13bdf6-4def-4aa5-a480-48ddff75e3ae": {
       "attrs": {
        "height": 0.8,
        "width": 0.8,
        "x": 0.1,
        "y": 0.1
       },
       "content": {
        "cell": "848db0b0-35e4-4418-84f8-185567386d14",
        "part": "whole"
       },
       "id": "7a13bdf6-4def-4aa5-a480-48ddff75e3ae"
      }
     }
    },
    "73e6fbc0-bc51-47e0-a7b4-3933027e7b66": {
     "id": "73e6fbc0-bc51-47e0-a7b4-3933027e7b66",
     "prev": "96210532-de58-4b47-b879-ca750f1af13f",
     "regions": {
      "94372604-dbd2-46d9-8a39-812869d418ff": {
       "attrs": {
        "height": 0.8,
        "width": 0.8,
        "x": 0.1,
        "y": 0.1
       },
       "content": {
        "cell": "db415d3c-61af-42db-84af-ae7c07ec34f4",
        "part": "whole"
       },
       "id": "94372604-dbd2-46d9-8a39-812869d418ff"
      }
     }
    },
    "95046ce3-11c1-405f-960d-0a09223b6c96": {
     "id": "95046ce3-11c1-405f-960d-0a09223b6c96",
     "prev": "2793da61-cff7-4fa2-8e2f-1d19819f8a7c",
     "regions": {
      "c48b03b2-adc5-4412-a15f-d0fd0d240a5e": {
       "attrs": {
        "height": 0.8,
        "width": 0.8,
        "x": 0.1,
        "y": 0.1
       },
       "content": {
        "cell": "62954c43-0e55-4367-b1b5-c25bb52f1059",
        "part": "whole"
       },
       "id": "c48b03b2-adc5-4412-a15f-d0fd0d240a5e"
      }
     }
    },
    "96210532-de58-4b47-b879-ca750f1af13f": {
     "id": "96210532-de58-4b47-b879-ca750f1af13f",
     "prev": "18fc11da-d162-465f-a6d2-05b52caf9450",
     "regions": {
      "64cc3b4a-055c-4e06-bee1-381a02791685": {
       "attrs": {
        "height": 0.8,
        "width": 0.8,
        "x": 0.1,
        "y": 0.1
       },
       "content": {
        "cell": "e60a8e77-a808-40e7-89d6-9624f71e84c2",
        "part": "whole"
       },
       "id": "64cc3b4a-055c-4e06-bee1-381a02791685"
      }
     }
    },
    "a3328dfb-ed4d-4af5-b489-c2268cd1c0c8": {
     "id": "a3328dfb-ed4d-4af5-b489-c2268cd1c0c8",
     "prev": "fd3f1080-c4ca-49f7-9898-2b15d5e14439",
     "regions": {
      "c5b1dbb7-ca32-4f56-ab34-ac6ae1514744": {
       "attrs": {
        "height": 0.8,
        "width": 0.8,
        "x": 0.1,
        "y": 0.1
       },
       "content": {
        "cell": "e179219c-8e0b-4f6d-86c4-33d977300238",
        "part": "whole"
       },
       "id": "c5b1dbb7-ca32-4f56-ab34-ac6ae1514744"
      }
     }
    },
    "ce5ada58-2723-4707-b139-72179f011707": {
     "id": "ce5ada58-2723-4707-b139-72179f011707",
     "prev": "69cbb160-a2b1-4c91-ada8-2ecc2f60b2c2",
     "regions": {
      "0f802a0d-1fbe-4c5c-a548-5fe4f0af4fb1": {
       "attrs": {
        "height": 0.8,
        "width": 0.8,
        "x": 0.1,
        "y": 0.1
       },
       "content": {
        "cell": "fb13f410-3b86-453f-9385-555990e75193",
        "part": "whole"
       },
       "id": "0f802a0d-1fbe-4c5c-a548-5fe4f0af4fb1"
      }
     }
    },
    "d6a4f1a0-68e4-4d34-9177-c53d71bb4078": {
     "id": "d6a4f1a0-68e4-4d34-9177-c53d71bb4078",
     "prev": "33abc09a-09e2-44f3-924f-f381b913a8c1",
     "regions": {
      "907af924-d9d7-45a1-b271-1046f260235a": {
       "attrs": {
        "height": 0.8,
        "width": 0.8,
        "x": 0.1,
        "y": 0.1
       },
       "content": {
        "cell": "0fc45d3d-c24d-47f9-8569-127266d13d56",
        "part": "whole"
       },
       "id": "907af924-d9d7-45a1-b271-1046f260235a"
      }
     }
    },
    "d84218e1-0c84-4ef6-9b1b-0940942291ba": {
     "id": "d84218e1-0c84-4ef6-9b1b-0940942291ba",
     "prev": "a3328dfb-ed4d-4af5-b489-c2268cd1c0c8",
     "regions": {
      "a3c5ff2c-5a11-4c79-bbb1-d5b39331657c": {
       "attrs": {
        "height": 0.8,
        "width": 0.8,
        "x": 0.1,
        "y": 0.1
       },
       "content": {
        "cell": "d994c5a5-39a0-4af6-bae1-3cdf207ef160",
        "part": "whole"
       },
       "id": "a3c5ff2c-5a11-4c79-bbb1-d5b39331657c"
      }
     }
    },
    "dc9a7716-af26-42fe-8a6c-943e1d3a7449": {
     "id": "dc9a7716-af26-42fe-8a6c-943e1d3a7449",
     "prev": "707519ee-3038-4cdf-bb06-90675793963e",
     "regions": {
      "6e2c0452-d68a-4a6d-956c-57ad76787f07": {
       "attrs": {
        "height": 0.8,
        "width": 0.8,
        "x": 0.1,
        "y": 0.1
       },
       "content": {
        "cell": "77a25b99-42cc-4a41-bcac-1a0c1a74558d",
        "part": "whole"
       },
       "id": "6e2c0452-d68a-4a6d-956c-57ad76787f07"
      }
     }
    },
    "e000c1f0-f01c-40aa-ae39-cbec74807847": {
     "id": "e000c1f0-f01c-40aa-ae39-cbec74807847",
     "prev": "febf9c2d-6c9b-4c89-8a62-289db3bbbbd5",
     "regions": {
      "5a1ad475-b28c-4a4c-9529-b2fa52278eb9": {
       "attrs": {
        "height": 0.8,
        "width": 0.8,
        "x": 0.1,
        "y": 0.1
       },
       "content": {
        "cell": "86d4e995-ecce-468a-8ba7-d275d2f41fe9",
        "part": "whole"
       },
       "id": "5a1ad475-b28c-4a4c-9529-b2fa52278eb9"
      }
     }
    },
    "e1287d54-ce0b-49a9-b44b-4b1a3f1353ce": {
     "id": "e1287d54-ce0b-49a9-b44b-4b1a3f1353ce",
     "prev": "ce5ada58-2723-4707-b139-72179f011707",
     "regions": {
      "29fa68cc-c9ff-4565-9741-3dd4e3c5d36f": {
       "attrs": {
        "height": 0.8,
        "width": 0.8,
        "x": 0.1,
        "y": 0.1
       },
       "content": {
        "cell": "a85b34a0-17a9-4714-b28e-0cf97d9dda81",
        "part": "whole"
       },
       "id": "29fa68cc-c9ff-4565-9741-3dd4e3c5d36f"
      }
     }
    },
    "ee9275da-66c4-4284-bf5c-ec435f7590cf": {
     "id": "ee9275da-66c4-4284-bf5c-ec435f7590cf",
     "prev": "10ef49d2-76cc-4bc5-9a5a-708755f2206a",
     "regions": {
      "98eaa8f5-b833-46ba-8bd5-e2692949d699": {
       "attrs": {
        "height": 0.8,
        "width": 0.8,
        "x": 0.1,
        "y": 0.1
       },
       "content": {
        "cell": "9b19d323-65ed-4055-9c56-4f02765d2904",
        "part": "whole"
       },
       "id": "98eaa8f5-b833-46ba-8bd5-e2692949d699"
      }
     }
    },
    "fa2c2347-576f-4e2a-8562-d8be11cd9b10": {
     "id": "fa2c2347-576f-4e2a-8562-d8be11cd9b10",
     "prev": "05738737-64ce-408a-b774-df52d58ef047",
     "regions": {
      "ecbfdd7b-8141-4221-a0cf-0bf11c5d076a": {
       "attrs": {
        "height": 0.8,
        "width": 0.8,
        "x": 0.1,
        "y": 0.1
       },
       "content": {
        "cell": "f25dd2ad-1420-4f70-b618-8399a8d86aa3",
        "part": "whole"
       },
       "id": "ecbfdd7b-8141-4221-a0cf-0bf11c5d076a"
      }
     }
    },
    "fce8c05b-dc6f-4df6-aa1a-6843b8cc6a0c": {
     "id": "fce8c05b-dc6f-4df6-aa1a-6843b8cc6a0c",
     "prev": "e000c1f0-f01c-40aa-ae39-cbec74807847",
     "regions": {
      "cdfd1768-7730-4d0e-970a-293d24fe980c": {
       "attrs": {
        "height": 0.8,
        "width": 0.8,
        "x": 0.1,
        "y": 0.1
       },
       "content": {
        "cell": "0d2c96dc-8e17-4cb6-8f39-9cd8ec10a74d",
        "part": "whole"
       },
       "id": "cdfd1768-7730-4d0e-970a-293d24fe980c"
      }
     }
    },
    "fd3f1080-c4ca-49f7-9898-2b15d5e14439": {
     "id": "fd3f1080-c4ca-49f7-9898-2b15d5e14439",
     "prev": "3ec7b08b-3262-4beb-aba1-e82668ed293e",
     "regions": {
      "88a3e125-a57f-44a8-b679-0028fdfafb14": {
       "attrs": {
        "height": 0.8,
        "width": 0.8,
        "x": 0.1,
        "y": 0.1
       },
       "content": {
        "cell": "9b59ee8b-4394-4975-a639-e11dd3ef632f",
        "part": "whole"
       },
       "id": "88a3e125-a57f-44a8-b679-0028fdfafb14"
      }
     }
    },
    "febf9c2d-6c9b-4c89-8a62-289db3bbbbd5": {
     "id": "febf9c2d-6c9b-4c89-8a62-289db3bbbbd5",
     "prev": "ff0a603a-9d50-4cc0-b137-799bda868a2c",
     "regions": {
      "551f58d0-5bec-483d-b746-464919a12b18": {
       "attrs": {
        "height": 0.8,
        "width": 0.8,
        "x": 0.1,
        "y": 0.1
       },
       "content": {
        "cell": "4233e795-70c7-4565-b78d-98cedff45e7d",
        "part": "whole"
       },
       "id": "551f58d0-5bec-483d-b746-464919a12b18"
      }
     }
    },
    "ff0a603a-9d50-4cc0-b137-799bda868a2c": {
     "id": "ff0a603a-9d50-4cc0-b137-799bda868a2c",
     "prev": "35b833c7-83fa-419e-820b-05e000907bf9",
     "regions": {
      "05aec62e-5e8f-4ea2-9dda-89f26f383e34": {
       "attrs": {
        "height": 0.8,
        "width": 0.8,
        "x": 0.1,
        "y": 0.1
       },
       "content": {
        "cell": "66d60306-6d53-4e5b-b0f6-b3f5837a93d1",
        "part": "whole"
       },
       "id": "05aec62e-5e8f-4ea2-9dda-89f26f383e34"
      }
     }
    }
   },
   "themes": {}
  }
 },
 "nbformat": 4,
 "nbformat_minor": 2
}
