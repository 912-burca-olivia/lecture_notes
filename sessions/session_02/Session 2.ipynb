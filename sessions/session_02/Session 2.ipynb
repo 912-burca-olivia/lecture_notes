{
 "cells": [
  {
   "cell_type": "markdown",
   "metadata": {
    "slideshow": {
     "slide_type": "slide"
    }
   },
   "source": [
    "![](https://www.saa-authors.eu/picture/739/ftw_768/saa-mtcwmza4nzq5mq.jpg)"
   ]
  },
  {
   "cell_type": "markdown",
   "metadata": {
    "slideshow": {
     "slide_type": "slide"
    }
   },
   "source": [
    "# Recap"
   ]
  },
  {
   "cell_type": "markdown",
   "metadata": {
    "slideshow": {
     "slide_type": "subslide"
    }
   },
   "source": [
    "## How did the refactoring from Python 2 to 3 go?\n",
    "\n",
    "  - What did you have to change?\n",
    "  - Which files did you modify and how?\n",
    "  - Did you create a release with your refactored solution?\n",
    "  - Did you send a pull request to [repositories.py](../../repositories.py)?\n"
   ]
  },
  {
   "cell_type": "markdown",
   "metadata": {
    "slideshow": {
     "slide_type": "subslide"
    }
   },
   "source": [
    "## Small Detour... Bash recap:\n",
    "\n",
    "While you were refactoring, did you wonder what line 11 of `control.sh` does? Can you explain it to your neighbors?\n",
    "\n",
    "```\n",
    "  9 elif [ $1 = \"start\" ]; then\n",
    " 10     echo \"Starting minitwit...\"\n",
    " 11     nohup `which python` minitwit.py > /tmp/out.log 2>&1 &\n",
    "```"
   ]
  },
  {
   "cell_type": "markdown",
   "metadata": {
    "slideshow": {
     "slide_type": "skip"
    }
   },
   "source": [
    "## Which Shebang?\n",
    "\n",
    "When refactoring `control.sh`, which shebang did you set?\n",
    "\n",
    "  * `#!/usr/bin/env bash`\n",
    "  * `#!/bin/bash`\n",
    "  * `#!/bin/sh`\n",
    "  * `#!/bin/sh -`\n",
    "\n",
    "See\n",
    "  * https://stackoverflow.com/questions/10376206/what-is-the-preferred-bash-shebang\n",
    "  * https://en.wikipedia.org/wiki/Shebang_%28Unix%29"
   ]
  },
  {
   "cell_type": "markdown",
   "metadata": {
    "slideshow": {
     "slide_type": "skip"
    }
   },
   "source": [
    "## Be supportive! \n",
    "\n",
    "  > ## Our Expectations\n",
    "  >\n",
    "  > * Having fun with our work.\n",
    "  > * That we learn from your experiences and knowledge. (We are not smarter than you are when it comes to the topics of this course, we only have a good idea on what we shall do together)\n",
    "  > * That you support each other when working in groups. The entire course and your projects are a team endeavor."
   ]
  },
  {
   "cell_type": "markdown",
   "metadata": {
    "slideshow": {
     "slide_type": "subslide"
    }
   },
   "source": [
    "# Feedback\n",
    "\n",
    "  * While working, take notes of what you are doing.\n",
    "    - A text file in your workspace might serve you well as a notebook.\n",
    "    - Keep a record of **when** you did **what**.\n",
    "    - Note down what went wrong, where you found a solution, and keep a link for that.\n",
    "  * Commit these notes to your repository. One DevOps principle is to _Make Work Visible_."
   ]
  },
  {
   "cell_type": "markdown",
   "metadata": {
    "slideshow": {
     "slide_type": "slide"
    }
   },
   "source": [
    "# Problem of this session: How to move artifacts around"
   ]
  },
  {
   "cell_type": "markdown",
   "metadata": {
    "slideshow": {
     "slide_type": "subslide"
    }
   },
   "source": [
    "  > **Software artifact**: A software artifact is a tangible machine-readable document created during software development. Examples are requirement specification documents, design documents, source code and executables.\n",
    "  >\n",
    "  > [ISO/IEC 19506:2012 Information technology — Object Management Group Architecture-Driven Modernization (ADM) — Knowledge Discovery Meta-Model (KDM)](https://www.iso.org/obp/ui/#iso:std:iso-iec:19506:ed-1:v1:en)"
   ]
  },
  {
   "cell_type": "markdown",
   "metadata": {
    "slideshow": {
     "slide_type": "subslide"
    }
   },
   "source": [
    "## What did we do the last time?\n",
    "\n",
    "### a) `scp` files accross machines\n",
    "\n",
    "We tranfsered the _ITU-MiniTwit_ application from the server to your computers via `scp`.\n",
    "\n",
    "![](images/01_scp.png)"
   ]
  },
  {
   "cell_type": "markdown",
   "metadata": {
    "slideshow": {
     "slide_type": "subslide"
    }
   },
   "source": [
    "## Can we do better than `scp`ing files around?"
   ]
  },
  {
   "cell_type": "markdown",
   "metadata": {
    "slideshow": {
     "slide_type": "subslide"
    }
   },
   "source": [
    "### b) Tag a version of your work in Git\n",
    "\n",
    "```bash\n",
    "cd itu-minitwit\n",
    "git init\n",
    "git add .\n",
    "git commit -m\"Code as resurected from server\"\n",
    "git remote add origin git@github.com:<your_gh_id>/itu-minitwit.git\n",
    "git push -u origin master\n",
    "\n",
    "git tag v0.1.0\n",
    "git push origin v0.1.0\n",
    "```\n",
    "\n",
    "Creating a lightweight tag (see https://git-scm.com/book/en/v2/Git-Basics-Tagging) creates a zipped archive on GitHub.\n",
    "\n",
    "That could be used to package and distribute an application.\n",
    "\n",
    "```bash\n",
    "wget https://github.com/<your_gh_id>/itu-minitwit/archive/refs/tags/v0.1.0.zip\n",
    "unzip v0.1.0.zip\n",
    "```"
   ]
  },
  {
   "cell_type": "markdown",
   "metadata": {
    "slideshow": {
     "slide_type": "subslide"
    }
   },
   "source": [
    "![](images/02_zip.png)"
   ]
  },
  {
   "cell_type": "markdown",
   "metadata": {
    "slideshow": {
     "slide_type": "fragment"
    }
   },
   "source": [
    "#### Drawbacks of `scp` and distribution via ZIP archives?\n",
    "\n",
    "  * When doing that, do we transfer our entire application?\n",
    "  * What were the steps that you executed during your refactoring homework?"
   ]
  },
  {
   "cell_type": "markdown",
   "metadata": {
    "slideshow": {
     "slide_type": "subslide"
    }
   },
   "source": [
    "# Missing Dependencies!\n",
    "\n",
    "We are missing quite some dependencies of our application when distributing it via `scp` or as a zipped archive."
   ]
  },
  {
   "cell_type": "markdown",
   "metadata": {
    "slideshow": {
     "slide_type": "slide"
    }
   },
   "source": [
    "# Mapping Software Dependencies"
   ]
  },
  {
   "cell_type": "markdown",
   "metadata": {
    "slideshow": {
     "slide_type": "subslide"
    }
   },
   "source": [
    "### Your Turn! -  `Task 1`\n",
    "<img src=\"https://media.giphy.com/media/13GIgrGdslD9oQ/giphy.gif\" width=50%/>\n",
    "\n",
    "  - Map the artifacts and all dependencies of the _ITU-MiniTwit_ (the Python 2 version) that you took over last week.\n",
    "  - That is, start with `minitwit.py`, `flag_tool.c`, and `control.sh` and map all of their respective dependencies. \n",
    "  - Draw a dependency graph for all artifacts, and discuss with your group fellows if you have covered all artifacts.\n",
    "  - Once you have a dependecy graph, paste an image of it to our Teams chat.\n",
    "\n",
    "\n",
    "  - You might want to use GraphViz (http://www.webgraphviz.com/) to draw your graph quickly and declared as code.\n",
    "  - Dependency graph? See for example https://en.wikipedia.org/wiki/Dependency_graph"
   ]
  },
  {
   "cell_type": "code",
   "execution_count": null,
   "metadata": {
    "slideshow": {
     "slide_type": "subslide"
    }
   },
   "outputs": [],
   "source": []
  },
  {
   "cell_type": "markdown",
   "metadata": {
    "slideshow": {
     "slide_type": "subslide"
    }
   },
   "source": [
    "### Helge's take on the task (2019 & 2020)\n",
    "\n",
    "![](images/minitwit-deps.png)"
   ]
  },
  {
   "cell_type": "markdown",
   "metadata": {
    "slideshow": {
     "slide_type": "subslide"
    }
   },
   "source": [
    "### How does it really look like?\n",
    "\n",
    "  * Are the presented dependency graphs complete?"
   ]
  },
  {
   "cell_type": "markdown",
   "metadata": {
    "slideshow": {
     "slide_type": "fragment"
    }
   },
   "source": [
    "[![](images/deps.png)](images/deps.png)\n",
    "* On Ubuntu Trusty (14.04)"
   ]
  },
  {
   "cell_type": "markdown",
   "metadata": {
    "slideshow": {
     "slide_type": "subslide"
    }
   },
   "source": [
    "### Problem:\n",
    "\n",
    "We are standing on the shoulders of giants. Seemingly simple applications are facilitated by a plethora of software that is needed to **build/compile** our application, to **run** it, to **test** it, etc."
   ]
  },
  {
   "cell_type": "markdown",
   "metadata": {
    "slideshow": {
     "slide_type": "fragment"
    }
   },
   "source": [
    "  - Where do all these artifacts come from?\n",
    "  - Who knows about all of them?"
   ]
  },
  {
   "cell_type": "markdown",
   "metadata": {
    "slideshow": {
     "slide_type": "fragment"
    }
   },
   "source": [
    "\n",
    "  - When developing how do you get the required dependencies?\n",
    "  - In production, i.e., after deployment on a (potentially other) machine how do you get the required dependencies?\n"
   ]
  },
  {
   "cell_type": "markdown",
   "metadata": {
    "slideshow": {
     "slide_type": "fragment"
    }
   },
   "source": [
    "  \n",
    "  - Who is responsible for setting up/configuring all the dependencies?\n",
    "  - How often do you have to do this?"
   ]
  },
  {
   "cell_type": "markdown",
   "metadata": {
    "slideshow": {
     "slide_type": "subslide"
    }
   },
   "source": [
    "### c) Building Python Packages and share them directly or via an index\n",
    "\n",
    "We could build packages for the respective programming language.\n",
    "In this case Python packages, which can be shared and installed either directly or via a central index like PyPI or a self-hosted alternative.\n",
    "\n",
    "  * What is the advantage of that?\n",
    "  * What might be a drawback?"
   ]
  },
  {
   "cell_type": "markdown",
   "metadata": {
    "slideshow": {
     "slide_type": "fragment"
    }
   },
   "source": [
    "![](images/03_pypi.png)"
   ]
  },
  {
   "cell_type": "markdown",
   "metadata": {
    "slideshow": {
     "slide_type": "subslide"
    }
   },
   "source": [
    "### d) Building Linux Packages and share them directly or via a repository\n",
    "\n",
    "We could build packages for the respective Linux distribution.\n",
    "In our case this would be `.deb` packages, which would be handled via `apt` on Debian-based distributions.\n",
    "Linux packages can be shared and installed either directly or via a central repository (might be self-hosted), see for example, `/etc/apt/sources.list` to figure out to which repositories you are using.\n",
    "\n",
    "  * What is the advantage of that?\n",
    "  * What might be a drawback?"
   ]
  },
  {
   "cell_type": "markdown",
   "metadata": {
    "slideshow": {
     "slide_type": "fragment"
    }
   },
   "source": [
    "![](images/04_apt.png)"
   ]
  },
  {
   "cell_type": "markdown",
   "metadata": {
    "slideshow": {
     "slide_type": "subslide"
    }
   },
   "source": [
    "If you want deeper information on and examples of how to build Python and Debian packages respectively, study chapter 5 from _Python for DevOps_ :\n",
    "\n",
    "[![](https://learning.oreilly.com/library/cover/9781492057680/250w/)](https://www.oreilly.com/library/view/python-for-devops/9781492057680/)"
   ]
  },
  {
   "cell_type": "markdown",
   "metadata": {
    "slideshow": {
     "slide_type": "subslide"
    }
   },
   "source": [
    "### e) Building Application Containers and share their images via a registry\n",
    "\n",
    "We could build application containers for the respective container enginer.\n",
    "We will study [Docker](https://docs.docker.com/) in the remainder of this session.\n",
    "Docker containers can be instantiated from container *images*, which are distributed via a central registry ([DockerHub](https://hub.docker.com/), [GitHub Container Registry](https://docs.github.com/en/packages/working-with-a-github-packages-registry/working-with-the-container-registry), etc.).\n",
    "\n",
    "  * What is the advantage of that?\n",
    "  * What might be a drawback?"
   ]
  },
  {
   "cell_type": "markdown",
   "metadata": {
    "slideshow": {
     "slide_type": "fragment"
    }
   },
   "source": [
    "![](images/05_docker.png)"
   ]
  },
  {
   "cell_type": "markdown",
   "metadata": {
    "slideshow": {
     "slide_type": "subslide"
    }
   },
   "source": [
    "### A Containerized _ITU-MiniTwit_\n",
    "\n",
    "When _containerizing_ an application, we package all runtime dependencies and we provide a setup that allows to run an application without interfering with its environment.\n",
    "\n",
    "What does that mean?\n",
    "\n",
    "Run the following command in your terminal and wait for the download to finish (will likely take long in Aud.2 at ITU).\n",
    "\n",
    "```bash\n",
    "docker run -d -p5000:5000 helgecph/itu_minitwit_trusty:v0.1.0\n",
    "```\n",
    "\n",
    "Once the download completed, navigate your web-browser to http://localhost:5000/ and appreciate that you received a running instance of our _ITU-MiniTwit_ application with a single command."
   ]
  },
  {
   "cell_type": "markdown",
   "metadata": {
    "slideshow": {
     "slide_type": "subslide"
    }
   },
   "source": [
    "### Docker != Containerization\n",
    "\n",
    "\n",
    "We study [Docker](https://docs.docker.com/) in this session.\n",
    "However, it is not the only tool to containerize applications, it only appears to be the most popular at the moment.\n",
    "\n",
    "Alternative tools are:\n",
    "\n",
    "\n",
    "  * [LXC](https://linuxcontainers.org)\n",
    "  * [rkt](https://coreos.com/rkt/)\n",
    "  * [FreeBSD Jails](https://www.freebsd.org/doc/handbook/jails.html)"
   ]
  },
  {
   "cell_type": "markdown",
   "metadata": {
    "slideshow": {
     "slide_type": "subslide"
    }
   },
   "source": [
    "### What are these containers actually?\n",
    "\n",
    "\n",
    "In this lecture, we focus on **applying** Docker. That is, how to use them to package and distribute applications.\n",
    "To get an introduction to how these technologies work, ask in the operating systems course or check the links below:\n",
    "\n",
    "  - Liz Rice's talk builds a basic container engine in Go: https://www.youtube.com/watch?v=HPuvDm8IC-4\n",
    "  - https://github.com/janoszen/demo-container-runtime\n",
    "  - https://github.com/p8952/bocker/blob/master/README.md\n",
    "  - https://www.infoq.com/articles/build-a-container-golang/\n",
    "\n",
    "- https://github.com/Zakaria-Ben/Pocker\n"
   ]
  },
  {
   "cell_type": "markdown",
   "metadata": {
    "slideshow": {
     "slide_type": "slide"
    }
   },
   "source": [
    "----------------------\n",
    "# Getting bored today?\n",
    "\n",
    "\n",
    "![](http://static3.businessinsider.com/image/4fbfb86becad044879000001-506-253/suddenly-startups-have-gotten-very-boring.jpg)\n",
    "\n",
    "\n",
    "\n",
    "\n",
    "## Recreate the Docker Examples\n",
    "\n",
    "Recreate the Docker examples from today's exercises https://github.com/itu-devops/flask-minitwit-mongodb/tree/Containerize, to work with any of the follow alternative container engines:\n",
    "\n",
    "  * [LXC](https://linuxcontainers.org)\n",
    "  * [rkt](https://coreos.com/rkt/)\n",
    "  * [FreeBSD Jails](https://www.freebsd.org/doc/handbook/jails.html)\n",
    " "
   ]
  },
  {
   "cell_type": "markdown",
   "metadata": {
    "slideshow": {
     "slide_type": "subslide"
    }
   },
   "source": [
    "### What are these containers actually?\n",
    "\n",
    "<img src=\"https://docs.docker.com/images/Container%402x.png\" width=35%>\n",
    "\n",
    "\n",
    "\n",
    "  > A container image is a lightweight, stand-alone, executable package of a piece of software that includes everything needed to run it: code, runtime, system tools, system libraries, settings.\n",
    "  > \n",
    "  > ...\n",
    "  > \n",
    "  > Containers isolate software from its surroundings, for example differences between development and staging environments and help reduce conflicts between teams running different software on the same infrastructure. (https://www.docker.com/what-container)"
   ]
  },
  {
   "cell_type": "markdown",
   "metadata": {
    "slideshow": {
     "slide_type": "slide"
    }
   },
   "source": [
    "----------------\n",
    "\n",
    "# Hands-on, Containers with Docker"
   ]
  },
  {
   "cell_type": "markdown",
   "metadata": {
    "slideshow": {
     "slide_type": "subslide"
    }
   },
   "source": [
    "## Running my first container!\n",
    "\n",
    "```bash\n",
    "$ docker run --rm hello-world\n",
    "```\n",
    "\n",
    "The command above downloaded the image `hello-world` from the [Docker Hub](https://hub.docker.com), instantiated a container from that image, ran the application within this container, and finally deleted the container (`--rm`)."
   ]
  },
  {
   "cell_type": "code",
   "execution_count": 1,
   "metadata": {
    "scrolled": true
   },
   "outputs": [
    {
     "name": "stdout",
     "output_type": "stream",
     "text": [
      "\n",
      "Hello from Docker!\n",
      "This message shows that your installation appears to be working correctly.\n",
      "\n",
      "To generate this message, Docker took the following steps:\n",
      " 1. The Docker client contacted the Docker daemon.\n",
      " 2. The Docker daemon pulled the \"hello-world\" image from the Docker Hub.\n",
      "    (amd64)\n",
      " 3. The Docker daemon created a new container from that image which runs the\n",
      "    executable that produces the output you are currently reading.\n",
      " 4. The Docker daemon streamed that output to the Docker client, which sent it\n",
      "    to your terminal.\n",
      "\n",
      "To try something more ambitious, you can run an Ubuntu container with:\n",
      " $ docker run -it ubuntu bash\n",
      "\n",
      "Share images, automate workflows, and more with a free Docker ID:\n",
      " https://hub.docker.com/\n",
      "\n",
      "For more examples and ideas, visit:\n",
      " https://docs.docker.com/get-started/\n",
      "\n"
     ]
    },
    {
     "name": "stderr",
     "output_type": "stream",
     "text": [
      "Unable to find image 'hello-world:latest' locally\n",
      "latest: Pulling from library/hello-world\n",
      "0e03bdcc26d7: Pulling fs layer\n",
      "0e03bdcc26d7: Verifying Checksum\n",
      "0e03bdcc26d7: Download complete\n",
      "0e03bdcc26d7: Pull complete\n",
      "Digest: sha256:95ddb6c31407e84e91a986b004aee40975cb0bda14b5949f6faac5d2deadb4b9\n",
      "Status: Downloaded newer image for hello-world:latest\n"
     ]
    }
   ],
   "source": [
    "%%bash\n",
    "docker run --rm hello-world"
   ]
  },
  {
   "cell_type": "markdown",
   "metadata": {
    "slideshow": {
     "slide_type": "subslide"
    }
   },
   "source": [
    "### I need a Linux Shell quickly!\n",
    "\n",
    "Check on [Docker Hub](https://hub.docker.com), there are images for many different flavors of Linux and for many packaged applications.\n",
    "\n",
    "```bash\n",
    "$ docker run -it --rm alpine:latest sh\n",
    "```\n",
    "\n",
    "What does that do? It tells Docker to run a container with the latest version of Alpine Linux (a small Linux Distribution), connect to the shell process `sh`, run it interactively `-it` so that you can type in commands and see the results, and finally, to remove the container `--rm` after exiting from the container.\n",
    "\n",
    "\n",
    "\n"
   ]
  },
  {
   "cell_type": "markdown",
   "metadata": {
    "slideshow": {
     "slide_type": "subslide"
    }
   },
   "source": [
    "### Volumes\n",
    "\n",
    "You can mount directories (*volumes*) from your host to a container using the `-v` flag.\n",
    "\n",
    "```bash\n",
    "$ docker run -it -v $(pwd):/host alpine:latest /bin/sh\n",
    "```"
   ]
  },
  {
   "cell_type": "markdown",
   "metadata": {
    "slideshow": {
     "slide_type": "subslide"
    }
   },
   "source": [
    "\n",
    "### Development with Containers\n",
    "\n",
    "Let's build a simple webserver in [Go](https://golang.org). To not mess with our development machine we could use a Docker container, which has the Go compiler readily installed.\n",
    "\n",
    "Find the following `basic_http_server.go` file in the directory `./webserver`.\n",
    "\n",
    "```go\n",
    "package main\n",
    "\n",
    "import (\n",
    "\t\"fmt\"\n",
    "\t\"log\"\n",
    "\t\"net/http\"\n",
    ")\n",
    "\n",
    "func helloWorldHandler(w http.ResponseWriter, r *http.Request) {\n",
    "\tfmt.Fprint(w, \"Hej verden!\\n\")\n",
    "}\n",
    "\n",
    "func main() {\n",
    "\tport := 8080\n",
    "\n",
    "\thttp.HandleFunc(\"/\", helloWorldHandler)\n",
    "\n",
    "\tlog.Printf(\"Server starting on port %v\\n\", port)\n",
    "\tlog.Fatal(http.ListenAndServe(fmt.Sprintf(\":%v\", port), nil))\n",
    "}\n",
    "```\n",
    "\n",
    "To containerize that program, or better to run that program in a container without installing the compiler to our machines directly, you could run:\n",
    "\n",
    "```bash\n",
    "$ docker run -it --rm \\\n",
    "    --name myserver \\\n",
    "    -v $(pwd)/webserver:/src \\\n",
    "    -p 8080:8080 \\\n",
    "    -w /src \\\n",
    "    golang:jessie go run basic_http_server.go\n",
    "```"
   ]
  },
  {
   "cell_type": "markdown",
   "metadata": {
    "slideshow": {
     "slide_type": "subslide"
    }
   },
   "source": [
    "That command instantiates a container of the image `golang:jessie` (an Ubuntu Linux with Go and some other necessary tools readily installed). Furthermore, we share our local code in `./webserver` with the container. There it is mounted to the `/src` directory. With `-w` we change the current working directory in that container to `/src`. Additionally, `-p 8080:8080` tells Docker to forward the port `8080` from the container to the same port number on our host. The port number in front of `:` specifies the port on the host, which gets bound to which port of the container (number after `:`). Finally, we run the program within the container `go run basic_http_server.go`.\n",
    "\n",
    "Note, you could also build the program in the container and run the resulting binary.\n",
    "\n",
    "```bash\n",
    "$ docker run -it --rm \\\n",
    "    --name myserver \\\n",
    "    -v $(pwd)/webserver:/src \\\n",
    "    -p 8080:8080 \\\n",
    "    -w /src \\\n",
    "    golang:jessie bash -c \"go build basic_http_server.go; ./basic_http_server\"\n",
    "```"
   ]
  },
  {
   "cell_type": "markdown",
   "metadata": {
    "slideshow": {
     "slide_type": "subslide"
    }
   },
   "source": [
    "Now, you can access the webserver on your host machine on http://127.0.0.1:8080. If you point your browser to that address you should see the following:\n",
    "\n",
    "![](images/simple_dockerized_webapp.png)\n",
    "\n",
    "Alternatively, you could run `curl` on your host machine to see that our server is working correctly. \n",
    "\n",
    "```bash\n",
    "$ curl -s http://127.0.0.1:8080\n",
    "```"
   ]
  },
  {
   "cell_type": "markdown",
   "metadata": {
    "slideshow": {
     "slide_type": "subslide"
    }
   },
   "source": [
    "Unfortunately, many operating systems do not come with the `curl` program installed. But likely there is a dockerized version of this program. If you run:\n",
    "\n",
    "```bash\n",
    "$ docker run --rm \\\n",
    "    --link myserver \\\n",
    "    appropriate/curl:latest curl -s http://myserver:8080\n",
    "Hej verden!\n",
    "```\n",
    "\n",
    "then you downlad an image with a small Linux and with `curl` installed. However, the command above also allows the `curl` client to see our webserver `--link myserver`. Try to run the command above without that flag and see what happens.\n",
    "\n",
    "To find more Docker images and dockerized programs have a look at https://hub.docker.com.\n"
   ]
  },
  {
   "cell_type": "markdown",
   "metadata": {
    "slideshow": {
     "slide_type": "subslide"
    }
   },
   "source": [
    "## `Dockerfile`s\n",
    "\n",
    "`Dockerfile`s are similar to the `Vagrantfile`s that we discussed earlier. They describe exactly the configuration of a container. Unlike `Vagrantfile`s these configurations are stored as slices on top of each other.\n",
    "\n",
    "Let's have a look on an example application. It will consist of a webserver and of a simple client. The webserver serves a static HTTP message on port 8080 and the client is just an HTTP `GET` query receiving this message via `curl`. The following UML deployment diagram illustrates this setup\n",
    "\n",
    "![](images/vm_deployment_basic.png)\n",
    "\n",
    "\n",
    "Let's have a look at a `Dockerfile` that specifies our webserver.\n",
    "\n",
    "```Dockerfile\n",
    "FROM golang:jessie\n",
    "\n",
    "# Install any needed dependencies...\n",
    "# RUN go get ...\n",
    "\n",
    "# Set the working directory\n",
    "WORKDIR /src\n",
    "\n",
    "# Copy the server code into the container\n",
    "COPY basic_http_server.go /src/basic_http_server.go\n",
    "\n",
    "# Make port 8080 available to the host\n",
    "EXPOSE 8080\n",
    "\n",
    "# Build and run the server when the container is started\n",
    "RUN go build /src/basic_http_server.go\n",
    "ENTRYPOINT ./basic_http_server\n",
    "```\n"
   ]
  },
  {
   "cell_type": "markdown",
   "metadata": {
    "slideshow": {
     "slide_type": "subslide"
    }
   },
   "source": [
    "\n",
    "As you can see from the above configuration, the `Dockerfile` is similar to everything described in our earlier CLI command:\n",
    "\n",
    "```bash\n",
    "$ docker run -it --rm \\\n",
    "    -v $(pwd)/webserver:/src \\\n",
    "    -p 8080:8080 \\\n",
    "    -w /src \\\n",
    "    golang:jessie bash -c \"go build basic_http_server.go; ./basic_http_server\"\n",
    "```\n",
    "\n",
    "Keywords in `Dockerfile`s are `FROM`, `MAINTAINER`, `LABEL`, `RUN`, `CMD`, `EXPOSE`, `ENV`, ADD or `COPY`, `ENTRYPOINT`, `VOLUME`, `USER`, `WORKDIR`, `ONBUILD`. You can read more on them in the documentation: https://docs.docker.com/develop/develop-images/dockerfile_best-practices/.\n"
   ]
  },
  {
   "cell_type": "markdown",
   "metadata": {
    "slideshow": {
     "slide_type": "subslide"
    }
   },
   "source": [
    "### Building the Webserver Image\n",
    "\n",
    "To use containers with our webserver, we first have to build a corresponding image. If you have the above `Dockerfile` stored in a directory `webserver` you can do so as in the following:\n",
    "\n",
    "```bash\n",
    "$ cd webserver\n",
    "$ docker build -t <your_id>/myserver .\n",
    "```\n",
    "\n",
    "The `-t` flag tells Docker to build an image with the given name `<your_id>/myserver`. The `.` says: _build the image with the `Dockerfile` in this directory_.\n",
    "\n",
    "After building your image, you can verify that it is now accessible on your machine.\n",
    "\n",
    "```bash\n",
    "$ docker images\n",
    "REPOSITORY           TAG                 IMAGE ID            CREATED             SIZE\n",
    "your_id/myserver     latest              a5fe35de13d2        8 seconds ago       704MB\n",
    "appropriate/curl     latest              f73fee23ac74        3 weeks ago         5.35MB\n",
    "golang               jessie              6ce094895555        4 weeks ago         699MB\n",
    "```\n"
   ]
  },
  {
   "cell_type": "markdown",
   "metadata": {
    "slideshow": {
     "slide_type": "subslide"
    }
   },
   "source": [
    "### Running the Webserver as Container\n",
    "\n",
    "```bash\n",
    "$ docker run --name webserver -p 8080:8080 <your_id>/webserver\n",
    "```\n",
    "\n",
    "### Stopping and Restarting the Webserver\n",
    "\n",
    "```bash\n",
    "$ docker stop webserver\n",
    "```\n",
    "\n",
    "```bash\n",
    "$ docker start webserver\n",
    "```\n"
   ]
  },
  {
   "cell_type": "markdown",
   "metadata": {
    "slideshow": {
     "slide_type": "subslide"
    }
   },
   "source": [
    "### Building the Client Image\n",
    "\n",
    "\n",
    "```Dockerfile\n",
    "FROM appropriate/curl:latest\n",
    "\n",
    "ENTRYPOINT curl -s http://webserver:8080\n",
    "```\n",
    "\n",
    "### Building the Client Image\n",
    "\n",
    "```bash\n",
    "$ cd client\n",
    "$ docker build -t <your_id>/myclient .\n",
    "```\n",
    "\n",
    "```bash\n",
    "$ docker images\n",
    "REPOSITORY              TAG                 IMAGE ID            CREATED             SIZE\n",
    "<your_id>/myclient      latest              3714e67fa75a        4 seconds ago       5.35MB\n",
    "<your_id>/webserver     latest              a5fe35de13d2        About an hour ago   704MB\n",
    "appropriate/curl        latest              f73fee23ac74        3 weeks ago         5.35MB\n",
    "golang                  jessie              6ce094895555        4 weeks ago         699MB\n",
    "```\n"
   ]
  },
  {
   "cell_type": "markdown",
   "metadata": {
    "slideshow": {
     "slide_type": "subslide"
    }
   },
   "source": [
    "\n",
    "\n",
    "### Running the Webserver as Container\n",
    "\n",
    "```bash\n",
    "$ docker run --name client --link webserver <your_id>/myclient\n",
    "Hej verden!\n",
    "```\n",
    "\n",
    "That is nice, is not it? We just build a small application consisting of a webserver and a client, both deployed in their own containers, and we did not have to install any dependencies on our host machine manually.\n",
    "\n",
    "However, starting the server and the client by hand with the `docker run ...` command is quite tedious. Furthermore, it is not really in line with the _infrastructure as code_ paradigm. Therefore, we can automate even further using `docker-compose`.\n"
   ]
  },
  {
   "cell_type": "markdown",
   "metadata": {
    "slideshow": {
     "slide_type": "subslide"
    }
   },
   "source": [
    "## `docker-compose` - Starting the Application Automatically\n",
    "\n",
    "Which describes a cluster setup, we can use a `docker-compose.yml` file to specify the components of our application and how they shall be started.\n",
    "\n",
    "\n",
    "```yml\n",
    "version: '3'\n",
    "services:\n",
    "  webserver:\n",
    "    image: your_id/webserver\n",
    "    ports:\n",
    "      - \"8080:8080\"\n",
    "\n",
    "  clidownload:\n",
    "    image: appropriate/curl\n",
    "    links:\n",
    "      - webserver\n",
    "    entrypoint: sh -c  \"sleep 5 && curl -s http://webserver:8080\"\n",
    "```\n",
    "\n",
    "```bash\n",
    "$ docker-compose up\n",
    "Creating session_03_webserver_1 ... done\n",
    "Creating session_03_clidownload_1 ... done\n",
    "Attaching to session_03_webserver_1, session_03_clidownload_1\n",
    "webserver_1    | 2020/02/12 14:08:03 Server starting on port 8080\n",
    "clidownload_1  | Hej verden!\n",
    "session_03_clidownload_1 exited with code 0\n",
    "^CGracefully stopping... (press Ctrl+C again to force)\n",
    "Stopping session_03_webserver_1   ... done\n",
    "```\n",
    "\n",
    "Finally, to clean up:\n",
    "\n",
    "```bash\n",
    "$ docker-compose rm -v\n",
    "```\n",
    "\n"
   ]
  },
  {
   "cell_type": "markdown",
   "metadata": {
    "slideshow": {
     "slide_type": "slide"
    }
   },
   "source": [
    "# Reflection - Why and for what to use containerization?\n",
    "\n",
    "\n",
    "<!--\n",
    "Solves two problems:\n",
    "    \n",
    "  - Setting up a homogeneous development environment\n",
    "  - Explicit and reproducible way of specifying dependencies and configuration\n",
    "  \n",
    "Drawback:\n",
    "\n",
    "  - These machines are quite big. (But you get a full VM with possibility of doing GUI work directly)\n",
    "  -\n",
    "-->"
   ]
  },
  {
   "cell_type": "markdown",
   "metadata": {},
   "source": [
    "  - a\n",
    "  - b\n",
    "  - c\n",
    "  \n",
    "<!--  \n",
    "  - To be HW independent (VM)\n",
    "  - Scalability\n",
    "  - Minimizing env. config.\n",
    "  - Reproducability\n",
    "  - Upgradability\n",
    "-->"
   ]
  },
  {
   "cell_type": "markdown",
   "metadata": {
    "slideshow": {
     "slide_type": "subslide"
    }
   },
   "source": [
    "## Advantages and drawbacks of containers?"
   ]
  },
  {
   "cell_type": "markdown",
   "metadata": {
    "slideshow": {
     "slide_type": "slide"
    }
   },
   "source": [
    "# What to do now?\n",
    "\n",
    "  * To prepare for your project work, practice with the [exercises](../session_02/README_EXERCISE.md)\n",
    "  * Do the [project work](../session_02/README_TASKS.md) until the end of the week\n",
    "  * And [prepare for the next session](../session_04/README_PREP.md)"
   ]
  }
 ],
 "metadata": {
  "celltoolbar": "Slideshow",
  "kernelspec": {
   "display_name": "Python 3",
   "language": "python",
   "name": "python3"
  },
  "language_info": {
   "codemirror_mode": {
    "name": "ipython",
    "version": 3
   },
   "file_extension": ".py",
   "mimetype": "text/x-python",
   "name": "python",
   "nbconvert_exporter": "python",
   "pygments_lexer": "ipython3",
   "version": "3.8.8"
  }
 },
 "nbformat": 4,
 "nbformat_minor": 2
}
