{
 "cells": [
  {
   "cell_type": "markdown",
   "metadata": {
    "slideshow": {
     "slide_type": "slide"
    }
   },
   "source": [
    "![](https://www.saa-authors.eu/picture/739/ftw_768/saa-mtcwmza4nzq5mq.jpg)"
   ]
  },
  {
   "cell_type": "markdown",
   "metadata": {
    "slideshow": {
     "slide_type": "slide"
    }
   },
   "source": [
    "# Recap"
   ]
  },
  {
   "cell_type": "markdown",
   "metadata": {
    "slideshow": {
     "slide_type": "subslide"
    }
   },
   "source": [
    "## How did the refactoring from Python 2 to 3 go?\n",
    "\n",
    "  - What did you have to change?\n",
    "  - Which files did you modify and how?\n",
    "  - Did you create a release with your refactored solution?\n",
    "  - Did you send a pull request to [repositories.py](../../repositories.py)?\n"
   ]
  },
  {
   "cell_type": "markdown",
   "metadata": {
    "slideshow": {
     "slide_type": "subslide"
    }
   },
   "source": [
    "![](images/bug_in_code.png)"
   ]
  },
  {
   "cell_type": "markdown",
   "metadata": {
    "slideshow": {
     "slide_type": "skip"
    }
   },
   "source": [
    "## Be supportive! \n",
    "\n",
    "  > ## Our Expectations\n",
    "  >\n",
    "  > * Having fun with our work.\n",
    "  > * That we learn from your experiences and knowledge. (We are not smarter than you are when it comes to the topics of this course, we only have a good idea on what we shall do together)\n",
    "  > * That you support each other when working in groups. The entire course and your projects are a team endeavor."
   ]
  },
  {
   "cell_type": "markdown",
   "metadata": {
    "slideshow": {
     "slide_type": "subslide"
    }
   },
   "source": [
    "## Which Shebang?\n",
    "\n",
    "When refactoring `control.sh`, which shebang did you set?\n",
    "\n",
    "  * `#!/usr/bin/env bash`\n",
    "  * `#!/bin/bash`\n",
    "  * `#!/bin/sh`\n",
    "  * `#!/bin/sh -`\n",
    "\n",
    "See\n",
    "  * https://stackoverflow.com/questions/10376206/what-is-the-preferred-bash-shebang\n",
    "  * https://en.wikipedia.org/wiki/Shebang_%28Unix%29"
   ]
  },
  {
   "cell_type": "markdown",
   "metadata": {
    "slideshow": {
     "slide_type": "slide"
    }
   },
   "source": [
    "# Today - Version Control Systems (VCS)?\n",
    "\n",
    "  > Version control is a system that records changes to a file or set of files over time so that you can recall specific versions later.      \n",
    "  > \n",
    "  > It allows you to revert selected files back to a previous state, revert the entire project back to a previous state, compare changes over time, see who last modified something that might be causing a problem, who introduced an issue and when, and more. Using a VCS also generally means that if you screw things up or lose files, you can easily recover. In addition, you get all this for very little overhead.\n",
    "  > [Chacon et al. _\"Pro Git\"_](https://git-scm.com/book/en/v2/Getting-Started-About-Version-Control)"
   ]
  },
  {
   "cell_type": "markdown",
   "metadata": {
    "slideshow": {
     "slide_type": "slide"
    }
   },
   "source": [
    "----------------------\n",
    "# Getting bored today?\n",
    "\n",
    "\n",
    "![](http://static3.businessinsider.com/image/4fbfb86becad044879000001-506-253/suddenly-startups-have-gotten-very-boring.jpg)\n",
    "\n",
    "\n",
    "Read and understand how other VCS work, how they are different from Git and how these differences enable different forms of collaborative work.\n",
    "\n",
    "For example check:\n",
    "\n",
    "  * [Mercurial](https://www.mercurial-scm.org/) and the handbook [Mercurial: The Definitive Guide](http://hgbook.red-bean.com/read/),\n",
    "  * [Pijul](https://pijul.org/) and its [manual](https://pijul.org/manual/), or\n",
    "  * [Fossil](https://fossil-scm.org/home/doc/trunk/www/index.wiki).\n",
    "\n",
    "\n",
    "<!--\n",
    "\n",
    "## Using Git with your friends\n",
    "  * Go through the scenario described in the following picture:\n",
    "    - Remember to use the IP addresses of your own computer, which you can find with `ifconfig`.\n",
    "    - All three computers should be either on the same network or reachable from the outside\n",
    "    - You have to be able to SSH into the other machines\n",
    "      \n",
    "  \n",
    "![](images/git_scenario.png)\n",
    "\n",
    "  * What does that exercise tell you about Git as a version control system? \n",
    "  * What did you just do in the exercise?\n",
    "  * Why is there not Github server?\n",
    "\n",
    "## Write Your Own VCS:\n",
    "\n",
    "  - Choose a scripting language (Ruby, Python, Groovy, etc.) and implement basic features of a VCS.\n",
    "    - You may want to follow the chapter https://git-scm.com/book/en/v2/Git-Internals-Git-Objects, which provides some initial Ruby code for revision control.\n",
    "    - Try to implement features in a way that they support your/your organization's workflow.\n",
    "    - How do you implement branching in your VCS?\n",
    "    - How can you implement remote repositories, i.e., distributed repositories?\n",
    "\n",
    "## I mean it, if you get bored do the tasks above!\n",
    "\n",
    "\n",
    "<img src=\"https://31ns9t3tahh91zt99bieate1-wpengine.netdna-ssl.com/wp-content/uploads/2019/11/Angry-bird.jpg\" width=\"50%\">\n",
    "-->\n",
    "\n",
    "----------------------\n"
   ]
  },
  {
   "cell_type": "markdown",
   "metadata": {
    "slideshow": {
     "slide_type": "slide"
    }
   },
   "source": [
    "# A bit of history & inner workings of Git\n",
    "\n",
    "<img src=\"https://imgs.xkcd.com/comics/git.png\" width=\"30%\">\n"
   ]
  },
  {
   "cell_type": "markdown",
   "metadata": {
    "slideshow": {
     "slide_type": "subslide"
    }
   },
   "source": [
    "## Understanding Git"
   ]
  },
  {
   "cell_type": "markdown",
   "metadata": {
    "slideshow": {
     "slide_type": "subslide"
    }
   },
   "source": [
    "###  How does Git organize commits?\n"
   ]
  },
  {
   "cell_type": "markdown",
   "metadata": {
    "slideshow": {
     "slide_type": "fragment"
    }
   },
   "source": [
    "\n",
    "  * Git relies on the [Merkle Tree](https://en.wikipedia.org/wiki/Merkle_tree) datastructure\n",
    "![](http://git-scm.com/figures/18333fig0301-tn.png)"
   ]
  },
  {
   "cell_type": "markdown",
   "metadata": {
    "slideshow": {
     "slide_type": "subslide"
    }
   },
   "source": [
    "###  How does Git organize history?\n"
   ]
  },
  {
   "cell_type": "markdown",
   "metadata": {
    "slideshow": {
     "slide_type": "fragment"
    }
   },
   "source": [
    "\n",
    "  * History is represented by commits pointing to their parents\n",
    "  \n",
    "![](http://git-scm.com/figures/18333fig0302-tn.png)"
   ]
  },
  {
   "cell_type": "markdown",
   "metadata": {
    "slideshow": {
     "slide_type": "subslide"
    }
   },
   "source": [
    "### What does Git store?"
   ]
  },
  {
   "cell_type": "code",
   "execution_count": null,
   "metadata": {
    "slideshow": {
     "slide_type": "subslide"
    }
   },
   "outputs": [],
   "source": [
    "%%bash\n",
    "git clone https://github.com/HelgeCPH/flask-minitwit-mongodb.git ~/Desktop/flask-minitwit-mongodb"
   ]
  },
  {
   "cell_type": "code",
   "execution_count": 2,
   "metadata": {
    "slideshow": {
     "slide_type": "fragment"
    }
   },
   "outputs": [
    {
     "name": "stdout",
     "output_type": "stream",
     "text": [
      "/Users/ropf/Desktop/flask-minitwit-mongodb/.git/objects\n",
      "├── 03\n",
      "│   └── cbca9ace4a367089baf0e920f7002786a24b9e\n",
      "├── 07\n",
      "│   └── 6379c2abae7664bd44b6c456642fdc0d02483e\n",
      "├── 0a\n",
      "│   └── 4d57d328a470978ff1a6eda302f7223cad3020\n",
      "├── 0d\n",
      "│   └── 32aa924993849a89b1014c2b7bffcc0620fc4a\n",
      "├── 15\n",
      "│   └── 2c70db1215ac493c0cfffc3eae7b9650d05be5\n",
      "├── 18\n",
      "│   ├── 3dc40a71d6f982b50deb38ca73bb92e8181d66\n",
      "│   └── f0b8c4854d41fa385d546759345089cba0fb9f\n",
      "├── 1d\n",
      "│   └── 6e8c55140fab1ffdfb34fbde8ecfbd4ea1677d\n",
      "├── 1e\n",
      "│   ├── 80197d1b292e8690b15103fe89e9001b0a3e31\n",
      "│   ├── 8e346175110850c305218d729d13fde40eeb6f\n",
      "│   └── 9ced293fe5bacf5fad2fb3d84490de24ea5273\n",
      "├── 1f\n",
      "│   └── 528dc8bcf1631eb508750ac6da81b5402c25e0\n",
      "├── 20\n",
      "│   └── 4e07343f5c047af6886b6711b299c8b9b2b430\n",
      "├── 21\n",
      "│   ├── 5eb877912e17461f83c41335b5818b6da27be1\n",
      "│   └── a0428cb9d1c44e8b6ec6a8da7384010b4a3d2d\n",
      "├── 22\n",
      "│   └── be07d77f1c89fac743265d88322f9007b3da0d\n",
      "├── 2c\n",
      "│   └── 7a36b19ab9a3cdef2879c58a433c677e8fec94\n",
      "├── 2f\n",
      "│   ├── 5046c66e5904fa33b33453e5db14f8f1d2388f\n",
      "│   └── b18d6f391a60a6dd11dabc319f7b757d5e1f51\n",
      "├── 30\n",
      "│   ├── 229f995bb3a5292b2bb305931fd990ff08d4c4\n",
      "│   └── 3c720fdd01213487f04ff781b93a1e81c31862\n",
      "├── 32\n",
      "│   └── 3d1dff97917fe2c238305c0a3b86e8252e0bdb\n",
      "├── 37\n",
      "│   └── b5ecc885e9bb595b5fa3a8bf7b929a2fb2f385\n",
      "├── 3f\n",
      "│   └── efe828b39ea673d5b603761c3954f51d537169\n",
      "├── 41\n",
      "│   └── 8c2aa7dc5029cfc6fe366623cee7ce0005bad1\n",
      "├── 42\n",
      "│   └── 27561bf20799117fa45b3c02e7a0331f1d87ca\n",
      "├── 45\n",
      "│   └── c745f44da6571be36a9152246add9c231764e4\n",
      "├── 47\n",
      "│   └── 43599e33b0ac7be23c63357148dfc1f35a2dcc\n",
      "├── 48\n",
      "│   └── 732dfb8eb4124b93ce927f83952fa9d4a573b5\n",
      "├── 5e\n",
      "│   └── a94e276a8b87be3e9f4570247ae73d2d055932\n",
      "├── 63\n",
      "│   └── b907fe4e03a0a99d87e7567c774208249f29ec\n",
      "├── 64\n",
      "│   └── e4f28b7995858c0e4aa801930b515b4f0c06b6\n",
      "├── 66\n",
      "│   └── 8e38954d99aaba357747323a15e6bd98e7e003\n",
      "├── 68\n",
      "│   ├── 32d3af550fad553e5cdaf36e8094f67b5f874a\n",
      "│   └── c7eca3758e74af8889e9115c399de98b920a42\n",
      "├── 69\n",
      "│   └── ea65be8643ea9af11d202e50138572b1c75302\n",
      "├── 6a\n",
      "│   └── 6ae99ec5f395a39102f39584a998800057a401\n",
      "├── 6c\n",
      "│   └── 80cc3f7add5ca4bc858c9385f0d2dc12624e5b\n",
      "├── 6e\n",
      "│   └── 780ed4a2207518728a87a2c5c532902c7fa6ea\n",
      "├── 72\n",
      "│   └── 8bcc7e463ec248d0faa5596105420aebed47ee\n",
      "├── 75\n",
      "│   └── ed0a91662785e09ff3204b68182017a574aebd\n",
      "├── 78\n",
      "│   └── 68741f490a738408439069c314343e3515186f\n",
      "├── 7e\n",
      "│   └── 38902bd1e49d9ce6eafb3363b42ce32b515b89\n",
      "├── 82\n",
      "│   └── 64a2ffd6431ef88d6936fd32e16cf16e587d9f\n",
      "├── 83\n",
      "│   ├── 053afccf2b2d449faf33d261c07407b44ee786\n",
      "│   └── 173b55f46a2445de8cf64075e9951f5fd6a1f9\n",
      "├── 87\n",
      "│   └── 3a4c77cc3bcfdde5722fe76058105ca7f238f1\n",
      "├── 8a\n",
      "│   └── a92153456f362da0f9d6e45ce332fbabcdadba\n",
      "├── 8c\n",
      "│   └── 2a56ec6bda1527f33e7a726335b8c9fa8f77e4\n",
      "├── 8f\n",
      "│   └── 359437267d18df043dda379a35243ac3e82c70\n",
      "├── 95\n",
      "│   └── 61939ef1ac6b7831556570c34088ada3453ae6\n",
      "├── 96\n",
      "│   └── ad78dd800e1c5839ebefbdc1551157dbd328fc\n",
      "├── 97\n",
      "│   └── 7d25115c7278e0c471946a56bdc67ad8c4c78f\n",
      "├── 9d\n",
      "│   └── d2ca46498aaed2766bb2bc960c782071289b6b\n",
      "├── a0\n",
      "│   └── b3a68afe8af43a4682b4810f95006dd20c76e5\n",
      "├── a4\n",
      "│   └── db84832564725de069fb065f68b4c88ccd2749\n",
      "├── a6\n",
      "│   └── 3cbb17d28c9f1f0598f89eb440df8af2739b7a\n",
      "├── aa\n",
      "│   └── e95b69f8a4393da21db714f5f6e568fb6a34b4\n",
      "├── b1\n",
      "│   └── d90a92463f97460f59a1c20b6f1f2840ab4ba4\n",
      "├── b4\n",
      "│   └── c02ee4250ce8413ea35f457c6e8a2f3c2902ff\n",
      "├── b6\n",
      "│   └── 6de856ab2242349f90a5ea24b57b98facb1492\n",
      "├── b8\n",
      "│   └── 29a9fc7276e10859daa24a351345df002947e6\n",
      "├── b9\n",
      "│   └── d08cf37c10975bbb0148538faa9f9ed5c67d22\n",
      "├── bf\n",
      "│   └── b05325a938de6eb4c9b0d195f0b23924300999\n",
      "├── c2\n",
      "│   └── 02e5df560c2d9cd5b9b0f2191f1e07bf942013\n",
      "├── c9\n",
      "│   └── 335088a0fd4e96280d9aa151a827057bd46908\n",
      "├── ca\n",
      "│   └── 041047bfa99960d0bf7ac5f87970858a9876e9\n",
      "├── cb\n",
      "│   ├── 1f9603e211a1f3fb7fddee43a6e1d03bea68cf\n",
      "│   ├── 50364fae82ff1a7c91cf9b45508139b9d542f2\n",
      "│   └── fb58bc686ede6741456b917f7fa4139956f2dd\n",
      "├── cc\n",
      "│   └── b345d5ebd3e29c023b3c155b384265c4e395df\n",
      "├── cd\n",
      "│   └── bde3c58f3fe51cd5c74f95b57cbf0913583ec6\n",
      "├── ce\n",
      "│   └── 6db306f969fff417da0dfb40bab15cd21075b2\n",
      "├── d4\n",
      "│   └── 09a457ef31cb5f7012de00c5066072da3d3e1a\n",
      "├── d8\n",
      "│   └── b184d77ac3c40be308f8477be9a9ec8f8329b0\n",
      "├── da\n",
      "│   ├── 498af4f4e84d675aa9bffe2ea095d5477fa0a8\n",
      "│   └── a7222145c484d33c4a7986a1ccc07f23bd0cf7\n",
      "├── db\n",
      "│   ├── 171c601c747533619abee0e651222c214f9b64\n",
      "│   └── bd9ec02223edefc12a5b2308543dea34b84211\n",
      "├── de\n",
      "│   └── e94422ec411448ad58e8f7915afdba8f73cc02\n",
      "├── e1\n",
      "│   └── ac106adadd9e507929f3fd5cf87a82e3475e5d\n",
      "├── e4\n",
      "│   └── 5cc004c402647d9c7abbf915b6e80b5aa01332\n",
      "├── e7\n",
      "│   └── 706c49fd12dac4f1555afda4cb13a73289ceea\n",
      "├── e8\n",
      "│   └── 03e574f460460aae052449f95dae61aca722bb\n",
      "├── e9\n",
      "│   └── b2dc26758b520a72d7250cda0bc3403485a9f7\n",
      "├── ea\n",
      "│   └── be7601b8bc979ae50f0ec371e2c57af010576d\n",
      "├── eb\n",
      "│   └── bed8c9c99e85944802547a7f6b1ecc786f3ad1\n",
      "├── ec\n",
      "│   └── e6e11424b1f09cfc2bab1bddfe61dcc6545944\n",
      "├── ee\n",
      "│   ├── 6d50f269081cc3f6c7d7e2b0c28c366fd66802\n",
      "│   └── d3e6e7dfe575f006667a19f0c1857fca9e5ce2\n",
      "├── ef\n",
      "│   └── a6e8b2d99c3007627cad92d4507a26ba8291d5\n",
      "├── f0\n",
      "│   └── b09df8e5131843ee3a10e3cc5e3a241e6ee31a\n",
      "├── fe\n",
      "│   └── a0c437947c17abe852a35867311788f9013512\n",
      "├── info\n",
      "└── pack\n",
      "\n",
      "82 directories, 93 files\n"
     ]
    }
   ],
   "source": [
    "%%bash\n",
    "tree ~/Desktop/flask-minitwit-mongodb/.git/objects"
   ]
  },
  {
   "cell_type": "code",
   "execution_count": 28,
   "metadata": {
    "slideshow": {
     "slide_type": "subslide"
    }
   },
   "outputs": [
    {
     "name": "stdout",
     "output_type": "stream",
     "text": [
      "total 8\n",
      "-r--r--r--  1 ropf  staff  170 Jan 28 16:00 e6e11424b1f09cfc2bab1bddfe61dcc6545944\n"
     ]
    }
   ],
   "source": [
    "%%bash\n",
    "ls -l ~/Desktop/flask-minitwit-mongodb/.git/objects/ec"
   ]
  },
  {
   "cell_type": "code",
   "execution_count": 29,
   "metadata": {
    "slideshow": {
     "slide_type": "fragment"
    }
   },
   "outputs": [
    {
     "name": "stdout",
     "output_type": "stream",
     "text": [
      "/Users/ropf/Desktop/flask-minitwit-mongodb/.git/objects/ec/e6e11424b1f09cfc2bab1bddfe61dcc6545944: VAX COFF executable not stripped - version 8361\n"
     ]
    }
   ],
   "source": [
    "%%bash\n",
    "file ~/Desktop/flask-minitwit-mongodb/.git/objects/ec/e6e11424b1f09cfc2bab1bddfe61dcc6545944"
   ]
  },
  {
   "cell_type": "code",
   "execution_count": 30,
   "metadata": {
    "slideshow": {
     "slide_type": "fragment"
    }
   },
   "outputs": [
    {
     "name": "stdout",
     "output_type": "stream",
     "text": [
      "x\u0001��A\n",
      "�0\u0010\u0000=�\u0015�\u0001e�I�\u0006D\u0014� �\u0017�\u0001�d�Bkk���-�\u0004o�\u001c",
      "�\t�0<\n",
      "��E�\"P�\u000b",
      "\u0012ɩ$�sH&q��Ul�v\u0018���!����<\u000b",
      "�\n",
      ">�� �Uc�u�\u0013�#L\u0016�l�0i��w��\u0019v�|�\u0019��Ar?\u0013�9��\u0015���\u001f�*��\u0006jm�B��%\u001a�j��i�\u001a�u�\\\u0004N�}w�t_��N*"
     ]
    }
   ],
   "source": [
    "%%bash\n",
    "cat ~/Desktop/flask-minitwit-mongodb/.git/objects/ec/e6e11424b1f09cfc2bab1bddfe61dcc6545944"
   ]
  },
  {
   "cell_type": "code",
   "execution_count": 31,
   "metadata": {
    "slideshow": {
     "slide_type": "fragment"
    }
   },
   "outputs": [
    {
     "name": "stdout",
     "output_type": "stream",
     "text": [
      "00000000: 7801 a58e 410a c230 1000 3df7 15fb 0165  x...A..0..=....e\n",
      "00000010: bb49 9a06 4414 a920 8817 f101 9b64 a342  .I..D.. .....d.B\n",
      "00000020: 6b6b 88e0 f32d f804 6fc3 1c86 09e3 303c  kk...-..o.....0<\n",
      "00000030: 0a90 a645 c922 508b 0b12 c9a9 24c6 7348  ...E.\"P.....$.sH\n",
      "00000040: 2671 a4e4 556c b576 1885 b4b0 21ab aa89  &q..Ul.v....!...\n",
      "00000050: b33c 0ba0 0a3e b0e3 209a 5563 b175 9e13  .<...>.. .Uc.u..\n",
      "00000060: 8a23 4c16 916c db30 69ef a4e2 77b9 8f19  .#L..l.0i...w...\n",
      "00000070: 76bd 7cf8 19b3 c041 723f 13ac 39fd e815  v.|....Ar?..9...\n",
      "00000080: b6b7 811f fd2a 8cc3 066a 6dea b942 8d85  .....*...jm..B..\n",
      "00000090: 251a c46a b6f3 6991 7f1a d575 8a5c 044e  %..j..i....u.\\.N\n",
      "000000a0: c77d 77be 745f fef8 4e2a                 .}w.t_..N*\n"
     ]
    }
   ],
   "source": [
    "%%bash\n",
    "xxd ~/Desktop/flask-minitwit-mongodb/.git/objects/ec/e6e11424b1f09cfc2bab1bddfe61dcc6545944"
   ]
  },
  {
   "cell_type": "markdown",
   "metadata": {
    "slideshow": {
     "slide_type": "subslide"
    }
   },
   "source": [
    "### What was that?\n",
    "\n",
    "  * Can you explain what you think you think the file `.git/objects/ec/e6e11424b1f09cfc2bab1bddfe61dcc6545944` actually contains."
   ]
  },
  {
   "cell_type": "markdown",
   "metadata": {
    "slideshow": {
     "slide_type": "subslide"
    }
   },
   "source": [
    "#### Commit Objects"
   ]
  },
  {
   "cell_type": "code",
   "execution_count": 32,
   "metadata": {},
   "outputs": [
    {
     "name": "stdout",
     "output_type": "stream",
     "text": [
      "commit 242\u0000tree 1e9ced293fe5bacf5fad2fb3d84490de24ea5273\n",
      "parent 03cbca9ace4a367089baf0e920f7002786a24b9e\n",
      "author Alexandre Ferland <aferlandqc@gmail.com> 1451920267 -0500\n",
      "committer Alexandre Ferland <aferlandqc@gmail.com> 1451920267 -0500\n",
      "\n",
      "Update LICENSE\n"
     ]
    }
   ],
   "source": [
    "import os\n",
    "import zlib\n",
    "\n",
    "\n",
    "fname = os.path.join(os.environ['HOME'], \"Desktop\", \"flask-minitwit-mongodb\", \n",
    "                     \".git\", \"objects\", \"ec\", \n",
    "                     \"e6e11424b1f09cfc2bab1bddfe61dcc6545944\")\n",
    "with open(fname, 'rb') as fp:\n",
    "    file_contents = fp.read()\n",
    "\n",
    "uncompressed_file_contents = zlib.decompress(file_contents)\n",
    "uncompressed_file_contents = uncompressed_file_contents.decode('ascii')\n",
    "print(uncompressed_file_contents)"
   ]
  },
  {
   "cell_type": "markdown",
   "metadata": {
    "slideshow": {
     "slide_type": "subslide"
    }
   },
   "source": [
    "#### Tree objects"
   ]
  },
  {
   "cell_type": "code",
   "execution_count": 33,
   "metadata": {},
   "outputs": [
    {
     "name": "stdout",
     "output_type": "stream",
     "text": [
      "b'tree 307\\x00100644 .gitignore\\x007\\xb5\\xec\\xc8\\x85\\xe9\\xbbY[_\\xa3\\xa8\\xbf{\\x92\\x9a/\\xb2\\xf3\\x85100644 LICENSE\\x00!^\\xb8w\\x91.\\x17F\\x1f\\x83\\xc4\\x135\\xb5\\x81\\x8bm\\xa2{\\xe1100644 README.md\\x00\\nMW\\xd3(\\xa4p\\x97\\x8f\\xf1\\xa6\\xed\\xa3\\x02\\xf7\"<\\xad0 100644 minitwit.py\\x00\\xee\\xd3\\xe6\\xe7\\xdf\\xe5u\\xf0\\x06fz\\x19\\xf0\\xc1\\x85\\x7f\\xca\\x9e\\\\\\xe2100644 minitwit_tests.py\\x00\\x8f5\\x947&}\\x18\\xdf\\x04=\\xda7\\x9a5$:\\xc3\\xe8,p100644 requirements.txt\\x00\\xb9\\xd0\\x8c\\xf3|\\x10\\x97[\\xbb\\x01HS\\x8f\\xaa\\x9f\\x9e\\xd5\\xc6}\"40000 static\\x00\\xe8\\x03\\xe5t\\xf4`F\\n\\xae\\x05$I\\xf9]\\xaea\\xac\\xa7\"\\xbb40000 templates\\x00GCY\\x9e3\\xb0\\xac{\\xe2<c5qH\\xdf\\xc1\\xf3Z-\\xcc'\n"
     ]
    }
   ],
   "source": [
    "import os\n",
    "import zlib\n",
    "\n",
    "\n",
    "fname = os.path.join(os.environ['HOME'], \"Desktop\", \"flask-minitwit-mongodb\", \n",
    "                     \".git\", \"objects\", \"1e\", \n",
    "                     \"9ced293fe5bacf5fad2fb3d84490de24ea5273\")\n",
    "with open(fname, 'rb') as fp:\n",
    "    file_contents = fp.read()\n",
    "\n",
    "uncompressed_file_contents = zlib.decompress(file_contents)\n",
    "# See https://stackoverflow.com/a/35902553 for decoding futher\n",
    "print(uncompressed_file_contents)"
   ]
  },
  {
   "cell_type": "code",
   "execution_count": 3,
   "metadata": {},
   "outputs": [
    {
     "name": "stdout",
     "output_type": "stream",
     "text": [
      "100644 blob 37b5ecc885e9bb595b5fa3a8bf7b929a2fb2f385\t.gitignore\n",
      "100644 blob 215eb877912e17461f83c41335b5818b6da27be1\tLICENSE\n",
      "100644 blob 0a4d57d328a470978ff1a6eda302f7223cad3020\tREADME.md\n",
      "100644 blob eed3e6e7dfe575f006667a19f0c1857fca9e5ce2\tminitwit.py\n",
      "100644 blob 8f359437267d18df043dda379a35243ac3e82c70\tminitwit_tests.py\n",
      "100644 blob b9d08cf37c10975bbb0148538faa9f9ed5c67d22\trequirements.txt\n",
      "040000 tree e803e574f460460aae052449f95dae61aca722bb\tstatic\n",
      "040000 tree 4743599e33b0ac7be23c63357148dfc1f35a2dcc\ttemplates\n"
     ]
    }
   ],
   "source": [
    "%%bash\n",
    "git -C ~/Desktop/flask-minitwit-mongodb ls-tree HEAD"
   ]
  },
  {
   "cell_type": "markdown",
   "metadata": {
    "slideshow": {
     "slide_type": "subslide"
    }
   },
   "source": [
    "#### Blob objects"
   ]
  },
  {
   "cell_type": "code",
   "execution_count": 35,
   "metadata": {},
   "outputs": [
    {
     "name": "stdout",
     "output_type": "stream",
     "text": [
      "blob 6870\u0000# -*- coding: utf-8 -*-\n",
      "import datetime\n",
      "from hashlib import md5\n",
      "\n",
      "import pytz\n",
      "from flask import Flask, request, session, url_for, redirect, \\\n",
      "    render_template, abort, g, flash\n",
      "from werkzeug.security import check_password_hash, generate_password_hash\n",
      "from flask.ext.pymongo import PyMongo\n",
      "from bson.objectid import ObjectId\n",
      "\n",
      "# create our little application :)\n",
      "app = Flask(__name__)\n",
      "\n",
      "# setup mongodb\n",
      "mongo = PyMongo(app)\n",
      "\n",
      "# Load default config and override config from an environment variable\n",
      "app.config.update(dict(\n",
      "    DEBUG=True,\n",
      "    SECRET_KEY='development key'))\n",
      "app.config.from_envvar('MINITWIT_SETTINGS', silent=True)\n",
      "\n",
      "\n",
      "def get_user_id(username):\n",
      "    \"\"\"Convenience method to look up the id for a username.\"\"\"\n",
      "    rv = mongo.db.user.find_one({'username': username}, {'_id': 1})\n",
      "    return rv['_id'] if rv else None\n",
      "\n",
      "\n",
      "def format_datetime(timestamp):\n",
      "    \"\"\"Format a timestamp for display.\"\"\"\n",
      "    return timestamp.replace(tzinfo=pytz.utc).strftime('%Y-%m-%d @ %H:%M')\n",
      "\n",
      "\n",
      "def gravatar_url(email, size=80):\n",
      "    \"\"\"Return the gravatar image for the given email address.\"\"\"\n",
      "    return 'http://www.gravatar.com/avatar/%s?d=identicon&s=%d' % \\\n",
      "           (md5(email.strip().lower().encode('utf-8')).hexdigest(), size)\n",
      "\n",
      "\n",
      "@app.before_request\n",
      "def before_request():\n",
      "    g.user = None\n",
      "    if 'user_id' in session:\n",
      "        g.user = mongo.db.user.find_one({'_id': ObjectId(session['user_id'])})\n",
      "\n",
      "\n",
      "@app.route('/')\n",
      "def timeline():\n",
      "    \"\"\"Shows a users timeline or if no user is logged in it will\n",
      "    redirect to the public timeline.  This timeline shows the user's\n",
      "    messages as well as all the messages of followed users.\n",
      "    \"\"\"\n",
      "    if not g.user:\n",
      "        return redirect(url_for('public_timeline'))\n",
      "    followed = mongo.db.follower.find_one(\n",
      "        {'who_id': ObjectId(session['user_id'])}, {'whom_id': 1})\n",
      "    if followed is None:\n",
      "        followed = {'whom_id': []}\n",
      "    messages = mongo.db.message.find(\n",
      "        {'$or': [\n",
      "            {'author_id': ObjectId(session['user_id'])},\n",
      "            {'author_id': {'$in': followed['whom_id']}}\n",
      "        ]}).sort('pub_date', -1)\n",
      "    return render_template('timeline.html', messages=messages)\n",
      "\n",
      "\n",
      "@app.route('/public')\n",
      "def public_timeline():\n",
      "    \"\"\"Displays the latest messages of all users.\"\"\"\n",
      "    messages = mongo.db.message.find().sort('pub_date', -1)\n",
      "    return render_template('timeline.html', messages=messages)\n",
      "\n",
      "\n",
      "@app.route('/<username>')\n",
      "def user_timeline(username):\n",
      "    \"\"\"Display's a users tweets.\"\"\"\n",
      "    profile_user = mongo.db.user.find_one({'username': username})\n",
      "    if profile_user is None:\n",
      "        abort(404)\n",
      "    followed = False\n",
      "    if g.user:\n",
      "        followed = mongo.db.follower.find_one(\n",
      "            {'who_id': ObjectId(session['user_id']),\n",
      "             'whom_id': {'$in': [ObjectId(profile_user['_id'])]}}) is not None\n",
      "    messages = mongo.db.message.find(\n",
      "        {'author_id': ObjectId(profile_user['_id'])}).sort('pub_date', -1)\n",
      "    return render_template('timeline.html', messages=messages,\n",
      "                           followed=followed, profile_user=profile_user)\n",
      "\n",
      "\n",
      "@app.route('/<username>/follow')\n",
      "def follow_user(username):\n",
      "    \"\"\"Adds the current user as follower of the given user.\"\"\"\n",
      "    if not g.user:\n",
      "        abort(401)\n",
      "    whom_id = get_user_id(username)\n",
      "    if whom_id is None:\n",
      "        abort(404)\n",
      "    mongo.db.follower.update(\n",
      "        {'who_id': ObjectId(session['user_id'])},\n",
      "        {'$push': {'whom_id': whom_id}}, upsert=True)\n",
      "    flash('You are now following \"%s\"' % username)\n",
      "    return redirect(url_for('user_timeline', username=username))\n",
      "\n",
      "\n",
      "@app.route('/<username>/unfollow')\n",
      "def unfollow_user(username):\n",
      "    \"\"\"Removes the current user as follower of the given user.\"\"\"\n",
      "    if not g.user:\n",
      "        abort(401)\n",
      "    whom_id = get_user_id(username)\n",
      "    if whom_id is None:\n",
      "        abort(404)\n",
      "    mongo.db.follower.update(\n",
      "        {'who_id': ObjectId(session['user_id'])},\n",
      "        {'$pull': {'whom_id': whom_id}})\n",
      "    flash('You are no longer following \"%s\"' % username)\n",
      "    return redirect(url_for('user_timeline', username=username))\n",
      "\n",
      "\n",
      "@app.route('/add_message', methods=['POST'])\n",
      "def add_message():\n",
      "    \"\"\"Registers a new message for the user.\"\"\"\n",
      "    if 'user_id' not in session:\n",
      "        abort(401)\n",
      "    if request.form['text']:\n",
      "        user = mongo.db.user.find_one(\n",
      "            {'_id': ObjectId(session['user_id'])}, {'email': 1, 'username': 1})\n",
      "        mongo.db.message.insert(\n",
      "            {'author_id': ObjectId(session['user_id']),\n",
      "             'email': user['email'],\n",
      "             'username': user['username'],\n",
      "             'text': request.form['text'],\n",
      "             'pub_date': datetime.datetime.utcnow()})\n",
      "        flash('Your message was recorded')\n",
      "    return redirect(url_for('timeline'))\n",
      "\n",
      "\n",
      "@app.route('/login', methods=['GET', 'POST'])\n",
      "def login():\n",
      "    \"\"\"Logs the user in.\"\"\"\n",
      "    if g.user:\n",
      "        return redirect(url_for('timeline'))\n",
      "    error = None\n",
      "    if request.method == 'POST':\n",
      "        user = mongo.db.user.find_one({'username': request.form['username']})\n",
      "        if user is None:\n",
      "            error = 'Invalid username'\n",
      "        elif not check_password_hash(user['pw_hash'], request.form['password']):\n",
      "            error = 'Invalid password'\n",
      "        else:\n",
      "            flash('You were logged in')\n",
      "            session['user_id'] = str(user['_id'])\n",
      "            return redirect(url_for('timeline'))\n",
      "    return render_template('login.html', error=error)\n",
      "\n",
      "\n",
      "@app.route('/register', methods=['GET', 'POST'])\n",
      "def register():\n",
      "    \"\"\"Registers the user.\"\"\"\n",
      "    if g.user:\n",
      "        return redirect(url_for('timeline'))\n",
      "    error = None\n",
      "    if request.method == 'POST':\n",
      "        if not request.form['username']:\n",
      "            error = 'You have to enter a username'\n",
      "        elif not request.form['email'] or '@' not in request.form['email']:\n",
      "            error = 'You have to enter a valid email address'\n",
      "        elif not request.form['password']:\n",
      "            error = 'You have to enter a password'\n",
      "        elif request.form['password'] != request.form['password2']:\n",
      "            error = 'The two passwords do not match'\n",
      "        elif get_user_id(request.form['username']) is not None:\n",
      "            error = 'The username is already taken'\n",
      "        else:\n",
      "            mongo.db.user.insert(\n",
      "                {'username': request.form['username'],\n",
      "                 'email': request.form['email'],\n",
      "                 'pw_hash': generate_password_hash(request.form['password'])})\n",
      "            flash('You were successfully registered and can login now')\n",
      "            return redirect(url_for('login'))\n",
      "    return render_template('register.html', error=error)\n",
      "\n",
      "\n",
      "@app.route('/logout')\n",
      "def logout():\n",
      "    \"\"\"Logs the user out.\"\"\"\n",
      "    flash('You were logged out')\n",
      "    session.pop('user_id', None)\n",
      "    return redirect(url_for('public_timeline'))\n",
      "\n",
      "\n",
      "# add some filters to jinja\n",
      "app.jinja_env.filters['datetimeformat'] = format_datetime\n",
      "app.jinja_env.filters['gravatar'] = gravatar_url\n",
      "\n",
      "if __name__ == '__main__':\n",
      "    app.run()\n"
     ]
    }
   ],
   "source": [
    "import os\n",
    "import zlib\n",
    "\n",
    "\n",
    "fname = os.path.join(os.environ['HOME'], \"Desktop\", \"flask-minitwit-mongodb\", \n",
    "                     \".git\", \"objects\", \"ee\", \n",
    "                     \"d3e6e7dfe575f006667a19f0c1857fca9e5ce2\")\n",
    "with open(fname, 'rb') as fp:\n",
    "    file_contents = fp.read()\n",
    "\n",
    "uncompressed_file_contents = zlib.decompress(file_contents).decode('utf-8')\n",
    "print(uncompressed_file_contents)"
   ]
  },
  {
   "cell_type": "markdown",
   "metadata": {},
   "source": [
    "## Basics\n",
    "\n",
    "### Git keeps 'Snapshots' of data\n",
    "\n",
    "![](http://git-scm.com/figures/18333fig0105-tn.png)\n",
    "\n",
    "  * On every commit, Git takes a picture of what files look like at that moment and stores a reference to that snapshot. \n",
    "  * For efficiency, unchanged files are stored by links to already existing ones."
   ]
  },
  {
   "cell_type": "markdown",
   "metadata": {
    "slideshow": {
     "slide_type": "subslide"
    }
   },
   "source": [
    "### CVCS keep deltas of data\n",
    "\n",
    "![](http://git-scm.com/figures/18333fig0104-tn.png)\n"
   ]
  },
  {
   "cell_type": "markdown",
   "metadata": {
    "slideshow": {
     "slide_type": "subslide"
    }
   },
   "source": [
    "## Properties\n",
    "\n",
    "  * Nearly every operation is local\n",
    "    * Most operations in Git only need local files and no information from another network\n",
    "    * You can work from the train...\n",
    "  * Every operation on files is check-summed with a SHA-1 hash "
   ]
  },
  {
   "cell_type": "markdown",
   "metadata": {
    "slideshow": {
     "slide_type": "subslide"
    }
   },
   "source": [
    "# A bit of VCS history\n",
    "\n",
    "## Local Version Control Systems\n",
    "\n",
    "  * Many people do version-control by copying files into another directory\n",
    "    * perhaps time-stamped\n",
    "  * **Drawback**: error prone! It is easy to overwrite files when in the wrong directory\n",
    "  * **Solution**: local revision control systems, like `rcs` are simple databases keeping all changes to files under revision control\n",
    "    * keeps patch sets, that is, differences between files, from one revision to another in a special format on disk\n",
    "  \n",
    "![](http://git-scm.com/figures/18333fig0101-tn.png)"
   ]
  },
  {
   "cell_type": "markdown",
   "metadata": {
    "slideshow": {
     "slide_type": "subslide"
    }
   },
   "source": [
    "# Centralized Version Control Systems\n",
    "\n",
    "  * To work collaboratively and to enable versioning Centralized Version Control Systems (CVCSs) were developed, such as:\n",
    "    * [Concurrent Versions System (CVS)](http://savannah.nongnu.org/projects/cvs)\n",
    "    * [Subversion (SVN)](https://subversion.apache.org/)\n",
    "    \n",
    "  \n",
    "![](http://git-scm.com/figures/18333fig0102-tn.png)\n",
    "    \n",
    "  * **Advantage**:\n",
    "    * You can collaborate and know approximately what others are working on and commiting\n",
    "    * One can administrate things like access controll, etc.\n",
    "  * **Drawback**:\n",
    "    * Central server is single point of failure"
   ]
  },
  {
   "cell_type": "markdown",
   "metadata": {
    "slideshow": {
     "slide_type": "subslide"
    }
   },
   "source": [
    "# Distributed Version Control Systems\n",
    "\n",
    "  * To work collaboratively on distributed repositories Distributed Version Control Systems (DVCSs) were developed, such as:\n",
    "    * [Git](https://git-scm.com)\n",
    "    * [Mercurial](https://www.mercurial-scm.org/)\n",
    "    * [Darcs](http://darcs.net)\n",
    "![](http://git-scm.com/figures/18333fig0103-tn.png)\n",
    "  * More than a snapshot of the latest files on server\n",
    "  * Full clone of the repository, i.e., every checkout is a full backup of all the data including history\n",
    "  * Possibly more flexible workflows than with CVCS"
   ]
  },
  {
   "cell_type": "markdown",
   "metadata": {
    "slideshow": {
     "slide_type": "fragment"
    }
   },
   "source": [
    "The slides above are adapted from: https://git-scm.com/book/en/v2/Getting-Started-About-Version-Control"
   ]
  },
  {
   "cell_type": "markdown",
   "metadata": {
    "slideshow": {
     "slide_type": "subslide"
    }
   },
   "source": [
    "# Branching, Merging, and Rebasing"
   ]
  },
  {
   "cell_type": "markdown",
   "metadata": {
    "slideshow": {
     "slide_type": "subslide"
    }
   },
   "source": [
    "## What is a branch in Git?\n",
    "\n",
    "\n",
    "![](https://git-scm.com/book/en/v2/images/head-to-master.png)\n",
    "\n"
   ]
  },
  {
   "cell_type": "markdown",
   "metadata": {
    "slideshow": {
     "slide_type": "subslide"
    }
   },
   "source": [
    "\n",
    "  > A branch in Git is simply a lightweight movable pointer to one of these commits. The default branch name in Git is `master`. As you start making commits, you’re given a `master` branch that points to the last commit you made. Every time you commit, the master branch pointer moves forward automatically.\n",
    "  > \n",
    "  > Note: The “`master`” branch in Git is not a special branch. It is exactly like any other branch. The only reason nearly every repository has one is that the git init command creates it by default and most people don’t bother to change it.\n",
    "  >\n",
    "  > https://git-scm.com/book/en/v2/Git-Branching-Branches-in-a-Nutshell#ch03-git-branching"
   ]
  },
  {
   "cell_type": "markdown",
   "metadata": {
    "slideshow": {
     "slide_type": "subslide"
    }
   },
   "source": [
    "### Rebasing?\n",
    "\n",
    "\n",
    "<img src=\"https://git-scm.com/book/en/v2/images/basic-rebase-1.png\" width=\"80%\">\n",
    "\n",
    "##### Merging\n",
    "\n",
    "![](https://git-scm.com/book/en/v2/images/basic-rebase-2.png)\n",
    "\n",
    "##### Rebasing\n",
    "\n",
    "  > With the `rebase` command, you can take all the changes that were committed on one branch and replay them on a different branch.\n",
    "  >\n",
    "  >\n",
    "\n",
    "\n",
    "```bash\n",
    "$ git checkout experiment\n",
    "$ git rebase master\n",
    "First, rewinding head to replay your work on top of it...\n",
    "Applying: added staged command\n",
    "```\n",
    "\n",
    "![](https://git-scm.com/book/en/v2/images/basic-rebase-3.png)\n",
    "\n",
    "\n",
    "```bash\n",
    "$ git checkout master\n",
    "$ git merge experiment\n",
    "```\n",
    "\n",
    "![](https://git-scm.com/book/en/v2/images/basic-rebase-4.png)\n",
    "\n",
    "\n",
    "See https://git-scm.com/book/en/v2/Git-Branching-Rebasing for a more elaborate example."
   ]
  },
  {
   "cell_type": "markdown",
   "metadata": {
    "slideshow": {
     "slide_type": "subslide"
    }
   },
   "source": [
    "#### When to \"`rebase`\" and when not to?\n",
    "\n",
    "  > **Do not rebase commits that exist outside your repository and that people may have based work on.**\n",
    "  >\n",
    "  > When you rebase stuff, you’re abandoning existing commits and creating new ones that are similar but different. If you push commits somewhere and others pull them down and base work on them, and then you rewrite those commits with git rebase and push them up again, your collaborators will have to re-merge their work and things will get messy when you try to pull their work back into yours.\n",
    "  >\n",
    "  > https://git-scm.com/book/en/v2/Git-Branching-Rebasing#rbdiag_e\n",
    "  "
   ]
  },
  {
   "cell_type": "markdown",
   "metadata": {
    "slideshow": {
     "slide_type": "subslide"
    }
   },
   "source": [
    "#### Why would I like to \"`rebase`\" then at all?\n",
    "\n",
    " \n",
    "  > One point of view on this is that your **repository’s commit history is a record of what actually happened**. It’s a historical document, valuable in its own right, and shouldn’t be tampered with. From this angle, changing the commit history is almost blasphemous; you’re lying about what actually transpired. So what if there was a messy series of merge commits? That’s how it happened, and the repository should preserve that for posterity.\n",
    "  >\n",
    "  > The opposing point of view is that **the commit history is the story of how your project was made**. You wouldn’t publish the first draft of a book, and the manual for how to maintain your software deserves careful editing. This is the camp that uses tools like rebase and filter-branch to tell the story in the way that’s best for future readers.\n",
    "  >\n",
    "  > https://git-scm.com/book/en/v2/Git-Branching-Rebasing#rbdiag_e\n"
   ]
  },
  {
   "cell_type": "markdown",
   "metadata": {
    "slideshow": {
     "slide_type": "slide"
    }
   },
   "source": [
    "# Repository models - How do we organize our code?\n",
    "\n",
    "One question that you likely have when developing is: \"How do I organize my artifacts?\"\n",
    "\n",
    "In the \"wild\" you will likely find the following:\n",
    "  - Mono repositories\n",
    "  - Distributed repositories\n",
    "  - Repositories with submodules"
   ]
  },
  {
   "cell_type": "markdown",
   "metadata": {
    "slideshow": {
     "slide_type": "subslide"
    }
   },
   "source": [
    "### Mono repositories\n",
    "\n",
    "\n",
    "\n",
    "\n",
    "\n",
    "  > Most of Google’s code is stored in a single unified source-code repository, and is accessible to all software engineers at Google.\n",
    "  > \n",
    "  > (Customer data is tightly secured, it's only source code that's accessible.) There are some notable exceptions to the use of this single widely accessible repository, particularly the two large open-source projects Chrome and Android [...]\n",
    "  > \n",
    "  > As of January 2015, this 86 terabyte repository contained a billion files, including over 9 million source code files containing a total of 2 billion lines of source code, with a history of 35million commits and a change rate of 40 thousand commits per workday [...]\n",
    "  > \n",
    "  > Write access to the repository is controlled: only the listed owners of each subtree of the repository can approve changes to that subtree.\n",
    "  > \n",
    "  > Section _\"2.1. The Source Repository\"_ in Henderson [_\"Software Engineering at Google\"_](https://arxiv.org/pdf/1702.01715.pdf)\n",
    "  "
   ]
  },
  {
   "cell_type": "markdown",
   "metadata": {
    "slideshow": {
     "slide_type": "subslide"
    }
   },
   "source": [
    "### Distributed repositories\n",
    "\n",
    "\n",
    "Most often we build software as \"system of systems\" (see, e.g., https://resources.sei.cmu.edu/asset_files/TechnicalNote/2005_004_001_14471.pdf). That is, we aggregate software of different origin into a another system.\n",
    "\n",
    "All the other systems usually are unaware of each other and under separate version control.\n",
    "\n",
    "For example, more than 116,000 projects on PyPI (https://arxiv.org/abs/1907.11073) are usually located each in their own repository. Similarly, Ruby Gems (https://link.springer.com/chapter/10.1007/978-3-642-21544-5_5, https://rubygems.org/) and any other software library or software package are developed in distributed repositories.\n",
    "\n"
   ]
  },
  {
   "cell_type": "markdown",
   "metadata": {
    "slideshow": {
     "slide_type": "subslide"
    }
   },
   "source": [
    "### Repositories with submodules\n",
    "\n",
    "\n",
    "In between the two extremes, i.e., mono-repositories and distributed repositories, there are repositories with submodules (at least in the realm of Git).\n",
    "\n",
    "Look for example at the [FermiKit project](https://github.com/lh3/fermikit).\n",
    "\n",
    "![](images/fermikit.png)\n"
   ]
  },
  {
   "cell_type": "code",
   "execution_count": 6,
   "metadata": {
    "slideshow": {
     "slide_type": "subslide"
    }
   },
   "outputs": [
    {
     "name": "stderr",
     "output_type": "stream",
     "text": [
      "Cloning into '/Users/ropf/Desktop/fermikit'...\n"
     ]
    }
   ],
   "source": [
    "%%bash\n",
    "git clone https://github.com/lh3/fermikit.git ~/Desktop/fermikit\n",
    "ls -ltrh ~/Desktop/fermikit/bfc/"
   ]
  },
  {
   "cell_type": "code",
   "execution_count": 24,
   "metadata": {},
   "outputs": [],
   "source": [
    "%%bash\n",
    "ls -ltrh ~/Desktop/fermikit/bfc/"
   ]
  },
  {
   "cell_type": "code",
   "execution_count": 7,
   "metadata": {
    "slideshow": {
     "slide_type": "fragment"
    }
   },
   "outputs": [
    {
     "name": "stdout",
     "output_type": "stream",
     "text": [
      "Submodule path 'bfc': checked out 'a73dad248dc56d9d4d22eacbbbc51ac276045168'\n",
      "Submodule path 'bwa': checked out '5961611c358e480110793bbf241523a3cfac049b'\n",
      "Submodule path 'fermi2': checked out '580ec8ffd30b73e33c7dda5b13a5bfb4281466ac'\n",
      "Submodule path 'hapdip': checked out '864755b1b9160f5a3faaaf53a0e35feccbc7f1fd'\n",
      "Submodule path 'htsbox': checked out '48696952026f1efb2bf7cfa3bc1d3ff227901f79'\n",
      "Submodule path 'ropebwt2': checked out 'e23a7df263571c02aa0c0434e623108482097e3d'\n",
      "Submodule path 'seqtk': checked out '5e1e8dbd506ea1ff8c77d468a1f27b8e8f73eac0'\n",
      "Submodule path 'trimadap': checked out 'a577c413337df1fbc9c7ac11f925eb7dcc0e8209'\n",
      "total 312\n",
      "-rw-r--r--   1 ropf  staff   1.1K Feb  7 23:09 LICENSE.txt\n",
      "-rw-r--r--   1 ropf  staff   832B Feb  7 23:09 Makefile\n",
      "-rw-r--r--   1 ropf  staff   2.6K Feb  7 23:09 README.md\n",
      "-rw-r--r--   1 ropf  staff   2.2K Feb  7 23:09 bbf.c\n",
      "-rw-r--r--   1 ropf  staff   428B Feb  7 23:09 bbf.h\n",
      "-rw-r--r--   1 ropf  staff   4.9K Feb  7 23:09 bfc.c\n",
      "-rw-r--r--   1 ropf  staff   1.1K Feb  7 23:09 bfc.h\n",
      "-rw-r--r--   1 ropf  staff   2.0K Feb  7 23:09 bseq.c\n",
      "-rw-r--r--   1 ropf  staff   423B Feb  7 23:09 bseq.h\n",
      "-rw-r--r--   1 ropf  staff    20K Feb  7 23:09 correct.c\n",
      "-rw-r--r--   1 ropf  staff   4.6K Feb  7 23:09 count.c\n",
      "-rw-r--r--   1 ropf  staff   3.1K Feb  7 23:09 errstat.js\n",
      "-rw-r--r--   1 ropf  staff   2.1K Feb  7 23:09 hash2cnt.c\n",
      "-rw-r--r--   1 ropf  staff   4.1K Feb  7 23:09 htab.c\n",
      "-rw-r--r--   1 ropf  staff   717B Feb  7 23:09 htab.h\n",
      "-rw-r--r--   1 ropf  staff    21K Feb  7 23:09 khash.h\n",
      "-rw-r--r--   1 ropf  staff   2.8K Feb  7 23:09 kmer.h\n",
      "-rw-r--r--   1 ropf  staff   8.5K Feb  7 23:09 kseq.h\n",
      "-rw-r--r--   1 ropf  staff    10K Feb  7 23:09 ksort.h\n",
      "-rw-r--r--   1 ropf  staff   3.6K Feb  7 23:09 kthread.c\n",
      "-rw-r--r--   1 ropf  staff   3.2K Feb  7 23:09 kvec.h\n",
      "drwxr-xr-x  11 ropf  staff   352B Feb  7 23:09 tex\n",
      "-rw-r--r--   1 ropf  staff   346B Feb  7 23:09 utils.c\n"
     ]
    },
    {
     "name": "stderr",
     "output_type": "stream",
     "text": [
      "Submodule 'bfc' (https://github.com/lh3/bfc) registered for path 'bfc'\n",
      "Submodule 'bwa' (https://github.com/lh3/bwa) registered for path 'bwa'\n",
      "Submodule 'fermi2' (https://github.com/lh3/fermi2.git) registered for path 'fermi2'\n",
      "Submodule 'hapdip' (https://github.com/lh3/hapdip) registered for path 'hapdip'\n",
      "Submodule 'htsbox' (https://github.com/lh3/htsbox) registered for path 'htsbox'\n",
      "Submodule 'ropebwt2' (https://github.com/lh3/ropebwt2) registered for path 'ropebwt2'\n",
      "Submodule 'seqtk' (https://github.com/lh3/seqtk.git) registered for path 'seqtk'\n",
      "Submodule 'trimadap' (https://github.com/lh3/trimadap) registered for path 'trimadap'\n",
      "Cloning into '/Users/ropf/Desktop/fermikit/bfc'...\n",
      "Cloning into '/Users/ropf/Desktop/fermikit/hapdip'...\n",
      "Cloning into '/Users/ropf/Desktop/fermikit/bwa'...\n",
      "Cloning into '/Users/ropf/Desktop/fermikit/fermi2'...\n",
      "Cloning into '/Users/ropf/Desktop/fermikit/seqtk'...\n",
      "Cloning into '/Users/ropf/Desktop/fermikit/ropebwt2'...\n",
      "Cloning into '/Users/ropf/Desktop/fermikit/htsbox'...\n",
      "Cloning into '/Users/ropf/Desktop/fermikit/trimadap'...\n"
     ]
    }
   ],
   "source": [
    "%%bash\n",
    "cd ~/Desktop/fermikit\n",
    "git submodule init\n",
    "git submodule update\n",
    "ls -ltrh ~/Desktop/fermikit/bfc/"
   ]
  },
  {
   "cell_type": "markdown",
   "metadata": {
    "slideshow": {
     "slide_type": "subslide"
    }
   },
   "source": [
    "<!--\n",
    "http://tinyheero.github.io/2015/08/12/git-submodules.html\n",
    "-->\n",
    "\n",
    "Another example is the [Hugo](https://gohugo.io/) theme [Hyde](https://github.com/htr3n/hyde-hyde), see https://github.com/htr3n/hyde-hyde#installation.\n",
    "\n",
    "More on Git submodules: https://git-scm.com/book/en/v2/Git-Tools-Submodules"
   ]
  },
  {
   "cell_type": "markdown",
   "metadata": {
    "slideshow": {
     "slide_type": "slide"
    }
   },
   "source": [
    "# Branching models - How do we work on code?\n",
    "\n",
    "\n",
    "\n",
    "  > “We are a team of four senior developers (by which I mean we’re all over 40 with 20+ years each of development experience) and not one of us has had a positive experience in the past with branching the mainline...The branch is easy - it’s the merge at the end that’s painful”.\n",
    "  >\n",
    "  >  [Phillips et al. _\"Branching and Merging: An Investigation into Current Version Control Practices\"_](http://citeseerx.ist.psu.edu/viewdoc/download?doi=10.1.1.278.6065&rep=rep1&type=pdf)\n"
   ]
  },
  {
   "cell_type": "markdown",
   "metadata": {
    "slideshow": {
     "slide_type": "subslide"
    }
   },
   "source": [
    "## Long-Running Branches/Branch by Release\n",
    "\n",
    "Many Git developers have only code that is entirely stable in the `master` branch —possibly only code that has been or will be released. Another parallel branch named `develop` or `next` contains work to test for stability —it is not necessarily always stable, but whenever it gets to a stable state, it can be merged into `master`. It is used to pull in topic branches when they are ready.\n",
    "\n",
    "In reality, we are talking about pointers moving up the line of commits. The stable branches are farther down the line in your commit history, and the bleeding-edge branches are farther up the history.\n",
    "\n",
    "\n",
    "![](http://git-scm.com/figures/18333fig0318-tn.png)\n",
    "\n",
    "That is, we can think about those branches as work silos, where sets of commits graduate to a more stable silo when they are fully tested.\n",
    "\n",
    "![](http://git-scm.com/figures/18333fig0319-tn.png)\n",
    "\n",
    "\n",
    "Figure 1. of [Walrad et al. _\"The Importance of Branching Models in SCM\"_](\n",
    "https://www.researchgate.net/profile/Chuck_Walrad/publication/2955749_The_importance_of_branching_models_in_SCM/links/0c960536418f2f0da4000000/The-importance-of-branching-models-in-SCM.pdf)"
   ]
  },
  {
   "cell_type": "markdown",
   "metadata": {
    "slideshow": {
     "slide_type": "subslide"
    }
   },
   "source": [
    "## Topic Branches\n",
    "\n",
    "A topic branch is a short-lived branch that you create and use for a single particular feature or related work. You saw this in the preparation material with the `iss53` and `hotfix` branches.\n",
    "\n",
    "![](http://git-scm.com/figures/18333fig0320-tn.png)\n",
    "\n",
    "\n",
    "After merging `iss91v2` and `dumbidea` and throwing away the original `iss91` branch (losing commits C5 and C6) the repository's history looks as in the following:\n",
    "\n",
    "![](http://git-scm.com/figures/18333fig0321-tn.png)"
   ]
  },
  {
   "cell_type": "markdown",
   "metadata": {
    "slideshow": {
     "slide_type": "subslide"
    }
   },
   "source": [
    "## Git-Flow\n",
    "\n",
    "Read on it here: http://nvie.com/posts/a-successful-git-branching-model/\n",
    "\n",
    "<img src=\"http://nvie.com/img/git-model@2x.png\" width=\"50%\">"
   ]
  },
  {
   "cell_type": "markdown",
   "metadata": {
    "slideshow": {
     "slide_type": "subslide"
    }
   },
   "source": [
    "## Github-Flow\n",
    "\n",
    "A version of the Git-Flow but adapted to Github's features, see https://githubflow.github.io/ and https://guides.github.com/introduction/flow/\n",
    "\n",
    "![](https://lucamezzalira.files.wordpress.com/2014/03/screen-shot-2014-03-08-at-23-07-361.png)"
   ]
  },
  {
   "cell_type": "markdown",
   "metadata": {
    "slideshow": {
     "slide_type": "subslide"
    }
   },
   "source": [
    "## No Branches/Trunk-based Development/Branch by Purpose\n",
    "\n",
    "  > Almost all development occurs at the “head” of the repository​, not on branches. This helps identify integration problems early and minimizes the amount of merging work needed. It also makes it much easier and faster to push out security fixes.\n",
    "  >\n",
    "  > Henderson [_\"Software Engineering at Google\"_](https://arxiv.org/pdf/1702.01715.pdf)\n",
    "\n",
    "Figure 3. of [Walrad et al. _\"The Importance of Branching Models in SCM\"_](\n",
    "https://www.researchgate.net/profile/Chuck_Walrad/publication/2955749_The_importance_of_branching_models_in_SCM/links/0c960536418f2f0da4000000/The-importance-of-branching-models-in-SCM.pdf)\n",
    "\n",
    "#### Release Branches\n",
    "\n",
    "![](https://trunkbaseddevelopment.com/trunk1a.png)\n",
    "\n",
    "#### No Branches\n",
    "\n",
    "![](https://trunkbaseddevelopment.com/trunk1b.png)\n",
    "\n",
    "  > A release typically starts in a fresh workspace, by syncing to the change number of the latest “green” build (i.e. the last change for which all the automatic tests passed), and making a release branch. The release engineer can select additional changes to be “cherry-picked”, i.e. merged from the main branch onto the release branch. Then the software will be rebuilt from scratch and the tests are run. If any tests fail, additional changes are made to fix the failures and those additional changes are cherry-picked onto the release branch, after which the software will be rebuilt and the tests rerun. When the tests all pass, the built executable(s)and data file(s) are packaged up. All of these steps are automated so that the release engineer need only run some simple commands, or even just select some entries on a menu-driven UI, and choose which changes (if any) to cherry pick.\n",
    "  >\n",
    "  > Henderson [_\"Software Engineering at Google\"_](https://arxiv.org/pdf/1702.01715.pdf)\n",
    "\n",
    " "
   ]
  },
  {
   "cell_type": "markdown",
   "metadata": {
    "slideshow": {
     "slide_type": "subslide"
    }
   },
   "source": [
    "## Platform Branches\n",
    "\n",
    "![](http://cdn.mos.cms.futurecdn.net/4c32e6c4a3a45756ab06b9f54b904f69-650-80.jpg)\n",
    "\n",
    "http://www.creativebloq.com/web-design/choose-right-git-branching-strategy-121518344\n",
    "  \n",
    "\n",
    "<!--\n",
    "  * **Github-Flow**: http://scottchacon.com/2011/08/31/github-flow.html\n",
    "* New Feature Version Branches: https://ustwo.com/blog/branching-strategies-with-git/\n",
    "  ![](https://usweb-cdn.ustwo.com/ustwo-production/uploads/2012/03/ustwo-branching-branching1.jpg)\n",
    "  * http://www.kumaranuj.com/2015/11/gi-branching-strategies.html\n",
    "\n",
    "-->\n",
    "\n"
   ]
  },
  {
   "cell_type": "markdown",
   "metadata": {
    "slideshow": {
     "slide_type": "slide"
    }
   },
   "source": [
    "# Distributed development workflows - How do we work together?\n",
    "\n",
    "  > In Git [...] every developer is potentially both a node and a hub; that is, every developer can both contribute code to other repositories and maintain a public repository on which others can base their work and which they can contribute to. This presents a vast range of workflow possibilities for your project and/or your team\n",
    "  >\n",
    "  > https://git-scm.com/book/en/v2/Distributed-Git-Distributed-Workflows"
   ]
  },
  {
   "cell_type": "markdown",
   "metadata": {
    "slideshow": {
     "slide_type": "subslide"
    }
   },
   "source": [
    "## Centralized Workflow\n",
    "\n",
    "Likely what many of you are using when collaborating on a repository.\n",
    "\n",
    "![](https://git-scm.com/book/en/v2/images/centralized_workflow.png)"
   ]
  },
  {
   "cell_type": "markdown",
   "metadata": {
    "slideshow": {
     "slide_type": "subslide"
    }
   },
   "source": [
    "## Integration-Manager Workflow\n",
    "\n",
    "Likely what many of you used when contributing to other peoples work via Github, Gitlab, Bitbucket, etc.\n",
    "\n",
    "![](https://git-scm.com/book/en/v2/images/integration-manager.png)\n",
    "\n",
    "\n",
    "\n",
    "\n",
    "  > The project maintainer pushes to their public repository.\n",
    "  > \n",
    "  > A contributor clones that repository and makes changes.\n",
    "  > \n",
    "  > The contributor pushes to their own public copy.\n",
    "  > \n",
    "  > The contributor sends the maintainer an email asking them to pull changes.\n",
    "  > \n",
    "  > The maintainer adds the contributor’s repository as a remote and merges locally.\n",
    "  > \n",
    "  > The maintainer pushes merged changes to the main repository.\n",
    "\n"
   ]
  },
  {
   "cell_type": "markdown",
   "metadata": {
    "slideshow": {
     "slide_type": "subslide"
    }
   },
   "source": [
    "## Dictator and Lieutenants Workflow\n",
    "\n",
    "What you likely heard of big projects using, such as the Linux kernel:\n",
    "\n",
    "![](https://git-scm.com/book/en/v2/images/benevolent-dictator.png)\n",
    "\n",
    "The benevolent dictator workflow:\n",
    "\n",
    "  > Regular developers work on their topic branch and rebase their work on top of master. The master branch is that of the reference repository to which the dictator pushes.\n",
    "  > \n",
    "  > Lieutenants merge the developers' topic branches into their master branch.\n",
    "  > \n",
    "  > The dictator merges the lieutenants' master branches into the dictator’s master branch.\n",
    "  > \n",
    "  > Finally, the dictator pushes that master branch to the reference repository so the other developers can rebase on it.\n",
    "\n"
   ]
  },
  {
   "cell_type": "markdown",
   "metadata": {
    "slideshow": {
     "slide_type": "slide"
    }
   },
   "source": [
    "## Contributing to a Project"
   ]
  },
  {
   "cell_type": "markdown",
   "metadata": {
    "slideshow": {
     "slide_type": "subslide"
    }
   },
   "source": [
    "### Commit Guidelines\n",
    "\n",
    "<img src=\"https://chris.beams.io/content/images/size/w2000/2021/01/git_commit_2x.png\" width=\"50%\">\n",
    "\n",
    "  - https://github.com/git/git/blob/master/Documentation/SubmittingPatches\n",
    "  - https://tbaggery.com/2008/04/19/a-note-about-git-commit-messages.html\n",
    "  - https://chris.beams.io/posts/git-commit/\n",
    "  \n",
    "  "
   ]
  },
  {
   "cell_type": "markdown",
   "metadata": {
    "slideshow": {
     "slide_type": "subslide"
    }
   },
   "source": [
    "###  Collaboration - Private Small Team\n",
    "\n",
    "  > The simplest setup you’re likely to encounter is a private project with one or two other developers. “Private,” in this context, means closed-source — not accessible to the outside world. You and the other developers all have push access to the repository.\n",
    "  >\n",
    "  > https://git-scm.com/book/en/v2/Distributed-Git-Contributing-to-a-Project\n",
    "  \n",
    "<img src=\"https://git-scm.com/book/en/v2/images/small-team-flow.png\" width=\"40%\">"
   ]
  },
  {
   "cell_type": "markdown",
   "metadata": {
    "slideshow": {
     "slide_type": "subslide"
    }
   },
   "source": [
    "###  Collaboration - Private Managed Team\n",
    "\n",
    "  >In this next scenario, you’ll look at contributor roles in a larger private group. You’ll learn how to work in an environment where small groups collaborate on features, after which those team-based contributions are integrated by another party.\n",
    "  >\n",
    "  >https://git-scm.com/book/en/v2/Distributed-Git-Contributing-to-a-Project)\n",
    "  \n",
    "<img src=\"https://git-scm.com/book/en/v2/images/managed-team-flow.png\" width=\"40%\">"
   ]
  },
  {
   "cell_type": "markdown",
   "metadata": {
    "slideshow": {
     "slide_type": "subslide"
    }
   },
   "source": [
    "###  Forked Public Project\n",
    "  \n",
    "  > Contributing to public projects is a bit different. Because you don’t have the permissions to directly update branches on the project, you have to get the work to the maintainers some other way. This first example describes contributing via forking on Git hosts that support easy forking. Many hosting sites support this (including GitHub, BitBucket, repo.or.cz, and others), and many project maintainers expect this style of contribution.\n",
    "  >\n",
    "  >https://git-scm.com/book/en/v2/Distributed-Git-Contributing-to-a-Project\n",
    "  "
   ]
  },
  {
   "cell_type": "markdown",
   "metadata": {
    "slideshow": {
     "slide_type": "subslide"
    }
   },
   "source": [
    "#### Integration in Forked Public Project\n",
    "\n",
    "\n",
    "##### via Github Pull Requests\n",
    "\n",
    "\n",
    "<img src=\"https://docs.github.com/assets/images/help/pull_requests/pull-request-start-review-button.png\" width=\"40%\">\n",
    "\n",
    "  * https://git-scm.com/book/en/v2/GitHub-Contributing-to-a-Project\n",
    "  * https://docs.github.com/en/github/collaborating-with-issues-and-pull-requests/creating-a-pull-request-from-a-fork\n",
    "\n"
   ]
  },
  {
   "cell_type": "markdown",
   "metadata": {
    "slideshow": {
     "slide_type": "subslide"
    }
   },
   "source": [
    "##### via Sending Patches\n",
    "\n",
    "  > The git request-pull command takes the base branch into which you want your topic branch pulled and the Git repository URL you want them to pull from, and produces a summary of all the changes you’re asking to be pulled. \n",
    "\n",
    "```bash\n",
    "git request-pull origin/master myfork\n",
    "The following changes since commit 1edee6b1d61823a2de3b09c160d7080b8d1b3a40:\n",
    "Jessica Smith (1):\n",
    "        Create new function\n",
    "\n",
    "are available in the git repository at:\n",
    "\n",
    "  git://githost/simplegit.git featureA\n",
    "\n",
    "Jessica Smith (2):\n",
    "      Add limit to log function\n",
    "      Increase log output to 30 from 25\n",
    "\n",
    " lib/simplegit.rb |   10 +++++++++-\n",
    " 1 files changed, 9 insertions(+), 1 deletions(-)\n",
    "```\n",
    "\n",
    "and subsequent manual emailing of patches\n"
   ]
  },
  {
   "cell_type": "markdown",
   "metadata": {
    "slideshow": {
     "slide_type": "subslide"
    }
   },
   "source": [
    "\n",
    "##### via Email Patches\n",
    "\n",
    "Using plain Git (no Github), you contribute to large scale projects like the Linux kernel, Postgresql, etc.\n",
    "https://git-send-email.io\n",
    "\n",
    "```\n",
    "git send-email *.patch\n",
    "0001-add-limit-to-log-function.patch\n",
    "0002-increase-log-output-to-30-from-25.patch\n",
    "Who should the emails appear to be from? [Jessica Smith <jessica@example.com>]\n",
    "Emails will be sent from: Jessica Smith <jessica@example.com>\n",
    "Who should the emails be sent to? jessica@example.com\n",
    "Message-ID to be used as In-Reply-To for the first email? y\n",
    "```"
   ]
  },
  {
   "cell_type": "markdown",
   "metadata": {
    "slideshow": {
     "slide_type": "subslide"
    }
   },
   "source": [
    "![](images/integration_plain.png)"
   ]
  },
  {
   "cell_type": "markdown",
   "metadata": {
    "slideshow": {
     "slide_type": "slide"
    }
   },
   "source": [
    "## Maintaining a Project \n",
    "\n",
    "\n",
    "  - You may want to work in topic branches per contribution\n",
    "  - Receive contributions either:\n",
    "    - as patches via email\n",
    "    - by checking out remote branches"
   ]
  },
  {
   "cell_type": "markdown",
   "metadata": {
    "slideshow": {
     "slide_type": "subslide"
    }
   },
   "source": [
    "## Tasks when Maintaining a Project \n",
    "\n",
    "    \n",
    "    \n",
    "  - Determining what is introduced\n",
    "  - Integrate contributed work\n",
    "  - Tagging releases\n",
    "  - (Preparing) Release\n",
    "  \n",
    "  \n",
    "https://git-scm.com/book/en/v2/Distributed-Git-Maintaining-a-Project"
   ]
  },
  {
   "cell_type": "markdown",
   "metadata": {
    "slideshow": {
     "slide_type": "subslide"
    }
   },
   "source": [
    "### Integration/Merging Workflows\n",
    "      \n",
    "  - Merging topic branches into master\n",
    "    \n",
    "![](https://git-scm.com/book/en/v2/images/merging-workflows-1.png)\n",
    "![](https://git-scm.com/book/en/v2/images/merging-workflows-2.png)\n",
    "\n",
    "     \n",
    "     "
   ]
  },
  {
   "cell_type": "markdown",
   "metadata": {
    "slideshow": {
     "slide_type": "subslide"
    }
   },
   "source": [
    "  \n",
    "  - Merging topic branches staged\n",
    "      \n",
    "![](https://git-scm.com/book/en/v2/images/merging-workflows-3.png)\n",
    "![](https://git-scm.com/book/en/v2/images/merging-workflows-4.png)\n",
    "![](https://git-scm.com/book/en/v2/images/merging-workflows-5.png)\n",
    "      \n",
    "      "
   ]
  },
  {
   "cell_type": "markdown",
   "metadata": {
    "slideshow": {
     "slide_type": "subslide"
    }
   },
   "source": [
    "\n",
    "  - Merging contributed topic branches into long-term integration branches.\n",
    "     \n",
    "![](https://git-scm.com/book/en/v2/images/large-merges-2.png)\n"
   ]
  },
  {
   "cell_type": "markdown",
   "metadata": {
    "slideshow": {
     "slide_type": "subslide"
    }
   },
   "source": [
    "     \n",
    "  - Rebasing and cherry-picking\n",
    "    \n",
    "![](https://git-scm.com/book/en/v2/images/rebasing-1.png)\n",
    "![](https://git-scm.com/book/en/v2/images/rebasing-2.png)"
   ]
  },
  {
   "cell_type": "code",
   "execution_count": null,
   "metadata": {},
   "outputs": [],
   "source": []
  },
  {
   "cell_type": "markdown",
   "metadata": {
    "slideshow": {
     "slide_type": "slide"
    }
   },
   "source": [
    "# Reflection - What do you have to think about when using Git for development?\n",
    "\n",
    "In class feedback:\n",
    "\n",
    "  - a\n",
    "  - b\n",
    "  - c\n",
    "  - ...\n",
    "  \n",
    "<!--\n",
    "  - Keeping changes local to one feature\n",
    "  - Which branching strategy to use?\n",
    "  - How to organise the team?\n",
    "  - Size of commits (working/conceptual/on the way)\n",
    "  - Architecture versus repo architecture?\n",
    "-->\n",
    "\n",
    "Helge's thoughts:\n",
    "\n",
    "<!--\n",
    "  - Which branching model to use\n",
    "  - Which repository model to use\n",
    "  - How to incorporate changes from team members\n",
    "    - Github pull request?\n",
    "    - Direct merging of branches\n",
    "    - Direct commits\n",
    "    - Mails of patches\n",
    "    - Who is responsible for integration?\n",
    "    - When and how does that happen?\n",
    "    - Commit guidelines\n",
    "-->"
   ]
  },
  {
   "cell_type": "markdown",
   "metadata": {
    "slideshow": {
     "slide_type": "slide"
    }
   },
   "source": [
    "# What to do now?\n",
    "\n",
    "  * Do the [project work](../session_02/README_TASKS.md) until the end of the week\n",
    "  * And [prepare for the next session](../session_03/README_PREP.md)"
   ]
  }
 ],
 "metadata": {
  "celltoolbar": "Slideshow",
  "kernelspec": {
   "display_name": "Python 3",
   "language": "python",
   "name": "python3"
  },
  "language_info": {
   "codemirror_mode": {
    "name": "ipython",
    "version": 3
   },
   "file_extension": ".py",
   "mimetype": "text/x-python",
   "name": "python",
   "nbconvert_exporter": "python",
   "pygments_lexer": "ipython3",
   "version": "3.7.6"
  }
 },
 "nbformat": 4,
 "nbformat_minor": 2
}
