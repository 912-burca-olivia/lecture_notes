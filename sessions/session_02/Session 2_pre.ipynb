{
 "cells": [
  {
   "cell_type": "markdown",
   "metadata": {
    "slideshow": {
     "slide_type": "slide"
    }
   },
   "source": [
    "![](https://www.saa-authors.eu/picture/739/ftw_768/saa-mtcwmza4nzq5mq.jpg)"
   ]
  },
  {
   "cell_type": "markdown",
   "metadata": {
    "slideshow": {
     "slide_type": "slide"
    }
   },
   "source": [
    "# Recap"
   ]
  },
  {
   "cell_type": "markdown",
   "metadata": {
    "slideshow": {
     "slide_type": "subslide"
    }
   },
   "source": [
    "## How did the refactoring from Python 2 to 3 go?\n",
    "\n",
    "  - What did you have to change?\n",
    "  - Which files did you modify and how?\n",
    "  - Did you create a release with your refactored solution?\n",
    "\n"
   ]
  },
  {
   "cell_type": "markdown",
   "metadata": {
    "slideshow": {
     "slide_type": "subslide"
    }
   },
   "source": [
    "\n",
    "Please share your repositories with us. Send a Github pull-request to on the file `repositories.py` in which you replace, e.g., `\"https://github.com/<A>/<B>\", \"https://github.com/<A>/<C>\", \"etc.\"` with the list of the repositories that your group uses for this project.\n",
    "\n",
    "```python\n",
    "GROUP_REPOS = [\n",
    "    [\n",
    "        \"group a\",\n",
    "        \"<master>\",\n",
    "        [\"https://github.com/<A>/<B>\", \"https://github.com/<A>/<C>\", \"etc.\"],\n",
    "    ],\n",
    "    [\n",
    "        \"group b\",\n",
    "        \"2k20 MSc\",\n",
    "        [\"https://github.com/<B>/<B>\", \"https://github.com/<B>/<C>\", \"etc.\"],\n",
    "    ],\n",
    "    ...\n",
    "]\n",
    "```\n",
    "\n",
    "##### Pull request???\n",
    "\n",
    "  * https://git-scm.com/book/en/v2/GitHub-Contributing-to-a-Project\n",
    "  * https://help.github.com/en/github/collaborating-with-issues-and-pull-requests/about-pull-requests"
   ]
  },
  {
   "cell_type": "markdown",
   "metadata": {
    "slideshow": {
     "slide_type": "subslide"
    }
   },
   "source": [
    "## Be supportive! \n",
    "\n",
    "  > ## Our Expectations\n",
    "  >\n",
    "  > * Having fun with our work.\n",
    "  > * That we learn from your experiences and knowledge. (We are not smarter than you are when it comes to the topics of this course, we only have a good idea on what we shall do together)\n",
    "  > * That you support each other when working in groups. The entire course and your projects are a team endeavor."
   ]
  },
  {
   "cell_type": "markdown",
   "metadata": {
    "slideshow": {
     "slide_type": "subslide"
    }
   },
   "source": [
    "## Bash Weirdness...\n",
    "\n",
    "```bash\n",
    "if [ $1 = \"init\" ]; then\n",
    "\n",
    "    if [ -f \"/tmp/minitwit.db\" ]; then \n",
    "        echo \"Database already exists.\"\n",
    "        exit 1\n",
    "    fi\n",
    "    echo \"Putting a database to /tmp/minitwit.db...\"\n",
    "    python -c\"from minitwit import init_db;init_db()\"\n",
    "```\n",
    "\n",
    "  - What is the `[ $1 = \"init\" ]` in the above code?\n",
    "  - What does `type test` tell you?\n",
    "  - What does `man [` tell you?\n",
    "  \n",
    "https://www.linuxjournal.com/content/understanding-bash-elements-programming\n"
   ]
  },
  {
   "cell_type": "markdown",
   "metadata": {
    "slideshow": {
     "slide_type": "subslide"
    }
   },
   "source": [
    "## Which Shebang?\n",
    "\n",
    "When refactoring `control.sh`, which shebang did you set?\n",
    "\n",
    "  * `#!/usr/bin/env bash`\n",
    "  * `#!/bin/bash`\n",
    "  * `#!/bin/sh`\n",
    "  * `#!/bin/sh -`\n",
    "\n",
    "https://stackoverflow.com/questions/10376206/what-is-the-preferred-bash-shebang\n",
    "https://en.wikipedia.org/wiki/Shebang_%28Unix%29"
   ]
  },
  {
   "cell_type": "markdown",
   "metadata": {
    "slideshow": {
     "slide_type": "subslide"
    }
   },
   "source": [
    "## What did the `patch` tool do?\n",
    "\n",
    "  - What did it do?\n",
    "  - Why is it still relevant?\n",
    "  \n",
    "  - How do you create a patch file?"
   ]
  },
  {
   "cell_type": "markdown",
   "metadata": {
    "slideshow": {
     "slide_type": "slide"
    }
   },
   "source": [
    "# Today - Version Control Systems (VCS)?\n",
    "\n",
    "  > Version control is a system that records changes to a file or set of files over time so that you can recall specific versions later.      \n",
    "  > \n",
    "  > It allows you to revert selected files back to a previous state, revert the entire project back to a previous state, compare changes over time, see who last modified something that might be causing a problem, who introduced an issue and when, and more. Using a VCS also generally means that if you screw things up or lose files, you can easily recover. In addition, you get all this for very little overhead.\n",
    "  > [Chacon et al. _\"Pro Git\"_](https://git-scm.com/book/en/v2/Getting-Started-About-Version-Control)"
   ]
  },
  {
   "cell_type": "markdown",
   "metadata": {
    "slideshow": {
     "slide_type": "slide"
    }
   },
   "source": [
    "----------------------\n",
    "# Getting bored today?\n",
    "\n",
    "\n",
    "![](http://static3.businessinsider.com/image/4fbfb86becad044879000001-506-253/suddenly-startups-have-gotten-very-boring.jpg)\n",
    "\n",
    "\n",
    "\n",
    "\n",
    "## Using Git with your friends\n",
    "  * Go through the scenario described in the following picture:\n",
    "    - Remember to use the IP addresses of your own computer, which you can find with `ifconfig`.\n",
    "    - All three computers should be either on the same network or reachable from the outside\n",
    "    - You have to be able to SSH into the other machines\n",
    "      \n",
    "  \n",
    "![](images/git_scenario.png)\n",
    "\n",
    "  * What does that exercise tell you about Git as a version control system? \n",
    "  * What did you just do in the exercise?\n",
    "  * Why is there not Github server?\n",
    "\n",
    "\n",
    "## Write Your Own VCS:\n",
    "\n",
    "  - Choose a scripting language (Ruby, Python, Groovy, etc.) and implement basic features of a VCS.\n",
    "    - You may want to follow the chapter https://git-scm.com/book/en/v2/Git-Internals-Git-Objects, which provides some initial Ruby code for revision control.\n",
    "    - Try to implement features in a way that they support your/your organization's workflow.\n",
    "    - How do you implement branching in your VCS?\n",
    "    - How can you implement remote repositories, i.e., distributed repositories?\n",
    "\n",
    "\n",
    "## I mean it, if you get bored do the tasks above!\n",
    "\n",
    "\n",
    "<img src=\"https://31ns9t3tahh91zt99bieate1-wpengine.netdna-ssl.com/wp-content/uploads/2019/11/Angry-bird.jpg\" width=\"50%\">\n",
    "\n",
    "----------------------\n"
   ]
  },
  {
   "cell_type": "markdown",
   "metadata": {},
   "source": [
    "\n"
   ]
  },
  {
   "cell_type": "markdown",
   "metadata": {
    "slideshow": {
     "slide_type": "slide"
    }
   },
   "source": [
    "-----------\n",
    "\n",
    "\n",
    "# Your turn now!\n",
    "\n",
    "<img src=\"https://media.giphy.com/media/13GIgrGdslD9oQ/giphy.gif\" width=50%/>\n",
    "\n",
    "  - [1) Refactor _ITU-MiniTwit_ to another language of your choice.](#1\\)-Refactor-ITU-MiniTwit-to-another-language-of-your-choice.)\n",
    "  - [2) Start implementing an API for the simulator in your _ITU-MiniTwit_.](#2\\)-Start-implementing-an-API-for-the-simulator-in-your-ITU-MiniTwit.)\n",
    "  - [3) Describe Distributed Workflow](#3\\)-Describe-Distributed-Workflow)\n",
    "  - [4) Setup for next session](#4\\)-Setup-for-next-session)\n"
   ]
  },
  {
   "cell_type": "markdown",
   "metadata": {
    "slideshow": {
     "slide_type": "subslide"
    }
   },
   "source": [
    "## 1) Refactor _ITU-MiniTwit_ to another language of your choice.\n",
    "\n",
    "Now that you know more or less how _ITU-MiniTwit_ is working, your task is to evolve it away from from a Python/Flask application to the language and technology stack of your choice.\n",
    "\n",
    "**OBS**: \n",
    "\n",
    "  - Do not perform the \"big rewrite\" yet. That is, try to create a one to one copy of what you currently have in `minitwit.py`. If you want to, reuse the `static` artifacts, and `templates`. However, your new application shall have the same features as the current _ITU-MiniTwit_.\n",
    "  - Make sure that you map the current features before refactoring. \n",
    "  - Ideally, the test suite in `minitwit_tests.py` should pass for your refactored application too. In a next step you can translate the old test suite to your new language/tech. stack.\n",
    "\n",
    "\n",
    "\n",
    "Considerations for choice of language:\n",
    "\n",
    "  - Either choose a language that you know and want to practice (likely Java and C\\#)\n",
    "  - or choose a language and framework that you always wanted to learn but never had the time to do so.\n",
    "  \n",
    "Likely, the first option is appropriate for BSc students and the second option for MSc students.\n",
    "  \n",
    "  \n",
    "If I were in your position, I would consider one of the following:\n",
    "\n",
    "  - [Go](http://golang.org/) with [Gorilla](http://www.gorillatoolkit.org/)\n",
    "  - [Crystal](https://crystal-lang.org) with [Kemal](https://kemalcr.com)\n",
    "  - [Elixir](https://elixir-lang.org) with [Phoenix](https://www.phoenixframework.org)\n",
    "  - [Nim](https://nim-lang.org) with [Jester](https://github.com/dom96/jester)\n",
    "  - [Ruby](https://www.ruby-lang.org) with [Sinatra](sinatrarb.com)\n",
    "\n",
    "In case you choose Python as your implementation language you have to build a solution that does not rely on the Flask framework.\n",
    "\n",
    "\n",
    "**OBS MSc students**: Remember to log and provide good arguments for the choice of programming language and framework. Likely, a feature mapping/comparison or a mini-benchmark is a good choice.\n",
    "\n",
    "\n",
    "\n",
    "Prepare a new release with a first version of your rewritten version of your _ITU-MiniTwit_ latest by **Wednesday Feb 12th, at 23:59**)\n",
    "\n",
    "Use your programming-fu and not your Google-fu! You will learn the most by \n",
    "\n"
   ]
  },
  {
   "cell_type": "markdown",
   "metadata": {
    "slideshow": {
     "slide_type": "subslide"
    }
   },
   "source": [
    "## 2) Start implementing an API for the simulator in your _ITU-MiniTwit_.\n",
    "\n",
    "\n",
    "In some weeks, we will start a simulator that will run until the end of this course. It will simulate users using your micro-blogging platform.\n",
    "\n",
    "You can find the specification for the simulator API in \n",
    "`API Spec/minitwit_sim_api.py`. **OBS**: your applications have to:\n",
    "\n",
    "  - provide the same end points (on different hosts of course and potentially different ports),\n",
    "  - ingest the same HTTP requests, i.e., GETs and POSTs as specified with the same parameters and payloads as provided,\n",
    "  - provide at least the same HTTP status codes in response as specified.\n",
    "  \n",
    "  \n",
    "The `API Spec/minitwit_sim_api.py` depends on your refactored `minitwit.py` from last weeks' homework.\n",
    "\n",
    "A corresponding test (`API Spec/minitwit_sim_api_test.py`) illustrates how the simulator requests will be formed. You can inspect it and run it via `pytest minitwit_sim_api_test.py`. \n",
    "\n",
    "\n",
    "\n",
    "The API does not have to be complete by next week but you should be something like around 50% complete."
   ]
  },
  {
   "cell_type": "markdown",
   "metadata": {
    "slideshow": {
     "slide_type": "subslide"
    }
   },
   "source": [
    "## 3) Describe Distributed Workflow\n",
    "\n",
    "\n",
    "Think about, discuss in your groups, and note down in which way you are going to collaborate using Git in this project.\n",
    "\n",
    "You should reflect and decide on the following points:\n",
    "\n",
    "  - Which repository setup will we use?\n",
    "  - Which branching model will we use?\n",
    "  - Which distributed development workflow will we use?\n",
    "  - How do we expect contributions to look like?\n",
    "  - Who is responsible for integrating/reviewing contributions?\n",
    "  \n",
    "Information to at least all of the above points should end up in a markdown document in your main repository (likely called `CONTRIBUTE.md`)."
   ]
  },
  {
   "cell_type": "markdown",
   "metadata": {
    "slideshow": {
     "slide_type": "subslide"
    }
   },
   "source": [
    "## 4) Setup for next session\n",
    "\n",
    "Install Docker, VirtualBox, and Vagrant on your computer.\n",
    "\n",
    "\n",
    "\n",
    "### Docker\n",
    "\n",
    "Install Docker as for example like this:\n",
    "\n",
    "```bash\n",
    "sudo apt update\n",
    "sudo apt install apt-transport-https ca-certificates curl software-properties-common\n",
    "curl -fsSL https://download.docker.com/linux/ubuntu/gpg | sudo apt-key add -\n",
    "sudo add-apt-repository \"deb [arch=amd64] https://download.docker.com/linux/ubuntu bionic stable\"\n",
    "sudo apt update\n",
    "apt-cache policy docker-ce\n",
    "sudo apt install docker-ce\n",
    "sudo systemctl status docker\n",
    "sudo usermod -aG docker ${USER}\n",
    "su - ${USER}\n",
    "id -nG\n",
    "```\n",
    "\n",
    "The above is based on: https://www.digitalocean.com/community/tutorials/how-to-install-and-use-docker-on-ubuntu-18-04\n",
    "\n",
    "\n",
    "### Vagrant & VirtualBox\n",
    "\n",
    "```bash\n",
    "sudo apt-get install virtualbox virtualbox-ext-pack\n",
    "sudo apt-get install vagrant \n",
    "```\n",
    "\n",
    "Save the following into a file called `Vagrantfile` in your current directory:\n",
    "\n",
    "```ruby\n",
    "# -*- mode: ruby -*-\n",
    "# vi: set ft=ruby :\n",
    "\n",
    "Vagrant.configure(\"2\") do |config|\n",
    "\n",
    "  config.vm.box = \"generic/ubuntu1804\"\n",
    "  \n",
    "  config.vm.provider \"virtualbox\" do |vb|\n",
    "    # Customize the amount of memory on the VM:\n",
    "    vb.memory = \"1024\"\n",
    "  end\n",
    "end\n",
    "```\n",
    "\n",
    "\n",
    "Now, try to run from your current directory (the one in which you saved the `Vagrantfile`):\n",
    "\n",
    "```bash\n",
    "vagrant up\n",
    "```\n",
    "\n",
    "Observe that no error message is displayed. If so and in case you cannot find a solution for it, we will look at it in class.\n",
    "\n",
    "In case you did not receive any error message, for now, you can run:\n",
    "```bash\n",
    "vagrant destroy\n",
    "```\n",
    "\n",
    "In case you are running MacOS or Windows you might find helpful [installation instructions for your host operating system in the linked guide](https://www.itu.dk/people/ropf/blog/vagrant_install.html). Note, Vagrant cannot be run in a VM."
   ]
  }
 ],
 "metadata": {
  "celltoolbar": "Slideshow",
  "kernelspec": {
   "display_name": "Python 3",
   "language": "python",
   "name": "python3"
  },
  "language_info": {
   "codemirror_mode": {
    "name": "ipython",
    "version": 3
   },
   "file_extension": ".py",
   "mimetype": "text/x-python",
   "name": "python",
   "nbconvert_exporter": "python",
   "pygments_lexer": "ipython3",
   "version": "3.7.3"
  }
 },
 "nbformat": 4,
 "nbformat_minor": 2
}
