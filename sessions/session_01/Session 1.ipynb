{
 "cells": [
  {
   "cell_type": "markdown",
   "metadata": {
    "slideshow": {
     "slide_type": "slide"
    }
   },
   "source": [
    "# Welcome!\n",
    "\n",
    "![](https://i.pinimg.com/736x/93/8f/75/938f75ace142cfa0b22b4dbe5cc558a3--minion-classroom-classroom-ideas.jpg)"
   ]
  },
  {
   "cell_type": "markdown",
   "metadata": {
    "slideshow": {
     "slide_type": "slide"
    }
   },
   "source": [
    "# About this course\n",
    "\n",
    "## Who are we?\n",
    "\n",
    "  * **Teachers**: Helge, Mircea\n",
    "  * **TAs**: Alexander, Michał, and Sebastian\n",
    "  \n",
    "### How to contact us?\n",
    "\n",
    "  - Helge: \"Office\" hour Thursdays 16:00 to 17:00\n",
    "  - Via Teams: https://teams.microsoft.com/l/channel/19%3a2e0525061c7c44c3b4e57d61edba106b%40thread.tacv2/General?groupId=9505ab1e-489e-4444-a47f-0f8883316005&tenantId=bea229b6-7a08-4086-b44c-71f57f716bdb"
   ]
  },
  {
   "cell_type": "markdown",
   "metadata": {
    "slideshow": {
     "slide_type": "subslide"
    }
   },
   "source": [
    "## Helge\n",
    "\n",
    "<img src=\"http://staticmap.openstreetmap.de/staticmap.php?center=50.9281717,11.5879359&zoom=6&size=865x512&maptype=mapnik&markers=50.9281717,11.5879359,lightblue1\"/>\n",
    "\n",
    "  * Dipl-Inf. in Software Engineering from Friedrich-Schiller Universität Jena\n",
    "  * PhD in Software Engineering from ITU\n",
    "  * Software engineer at DMI\n",
    "  * Lecturer at Cphbusiness\n",
    "  * Since January 2019 back to ITU as adjunkt in the Center for Government IT\n"
   ]
  },
  {
   "cell_type": "markdown",
   "metadata": {
    "slideshow": {
     "slide_type": "subslide"
    }
   },
   "source": [
    "## Who are you?\n"
   ]
  },
  {
   "cell_type": "markdown",
   "metadata": {},
   "source": [
    "![](images/names_cloud.png)"
   ]
  },
  {
   "cell_type": "markdown",
   "metadata": {
    "slideshow": {
     "slide_type": "subslide"
    }
   },
   "source": [
    "http://www.menti.com\n",
    "<!--https://www.mentimeter.com/s/a25bfd41c9dffc5595be224d4554bd09/78d5c54a1a1e/-->"
   ]
  },
  {
   "cell_type": "markdown",
   "metadata": {
    "slideshow": {
     "slide_type": "subslide"
    }
   },
   "source": [
    "### Shall I record lectures?\n",
    "\n",
    "My concern:\n",
    "\n",
    "\n",
    "Edwards et al. [_\"A study exploring the impact of lecture capture availability and lecture capture usage on student attendance and attainment\"_](https://link.springer.com/article/10.1007/s10734-018-0275-9)\n",
    "\n",
    "\n",
    "![](https://media.springernature.com/full/springer-static/image/art%3A10.1007%2Fs10734-018-0275-9/MediaObjects/10734_2018_275_Fig1_HTML.png?as=webp)"
   ]
  },
  {
   "cell_type": "markdown",
   "metadata": {
    "slideshow": {
     "slide_type": "subslide"
    }
   },
   "source": [
    "## Our Expectations\n",
    "\n",
    "  * Having fun with our work.\n",
    "  * Hopefully, presenting relevant aspects of software engineering that are representative for your future professional tasks. \n",
    "    - \n",
    "\n",
    "    > M2. Maintenance typically consumes about 40 to 80 percent (60 percent average) of software costs. Therefore, it is probably the most important life cycle phase.\n",
    "    >\n",
    "    > ...\n",
    "    >\n",
    "    > M5. Most software development tasks and software maintenance tasks are the same—except for the additional maintenance task of \"understanding the existing product.\" This task is the dominant maintenance activity, consuming roughly 30 percent of maintenance time. So, you could claim that maintenance is more difficult than development.\n",
    "    >\n",
    "    > [Robert L. Glass \"Frequently Forgotten Fundamental Facts about Software Engineering\"](http://www.eng.auburn.edu/~kchang/comp6710/readings/Forgotten_Fundamentals_IEEE_Software_May_2001.pdf)\n",
    "  * That we learn from your experiences and knowledge. (We are not smarter than you are when it comes to the topics of this course, we only have a good idea on what we shall do together) \n",
    "\n"
   ]
  },
  {
   "cell_type": "markdown",
   "metadata": {
    "slideshow": {
     "slide_type": "subslide"
    }
   },
   "source": [
    "  * That you support each other when working in groups. The entire course and your projects are a team endeavor.\n",
    "  * That you work continuously (as we do) on this course.\n",
    "  * That you work for the about 10-12 hours per week on this course that you should have allocated for it according to ECTS.\n",
    "  * That you work collaboratively in public repositories on Github.\n",
    "\n",
    "Note, be prepared for quite a bit of work and many moments of despair :( \n",
    "\n",
    "This is unfortunately how learning works.\n",
    "At the moment it hurts but once you know how to solve your problems, solutions appear to be easy and straight forward."
   ]
  },
  {
   "cell_type": "markdown",
   "metadata": {
    "slideshow": {
     "slide_type": "subslide"
    }
   },
   "source": [
    "## Schedule and Material\n",
    "\n",
    "  * Schedule: https://github.com/itu-devops/lecture_notes#schedule\n",
    "  * Course's repository: https://github.com/itu-devops/lecture_notes\n"
   ]
  },
  {
   "cell_type": "markdown",
   "metadata": {
    "slideshow": {
     "slide_type": "subslide"
    }
   },
   "source": [
    "## LearnIT\n",
    "\n",
    "Find on LearnIT: https://learnit.itu.dk/course/view.php?id=3019744 the:\n",
    "  - official course description, \n",
    "  - intended learning outcomes, and \n",
    "  - exam description \n",
    "  \n"
   ]
  },
  {
   "cell_type": "markdown",
   "metadata": {
    "slideshow": {
     "slide_type": "subslide"
    }
   },
   "source": [
    "## Getting Discounts\n",
    "\n",
    "Check the Github student developers pack, https://education.github.com/pack.\n",
    "\n",
    "You can get credits for some of the platforms we are going to use throughout this course."
   ]
  },
  {
   "cell_type": "markdown",
   "metadata": {
    "slideshow": {
     "slide_type": "subslide"
    }
   },
   "source": [
    "## How to work through this course?\n",
    "\n",
    "For every week do from left to right what is specified in the course's [schedule](https://github.com/itu-devops/lecture_notes#schedule).\n",
    "\n",
    "That is, prepare for the next session with the given material, join the respective session, and afterwards work on the project (see next slide)."
   ]
  },
  {
   "cell_type": "markdown",
   "metadata": {
    "slideshow": {
     "slide_type": "subslide"
    }
   },
   "source": [
    "## Project work\n",
    "\n",
    "You will run through this course in groups. All project groups have preferably five members (BSc./MSc. students respectively). These groups realize the projects together.\n",
    "\n",
    "The project work forms the basis of this course. That is, you cannot expect to come to lectures listen and read a bit and then pass the exam. This is a hands-on course and you will have to perform _\"DevOps, software evolution and software maintenance activities [...] directly on [your] systems\"_ (Course Description on LearnIT)\n"
   ]
  },
  {
   "cell_type": "markdown",
   "metadata": {
    "slideshow": {
     "slide_type": "subslide"
    }
   },
   "source": [
    "## Why Linux?\n",
    "\n",
    "\n",
    "### You are a Software Developer\n",
    "\n",
    "According to Stack Overflow's _Web Developer Survey Results 2016_ survey, 47.9% of the English-speaking users prefer a *nix OS for development.\n",
    "\n",
    "https://insights.stackoverflow.com/survey/2016#technology-desktop-operating-system\n"
   ]
  },
  {
   "cell_type": "markdown",
   "metadata": {
    "slideshow": {
     "slide_type": "subslide"
    }
   },
   "source": [
    "### Public servers on the Internet\n",
    "\n",
    "Depending on the statistics, up to 98.3% of servers on the internet run some kind of Linux or Unix.\n",
    "https://en.wikipedia.org/wiki/Usage_share_of_operating_systems#Public_servers_on_the_Internet\n"
   ]
  },
  {
   "cell_type": "markdown",
   "metadata": {
    "slideshow": {
     "slide_type": "subslide"
    }
   },
   "source": [
    "\n",
    "### *nix on Supercomputers\n",
    "\n",
    "https://en.wikipedia.org/wiki/Usage_share_of_operating_systems#Supercomputers\n",
    "\n",
    "![](https://upload.wikimedia.org/wikipedia/commons/thumb/0/0d/Operating_systems_used_on_top_500_supercomputers.svg/1200px-Operating_systems_used_on_top_500_supercomputers.svg.png)\n",
    "Supercomputer OS family – 1993–2017 systems share according to TOP500\n",
    "\n"
   ]
  },
  {
   "cell_type": "markdown",
   "metadata": {
    "slideshow": {
     "slide_type": "subslide"
    }
   },
   "source": [
    "### Practical reasons\n",
    "\n",
    "Since this is a hands-on course, we provide a lot of code and examples using various technologies.\n",
    "\n",
    "Unfortunately, we do not have resources to do that consistently over various versions of Windows, Linux, and MacOS."
   ]
  },
  {
   "cell_type": "markdown",
   "metadata": {
    "slideshow": {
     "slide_type": "slide"
    }
   },
   "source": [
    "# Groups\n",
    "\n",
    "  * Each group should have _five_ members.\n",
    "  * We will form them **now!**\n",
    "  * ~http://collabedit.com/9essn~\n",
    "  * https://demo.firepad.io/#44s0JBrHCZ\n",
    "<img src=\"https://i.gifer.com/RFm.gif\" width=50%/>  \n",
    "\n",
    "\n",
    "\n",
    "<!--\n",
    "Replace <Name> with a nice group name and replace <ITU_login> with your ITU login name\n",
    "\n",
    "\n",
    "\n",
    "\"group a\"\n",
    "\"<Name>\"\n",
    "[\"<ITU_login>\", \"<ITU_login>\", ...]\n",
    "\n",
    "\"group b\"\n",
    "\"<Name>\"\n",
    "[\"<ITU_login>\", \"<ITU_login>\", ...]\n",
    "\n",
    "\"group c\"\n",
    "\"<Name>\"\n",
    "[\"<ITU_login>\", \"<ITU_login>\", ...]\n",
    "\n",
    "\"group d\"\n",
    "\"<Name>\"\n",
    "[\"<ITU_login>\", \"<ITU_login>\", ...]\n",
    "\n",
    "\"group e\"\n",
    "\"<Name>\"\n",
    "[\"<ITU_login>\", \"<ITU_login>\", ...]\n",
    "\n",
    "\"group f\"\n",
    "\"<Name>\"\n",
    "[\"<ITU_login>\", \"<ITU_login>\", ...]\n",
    "\n",
    "\"group g\"\n",
    "\"<Name>\"\n",
    "[\"<ITU_login>\", \"<ITU_login>\", ...]\n",
    "\n",
    "\"group h\"\n",
    "\"<Name>\"\n",
    "[\"<ITU_login>\", \"<ITU_login>\", ...]\n",
    "\n",
    "\"group i\"\n",
    "\"<Name>\"\n",
    "[\"<ITU_login>\", \"<ITU_login>\", ...]\n",
    "\n",
    "\"group j\"\n",
    "\"<Name>\"\n",
    "[\"<ITU_login>\", \"<ITU_login>\", ...]\n",
    "\n",
    "\"group k\"\n",
    "\"<Name>\"\n",
    "[\"<ITU_login>\", \"<ITU_login>\", ...]\n",
    "\n",
    "\"group l\"\n",
    "\"<Name>\"\n",
    "[\"<ITU_login>\", \"<ITU_login>\", ...]\n",
    "\n",
    "\"group m\"\n",
    "\"<Name>\"\n",
    "[\"<ITU_login>\", \"<ITU_login>\", ...]\n",
    "\n",
    "\"group n\"\n",
    "\"<Name>\"\n",
    "[\"<ITU_login>\", \"<ITU_login>\", ...]\n",
    "\n",
    "\n",
    "-->"
   ]
  },
  {
   "cell_type": "markdown",
   "metadata": {
    "slideshow": {
     "slide_type": "slide"
    }
   },
   "source": [
    "----------------------\n",
    "# Getting bored today?\n",
    "\n",
    "\n",
    "![](http://static3.businessinsider.com/image/4fbfb86becad044879000001-506-253/suddenly-startups-have-gotten-very-boring.jpg)\n",
    "\n",
    "Find and establish a communication channel for you and you group members and support them in downloading the code from the remote server (see slides below).\n",
    "\n",
    "SCP the program `flag_tool` from the remote server, run it on your computer. What happens? Describe to your group mates after the session what you did and why running the program on your computer either works or does not work.\n",
    "\n",
    "**DO NOT** disturb other people by doing *smart* stuff on the server!"
   ]
  },
  {
   "cell_type": "markdown",
   "metadata": {
    "slideshow": {
     "slide_type": "slide"
    }
   },
   "source": [
    "# The Story\n",
    "\n",
    "This is fiction but it is the story for this course :)\n",
    "\n",
    "![](https://upload.wikimedia.org/wikipedia/en/1/18/Photo_promoting_the_single_%22Leuchtturm%22_by_Nena.jpg)\n",
    "\n",
    "\n",
    "Almost ten years ago in 2012 some unknown young developers at ITU decided to build a small micro-blogging platform _ITU-MiniTwit_ to take over the market from Twitter, which was only six years old at that point.\n"
   ]
  },
  {
   "cell_type": "markdown",
   "metadata": {
    "slideshow": {
     "slide_type": "subslide"
    }
   },
   "source": [
    "## _ITU-MiniTwit_\n",
    "\n",
    "\n",
    "<img src=\"images/ITU-minitwit-screenshot.png\" width=50%/>"
   ]
  },
  {
   "cell_type": "markdown",
   "metadata": {
    "slideshow": {
     "slide_type": "subslide"
    }
   },
   "source": [
    "\n",
    "They programed in a mix of hot technologies of the time directly on a server with Ubuntu 12.04 (released 26 Apr. 2012, EOL 28 April 2017.).\n",
    "\n",
    "<img src=\"https://4.bp.blogspot.com/-HC2Z0-z1xX8/T0DoGxfqoUI/AAAAAAAAAXM/67dXAbEckj0/s1600/server10trays_640.jpg\" width=\"30%\">\n",
    "\n",
    "\n",
    "Now some years later, we decide to resurrect their work and we will continue development from where they left."
   ]
  },
  {
   "cell_type": "markdown",
   "metadata": {
    "slideshow": {
     "slide_type": "slide"
    }
   },
   "source": [
    "# _ITU-MiniTwit_\n",
    "\n",
    "\n",
    "<img src=\"images/ITU-minitwit-screenshot.png\" width=50%/>"
   ]
  },
  {
   "cell_type": "markdown",
   "metadata": {},
   "source": [
    "### Your Turn!\n",
    "<img src=\"https://media.giphy.com/media/13GIgrGdslD9oQ/giphy.gif\" width=30%/>"
   ]
  },
  {
   "cell_type": "markdown",
   "metadata": {
    "slideshow": {
     "slide_type": "subslide"
    }
   },
   "source": [
    "## Where is _ITU-MiniTwit_ running?\n",
    "\n",
    "During the time of this lecture it is running on the machine with the IP `159.65.125.12`.\n",
    "\n",
    "<!--\n",
    "  - Connect your computers to the network: `DevOpsEvoMain`.\n",
    "  - The password is: `d3v0p5-cla55!`\n",
    "-->  \n",
    "  - Point your browser to: http://159.65.125.12:5000/public.\n",
    "  - You should see the application like this:\n",
    "  <img src=\"images/ITU-minitwit-screenshot.png\" width=30%/>\n",
    "  \n",
    "  - Play around with the system\n",
    "    - Sign-up\n",
    "    - Thereafter, create some tweets\n",
    "    - Let some of them contain swear words, as we need some tweets to filter out later"
   ]
  },
  {
   "cell_type": "markdown",
   "metadata": {
    "slideshow": {
     "slide_type": "subslide"
    }
   },
   "source": [
    "## How does _ITU-MiniTwit_ work?\n"
   ]
  },
  {
   "cell_type": "markdown",
   "metadata": {
    "slideshow": {
     "slide_type": "subslide"
    }
   },
   "source": [
    "### A client-server application\n",
    "\n",
    "<img src=\"images/ITU-minitwit-architecture-highlevel.png\" width=50%/>\n"
   ]
  },
  {
   "cell_type": "markdown",
   "metadata": {
    "slideshow": {
     "slide_type": "subslide"
    }
   },
   "source": [
    "### A high-level overview over _ITU-MiniTwit_\n",
    "\n",
    "  <img src=\"images/ITU-minitwit-architecture.png\" width=70%/>\n"
   ]
  },
  {
   "cell_type": "markdown",
   "metadata": {
    "slideshow": {
     "slide_type": "subslide"
    }
   },
   "source": [
    "## Connecting to the server and inspecting _ITU-MiniTwit_ (Bash basics)\n",
    "\n",
    "Note, in the listings `$` denotes the prompt on your local machine, which might look different in your case.\n",
    "`student@webserver:~$` is the prompt on the server machine.\n",
    "\n",
    "To SSH to the remote machine, you need the password `uiuiui`.\n",
    "\n",
    "```bash\n",
    "$ ssh student@159.65.125.12\n",
    "student@webserver:~$ cd itu-minitwit/\n",
    "student@webserver:~/itu-minitwit$ ls\n",
    "Makefile  control.sh  flag_tool  flag_tool.c  minitwit.py  minitwit_tests.py  schema.sql  static  templates\n",
    "```"
   ]
  },
  {
   "cell_type": "markdown",
   "metadata": {
    "slideshow": {
     "slide_type": "subslide"
    }
   },
   "source": [
    "### Inspecting the database as admin\n",
    "\n",
    "```bash\n",
    "student@webserver:~$ ./control.sh inspectdb\n",
    "```\n",
    "\n",
    "  - What do you see?\n",
    "  - How can you navigate through the database?\n",
    "  - How can you search for a string?\n",
    "  - How do you find its next/previous occurrence?"
   ]
  },
  {
   "cell_type": "markdown",
   "metadata": {
    "slideshow": {
     "slide_type": "subslide"
    }
   },
   "source": [
    "### How does inspecting the database work?\n",
    "\n",
    "Look into the control script. For example with the `less` command:\n",
    "\n",
    "```bash\n",
    "student@webserver:~$ less -N ./control.sh\n",
    "```\n",
    "\n",
    "  - What do lines 15 and 16 do?\n",
    "  - What is the meaning of `|` on line 16?\n",
    "  - What are `-N` and `./control.sh` in the above command?\n",
    "  - What is the meaning of `./` in it?"
   ]
  },
  {
   "cell_type": "markdown",
   "metadata": {
    "slideshow": {
     "slide_type": "subslide"
    }
   },
   "source": [
    "### How can I run the `flag_tool` program manually?\n",
    "\n",
    "```bash\n",
    "student@webserver:~$ ./flag_tool\n",
    "```\n",
    "\n",
    "It will not do anything. So try to read its help text\n",
    "\n",
    "```bash\n",
    "student@webserver:~$ ./flag_tool -h\n",
    "```\n",
    "\n",
    "Afterwards run:\n",
    "\n",
    "```bash\n",
    "student@webserver:~$ ./flag_tool -i\n",
    "```\n",
    "\n",
    "What happens?"
   ]
  },
  {
   "cell_type": "markdown",
   "metadata": {
    "slideshow": {
     "slide_type": "subslide"
    }
   },
   "source": [
    "### Another way of searching for strings in text\n",
    "\n",
    "You may want to use the `grep` command:\n",
    "\n",
    "```bash\n",
    "student@webserver:~$ ./flag_tool -i | grep \"idiot\"\n",
    "student@webserver:~$ ./flag_tool -i | grep \"dumb\"\n",
    "```\n",
    "\n",
    "  - What does again the `|` do?\n",
    "  - What does `grep` do?\n",
    "  - What are `\"idiot\"` and `\"dumb\"` in the above command?"
   ]
  },
  {
   "cell_type": "markdown",
   "metadata": {
    "slideshow": {
     "slide_type": "subslide"
    }
   },
   "source": [
    "### Flagging a tweet\n",
    "\n",
    "```bash\n",
    "student@webserver:~$ ./flag_tool <tweet_id>\n",
    "```\n",
    "\n",
    "  - How does that flagging functionallity look like in the control script `control.sh`?"
   ]
  },
  {
   "cell_type": "markdown",
   "metadata": {
    "slideshow": {
     "slide_type": "subslide"
    }
   },
   "source": [
    "### Getting help for a command\n",
    "\n",
    "In case you are in doubt, usually a commands manual is quite conclusive:\n",
    "\n",
    "```bash\n",
    "student@webserver:~$ man grep\n",
    "```"
   ]
  },
  {
   "cell_type": "markdown",
   "metadata": {
    "slideshow": {
     "slide_type": "subslide"
    }
   },
   "source": [
    "### How do I know that _ITU-MiniTwit_ is running?\n",
    "\n",
    "Since the knowledge of the previous developers is likely lost, you could inspect the list of all running processes and `grep` for the name of the command:\n",
    "\n",
    "```bash\n",
    "student@webserver:~/itu-minitwit$ ps aux | grep minitwit\n",
    "student   6081  0.0  4.2  55448 21364 ?        S    10:40   0:00 /usr/bin/python minitwit.py\n",
    "student   6083  0.3  4.9 131776 24556 ?        Sl   10:40   0:03 /usr/bin/python minitwit.py\n",
    "student   6199  0.0  0.1  12912   936 pts/0    S+   10:54   0:00 grep --color=auto minitwit\n",
    "```\n",
    "\n",
    "Whenever you run `./control.sh stop` all processes with corresponding names are `pkill`ed and thereby the application is shutdown."
   ]
  },
  {
   "cell_type": "markdown",
   "metadata": {
    "slideshow": {
     "slide_type": "slide"
    }
   },
   "source": [
    "----------------------------"
   ]
  },
  {
   "cell_type": "markdown",
   "metadata": {
    "slideshow": {
     "slide_type": "slide"
    }
   },
   "source": [
    "## Getting _ITU-MiniTwit_ from the remote machine\n",
    "\n",
    "The developers back in 2012 did not have a repository on Github with all the artifacts of their application. Github was first launched in 2008 and our developers did not hear about it yet...\n",
    "\n",
    "So you have to do what really many people still do today. You copy the files over from the remote machine.\n",
    "\n",
    "  - How do you do this?"
   ]
  },
  {
   "cell_type": "markdown",
   "metadata": {
    "slideshow": {
     "slide_type": "subslide"
    }
   },
   "source": [
    "### Using `scp` to copy files/directories from a remote machine\n",
    "\n",
    "\n",
    "```bash\n",
    "$ scp -r student@159.65.125.12:/home/student/itu-minitwit ~/Desktop/\n",
    "```\n",
    "\n",
    "#### What kind of files did you download?\n",
    "\n",
    "\n",
    "```bash\n",
    "$ cd ~/Desktop/itu-minitwit\n",
    "$ ls -la\n",
    "total 104\n",
    "drwxr-xr-x  11 ropf  staff    352 Jan 26 12:04 .\n",
    "drwx------+ 45 ropf  staff   1440 Jan 26 12:04 ..\n",
    "-rw-r--r--   1 ropf  staff    129 Jan 26 12:04 Makefile\n",
    "-rwxr--r--   1 ropf  staff    590 Jan 26 12:04 control.sh\n",
    "-rwxr-xr-x   1 ropf  staff  13288 Jan 26 12:04 flag_tool\n",
    "-rw-r--r--   1 ropf  staff   1895 Jan 26 12:04 flag_tool.c\n",
    "-rwxr-xr-x   1 ropf  staff   8574 Jan 26 12:04 minitwit.py\n",
    "-rwxr-xr-x   1 ropf  staff   5078 Jan 26 12:04 minitwit_tests.py\n",
    "-rw-r--r--   1 ropf  staff    466 Jan 26 12:04 schema.sql\n",
    "drwxr-xr-x   3 ropf  staff     96 Jan 26 12:04 static\n",
    "drwxr-xr-x   6 ropf  staff    192 Jan 26 12:04 templates\n",
    "```"
   ]
  },
  {
   "cell_type": "markdown",
   "metadata": {
    "slideshow": {
     "slide_type": "subslide"
    }
   },
   "source": [
    "##### What are the files `minitwit.py`, `flag_tool`, `control.sh`?\n",
    "\n",
    "You can check that with the `file` command:\n",
    "\n",
    "```bash\n",
    "$ file minitwit.py\n",
    "minitwit.py: Python script text executable, ASCII text\n",
    "$ file flag_tool\n",
    "flag_tool: ELF 64-bit LSB executable, x86-64, version 1 (SYSV), dynamically linked, interpreter /lib64/l, for GNU/Linux 2.6.32, BuildID[sha1]=d3a2aa6040e199723d08c36fd9773031afcb7758, not stripped\n",
    "$ file control.sh\n",
    "control.sh: ASCII text\n",
    "```"
   ]
  },
  {
   "cell_type": "markdown",
   "metadata": {
    "slideshow": {
     "slide_type": "subslide"
    }
   },
   "source": [
    "Use the `less` command to inspect the files `minitwit.py`, `flag_tool`, and `control.sh`.\n",
    "\n",
    "  - What do you see?"
   ]
  },
  {
   "cell_type": "markdown",
   "metadata": {
    "slideshow": {
     "slide_type": "subslide"
    }
   },
   "source": [
    "#### What happens when you run the `flag_tool`?\n",
    "\n",
    "Depending on your host operating system it may either run (you are on a corresponding Linux) or it may look like in the following (in case you are on a MacOS):\n",
    "\n",
    "```bash\n",
    "$ ./flag_tool -h\n",
    "-bash: ./flag_tool: cannot execute binary file\n",
    "```\n",
    "\n",
    "  - What does that mean?\n",
    "  - Where does the error come from?"
   ]
  },
  {
   "cell_type": "markdown",
   "metadata": {
    "slideshow": {
     "slide_type": "subslide"
    }
   },
   "source": [
    "## Do you have everything?\n",
    "\n",
    "\n",
    "  <img src=\"images/ITU-minitwit-architecture.png\" width=80%/>\n",
    "\n",
    "\n",
    "  - Which files/artifacts are missing in what you have?"
   ]
  },
  {
   "cell_type": "markdown",
   "metadata": {
    "slideshow": {
     "slide_type": "subslide"
    }
   },
   "source": [
    "## Getting the Database\n",
    "\n",
    "\n",
    "\n",
    "And just to also collect all of your tweets, let's copy the most current database:\n",
    "\n",
    "```bash\n",
    "$ scp student@159.65.125.12:/tmp/minitwit.db ~/Desktop/itu-minitwit\n",
    "```\n",
    "\n",
    "Now, you have everything that you need for your task until next week."
   ]
  },
  {
   "cell_type": "markdown",
   "metadata": {
    "slideshow": {
     "slide_type": "subslide"
    }
   },
   "source": [
    "## Bash Weirdness...\n",
    "\n",
    "```bash\n",
    "if [ $1 = \"init\" ]; then\n",
    "\n",
    "    if [ -f \"/tmp/minitwit.db\" ]; then \n",
    "        echo \"Database already exists.\"\n",
    "        exit 1\n",
    "    fi\n",
    "    echo \"Putting a database to /tmp/minitwit.db...\"\n",
    "    python -c\"from minitwit import init_db;init_db()\"\n",
    "```\n",
    "\n",
    "  - What is the `[ $1 = \"init\" ]` in the above code?\n",
    "  - What does `type test` tell you?\n",
    "  - What does `man [` tell you?\n",
    "  \n",
    "https://www.linuxjournal.com/content/understanding-bash-elements-programming\n"
   ]
  },
  {
   "cell_type": "markdown",
   "metadata": {
    "slideshow": {
     "slide_type": "slide"
    }
   },
   "source": [
    "# Reflection\n",
    "\n",
    "## What did you learn today?\n",
    "\n",
    "  - a\n",
    "  - b\n",
    "  - c\n",
    "\n",
    "\n",
    "<!--\n",
    "  - Some new command line stuff, for example special variables in Bash `$@`\n",
    "  - Difficulties & history of past/tools.\n",
    "  - How to approach an existing code base.\n",
    "  - Automate and make work replicable.\n",
    "-->"
   ]
  },
  {
   "cell_type": "markdown",
   "metadata": {
    "slideshow": {
     "slide_type": "slide"
    }
   },
   "source": [
    "# What to do now?\n",
    "\n",
    "  * Do the [project work](../session_01/README_TASKS.md) until the end of the week\n",
    "  * And [prepare for the next session](../session_02/README_PREP.md)"
   ]
  }
 ],
 "metadata": {
  "celltoolbar": "Slideshow",
  "kernelspec": {
   "display_name": "Python 3",
   "language": "python",
   "name": "python3"
  },
  "language_info": {
   "codemirror_mode": {
    "name": "ipython",
    "version": 3
   },
   "file_extension": ".py",
   "mimetype": "text/x-python",
   "name": "python",
   "nbconvert_exporter": "python",
   "pygments_lexer": "ipython3",
   "version": "3.7.6"
  }
 },
 "nbformat": 4,
 "nbformat_minor": 2
}
