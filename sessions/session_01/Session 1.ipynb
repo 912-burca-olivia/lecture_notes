{
 "cells": [
  {
   "cell_type": "markdown",
   "metadata": {
    "slideshow": {
     "slide_type": "slide"
    }
   },
   "source": [
    "# Welcome!\n",
    "\n",
    "<img src=\"https://i.pinimg.com/736x/93/8f/75/938f75ace142cfa0b22b4dbe5cc558a3--minion-classroom-classroom-ideas.jpg\" width=50%/> "
   ]
  },
  {
   "cell_type": "markdown",
   "metadata": {
    "slideshow": {
     "slide_type": "slide"
    }
   },
   "source": [
    "# About this course\n",
    "\n",
    "## Who are we?\n",
    "\n",
    "  * **Teachers**: Helge, Mircea\n",
    "  * **TAs**: We don't have any this year...\n",
    "  \n",
    "### How to contact us?\n",
    "\n",
    "  - Helge: \"Office\" hour Wednesdays 15:00 to 16:00\n",
    "  - Via Teams: https://teams.microsoft.com/_#/school/conversations/General?threadId=19:t2eMODhCLxCUfaecj1m3xtnOsq787tnYXq02rV8qwws1@thread.tacv2&ctx=channel"
   ]
  },
  {
   "cell_type": "markdown",
   "metadata": {
    "slideshow": {
     "slide_type": "subslide"
    }
   },
   "source": [
    "## Helge\n",
    "\n",
    "<img src=\"http://staticmap.openstreetmap.de/staticmap.php?center=50.9281717,11.5879359&zoom=6&size=865x512&maptype=mapnik&markers=50.9281717,11.5879359,lightblue1\"/>\n",
    "\n",
    "  * Dipl-Inf. in Software Engineering from Friedrich-Schiller Universität Jena\n",
    "  * PhD in Software Engineering from ITU\n",
    "  * Software engineer at DMI\n",
    "  * Lecturer at Cphbusiness\n",
    "  * Since January 2019 back to ITU as adjunkt in the Center for Government IT\n"
   ]
  },
  {
   "cell_type": "markdown",
   "metadata": {
    "slideshow": {
     "slide_type": "subslide"
    }
   },
   "source": [
    "# Mircea\n",
    "\n",
    "Currently: Associate Professor ITU\n",
    "\n",
    "Before: \n",
    "  - U. Lugano (CH)\n",
    "  - IBM TJ Watson (US)\n",
    "  - U. Bern (CH)\n",
    "  - U. Groningen (NL)\n",
    "\n",
    "\n",
    "Research Interests:\n",
    "  - Software **Evolution**\n",
    "  - Tools for Software **Maintenance**\n",
    "  - HCI & **Tools for Personalized Learning**\n"
   ]
  },
  {
   "cell_type": "markdown",
   "metadata": {
    "slideshow": {
     "slide_type": "subslide"
    }
   },
   "source": [
    "## Who are you?\n"
   ]
  },
  {
   "cell_type": "markdown",
   "metadata": {},
   "source": [
    "![](images/names_cloud.png)"
   ]
  },
  {
   "cell_type": "code",
   "execution_count": 14,
   "metadata": {
    "scrolled": true,
    "slideshow": {
     "slide_type": "subslide"
    }
   },
   "outputs": [
    {
     "data": {
      "text/html": [
       "\n",
       "        <iframe\n",
       "            width=\"800\"\n",
       "            height=\"400\"\n",
       "            src=\"menti_results.pdf\"\n",
       "            frameborder=\"0\"\n",
       "            allowfullscreen\n",
       "        ></iframe>\n",
       "        "
      ],
      "text/plain": [
       "<IPython.lib.display.IFrame at 0x7f0f05d78d90>"
      ]
     },
     "execution_count": 14,
     "metadata": {},
     "output_type": "execute_result"
    }
   ],
   "source": [
    "from IPython.display import IFrame, display\n",
    "IFrame(\"menti_results.pdf\", width=800, height=400)"
   ]
  },
  {
   "cell_type": "markdown",
   "metadata": {
    "slideshow": {
     "slide_type": "subslide"
    }
   },
   "source": [
    "## Our Expectations\n",
    "\n",
    "  * Having fun with our work.\n",
    "  * Hopefully, presenting relevant aspects of software engineering that are representative for your future professional tasks. \n",
    "  \n",
    "\n",
    "  > M2. Maintenance typically consumes about 40 to 80 percent (60 percent average) of software costs. Therefore, it is probably the most important life cycle phase.\n",
    "  >\n",
    "  > ...\n",
    "  >\n",
    "  > M5. Most software development tasks and software maintenance tasks are the same—except for the additional maintenance task of \"understanding the existing product.\" This task is the dominant maintenance activity, consuming roughly 30 percent of maintenance time. So, you could claim that maintenance is more difficult than development.\n",
    "  >\n",
    "  > [Robert L. Glass \"Frequently Forgotten Fundamental Facts about Software Engineering\"](http://www.eng.auburn.edu/~kchang/comp6710/readings/Forgotten_Fundamentals_IEEE_Software_May_2001.pdf)\n",
    "  * That we learn from your experiences and knowledge. (We are not smarter than you are when it comes to the topics of this course, we only have a good idea on what we shall do together) \n",
    "\n"
   ]
  },
  {
   "cell_type": "markdown",
   "metadata": {
    "slideshow": {
     "slide_type": "subslide"
    }
   },
   "source": [
    "  * That you support each other when working in groups. The entire course and your projects are a team endeavor.\n",
    "  * That you work continuously (as we do) on this course.\n",
    "  * That you work for the about 10-12 hours per week on this course that you should have allocated for it according to ECTS.\n",
    "  * That you work collaboratively in public repositories on Github.\n",
    "\n",
    "Note, be prepared for quite a bit of work and many moments of despair :( \n",
    "\n",
    "This is unfortunately how learning works.\n",
    "At the moment it hurts but once you know how to solve your problems, solutions appear to be easy and straight forward."
   ]
  },
  {
   "cell_type": "markdown",
   "metadata": {
    "slideshow": {
     "slide_type": "subslide"
    }
   },
   "source": [
    "  * Focus on your learning.\n",
    "  * Mircea and I grade your exams according to the meaning of the grades, i.e., good means good!"
   ]
  },
  {
   "cell_type": "code",
   "execution_count": 11,
   "metadata": {
    "slideshow": {
     "slide_type": "-"
    }
   },
   "outputs": [
    {
     "data": {
      "text/plain": [
       "<BarContainer object of 5 artists>"
      ]
     },
     "execution_count": 11,
     "metadata": {},
     "output_type": "execute_result"
    },
    {
     "data": {
      "image/png": "[encoded data removed]",
      "text/plain": [
       "<Figure size 432x288 with 1 Axes>"
      ]
     },
     "metadata": {
      "needs_background": "light"
     },
     "output_type": "display_data"
    }
   ],
   "source": [
    "# @hidden_cell\n",
    "from collections import Counter\n",
    "import matplotlib.pyplot as plt\n",
    "\n",
    "\n",
    "bsc = [7,7,7,7,2,10,12,7,10,10,7,7,7,7,10,7,7,4,7,10,7,10,4,7,7,10,7,7,10,7,4,7,7,10]\n",
    "msc = [10,10,4,7,4,10,10,4,12,4,4,12,7,7,7,7,4,12,10,4,4,4,7,4,4]\n",
    "freqs = Counter(bsc + msc)\n",
    "plt.title(\"2020 Grade Distribution\")\n",
    "plt.bar(freqs.keys(), freqs.values())"
   ]
  },
  {
   "cell_type": "markdown",
   "metadata": {
    "slideshow": {
     "slide_type": "subslide"
    }
   },
   "source": [
    "## Schedule and Material\n",
    "\n",
    "  * Schedule: https://github.com/itu-devops/lecture_notes#schedule\n",
    "  * Course's repository: https://github.com/itu-devops/lecture_notes\n"
   ]
  },
  {
   "cell_type": "markdown",
   "metadata": {
    "slideshow": {
     "slide_type": "subslide"
    }
   },
   "source": [
    "## LearnIT\n",
    "\n",
    "Find on LearnIT: https://github.com/itu-devops/lecture_notes#content the:\n",
    "  - official course description, \n",
    "  - intended learning outcomes, and \n",
    "  - exam description \n",
    "  \n"
   ]
  },
  {
   "cell_type": "markdown",
   "metadata": {
    "slideshow": {
     "slide_type": "subslide"
    }
   },
   "source": [
    "## Getting Discounts\n",
    "\n",
    "Check the Github student developers pack, https://education.github.com/pack.\n",
    "\n",
    "You can get credits for some of the platforms we are going to use throughout this course."
   ]
  },
  {
   "cell_type": "markdown",
   "metadata": {
    "slideshow": {
     "slide_type": "subslide"
    }
   },
   "source": [
    "## How to work through this course?\n",
    "\n",
    "For every week do from left to right what is specified in the course's [schedule](https://github.com/itu-devops/lecture_notes#schedule).\n",
    "\n",
    "That is, prepare for the next session with the given material, join the respective session, and afterwards work on the project (see next slide)."
   ]
  },
  {
   "cell_type": "markdown",
   "metadata": {
    "slideshow": {
     "slide_type": "subslide"
    }
   },
   "source": [
    "## Project work\n",
    "\n",
    "You will run through this course in groups. All project groups have preferably five members (BSc./MSc. students respectively). These groups realize the projects together.\n",
    "\n",
    "The project work forms the basis of this course. That is, you cannot expect to come to lectures listen and read a bit and then pass the exam. This is a hands-on course and you will have to perform _\"DevOps, software evolution and software maintenance activities [...] directly on [your] systems\"_ (Course Description on LearnIT)\n"
   ]
  },
  {
   "cell_type": "markdown",
   "metadata": {
    "slideshow": {
     "slide_type": "subslide"
    }
   },
   "source": [
    "### Lectures are not recorded?\n",
    "\n",
    "  * After almost two years of online and remote teaching, I want to reestablish the \"real\" thing.\n",
    "  * Experience shows, that lectures are watched to a way lower degree than people believe.\n",
    "  * We do not have any TAs this year and therefore restricted time.\n",
    "  \n"
   ]
  },
  {
   "cell_type": "markdown",
   "metadata": {
    "slideshow": {
     "slide_type": "fragment"
    }
   },
   "source": [
    "Edwards et al. [_\"A study exploring the impact of lecture capture availability and lecture capture usage on student attendance and attainment\"_](https://link.springer.com/article/10.1007/s10734-018-0275-9)\n",
    "\n",
    "\n",
    "![](https://media.springernature.com/full/springer-static/image/art%3A10.1007%2Fs10734-018-0275-9/MediaObjects/10734_2018_275_Fig1_HTML.png?as=webp)"
   ]
  },
  {
   "cell_type": "markdown",
   "metadata": {
    "slideshow": {
     "slide_type": "subslide"
    }
   },
   "source": [
    "### Lectures are not recorded, what can I do?\n",
    "\n",
    "  * Come to the lecture and exercise sessions.\n",
    "  * Take notes! \n",
    "    - Either with pen and paper (best for your brain and retention, see e.g., [Mueller et al. _\"The Pen Is Mightier Than the Keyboard: Advantages of Longhand Over Laptop Note Taking \"_](https://journals.sagepub.com/doi/abs/10.1177/0956797614524581)) or some other technology.\n",
    "  * Share your notes with each other.\n",
    "    - If you want to, we can establish a note sharing channel, either on Teams, in a Git repository, physically, etc.\n"
   ]
  },
  {
   "cell_type": "markdown",
   "metadata": {
    "slideshow": {
     "slide_type": "subslide"
    }
   },
   "source": [
    "## Why Linux?\n",
    "\n",
    "\n",
    "### You are a Software Developer\n",
    "\n",
    "According to Stack Overflow's _Web Developer Survey Results 2016_ survey, 47.9% of the English-speaking users prefer a *nix OS for development.\n",
    "\n",
    "https://insights.stackoverflow.com/survey/2016#technology-desktop-operating-system\n"
   ]
  },
  {
   "cell_type": "markdown",
   "metadata": {
    "slideshow": {
     "slide_type": "subslide"
    }
   },
   "source": [
    "### Public servers on the Internet\n",
    "\n",
    "Depending on the statistics, up to 98.3% of servers on the internet run some kind of Linux or Unix.\n",
    "https://en.wikipedia.org/wiki/Usage_share_of_operating_systems#Public_servers_on_the_Internet\n"
   ]
  },
  {
   "cell_type": "markdown",
   "metadata": {
    "slideshow": {
     "slide_type": "subslide"
    }
   },
   "source": [
    "\n",
    "### *nix on Supercomputers\n",
    "\n",
    "https://en.wikipedia.org/wiki/Usage_share_of_operating_systems#Supercomputers\n",
    "\n",
    "![](https://upload.wikimedia.org/wikipedia/commons/thumb/0/0d/Operating_systems_used_on_top_500_supercomputers.svg/1200px-Operating_systems_used_on_top_500_supercomputers.svg.png)\n",
    "Supercomputer OS family – 1993–2017 systems share according to TOP500\n",
    "\n"
   ]
  },
  {
   "cell_type": "markdown",
   "metadata": {
    "slideshow": {
     "slide_type": "subslide"
    }
   },
   "source": [
    "### Practical reasons\n",
    "\n",
    "Since this is a hands-on course, we provide a lot of code and examples using various technologies.\n",
    "\n",
    "Unfortunately, we do not have resources to do that consistently over various versions of Windows, Linux, and MacOS."
   ]
  },
  {
   "cell_type": "markdown",
   "metadata": {
    "slideshow": {
     "slide_type": "slide"
    }
   },
   "source": [
    "# Groups\n",
    "\n",
    "  * Each group should have _five_ members.\n",
    "  * We will form them **now!**\n",
    "  * https://demo.firepad.io/#44s0JBrHCZ\n",
    "<img src=\"https://i.gifer.com/RFm.gif\" width=50%/>  \n",
    "\n",
    "\n",
    "\n",
    "<!--\n",
    "Replace <Name> with a nice group name and replace <ITU_login> with your ITU login name\n",
    "\n",
    "\n",
    "\n",
    "\"group a\"\n",
    "\"<Name>\"\n",
    "[\"<ITU_login>\", \"<ITU_login>\", ...]\n",
    "\n",
    "\"group b\"\n",
    "\"<Name>\"\n",
    "[\"<ITU_login>\", \"<ITU_login>\", ...]\n",
    "\n",
    "\"group c\"\n",
    "\"<Name>\"\n",
    "[\"<ITU_login>\", \"<ITU_login>\", ...]\n",
    "\n",
    "\"group d\"\n",
    "\"<Name>\"\n",
    "[\"<ITU_login>\", \"<ITU_login>\", ...]\n",
    "\n",
    "\"group e\"\n",
    "\"<Name>\"\n",
    "[\"<ITU_login>\", \"<ITU_login>\", ...]\n",
    "\n",
    "\"group f\"\n",
    "\"<Name>\"\n",
    "[\"<ITU_login>\", \"<ITU_login>\", ...]\n",
    "\n",
    "\"group g\"\n",
    "\"<Name>\"\n",
    "[\"<ITU_login>\", \"<ITU_login>\", ...]\n",
    "\n",
    "\"group h\"\n",
    "\"<Name>\"\n",
    "[\"<ITU_login>\", \"<ITU_login>\", ...]\n",
    "\n",
    "\"group i\"\n",
    "\"<Name>\"\n",
    "[\"<ITU_login>\", \"<ITU_login>\", ...]\n",
    "\n",
    "\"group j\"\n",
    "\"<Name>\"\n",
    "[\"<ITU_login>\", \"<ITU_login>\", ...]\n",
    "\n",
    "\"group k\"\n",
    "\"<Name>\"\n",
    "[\"<ITU_login>\", \"<ITU_login>\", ...]\n",
    "\n",
    "\"group l\"\n",
    "\"<Name>\"\n",
    "[\"<ITU_login>\", \"<ITU_login>\", ...]\n",
    "\n",
    "\"group m\"\n",
    "\"<Name>\"\n",
    "[\"<ITU_login>\", \"<ITU_login>\", ...]\n",
    "\n",
    "\"group n\"\n",
    "\"<Name>\"\n",
    "[\"<ITU_login>\", \"<ITU_login>\", ...]\n",
    "\n",
    "\n",
    "-->"
   ]
  },
  {
   "cell_type": "markdown",
   "metadata": {
    "slideshow": {
     "slide_type": "slide"
    }
   },
   "source": [
    "----------------------\n",
    "# Getting bored today?\n",
    "\n",
    "\n",
    "![](http://static3.businessinsider.com/image/4fbfb86becad044879000001-506-253/suddenly-startups-have-gotten-very-boring.jpg)\n",
    "\n",
    "Find and establish a communication channel for you and your group members and support them in downloading the code from the remote server (see slides below).\n",
    "\n",
    "SCP the program `flag_tool` from the remote server, run it on your computer. What happens? Describe to your group mates after the session what you did and why running the program on your computer either works or does not work.\n",
    "\n",
    "**DO NOT** disturb other people by doing *smart* stuff on the server!"
   ]
  },
  {
   "cell_type": "markdown",
   "metadata": {
    "slideshow": {
     "slide_type": "slide"
    }
   },
   "source": [
    "# The Story\n",
    "\n",
    "This is fiction, but it is the story for this course :)\n",
    "\n",
    "![](https://upload.wikimedia.org/wikipedia/en/1/18/Photo_promoting_the_single_%22Leuchtturm%22_by_Nena.jpg)\n",
    "\n",
    "\n",
    "Almost ten years ago in 2012 some unknown young developers at ITU decided to build a small micro-blogging platform _ITU-MiniTwit_ to take over the market from Twitter, which was only six years old at that point.\n"
   ]
  },
  {
   "cell_type": "markdown",
   "metadata": {
    "slideshow": {
     "slide_type": "subslide"
    }
   },
   "source": [
    "## _ITU-MiniTwit_\n",
    "\n",
    "\n",
    "<img src=\"images/ITU-minitwit-screenshot.png\" width=50%/>"
   ]
  },
  {
   "cell_type": "markdown",
   "metadata": {
    "slideshow": {
     "slide_type": "subslide"
    }
   },
   "source": [
    "\n",
    "They programed in a mix of hot technologies of the time directly on a server with Ubuntu 12.04 (released 26 Apr. 2012, EOL 28 April 2017.).\n",
    "\n",
    "<img src=\"https://4.bp.blogspot.com/-HC2Z0-z1xX8/T0DoGxfqoUI/AAAAAAAAAXM/67dXAbEckj0/s1600/server10trays_640.jpg\" width=\"30%\">\n",
    "\n",
    "\n",
    "Now some years later, we decide to resurrect their work and we will continue development from where they left."
   ]
  },
  {
   "cell_type": "markdown",
   "metadata": {
    "slideshow": {
     "slide_type": "slide"
    }
   },
   "source": [
    "# _ITU-MiniTwit_\n",
    "\n",
    "\n",
    "<img src=\"images/ITU-minitwit-screenshot.png\" width=50%/>"
   ]
  },
  {
   "cell_type": "markdown",
   "metadata": {
    "slideshow": {
     "slide_type": "slide"
    }
   },
   "source": [
    "### Your Turn!\n",
    "<img src=\"https://media.giphy.com/media/13GIgrGdslD9oQ/giphy.gif\" width=30%/>"
   ]
  },
  {
   "cell_type": "markdown",
   "metadata": {
    "slideshow": {
     "slide_type": "subslide"
    }
   },
   "source": [
    "## Where is _ITU-MiniTwit_ running?\n",
    "\n",
    "During the time of this lecture it is running on the machine with the IP `165.227.167.15`.\n",
    "\n",
    "<!--\n",
    "  - Connect your computers to the network: `DevOpsEvoMain`.\n",
    "  - The password is: `d3v0p5-cla55!`\n",
    "-->  \n",
    "  - Point your browser to: http://165.227.167.15:5000/public.\n",
    "  - You should see an application like this:\n",
    "  <img src=\"images/ITU-minitwit-screenshot.png\" width=50%/>\n",
    "  \n",
    "  - Play around with the system\n",
    "    - Sign-up\n",
    "    - Thereafter, create some tweets\n"
   ]
  },
  {
   "cell_type": "markdown",
   "metadata": {
    "slideshow": {
     "slide_type": "slide"
    }
   },
   "source": [
    "## Getting _ITU-MiniTwit_ from the remote machine\n",
    "\n",
    "The developers back in 2012 did not have a repository on Github with all the artifacts of their application. Github was first launched in 2008 and our developers did not hear about it yet...\n",
    "\n",
    "So you have to do what really many people still do today. You copy the files over from the remote machine.\n",
    "\n",
    "  - How do you do this?"
   ]
  },
  {
   "cell_type": "markdown",
   "metadata": {
    "slideshow": {
     "slide_type": "subslide"
    }
   },
   "source": [
    "### Using `scp` to copy files/directories from a remote machine\n",
    "\n",
    "\n",
    "```bash\n",
    "$ scp -r student@165.227.167.15:/home/student/itu-minitwit ~/Desktop/\n",
    "```\n",
    "\n",
    "To secure copy from the remote machine, you need the password `uiuiui`.\n"
   ]
  },
  {
   "cell_type": "markdown",
   "metadata": {
    "slideshow": {
     "slide_type": "fragment"
    }
   },
   "source": [
    "#### What kind of files did you download?\n",
    "\n",
    "\n",
    "```bash\n",
    "$ cd ~/Desktop/itu-minitwit\n",
    "$ ls -la\n",
    "total 68\n",
    "drwxr-xr-x 4 ropf ropf  4096 Jan 31 12:42 .\n",
    "drwxr-xr-x 3 ropf ropf  4096 Jan 31 12:42 ..\n",
    "-rwxr-xr-x 1 ropf ropf   590 Jan 31 12:42 control.sh\n",
    "-rwxr-xr-x 1 ropf ropf 13032 Jan 31 12:42 flag_tool\n",
    "-rw-r--r-- 1 ropf ropf  1895 Jan 31 12:42 flag_tool.c\n",
    "-rw-r--r-- 1 ropf ropf   129 Jan 31 12:42 Makefile\n",
    "-rwxr-xr-x 1 ropf ropf  8575 Jan 31 12:42 minitwit.py\n",
    "-rwxr-xr-x 1 ropf ropf  5078 Jan 31 12:42 minitwit_tests.py\n",
    "-rw-r--r-- 1 ropf ropf   466 Jan 31 12:42 schema.sql\n",
    "drwxr-xr-x 2 ropf ropf  4096 Jan 31 12:42 static\n",
    "drwxr-xr-x 2 ropf ropf  4096 Jan 31 12:42 templates\n",
    "```"
   ]
  },
  {
   "cell_type": "markdown",
   "metadata": {
    "slideshow": {
     "slide_type": "subslide"
    }
   },
   "source": [
    "##### What are the files `minitwit.py`, `flag_tool`, `control.sh`?\n",
    "\n",
    "You can check that with the `file` command:\n",
    "\n",
    "```bash\n",
    "$ file minitwit.py\n",
    "minitwit.py: Python script text executable, ASCII text\n",
    "$ file flag_tool\n",
    "flag_tool: ELF 64-bit LSB executable, x86-64, version 1 (SYSV), dynamically linked, interpreter /lib64/ld-linux-x86-64.so.2, for GNU/Linux 2.6.24, BuildID[sha1]=ac3ffde74553ce2d7d0551bfa4bd684f14978e43, not stripped\n",
    "$ file control.sh\n",
    "control.sh: ASCII text\n",
    "```"
   ]
  },
  {
   "cell_type": "markdown",
   "metadata": {
    "slideshow": {
     "slide_type": "subslide"
    }
   },
   "source": [
    "Use the `less` command to inspect the files `minitwit.py`, `flag_tool`, and `control.sh`.\n",
    "\n",
    "  - What do you see?"
   ]
  },
  {
   "cell_type": "markdown",
   "metadata": {
    "slideshow": {
     "slide_type": "subslide"
    }
   },
   "source": [
    "#### What happens when you run the `minitwit.py` application on your computer?\n",
    "\n",
    "```bash\n",
    "$ python minitwit.py\n",
    "```"
   ]
  },
  {
   "cell_type": "markdown",
   "metadata": {
    "slideshow": {
     "slide_type": "fragment"
    }
   },
   "source": [
    "```bash\n",
    "$ python minitwit.py \n",
    "  File \"/home/ropf/Desktop/itu-minitwit/minitwit.py\", line 97\n",
    "    print \"We got a visitor from: \" + str(request.remote_addr)\n",
    "          ^\n",
    "SyntaxError: invalid syntax\n",
    "```"
   ]
  },
  {
   "cell_type": "markdown",
   "metadata": {
    "slideshow": {
     "slide_type": "subslide"
    }
   },
   "source": [
    "#### What happens when you run the `flag_tool` on your computer?\n",
    "\n",
    "```bash\n",
    "$ ./flag_tool -h\n",
    "```"
   ]
  },
  {
   "cell_type": "markdown",
   "metadata": {
    "slideshow": {
     "slide_type": "fragment"
    }
   },
   "source": [
    "Depending on your host operating system it may either run (you are on a corresponding Linux):\n",
    "\n",
    "```bash\n",
    "ITU-Minitwit Tweet Flagging Tool\n",
    "\n",
    "Usage:\n",
    "  flag_tool <tweet_id>...\n",
    "  flag_tool -i\n",
    "  flag_tool -h\n",
    "Options:\n",
    "-h            Show this screen.\n",
    "-i            Dump all tweets and authors to STDOUT.\n",
    "```\n",
    "\n",
    "\n",
    "or it may look like in the following (in case you are on a MacOS):\n",
    "\n",
    "\n",
    "```bash\n",
    "$ ./flag_tool -h\n",
    "-bash: ./flag_tool: cannot execute binary file\n",
    "```\n",
    "\n",
    "  - What does that mean?\n",
    "  - Where does the error come from?"
   ]
  },
  {
   "cell_type": "markdown",
   "metadata": {},
   "source": [
    "#### What happens when you run the `flag_tool` on your computer?\n",
    "\n",
    "```bash\n",
    "$ ./flag_tool 42\n",
    "SQL error: no such table: message\n",
    "```\n",
    "\n",
    "  * What does that mean?\n"
   ]
  },
  {
   "cell_type": "markdown",
   "metadata": {
    "slideshow": {
     "slide_type": "subslide"
    }
   },
   "source": [
    "## How does _ITU-MiniTwit_ work?\n"
   ]
  },
  {
   "cell_type": "markdown",
   "metadata": {
    "slideshow": {
     "slide_type": "subslide"
    }
   },
   "source": [
    "### A client-server application\n",
    "\n",
    "<img src=\"images/ITU-minitwit-architecture-highlevel.png\" width=50%/>\n"
   ]
  },
  {
   "cell_type": "markdown",
   "metadata": {
    "slideshow": {
     "slide_type": "subslide"
    }
   },
   "source": [
    "### A high-level overview over _ITU-MiniTwit_\n",
    "\n",
    "  <img src=\"images/ITU-minitwit-architecture.png\" width=70%/>\n"
   ]
  },
  {
   "cell_type": "markdown",
   "metadata": {
    "slideshow": {
     "slide_type": "subslide"
    }
   },
   "source": [
    "## Connecting to the server and inspecting _ITU-MiniTwit_ (Bash basics)\n",
    "\n",
    "Note, in the listings `$` denotes the prompt on your local machine, which might look different in your case.\n",
    "`student@webserver:~$` is the prompt on the server machine.\n",
    "\n",
    "To SSH to the remote machine, you need the password `uiuiui`.\n",
    "\n",
    "```bash\n",
    "$ ssh student@165.227.167.15\n",
    "student@webserver:~$ cd itu-minitwit/\n",
    "student@webserver:~/itu-minitwit$ ls\n",
    "Makefile  control.sh  flag_tool  flag_tool.c  minitwit.py  minitwit_tests.py  schema.sql  static  templates\n",
    "```"
   ]
  },
  {
   "cell_type": "markdown",
   "metadata": {
    "slideshow": {
     "slide_type": "subslide"
    }
   },
   "source": [
    "### Inspecting the database as admin\n",
    "\n",
    "```bash\n",
    "student@webserver:~$ ./control.sh inspectdb\n",
    "```\n",
    "\n",
    "  - What do you see?\n",
    "  - How can you navigate through the database?\n",
    "  - How can you search for a string?\n",
    "  - How do you find its next/previous occurrence?"
   ]
  },
  {
   "cell_type": "markdown",
   "metadata": {
    "slideshow": {
     "slide_type": "subslide"
    }
   },
   "source": [
    "### How does inspecting the database work?\n",
    "\n",
    "Look into the control script. For example with the `less` command:\n",
    "\n",
    "```bash\n",
    "student@webserver:~$ less -N ./control.sh\n",
    "```\n",
    "\n",
    "  - What do lines 15 and 16 do?\n",
    "  - What is the meaning of `|` on line 16?\n",
    "  - What are `-N` and `./control.sh` in the above command?\n",
    "  - What is the meaning of `./` in it?"
   ]
  },
  {
   "cell_type": "markdown",
   "metadata": {
    "slideshow": {
     "slide_type": "subslide"
    }
   },
   "source": [
    "### Bash Weirdness...\n",
    "\n",
    "```bash\n",
    "if [ $1 = \"init\" ]; then\n",
    "\n",
    "    if [ -f \"/tmp/minitwit.db\" ]; then \n",
    "        echo \"Database already exists.\"\n",
    "        exit 1\n",
    "    fi\n",
    "    echo \"Putting a database to /tmp/minitwit.db...\"\n",
    "    python -c\"from minitwit import init_db;init_db()\"\n",
    "```\n",
    "\n",
    "  - What is the `[ $1 = \"init\" ]` in the above code?\n",
    "  - What does `type test` tell you?\n",
    "  - What does `man [` tell you?\n",
    "  \n",
    "https://www.linuxjournal.com/content/understanding-bash-elements-programming\n"
   ]
  },
  {
   "cell_type": "markdown",
   "metadata": {
    "slideshow": {
     "slide_type": "subslide"
    }
   },
   "source": [
    "### How can I run the `flag_tool` program manually?\n",
    "\n",
    "```bash\n",
    "student@webserver:~$ ./flag_tool\n",
    "```\n",
    "\n",
    "It will not do anything. So try to read its help text\n",
    "\n",
    "```bash\n",
    "student@webserver:~$ ./flag_tool -h\n",
    "```\n",
    "\n",
    "Afterwards run:\n",
    "\n",
    "```bash\n",
    "student@webserver:~$ ./flag_tool -i\n",
    "```\n",
    "\n",
    "What happens?"
   ]
  },
  {
   "cell_type": "markdown",
   "metadata": {
    "slideshow": {
     "slide_type": "subslide"
    }
   },
   "source": [
    "### Another way of searching for strings in text\n",
    "\n",
    "You may want to use the `grep` command:\n",
    "\n",
    "```bash\n",
    "student@webserver:~$ ./flag_tool -i | grep \"idiot\"\n",
    "student@webserver:~$ ./flag_tool -i | grep \"dumb\"\n",
    "```\n",
    "\n",
    "  - What does again the `|` do?\n",
    "  - What does `grep` do?\n",
    "  - What are `\"idiot\"` and `\"dumb\"` in the above command?"
   ]
  },
  {
   "cell_type": "markdown",
   "metadata": {
    "slideshow": {
     "slide_type": "subslide"
    }
   },
   "source": [
    "### Flagging a tweet\n",
    "\n",
    "```bash\n",
    "student@webserver:~$ ./flag_tool <tweet_id>\n",
    "```\n",
    "\n",
    "  - How does that flagging functionallity look like in the control script `control.sh`?"
   ]
  },
  {
   "cell_type": "markdown",
   "metadata": {
    "slideshow": {
     "slide_type": "subslide"
    }
   },
   "source": [
    "### Getting help for a command\n",
    "\n",
    "In case you are in doubt, usually a commands manual is quite conclusive:\n",
    "\n",
    "```bash\n",
    "student@webserver:~$ man grep\n",
    "```"
   ]
  },
  {
   "cell_type": "markdown",
   "metadata": {
    "slideshow": {
     "slide_type": "subslide"
    }
   },
   "source": [
    "### How do I know that _ITU-MiniTwit_ is running?\n",
    "\n",
    "Since the knowledge of the previous developers is likely lost, you could inspect the list of all running processes and `grep` for the name of the command:\n",
    "\n",
    "```bash\n",
    "student@webserver:~/itu-minitwit$ ps aux | grep minitwit\n",
    "student   6081  0.0  4.2  55448 21364 ?        S    10:40   0:00 /usr/bin/python minitwit.py\n",
    "student   6083  0.3  4.9 131776 24556 ?        Sl   10:40   0:03 /usr/bin/python minitwit.py\n",
    "student   6199  0.0  0.1  12912   936 pts/0    S+   10:54   0:00 grep --color=auto minitwit\n",
    "```\n",
    "\n",
    "Whenever you run `./control.sh stop` all processes with corresponding names are `pkill`ed and thereby the application is shutdown."
   ]
  },
  {
   "cell_type": "markdown",
   "metadata": {
    "slideshow": {
     "slide_type": "slide"
    }
   },
   "source": [
    "----------------------------"
   ]
  },
  {
   "cell_type": "markdown",
   "metadata": {
    "slideshow": {
     "slide_type": "subslide"
    }
   },
   "source": [
    "## Do you have everything?\n",
    "\n",
    "\n",
    "  <img src=\"images/ITU-minitwit-architecture.png\" width=80%/>\n",
    "\n",
    "\n",
    "  - Which files/artifacts are missing in what you have?"
   ]
  },
  {
   "cell_type": "markdown",
   "metadata": {
    "slideshow": {
     "slide_type": "subslide"
    }
   },
   "source": [
    "## Getting the Database\n",
    "\n",
    "\n",
    "\n",
    "And just to also collect all of your tweets, let's copy the most current database:\n",
    "\n",
    "```bash\n",
    "$ scp student@165.227.167.15:/tmp/minitwit.db ~/Desktop/itu-minitwit\n",
    "```\n",
    "\n",
    "Now, you have everything that you need for your task until next week."
   ]
  },
  {
   "cell_type": "markdown",
   "metadata": {
    "slideshow": {
     "slide_type": "slide"
    }
   },
   "source": [
    "# Reflection\n",
    "\n",
    "## What did you learn today?\n",
    "\n",
    "  - a\n",
    "  - b\n",
    "  - c\n",
    "\n",
    "\n",
    "<!--\n",
    "  - Some new command line stuff, for example special variables in Bash `$@`\n",
    "  - Difficulties & history of past/tools.\n",
    "  - How to approach an existing code base.\n",
    "  - Automate and make work replicable.\n",
    "-->"
   ]
  },
  {
   "cell_type": "markdown",
   "metadata": {
    "slideshow": {
     "slide_type": "slide"
    }
   },
   "source": [
    "# What to do now?\n",
    "\n",
    "  * Do the [project work](../session_01/README_TASKS.md) until the end of the week\n",
    "  * And [prepare for the next session](../session_02/README_PREP.md)"
   ]
  }
 ],
 "metadata": {
  "celltoolbar": "Slideshow",
  "kernelspec": {
   "display_name": "Python 3",
   "language": "python",
   "name": "python3"
  },
  "language_info": {
   "codemirror_mode": {
    "name": "ipython",
    "version": 3
   },
   "file_extension": ".py",
   "mimetype": "text/x-python",
   "name": "python",
   "nbconvert_exporter": "python",
   "pygments_lexer": "ipython3",
   "version": "3.8.8"
  }
 },
 "nbformat": 4,
 "nbformat_minor": 2
}
